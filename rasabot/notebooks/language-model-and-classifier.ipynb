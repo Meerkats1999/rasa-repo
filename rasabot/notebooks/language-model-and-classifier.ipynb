{
 "cells": [
  {
   "cell_type": "code",
   "execution_count": 1,
   "metadata": {},
   "outputs": [],
   "source": [
    "%reload_ext autoreload\n",
    "%autoreload 2\n",
    "%matplotlib inline"
   ]
  },
  {
   "cell_type": "code",
   "execution_count": 2,
   "metadata": {},
   "outputs": [],
   "source": [
    "from fastai.text import * "
   ]
  },
  {
   "cell_type": "code",
   "execution_count": 3,
   "metadata": {},
   "outputs": [],
   "source": [
    "path = Path('/home/jupyter/chat-data')"
   ]
  },
  {
   "cell_type": "code",
   "execution_count": 4,
   "metadata": {},
   "outputs": [
    {
     "data": {
      "text/plain": [
       "[PosixPath('/home/jupyter/chat-data/chats.csv'),\n",
       " PosixPath('/home/jupyter/chat-data/models'),\n",
       " PosixPath('/home/jupyter/chat-data/human-chat.json'),\n",
       " PosixPath('/home/jupyter/chat-data/data_tolokers.json'),\n",
       " PosixPath('/home/jupyter/chat-data/data_lm_export.pkl'),\n",
       " PosixPath('/home/jupyter/chat-data/rasa-intents.json')]"
      ]
     },
     "execution_count": 4,
     "metadata": {},
     "output_type": "execute_result"
    }
   ],
   "source": [
    "path.ls()"
   ]
  },
  {
   "cell_type": "code",
   "execution_count": 5,
   "metadata": {},
   "outputs": [],
   "source": [
    "pd.set_option('max_colwidth', -1)"
   ]
  },
  {
   "cell_type": "code",
   "execution_count": 8,
   "metadata": {},
   "outputs": [],
   "source": [
    "chat = pd.read_json(path/'human-chat.json')"
   ]
  },
  {
   "cell_type": "code",
   "execution_count": 9,
   "metadata": {},
   "outputs": [
    {
     "data": {
      "text/html": [
       "<div>\n",
       "<style scoped>\n",
       "    .dataframe tbody tr th:only-of-type {\n",
       "        vertical-align: middle;\n",
       "    }\n",
       "\n",
       "    .dataframe tbody tr th {\n",
       "        vertical-align: top;\n",
       "    }\n",
       "\n",
       "    .dataframe thead th {\n",
       "        text-align: right;\n",
       "    }\n",
       "</style>\n",
       "<table border=\"1\" class=\"dataframe\">\n",
       "  <thead>\n",
       "    <tr style=\"text-align: right;\">\n",
       "      <th></th>\n",
       "      <th>evaluation_score</th>\n",
       "      <th>id</th>\n",
       "      <th>sender</th>\n",
       "      <th>sender_class</th>\n",
       "      <th>text</th>\n",
       "    </tr>\n",
       "  </thead>\n",
       "  <tbody>\n",
       "    <tr>\n",
       "      <th>0</th>\n",
       "      <td>NaN</td>\n",
       "      <td>1</td>\n",
       "      <td>participant1</td>\n",
       "      <td>Human</td>\n",
       "      <td>Thats good for you, i'm not very into new tech</td>\n",
       "    </tr>\n",
       "    <tr>\n",
       "      <th>1</th>\n",
       "      <td>NaN</td>\n",
       "      <td>3</td>\n",
       "      <td>participant1</td>\n",
       "      <td>Human</td>\n",
       "      <td>I am go to gym and live on donations</td>\n",
       "    </tr>\n",
       "    <tr>\n",
       "      <th>2</th>\n",
       "      <td>NaN</td>\n",
       "      <td>5</td>\n",
       "      <td>participant1</td>\n",
       "      <td>Human</td>\n",
       "      <td>So vegan... i have dogs maybe i should told then that they may eat cheap salads insted of meat</td>\n",
       "    </tr>\n",
       "    <tr>\n",
       "      <th>3</th>\n",
       "      <td>NaN</td>\n",
       "      <td>7</td>\n",
       "      <td>participant1</td>\n",
       "      <td>Human</td>\n",
       "      <td>Dogs or vegan in office?</td>\n",
       "    </tr>\n",
       "    <tr>\n",
       "      <th>4</th>\n",
       "      <td>NaN</td>\n",
       "      <td>9</td>\n",
       "      <td>participant1</td>\n",
       "      <td>Human</td>\n",
       "      <td>Strange answer</td>\n",
       "    </tr>\n",
       "  </tbody>\n",
       "</table>\n",
       "</div>"
      ],
      "text/plain": [
       "   evaluation_score  id        sender sender_class  \\\n",
       "0 NaN                1   participant1  Human         \n",
       "1 NaN                3   participant1  Human         \n",
       "2 NaN                5   participant1  Human         \n",
       "3 NaN                7   participant1  Human         \n",
       "4 NaN                9   participant1  Human         \n",
       "\n",
       "                                                                                             text  \n",
       "0  Thats good for you, i'm not very into new tech                                                  \n",
       "1  I am go to gym and live on donations                                                            \n",
       "2  So vegan... i have dogs maybe i should told then that they may eat cheap salads insted of meat  \n",
       "3  Dogs or vegan in office?                                                                        \n",
       "4  Strange answer                                                                                  "
      ]
     },
     "execution_count": 9,
     "metadata": {},
     "output_type": "execute_result"
    }
   ],
   "source": [
    "chat.head()"
   ]
  },
  {
   "cell_type": "code",
   "execution_count": 10,
   "metadata": {},
   "outputs": [],
   "source": [
    "intents = pd.read_json(path/'rasa-intents.json')"
   ]
  },
  {
   "cell_type": "code",
   "execution_count": 11,
   "metadata": {},
   "outputs": [
    {
     "data": {
      "text/html": [
       "<div>\n",
       "<style scoped>\n",
       "    .dataframe tbody tr th:only-of-type {\n",
       "        vertical-align: middle;\n",
       "    }\n",
       "\n",
       "    .dataframe tbody tr th {\n",
       "        vertical-align: top;\n",
       "    }\n",
       "\n",
       "    .dataframe thead th {\n",
       "        text-align: right;\n",
       "    }\n",
       "</style>\n",
       "<table border=\"1\" class=\"dataframe\">\n",
       "  <thead>\n",
       "    <tr style=\"text-align: right;\">\n",
       "      <th></th>\n",
       "      <th>intentName</th>\n",
       "      <th>text</th>\n",
       "    </tr>\n",
       "  </thead>\n",
       "  <tbody>\n",
       "    <tr>\n",
       "      <th>0</th>\n",
       "      <td>ask_faq_tutorials</td>\n",
       "      <td>are there some tutorials i could look at</td>\n",
       "    </tr>\n",
       "    <tr>\n",
       "      <th>1</th>\n",
       "      <td>ask_faq_tutorials</td>\n",
       "      <td>do you have tutorials</td>\n",
       "    </tr>\n",
       "    <tr>\n",
       "      <th>2</th>\n",
       "      <td>ask_faq_tutorials</td>\n",
       "      <td>i need a tutorial on how to use rasa</td>\n",
       "    </tr>\n",
       "    <tr>\n",
       "      <th>3</th>\n",
       "      <td>ask_faq_tutorials</td>\n",
       "      <td>rasa tutorial</td>\n",
       "    </tr>\n",
       "    <tr>\n",
       "      <th>4</th>\n",
       "      <td>ask_faq_tutorials</td>\n",
       "      <td>can you show me a tutorial</td>\n",
       "    </tr>\n",
       "  </tbody>\n",
       "</table>\n",
       "</div>"
      ],
      "text/plain": [
       "          intentName                                      text\n",
       "0  ask_faq_tutorials  are there some tutorials i could look at\n",
       "1  ask_faq_tutorials  do you have tutorials                   \n",
       "2  ask_faq_tutorials  i need a tutorial on how to use rasa    \n",
       "3  ask_faq_tutorials  rasa tutorial                           \n",
       "4  ask_faq_tutorials  can you show me a tutorial              "
      ]
     },
     "execution_count": 11,
     "metadata": {},
     "output_type": "execute_result"
    }
   ],
   "source": [
    "intents.head()"
   ]
  },
  {
   "cell_type": "code",
   "execution_count": 12,
   "metadata": {},
   "outputs": [
    {
     "data": {
      "text/html": [
       "<div>\n",
       "<style scoped>\n",
       "    .dataframe tbody tr th:only-of-type {\n",
       "        vertical-align: middle;\n",
       "    }\n",
       "\n",
       "    .dataframe tbody tr th {\n",
       "        vertical-align: top;\n",
       "    }\n",
       "\n",
       "    .dataframe thead th {\n",
       "        text-align: right;\n",
       "    }\n",
       "</style>\n",
       "<table border=\"1\" class=\"dataframe\">\n",
       "  <thead>\n",
       "    <tr style=\"text-align: right;\">\n",
       "      <th></th>\n",
       "      <th>intentName</th>\n",
       "      <th>text</th>\n",
       "    </tr>\n",
       "  </thead>\n",
       "  <tbody>\n",
       "    <tr>\n",
       "      <th>count</th>\n",
       "      <td>1768</td>\n",
       "      <td>1768</td>\n",
       "    </tr>\n",
       "    <tr>\n",
       "      <th>unique</th>\n",
       "      <td>49</td>\n",
       "      <td>1710</td>\n",
       "    </tr>\n",
       "    <tr>\n",
       "      <th>top</th>\n",
       "      <td>enter_data</td>\n",
       "      <td>How were you made?</td>\n",
       "    </tr>\n",
       "    <tr>\n",
       "      <th>freq</th>\n",
       "      <td>241</td>\n",
       "      <td>4</td>\n",
       "    </tr>\n",
       "  </tbody>\n",
       "</table>\n",
       "</div>"
      ],
      "text/plain": [
       "        intentName                text\n",
       "count   1768        1768              \n",
       "unique  49          1710              \n",
       "top     enter_data  How were you made?\n",
       "freq    241         4                 "
      ]
     },
     "execution_count": 12,
     "metadata": {},
     "output_type": "execute_result"
    }
   ],
   "source": [
    "intents.describe()"
   ]
  },
  {
   "cell_type": "code",
   "execution_count": 14,
   "metadata": {},
   "outputs": [
    {
     "data": {
      "text/html": [
       "<div>\n",
       "<style scoped>\n",
       "    .dataframe tbody tr th:only-of-type {\n",
       "        vertical-align: middle;\n",
       "    }\n",
       "\n",
       "    .dataframe tbody tr th {\n",
       "        vertical-align: top;\n",
       "    }\n",
       "\n",
       "    .dataframe thead th {\n",
       "        text-align: right;\n",
       "    }\n",
       "</style>\n",
       "<table border=\"1\" class=\"dataframe\">\n",
       "  <thead>\n",
       "    <tr style=\"text-align: right;\">\n",
       "      <th></th>\n",
       "      <th>text</th>\n",
       "    </tr>\n",
       "    <tr>\n",
       "      <th>intentName</th>\n",
       "      <th></th>\n",
       "    </tr>\n",
       "  </thead>\n",
       "  <tbody>\n",
       "    <tr>\n",
       "      <th>affirm</th>\n",
       "      <td>53</td>\n",
       "    </tr>\n",
       "    <tr>\n",
       "      <th>ask_builder</th>\n",
       "      <td>46</td>\n",
       "    </tr>\n",
       "    <tr>\n",
       "      <th>ask_faq_channels</th>\n",
       "      <td>25</td>\n",
       "    </tr>\n",
       "    <tr>\n",
       "      <th>ask_faq_community_size</th>\n",
       "      <td>5</td>\n",
       "    </tr>\n",
       "    <tr>\n",
       "      <th>ask_faq_languages</th>\n",
       "      <td>26</td>\n",
       "    </tr>\n",
       "    <tr>\n",
       "      <th>ask_faq_opensource</th>\n",
       "      <td>24</td>\n",
       "    </tr>\n",
       "    <tr>\n",
       "      <th>ask_faq_platform</th>\n",
       "      <td>19</td>\n",
       "    </tr>\n",
       "    <tr>\n",
       "      <th>ask_faq_python_version</th>\n",
       "      <td>10</td>\n",
       "    </tr>\n",
       "    <tr>\n",
       "      <th>ask_faq_slots</th>\n",
       "      <td>41</td>\n",
       "    </tr>\n",
       "    <tr>\n",
       "      <th>ask_faq_tutorials</th>\n",
       "      <td>11</td>\n",
       "    </tr>\n",
       "    <tr>\n",
       "      <th>ask_faq_voice</th>\n",
       "      <td>44</td>\n",
       "    </tr>\n",
       "    <tr>\n",
       "      <th>ask_faq_what_is_forum</th>\n",
       "      <td>4</td>\n",
       "    </tr>\n",
       "    <tr>\n",
       "      <th>ask_how_contribute</th>\n",
       "      <td>9</td>\n",
       "    </tr>\n",
       "    <tr>\n",
       "      <th>ask_howbuilt</th>\n",
       "      <td>41</td>\n",
       "    </tr>\n",
       "    <tr>\n",
       "      <th>ask_howdoing</th>\n",
       "      <td>45</td>\n",
       "    </tr>\n",
       "    <tr>\n",
       "      <th>ask_howold</th>\n",
       "      <td>38</td>\n",
       "    </tr>\n",
       "    <tr>\n",
       "      <th>ask_isbot</th>\n",
       "      <td>36</td>\n",
       "    </tr>\n",
       "    <tr>\n",
       "      <th>ask_languagesbot</th>\n",
       "      <td>37</td>\n",
       "    </tr>\n",
       "    <tr>\n",
       "      <th>ask_question_in_forum</th>\n",
       "      <td>6</td>\n",
       "    </tr>\n",
       "    <tr>\n",
       "      <th>ask_restaurant</th>\n",
       "      <td>37</td>\n",
       "    </tr>\n",
       "    <tr>\n",
       "      <th>ask_time</th>\n",
       "      <td>43</td>\n",
       "    </tr>\n",
       "    <tr>\n",
       "      <th>ask_weather</th>\n",
       "      <td>34</td>\n",
       "    </tr>\n",
       "    <tr>\n",
       "      <th>ask_whatismyname</th>\n",
       "      <td>38</td>\n",
       "    </tr>\n",
       "    <tr>\n",
       "      <th>ask_whatisrasa</th>\n",
       "      <td>33</td>\n",
       "    </tr>\n",
       "    <tr>\n",
       "      <th>ask_whatspossible</th>\n",
       "      <td>37</td>\n",
       "    </tr>\n",
       "    <tr>\n",
       "      <th>ask_when_next_event</th>\n",
       "      <td>4</td>\n",
       "    </tr>\n",
       "    <tr>\n",
       "      <th>ask_wherefrom</th>\n",
       "      <td>38</td>\n",
       "    </tr>\n",
       "    <tr>\n",
       "      <th>ask_which_events</th>\n",
       "      <td>6</td>\n",
       "    </tr>\n",
       "    <tr>\n",
       "      <th>ask_whoami</th>\n",
       "      <td>26</td>\n",
       "    </tr>\n",
       "    <tr>\n",
       "      <th>ask_whoisit</th>\n",
       "      <td>22</td>\n",
       "    </tr>\n",
       "    <tr>\n",
       "      <th>ask_why_contribute</th>\n",
       "      <td>4</td>\n",
       "    </tr>\n",
       "    <tr>\n",
       "      <th>bye</th>\n",
       "      <td>23</td>\n",
       "    </tr>\n",
       "    <tr>\n",
       "      <th>canthelp</th>\n",
       "      <td>19</td>\n",
       "    </tr>\n",
       "    <tr>\n",
       "      <th>contact_sales</th>\n",
       "      <td>121</td>\n",
       "    </tr>\n",
       "    <tr>\n",
       "      <th>deny</th>\n",
       "      <td>38</td>\n",
       "    </tr>\n",
       "    <tr>\n",
       "      <th>enter_data</th>\n",
       "      <td>241</td>\n",
       "    </tr>\n",
       "    <tr>\n",
       "      <th>explain</th>\n",
       "      <td>11</td>\n",
       "    </tr>\n",
       "    <tr>\n",
       "      <th>greet</th>\n",
       "      <td>67</td>\n",
       "    </tr>\n",
       "    <tr>\n",
       "      <th>how_to_get_started</th>\n",
       "      <td>15</td>\n",
       "    </tr>\n",
       "    <tr>\n",
       "      <th>human_handoff</th>\n",
       "      <td>38</td>\n",
       "    </tr>\n",
       "    <tr>\n",
       "      <th>install_rasa</th>\n",
       "      <td>49</td>\n",
       "    </tr>\n",
       "    <tr>\n",
       "      <th>next_step</th>\n",
       "      <td>5</td>\n",
       "    </tr>\n",
       "    <tr>\n",
       "      <th>nlu_generation_tool_recommendation</th>\n",
       "      <td>11</td>\n",
       "    </tr>\n",
       "    <tr>\n",
       "      <th>out_of_scope</th>\n",
       "      <td>108</td>\n",
       "    </tr>\n",
       "    <tr>\n",
       "      <th>pipeline_recommendation</th>\n",
       "      <td>14</td>\n",
       "    </tr>\n",
       "    <tr>\n",
       "      <th>signup_newsletter</th>\n",
       "      <td>111</td>\n",
       "    </tr>\n",
       "    <tr>\n",
       "      <th>switch</th>\n",
       "      <td>1</td>\n",
       "    </tr>\n",
       "    <tr>\n",
       "      <th>technical_question</th>\n",
       "      <td>28</td>\n",
       "    </tr>\n",
       "    <tr>\n",
       "      <th>thank</th>\n",
       "      <td>26</td>\n",
       "    </tr>\n",
       "  </tbody>\n",
       "</table>\n",
       "</div>"
      ],
      "text/plain": [
       "                                    text\n",
       "intentName                              \n",
       "affirm                              53  \n",
       "ask_builder                         46  \n",
       "ask_faq_channels                    25  \n",
       "ask_faq_community_size              5   \n",
       "ask_faq_languages                   26  \n",
       "ask_faq_opensource                  24  \n",
       "ask_faq_platform                    19  \n",
       "ask_faq_python_version              10  \n",
       "ask_faq_slots                       41  \n",
       "ask_faq_tutorials                   11  \n",
       "ask_faq_voice                       44  \n",
       "ask_faq_what_is_forum               4   \n",
       "ask_how_contribute                  9   \n",
       "ask_howbuilt                        41  \n",
       "ask_howdoing                        45  \n",
       "ask_howold                          38  \n",
       "ask_isbot                           36  \n",
       "ask_languagesbot                    37  \n",
       "ask_question_in_forum               6   \n",
       "ask_restaurant                      37  \n",
       "ask_time                            43  \n",
       "ask_weather                         34  \n",
       "ask_whatismyname                    38  \n",
       "ask_whatisrasa                      33  \n",
       "ask_whatspossible                   37  \n",
       "ask_when_next_event                 4   \n",
       "ask_wherefrom                       38  \n",
       "ask_which_events                    6   \n",
       "ask_whoami                          26  \n",
       "ask_whoisit                         22  \n",
       "ask_why_contribute                  4   \n",
       "bye                                 23  \n",
       "canthelp                            19  \n",
       "contact_sales                       121 \n",
       "deny                                38  \n",
       "enter_data                          241 \n",
       "explain                             11  \n",
       "greet                               67  \n",
       "how_to_get_started                  15  \n",
       "human_handoff                       38  \n",
       "install_rasa                        49  \n",
       "next_step                           5   \n",
       "nlu_generation_tool_recommendation  11  \n",
       "out_of_scope                        108 \n",
       "pipeline_recommendation             14  \n",
       "signup_newsletter                   111 \n",
       "switch                              1   \n",
       "technical_question                  28  \n",
       "thank                               26  "
      ]
     },
     "execution_count": 14,
     "metadata": {},
     "output_type": "execute_result"
    }
   ],
   "source": [
    "intents.groupby(\"intentName\").count()"
   ]
  },
  {
   "cell_type": "code",
   "execution_count": 15,
   "metadata": {},
   "outputs": [],
   "source": [
    "intents = intents.rename(index=str, columns={\"intentName\": \"label\"})"
   ]
  },
  {
   "cell_type": "code",
   "execution_count": 16,
   "metadata": {},
   "outputs": [
    {
     "data": {
      "text/html": [
       "<div>\n",
       "<style scoped>\n",
       "    .dataframe tbody tr th:only-of-type {\n",
       "        vertical-align: middle;\n",
       "    }\n",
       "\n",
       "    .dataframe tbody tr th {\n",
       "        vertical-align: top;\n",
       "    }\n",
       "\n",
       "    .dataframe thead th {\n",
       "        text-align: right;\n",
       "    }\n",
       "</style>\n",
       "<table border=\"1\" class=\"dataframe\">\n",
       "  <thead>\n",
       "    <tr style=\"text-align: right;\">\n",
       "      <th></th>\n",
       "      <th>label</th>\n",
       "      <th>text</th>\n",
       "    </tr>\n",
       "  </thead>\n",
       "  <tbody>\n",
       "    <tr>\n",
       "      <th>0</th>\n",
       "      <td>ask_faq_tutorials</td>\n",
       "      <td>are there some tutorials i could look at</td>\n",
       "    </tr>\n",
       "    <tr>\n",
       "      <th>1</th>\n",
       "      <td>ask_faq_tutorials</td>\n",
       "      <td>do you have tutorials</td>\n",
       "    </tr>\n",
       "    <tr>\n",
       "      <th>2</th>\n",
       "      <td>ask_faq_tutorials</td>\n",
       "      <td>i need a tutorial on how to use rasa</td>\n",
       "    </tr>\n",
       "    <tr>\n",
       "      <th>3</th>\n",
       "      <td>ask_faq_tutorials</td>\n",
       "      <td>rasa tutorial</td>\n",
       "    </tr>\n",
       "    <tr>\n",
       "      <th>4</th>\n",
       "      <td>ask_faq_tutorials</td>\n",
       "      <td>can you show me a tutorial</td>\n",
       "    </tr>\n",
       "  </tbody>\n",
       "</table>\n",
       "</div>"
      ],
      "text/plain": [
       "               label                                      text\n",
       "0  ask_faq_tutorials  are there some tutorials i could look at\n",
       "1  ask_faq_tutorials  do you have tutorials                   \n",
       "2  ask_faq_tutorials  i need a tutorial on how to use rasa    \n",
       "3  ask_faq_tutorials  rasa tutorial                           \n",
       "4  ask_faq_tutorials  can you show me a tutorial              "
      ]
     },
     "execution_count": 16,
     "metadata": {},
     "output_type": "execute_result"
    }
   ],
   "source": [
    "intents.head()"
   ]
  },
  {
   "cell_type": "code",
   "execution_count": 17,
   "metadata": {},
   "outputs": [],
   "source": [
    "# just making the column name the same as the intents df so can concatenate them to train the language model.\n",
    "# will then just use the intents df for the classifier since the chat labels are meaningless\n",
    "chat = chat.rename(index=str, columns={\"sender_class\": \"label\"}).drop(columns=[\"evaluation_score\", \"id\", \"sender\"])"
   ]
  },
  {
   "cell_type": "code",
   "execution_count": 18,
   "metadata": {},
   "outputs": [
    {
     "data": {
      "text/html": [
       "<div>\n",
       "<style scoped>\n",
       "    .dataframe tbody tr th:only-of-type {\n",
       "        vertical-align: middle;\n",
       "    }\n",
       "\n",
       "    .dataframe tbody tr th {\n",
       "        vertical-align: top;\n",
       "    }\n",
       "\n",
       "    .dataframe thead th {\n",
       "        text-align: right;\n",
       "    }\n",
       "</style>\n",
       "<table border=\"1\" class=\"dataframe\">\n",
       "  <thead>\n",
       "    <tr style=\"text-align: right;\">\n",
       "      <th></th>\n",
       "      <th>label</th>\n",
       "      <th>text</th>\n",
       "    </tr>\n",
       "  </thead>\n",
       "  <tbody>\n",
       "    <tr>\n",
       "      <th>0</th>\n",
       "      <td>Human</td>\n",
       "      <td>Thats good for you, i'm not very into new tech</td>\n",
       "    </tr>\n",
       "    <tr>\n",
       "      <th>1</th>\n",
       "      <td>Human</td>\n",
       "      <td>I am go to gym and live on donations</td>\n",
       "    </tr>\n",
       "    <tr>\n",
       "      <th>2</th>\n",
       "      <td>Human</td>\n",
       "      <td>So vegan... i have dogs maybe i should told then that they may eat cheap salads insted of meat</td>\n",
       "    </tr>\n",
       "    <tr>\n",
       "      <th>3</th>\n",
       "      <td>Human</td>\n",
       "      <td>Dogs or vegan in office?</td>\n",
       "    </tr>\n",
       "    <tr>\n",
       "      <th>4</th>\n",
       "      <td>Human</td>\n",
       "      <td>Strange answer</td>\n",
       "    </tr>\n",
       "  </tbody>\n",
       "</table>\n",
       "</div>"
      ],
      "text/plain": [
       "   label  \\\n",
       "0  Human   \n",
       "1  Human   \n",
       "2  Human   \n",
       "3  Human   \n",
       "4  Human   \n",
       "\n",
       "                                                                                             text  \n",
       "0  Thats good for you, i'm not very into new tech                                                  \n",
       "1  I am go to gym and live on donations                                                            \n",
       "2  So vegan... i have dogs maybe i should told then that they may eat cheap salads insted of meat  \n",
       "3  Dogs or vegan in office?                                                                        \n",
       "4  Strange answer                                                                                  "
      ]
     },
     "execution_count": 18,
     "metadata": {},
     "output_type": "execute_result"
    }
   ],
   "source": [
    "chat.head()"
   ]
  },
  {
   "cell_type": "code",
   "execution_count": 19,
   "metadata": {},
   "outputs": [],
   "source": [
    "both_dfs = pd.concat([intents, chat], axis=0, join='outer', join_axes=None, ignore_index=True)"
   ]
  },
  {
   "cell_type": "code",
   "execution_count": 20,
   "metadata": {},
   "outputs": [
    {
     "data": {
      "text/html": [
       "<div>\n",
       "<style scoped>\n",
       "    .dataframe tbody tr th:only-of-type {\n",
       "        vertical-align: middle;\n",
       "    }\n",
       "\n",
       "    .dataframe tbody tr th {\n",
       "        vertical-align: top;\n",
       "    }\n",
       "\n",
       "    .dataframe thead th {\n",
       "        text-align: right;\n",
       "    }\n",
       "</style>\n",
       "<table border=\"1\" class=\"dataframe\">\n",
       "  <thead>\n",
       "    <tr style=\"text-align: right;\">\n",
       "      <th></th>\n",
       "      <th>label</th>\n",
       "      <th>text</th>\n",
       "    </tr>\n",
       "  </thead>\n",
       "  <tbody>\n",
       "    <tr>\n",
       "      <th>0</th>\n",
       "      <td>ask_faq_tutorials</td>\n",
       "      <td>are there some tutorials i could look at</td>\n",
       "    </tr>\n",
       "    <tr>\n",
       "      <th>1</th>\n",
       "      <td>ask_faq_tutorials</td>\n",
       "      <td>do you have tutorials</td>\n",
       "    </tr>\n",
       "    <tr>\n",
       "      <th>2</th>\n",
       "      <td>ask_faq_tutorials</td>\n",
       "      <td>i need a tutorial on how to use rasa</td>\n",
       "    </tr>\n",
       "    <tr>\n",
       "      <th>3</th>\n",
       "      <td>ask_faq_tutorials</td>\n",
       "      <td>rasa tutorial</td>\n",
       "    </tr>\n",
       "    <tr>\n",
       "      <th>4</th>\n",
       "      <td>ask_faq_tutorials</td>\n",
       "      <td>can you show me a tutorial</td>\n",
       "    </tr>\n",
       "  </tbody>\n",
       "</table>\n",
       "</div>"
      ],
      "text/plain": [
       "               label                                      text\n",
       "0  ask_faq_tutorials  are there some tutorials i could look at\n",
       "1  ask_faq_tutorials  do you have tutorials                   \n",
       "2  ask_faq_tutorials  i need a tutorial on how to use rasa    \n",
       "3  ask_faq_tutorials  rasa tutorial                           \n",
       "4  ask_faq_tutorials  can you show me a tutorial              "
      ]
     },
     "execution_count": 20,
     "metadata": {},
     "output_type": "execute_result"
    }
   ],
   "source": [
    "both_dfs.head()"
   ]
  },
  {
   "cell_type": "code",
   "execution_count": 21,
   "metadata": {},
   "outputs": [
    {
     "data": {
      "text/html": [
       "<div>\n",
       "<style scoped>\n",
       "    .dataframe tbody tr th:only-of-type {\n",
       "        vertical-align: middle;\n",
       "    }\n",
       "\n",
       "    .dataframe tbody tr th {\n",
       "        vertical-align: top;\n",
       "    }\n",
       "\n",
       "    .dataframe thead th {\n",
       "        text-align: right;\n",
       "    }\n",
       "</style>\n",
       "<table border=\"1\" class=\"dataframe\">\n",
       "  <thead>\n",
       "    <tr style=\"text-align: right;\">\n",
       "      <th></th>\n",
       "      <th>label</th>\n",
       "      <th>text</th>\n",
       "    </tr>\n",
       "  </thead>\n",
       "  <tbody>\n",
       "    <tr>\n",
       "      <th>20630</th>\n",
       "      <td>Human</td>\n",
       "      <td>I'm asking about you</td>\n",
       "    </tr>\n",
       "    <tr>\n",
       "      <th>20631</th>\n",
       "      <td>Human</td>\n",
       "      <td>Don't waste my time</td>\n",
       "    </tr>\n",
       "    <tr>\n",
       "      <th>20632</th>\n",
       "      <td>Human</td>\n",
       "      <td>Are you fucking kidding me?</td>\n",
       "    </tr>\n",
       "    <tr>\n",
       "      <th>20633</th>\n",
       "      <td>Human</td>\n",
       "      <td>Shut up</td>\n",
       "    </tr>\n",
       "    <tr>\n",
       "      <th>20634</th>\n",
       "      <td>Human</td>\n",
       "      <td>Goodbye</td>\n",
       "    </tr>\n",
       "  </tbody>\n",
       "</table>\n",
       "</div>"
      ],
      "text/plain": [
       "       label                         text\n",
       "20630  Human  I'm asking about you       \n",
       "20631  Human  Don't waste my time        \n",
       "20632  Human  Are you fucking kidding me?\n",
       "20633  Human  Shut up                    \n",
       "20634  Human  Goodbye                    "
      ]
     },
     "execution_count": 21,
     "metadata": {},
     "output_type": "execute_result"
    }
   ],
   "source": [
    "both_dfs.tail()"
   ]
  },
  {
   "cell_type": "code",
   "execution_count": 22,
   "metadata": {},
   "outputs": [
    {
     "data": {
      "text/html": [
       "<div>\n",
       "<style scoped>\n",
       "    .dataframe tbody tr th:only-of-type {\n",
       "        vertical-align: middle;\n",
       "    }\n",
       "\n",
       "    .dataframe tbody tr th {\n",
       "        vertical-align: top;\n",
       "    }\n",
       "\n",
       "    .dataframe thead th {\n",
       "        text-align: right;\n",
       "    }\n",
       "</style>\n",
       "<table border=\"1\" class=\"dataframe\">\n",
       "  <thead>\n",
       "    <tr style=\"text-align: right;\">\n",
       "      <th></th>\n",
       "      <th>label</th>\n",
       "      <th>text</th>\n",
       "    </tr>\n",
       "  </thead>\n",
       "  <tbody>\n",
       "    <tr>\n",
       "      <th>count</th>\n",
       "      <td>20635</td>\n",
       "      <td>20635</td>\n",
       "    </tr>\n",
       "    <tr>\n",
       "      <th>unique</th>\n",
       "      <td>50</td>\n",
       "      <td>15273</td>\n",
       "    </tr>\n",
       "    <tr>\n",
       "      <th>top</th>\n",
       "      <td>Human</td>\n",
       "      <td>Hello</td>\n",
       "    </tr>\n",
       "    <tr>\n",
       "      <th>freq</th>\n",
       "      <td>18867</td>\n",
       "      <td>224</td>\n",
       "    </tr>\n",
       "  </tbody>\n",
       "</table>\n",
       "</div>"
      ],
      "text/plain": [
       "        label   text\n",
       "count   20635  20635\n",
       "unique  50     15273\n",
       "top     Human  Hello\n",
       "freq    18867  224  "
      ]
     },
     "execution_count": 22,
     "metadata": {},
     "output_type": "execute_result"
    }
   ],
   "source": [
    "both_dfs.describe()"
   ]
  },
  {
   "cell_type": "code",
   "execution_count": 23,
   "metadata": {},
   "outputs": [
    {
     "data": {
      "text/html": [
       "<div>\n",
       "<style scoped>\n",
       "    .dataframe tbody tr th:only-of-type {\n",
       "        vertical-align: middle;\n",
       "    }\n",
       "\n",
       "    .dataframe tbody tr th {\n",
       "        vertical-align: top;\n",
       "    }\n",
       "\n",
       "    .dataframe thead th {\n",
       "        text-align: right;\n",
       "    }\n",
       "</style>\n",
       "<table border=\"1\" class=\"dataframe\">\n",
       "  <thead>\n",
       "    <tr style=\"text-align: right;\">\n",
       "      <th></th>\n",
       "      <th>label</th>\n",
       "      <th>text</th>\n",
       "    </tr>\n",
       "  </thead>\n",
       "  <tbody>\n",
       "    <tr>\n",
       "      <th>count</th>\n",
       "      <td>18867</td>\n",
       "      <td>18867</td>\n",
       "    </tr>\n",
       "    <tr>\n",
       "      <th>unique</th>\n",
       "      <td>1</td>\n",
       "      <td>13649</td>\n",
       "    </tr>\n",
       "    <tr>\n",
       "      <th>top</th>\n",
       "      <td>Human</td>\n",
       "      <td>Hello</td>\n",
       "    </tr>\n",
       "    <tr>\n",
       "      <th>freq</th>\n",
       "      <td>18867</td>\n",
       "      <td>223</td>\n",
       "    </tr>\n",
       "  </tbody>\n",
       "</table>\n",
       "</div>"
      ],
      "text/plain": [
       "        label   text\n",
       "count   18867  18867\n",
       "unique  1      13649\n",
       "top     Human  Hello\n",
       "freq    18867  223  "
      ]
     },
     "execution_count": 23,
     "metadata": {},
     "output_type": "execute_result"
    }
   ],
   "source": [
    "chat.describe()"
   ]
  },
  {
   "cell_type": "code",
   "execution_count": 25,
   "metadata": {},
   "outputs": [
    {
     "data": {
      "text/plain": [
       "20635"
      ]
     },
     "execution_count": 25,
     "metadata": {},
     "output_type": "execute_result"
    }
   ],
   "source": [
    "# examples of chats for lm plus additional classifier examples\n",
    "18867 + 1768"
   ]
  },
  {
   "cell_type": "code",
   "execution_count": 36,
   "metadata": {},
   "outputs": [],
   "source": [
    "# shuffle rows\n",
    "both_dfs = both_dfs.sample(frac=1).reset_index(drop=True)"
   ]
  },
  {
   "cell_type": "code",
   "execution_count": 38,
   "metadata": {},
   "outputs": [
    {
     "data": {
      "text/html": [
       "<div>\n",
       "<style scoped>\n",
       "    .dataframe tbody tr th:only-of-type {\n",
       "        vertical-align: middle;\n",
       "    }\n",
       "\n",
       "    .dataframe tbody tr th {\n",
       "        vertical-align: top;\n",
       "    }\n",
       "\n",
       "    .dataframe thead th {\n",
       "        text-align: right;\n",
       "    }\n",
       "</style>\n",
       "<table border=\"1\" class=\"dataframe\">\n",
       "  <thead>\n",
       "    <tr style=\"text-align: right;\">\n",
       "      <th></th>\n",
       "      <th>label</th>\n",
       "      <th>text</th>\n",
       "    </tr>\n",
       "  </thead>\n",
       "  <tbody>\n",
       "    <tr>\n",
       "      <th>0</th>\n",
       "      <td>Human</td>\n",
       "      <td>Hello, bot. How are you?</td>\n",
       "    </tr>\n",
       "    <tr>\n",
       "      <th>1</th>\n",
       "      <td>Human</td>\n",
       "      <td>i gotta go</td>\n",
       "    </tr>\n",
       "    <tr>\n",
       "      <th>2</th>\n",
       "      <td>human_handoff</td>\n",
       "      <td>i'd rather speak with a real rasa employee</td>\n",
       "    </tr>\n",
       "    <tr>\n",
       "      <th>3</th>\n",
       "      <td>Human</td>\n",
       "      <td>I owned what?</td>\n",
       "    </tr>\n",
       "    <tr>\n",
       "      <th>4</th>\n",
       "      <td>Human</td>\n",
       "      <td>i am a musician. What is your favorite music?</td>\n",
       "    </tr>\n",
       "  </tbody>\n",
       "</table>\n",
       "</div>"
      ],
      "text/plain": [
       "           label                                           text\n",
       "0  Human          Hello, bot. How are you?                     \n",
       "1  Human          i gotta go                                   \n",
       "2  human_handoff  i'd rather speak with a real rasa employee   \n",
       "3  Human          I owned what?                                \n",
       "4  Human          i am a musician. What is your favorite music?"
      ]
     },
     "execution_count": 38,
     "metadata": {},
     "output_type": "execute_result"
    }
   ],
   "source": [
    "both_dfs.head()"
   ]
  },
  {
   "cell_type": "code",
   "execution_count": 39,
   "metadata": {},
   "outputs": [],
   "source": [
    "both_dfs.to_csv(path/'combined_chats_and_intents_for_lm_training.csv', index=False)"
   ]
  },
  {
   "cell_type": "code",
   "execution_count": 42,
   "metadata": {},
   "outputs": [
    {
     "name": "stdout",
     "output_type": "stream",
     "text": [
      "label,text\r\n",
      "Human,\"Hello, bot. How are you?\"\r\n",
      "Human,i gotta go\r\n",
      "human_handoff,i'd rather speak with a real rasa employee\r\n",
      "Human,I owned what?\r\n"
     ]
    }
   ],
   "source": [
    "!head -n5 $path/'combined_chats_and_intents_for_lm_training.csv'"
   ]
  },
  {
   "cell_type": "code",
   "execution_count": 44,
   "metadata": {},
   "outputs": [],
   "source": [
    "intents.to_csv(path/'intents_for_clas_training.csv', index=False)"
   ]
  },
  {
   "cell_type": "code",
   "execution_count": 45,
   "metadata": {},
   "outputs": [
    {
     "name": "stdout",
     "output_type": "stream",
     "text": [
      "label,text\r\n",
      "ask_faq_tutorials,are there some tutorials i could look at\r\n",
      "ask_faq_tutorials,do you have tutorials\r\n",
      "ask_faq_tutorials,i need a tutorial on how to use rasa\r\n",
      "ask_faq_tutorials,rasa tutorial\r\n",
      "ask_faq_tutorials,can you show me a tutorial\r\n",
      "ask_faq_tutorials,i would like to follow a tutorial\r\n",
      "ask_faq_tutorials,do you have a tutorial i can follow\r\n",
      "ask_faq_tutorials,i am looking for a tutorial\r\n",
      "ask_faq_tutorials,i want a tutorial on rasa\r\n"
     ]
    }
   ],
   "source": [
    "!head $path/'intents_for_clas_training.csv'"
   ]
  },
  {
   "cell_type": "code",
   "execution_count": 43,
   "metadata": {},
   "outputs": [],
   "source": [
    "# Language model data\n",
    "data_lm = TextLMDataBunch.from_csv(path, 'combined_chats_and_intents_for_lm_training.csv', text_cols='text')"
   ]
  },
  {
   "cell_type": "code",
   "execution_count": 46,
   "metadata": {},
   "outputs": [],
   "source": [
    "# Classififer model data using just the intents file\n",
    "data_clas = TextClasDataBunch.from_csv(path, 'intents_for_clas_training.csv',\n",
    "                                       text_cols='text', label_cols='label', vocab=data_lm.train_ds.vocab, bs=32)"
   ]
  },
  {
   "cell_type": "code",
   "execution_count": 47,
   "metadata": {},
   "outputs": [],
   "source": [
    "data_lm.save('data_lm_export_7_14.pkl')\n",
    "data_clas.save('data_clas_export_7_14.pkl')"
   ]
  },
  {
   "cell_type": "code",
   "execution_count": 48,
   "metadata": {},
   "outputs": [],
   "source": [
    "data_lm = load_data(path, 'data_lm_export_7_14.pkl')\n",
    "data_clas = load_data(path, 'data_clas_export_7_14.pkl')"
   ]
  },
  {
   "cell_type": "code",
   "execution_count": 49,
   "metadata": {},
   "outputs": [
    {
     "data": {
      "text/plain": [
       "TextLMDataBunch;\n",
       "\n",
       "Train: LabelList (16507 items)\n",
       "x: LMTextList\n",
       "xxbos i love talking to people,xxbos i 'm a famous twitch streamer .,xxbos xxmaj nothing . xxmaj just xxunk some of the musical instruments i play,xxbos xxmaj movies,xxbos i get that you love cooking very much\n",
       "y: LMLabelList\n",
       ",,,,\n",
       "Path: /home/jupyter/chat-data;\n",
       "\n",
       "Valid: LabelList (4128 items)\n",
       "x: LMTextList\n",
       "xxbos xxmaj it 's fine . i 'm planning for my xxunk to xxmaj europe next month,xxbos hi,xxbos i have collection over 1000 hats,xxbos do you like traveling ?,xxbos xxmaj what do you teach ?\n",
       "y: LMLabelList\n",
       ",,,,\n",
       "Path: /home/jupyter/chat-data;\n",
       "\n",
       "Test: None"
      ]
     },
     "execution_count": 49,
     "metadata": {},
     "output_type": "execute_result"
    }
   ],
   "source": [
    "data_lm"
   ]
  },
  {
   "cell_type": "code",
   "execution_count": 53,
   "metadata": {},
   "outputs": [
    {
     "data": {
      "text/plain": [
       "['xxunk',\n",
       " 'xxpad',\n",
       " 'xxbos',\n",
       " 'xxeos',\n",
       " 'xxfld',\n",
       " 'xxmaj',\n",
       " 'xxup',\n",
       " 'xxrep',\n",
       " 'xxwrep',\n",
       " '?',\n",
       " 'you',\n",
       " 'i',\n",
       " 'do',\n",
       " '.',\n",
       " 'what',\n",
       " 'a',\n",
       " 'are',\n",
       " ',',\n",
       " 'to',\n",
       " 'is']"
      ]
     },
     "execution_count": 53,
     "metadata": {},
     "output_type": "execute_result"
    }
   ],
   "source": [
    "data_lm.vocab.itos[:20]"
   ]
  },
  {
   "cell_type": "code",
   "execution_count": 54,
   "metadata": {},
   "outputs": [
    {
     "data": {
      "text/plain": [
       "TextClasDataBunch;\n",
       "\n",
       "Train: LabelList (1414 items)\n",
       "x: TextList\n",
       "xxbos xxunk,xxbos ok,xxbos xxmaj would you tell me what time it is ?,xxbos book a call,xxbos xxmaj ok i want to talk to your sales team immediately\n",
       "y: CategoryList\n",
       "enter_data,affirm,ask_time,contact_sales,contact_sales\n",
       "Path: /home/jupyter/chat-data;\n",
       "\n",
       "Valid: LabelList (354 items)\n",
       "x: TextList\n",
       "xxbos may i receive the newsletter from now on,xxbos need more data for nlu,xxbos how 's life,xxbos what are the channels xxmaj rasa xxup nlu supports,xxbos can you do anything else ?\n",
       "y: CategoryList\n",
       "signup_newsletter,nlu_generation_tool_recommendation,ask_howdoing,ask_faq_channels,ask_whatspossible\n",
       "Path: /home/jupyter/chat-data;\n",
       "\n",
       "Test: None"
      ]
     },
     "execution_count": 54,
     "metadata": {},
     "output_type": "execute_result"
    }
   ],
   "source": [
    "data_clas"
   ]
  },
  {
   "cell_type": "code",
   "execution_count": 55,
   "metadata": {},
   "outputs": [
    {
     "data": {
      "text/html": [
       "<table border=\"1\" class=\"dataframe\">\n",
       "  <thead>\n",
       "    <tr style=\"text-align: right;\">\n",
       "      <th>text</th>\n",
       "      <th>target</th>\n",
       "    </tr>\n",
       "  </thead>\n",
       "  <tbody>\n",
       "    <tr>\n",
       "      <td>xxbos no wait go back i want a dripping ice cream but a xxunk that xxunk it so you can drink the ice cream later</td>\n",
       "      <td>out_of_scope</td>\n",
       "    </tr>\n",
       "    <tr>\n",
       "      <td>xxbos hey , i xxunk you a couple of days ago but did n't get any response , any news ?</td>\n",
       "      <td>out_of_scope</td>\n",
       "    </tr>\n",
       "    <tr>\n",
       "      <td>xxbos xxmaj do you have friends the same age as you , if so , how old are they ?</td>\n",
       "      <td>ask_howold</td>\n",
       "    </tr>\n",
       "    <tr>\n",
       "      <td>xxbos please hurry , i have xxunk in two weeks to deliver the bot it is for very big company</td>\n",
       "      <td>out_of_scope</td>\n",
       "    </tr>\n",
       "    <tr>\n",
       "      <td>xxbos i d like to talk to someone who can explain me what i can do with rasa</td>\n",
       "      <td>contact_sales</td>\n",
       "    </tr>\n",
       "  </tbody>\n",
       "</table>"
      ],
      "text/plain": [
       "<IPython.core.display.HTML object>"
      ]
     },
     "metadata": {},
     "output_type": "display_data"
    }
   ],
   "source": [
    "data_clas.show_batch()"
   ]
  },
  {
   "cell_type": "code",
   "execution_count": 56,
   "metadata": {},
   "outputs": [],
   "source": [
    "learn = language_model_learner(data_lm, AWD_LSTM, drop_mult=0.5)"
   ]
  },
  {
   "cell_type": "code",
   "execution_count": 57,
   "metadata": {},
   "outputs": [
    {
     "data": {
      "text/html": [],
      "text/plain": [
       "<IPython.core.display.HTML object>"
      ]
     },
     "metadata": {},
     "output_type": "display_data"
    },
    {
     "name": "stdout",
     "output_type": "stream",
     "text": [
      "LR Finder is complete, type {learner_name}.recorder.plot() to see the graph.\n"
     ]
    }
   ],
   "source": [
    "learn.lr_find()"
   ]
  },
  {
   "cell_type": "code",
   "execution_count": 58,
   "metadata": {},
   "outputs": [
    {
     "data": {
      "image/png": "[encoded data removed]",
      "text/plain": [
       "<Figure size 432x288 with 1 Axes>"
      ]
     },
     "metadata": {},
     "output_type": "display_data"
    }
   ],
   "source": [
    "learn.recorder.plot()"
   ]
  },
  {
   "cell_type": "code",
   "execution_count": 59,
   "metadata": {},
   "outputs": [
    {
     "data": {
      "text/html": [
       "<table border=\"1\" class=\"dataframe\">\n",
       "  <thead>\n",
       "    <tr style=\"text-align: left;\">\n",
       "      <th>epoch</th>\n",
       "      <th>train_loss</th>\n",
       "      <th>valid_loss</th>\n",
       "      <th>accuracy</th>\n",
       "      <th>time</th>\n",
       "    </tr>\n",
       "  </thead>\n",
       "  <tbody>\n",
       "    <tr>\n",
       "      <td>0</td>\n",
       "      <td>5.851524</td>\n",
       "      <td>4.490089</td>\n",
       "      <td>0.191008</td>\n",
       "      <td>00:04</td>\n",
       "    </tr>\n",
       "    <tr>\n",
       "      <td>1</td>\n",
       "      <td>4.510273</td>\n",
       "      <td>3.149158</td>\n",
       "      <td>0.352073</td>\n",
       "      <td>00:04</td>\n",
       "    </tr>\n",
       "    <tr>\n",
       "      <td>2</td>\n",
       "      <td>3.798280</td>\n",
       "      <td>2.973541</td>\n",
       "      <td>0.377041</td>\n",
       "      <td>00:04</td>\n",
       "    </tr>\n",
       "    <tr>\n",
       "      <td>3</td>\n",
       "      <td>3.402705</td>\n",
       "      <td>2.910540</td>\n",
       "      <td>0.385746</td>\n",
       "      <td>00:04</td>\n",
       "    </tr>\n",
       "    <tr>\n",
       "      <td>4</td>\n",
       "      <td>3.167641</td>\n",
       "      <td>2.886347</td>\n",
       "      <td>0.389700</td>\n",
       "      <td>00:04</td>\n",
       "    </tr>\n",
       "    <tr>\n",
       "      <td>5</td>\n",
       "      <td>3.039130</td>\n",
       "      <td>2.884027</td>\n",
       "      <td>0.390306</td>\n",
       "      <td>00:04</td>\n",
       "    </tr>\n",
       "  </tbody>\n",
       "</table>"
      ],
      "text/plain": [
       "<IPython.core.display.HTML object>"
      ]
     },
     "metadata": {},
     "output_type": "display_data"
    }
   ],
   "source": [
    "learn.fit_one_cycle(6, 1e-2)"
   ]
  },
  {
   "cell_type": "code",
   "execution_count": 60,
   "metadata": {},
   "outputs": [
    {
     "data": {
      "text/html": [
       "<table border=\"1\" class=\"dataframe\">\n",
       "  <thead>\n",
       "    <tr style=\"text-align: left;\">\n",
       "      <th>epoch</th>\n",
       "      <th>train_loss</th>\n",
       "      <th>valid_loss</th>\n",
       "      <th>accuracy</th>\n",
       "      <th>time</th>\n",
       "    </tr>\n",
       "  </thead>\n",
       "  <tbody>\n",
       "    <tr>\n",
       "      <td>0</td>\n",
       "      <td>2.847584</td>\n",
       "      <td>2.867271</td>\n",
       "      <td>0.395950</td>\n",
       "      <td>00:04</td>\n",
       "    </tr>\n",
       "    <tr>\n",
       "      <td>1</td>\n",
       "      <td>2.812943</td>\n",
       "      <td>2.840988</td>\n",
       "      <td>0.398310</td>\n",
       "      <td>00:04</td>\n",
       "    </tr>\n",
       "    <tr>\n",
       "      <td>2</td>\n",
       "      <td>2.776390</td>\n",
       "      <td>2.832798</td>\n",
       "      <td>0.399904</td>\n",
       "      <td>00:04</td>\n",
       "    </tr>\n",
       "  </tbody>\n",
       "</table>"
      ],
      "text/plain": [
       "<IPython.core.display.HTML object>"
      ]
     },
     "metadata": {},
     "output_type": "display_data"
    }
   ],
   "source": [
    "learn.fit_one_cycle(3, 1e-2)"
   ]
  },
  {
   "cell_type": "code",
   "execution_count": 62,
   "metadata": {},
   "outputs": [
    {
     "data": {
      "text/html": [
       "<table border=\"1\" class=\"dataframe\">\n",
       "  <thead>\n",
       "    <tr style=\"text-align: left;\">\n",
       "      <th>epoch</th>\n",
       "      <th>train_loss</th>\n",
       "      <th>valid_loss</th>\n",
       "      <th>accuracy</th>\n",
       "      <th>time</th>\n",
       "    </tr>\n",
       "  </thead>\n",
       "  <tbody>\n",
       "    <tr>\n",
       "      <td>0</td>\n",
       "      <td>2.707835</td>\n",
       "      <td>2.831624</td>\n",
       "      <td>0.398756</td>\n",
       "      <td>00:04</td>\n",
       "    </tr>\n",
       "    <tr>\n",
       "      <td>1</td>\n",
       "      <td>2.691604</td>\n",
       "      <td>2.816861</td>\n",
       "      <td>0.406250</td>\n",
       "      <td>00:04</td>\n",
       "    </tr>\n",
       "    <tr>\n",
       "      <td>2</td>\n",
       "      <td>2.666176</td>\n",
       "      <td>2.807081</td>\n",
       "      <td>0.405772</td>\n",
       "      <td>00:04</td>\n",
       "    </tr>\n",
       "  </tbody>\n",
       "</table>"
      ],
      "text/plain": [
       "<IPython.core.display.HTML object>"
      ]
     },
     "metadata": {},
     "output_type": "display_data"
    }
   ],
   "source": [
    "learn.fit_one_cycle(3, 1e-2)"
   ]
  },
  {
   "cell_type": "code",
   "execution_count": 63,
   "metadata": {},
   "outputs": [
    {
     "data": {
      "text/html": [
       "<table border=\"1\" class=\"dataframe\">\n",
       "  <thead>\n",
       "    <tr style=\"text-align: left;\">\n",
       "      <th>epoch</th>\n",
       "      <th>train_loss</th>\n",
       "      <th>valid_loss</th>\n",
       "      <th>accuracy</th>\n",
       "      <th>time</th>\n",
       "    </tr>\n",
       "  </thead>\n",
       "  <tbody>\n",
       "    <tr>\n",
       "      <td>0</td>\n",
       "      <td>2.621415</td>\n",
       "      <td>2.808874</td>\n",
       "      <td>0.403954</td>\n",
       "      <td>00:04</td>\n",
       "    </tr>\n",
       "    <tr>\n",
       "      <td>1</td>\n",
       "      <td>2.612643</td>\n",
       "      <td>2.806859</td>\n",
       "      <td>0.405134</td>\n",
       "      <td>00:04</td>\n",
       "    </tr>\n",
       "    <tr>\n",
       "      <td>2</td>\n",
       "      <td>2.585574</td>\n",
       "      <td>2.802765</td>\n",
       "      <td>0.406696</td>\n",
       "      <td>00:04</td>\n",
       "    </tr>\n",
       "  </tbody>\n",
       "</table>"
      ],
      "text/plain": [
       "<IPython.core.display.HTML object>"
      ]
     },
     "metadata": {},
     "output_type": "display_data"
    }
   ],
   "source": [
    "learn.fit_one_cycle(3, 1e-2)"
   ]
  },
  {
   "cell_type": "code",
   "execution_count": 64,
   "metadata": {},
   "outputs": [
    {
     "data": {
      "text/html": [
       "<table border=\"1\" class=\"dataframe\">\n",
       "  <thead>\n",
       "    <tr style=\"text-align: left;\">\n",
       "      <th>epoch</th>\n",
       "      <th>train_loss</th>\n",
       "      <th>valid_loss</th>\n",
       "      <th>accuracy</th>\n",
       "      <th>time</th>\n",
       "    </tr>\n",
       "  </thead>\n",
       "  <tbody>\n",
       "    <tr>\n",
       "      <td>0</td>\n",
       "      <td>2.539639</td>\n",
       "      <td>2.807441</td>\n",
       "      <td>0.406059</td>\n",
       "      <td>00:04</td>\n",
       "    </tr>\n",
       "    <tr>\n",
       "      <td>1</td>\n",
       "      <td>2.543543</td>\n",
       "      <td>2.808489</td>\n",
       "      <td>0.406441</td>\n",
       "      <td>00:04</td>\n",
       "    </tr>\n",
       "    <tr>\n",
       "      <td>2</td>\n",
       "      <td>2.520197</td>\n",
       "      <td>2.799353</td>\n",
       "      <td>0.406920</td>\n",
       "      <td>00:04</td>\n",
       "    </tr>\n",
       "  </tbody>\n",
       "</table>"
      ],
      "text/plain": [
       "<IPython.core.display.HTML object>"
      ]
     },
     "metadata": {},
     "output_type": "display_data"
    }
   ],
   "source": [
    "learn.fit_one_cycle(3, 1e-2)"
   ]
  },
  {
   "cell_type": "code",
   "execution_count": 65,
   "metadata": {},
   "outputs": [],
   "source": [
    "learn.save('chat-lm-7-12_1')\n",
    "learn.save_encoder('chat-lm-encoder-7-12_1')"
   ]
  },
  {
   "cell_type": "code",
   "execution_count": 66,
   "metadata": {},
   "outputs": [
    {
     "data": {
      "text/html": [
       "<table border=\"1\" class=\"dataframe\">\n",
       "  <thead>\n",
       "    <tr style=\"text-align: left;\">\n",
       "      <th>epoch</th>\n",
       "      <th>train_loss</th>\n",
       "      <th>valid_loss</th>\n",
       "      <th>accuracy</th>\n",
       "      <th>time</th>\n",
       "    </tr>\n",
       "  </thead>\n",
       "  <tbody>\n",
       "    <tr>\n",
       "      <td>0</td>\n",
       "      <td>2.507775</td>\n",
       "      <td>2.790201</td>\n",
       "      <td>0.410714</td>\n",
       "      <td>00:06</td>\n",
       "    </tr>\n",
       "    <tr>\n",
       "      <td>1</td>\n",
       "      <td>2.455049</td>\n",
       "      <td>2.770729</td>\n",
       "      <td>0.410459</td>\n",
       "      <td>00:06</td>\n",
       "    </tr>\n",
       "    <tr>\n",
       "      <td>2</td>\n",
       "      <td>2.381380</td>\n",
       "      <td>2.755420</td>\n",
       "      <td>0.414923</td>\n",
       "      <td>00:06</td>\n",
       "    </tr>\n",
       "    <tr>\n",
       "      <td>3</td>\n",
       "      <td>2.296983</td>\n",
       "      <td>2.760861</td>\n",
       "      <td>0.418941</td>\n",
       "      <td>00:06</td>\n",
       "    </tr>\n",
       "    <tr>\n",
       "      <td>4</td>\n",
       "      <td>2.220384</td>\n",
       "      <td>2.777973</td>\n",
       "      <td>0.419165</td>\n",
       "      <td>00:06</td>\n",
       "    </tr>\n",
       "    <tr>\n",
       "      <td>5</td>\n",
       "      <td>2.175664</td>\n",
       "      <td>2.775555</td>\n",
       "      <td>0.418973</td>\n",
       "      <td>00:06</td>\n",
       "    </tr>\n",
       "  </tbody>\n",
       "</table>"
      ],
      "text/plain": [
       "<IPython.core.display.HTML object>"
      ]
     },
     "metadata": {},
     "output_type": "display_data"
    }
   ],
   "source": [
    "learn.unfreeze()\n",
    "learn.fit_one_cycle(6, 1e-3)"
   ]
  },
  {
   "cell_type": "code",
   "execution_count": 67,
   "metadata": {},
   "outputs": [],
   "source": [
    "learn.save('chat-lm-7-12_2')\n",
    "learn.save_encoder('chat-lm-encoder-7-12_2')"
   ]
  },
  {
   "cell_type": "code",
   "execution_count": 68,
   "metadata": {},
   "outputs": [
    {
     "data": {
      "text/plain": [
       "\"how are you ? xxbos Yes , i 've been working with mom xxbos Yes xxbos well , Hellow xxbos\""
      ]
     },
     "execution_count": 68,
     "metadata": {},
     "output_type": "execute_result"
    }
   ],
   "source": [
    "learn.predict(\"how are you\", n_words=20)"
   ]
  },
  {
   "cell_type": "code",
   "execution_count": 69,
   "metadata": {},
   "outputs": [
    {
     "data": {
      "text/plain": [
       "'where can i build ur voice bot ? xxbos i do nt know xxbos my mother is very traditional while i prefer'"
      ]
     },
     "execution_count": 69,
     "metadata": {},
     "output_type": "execute_result"
    }
   ],
   "source": [
    "learn.predict(\"where can\", n_words=20)"
   ]
  },
  {
   "cell_type": "code",
   "execution_count": 70,
   "metadata": {},
   "outputs": [],
   "source": [
    "clas_learn = text_classifier_learner(data_clas, AWD_LSTM, drop_mult=0.5)\n",
    "clas_learn.load_encoder('chat-lm-encoder-7-12_2')"
   ]
  },
  {
   "cell_type": "code",
   "execution_count": 71,
   "metadata": {},
   "outputs": [
    {
     "data": {
      "text/html": [],
      "text/plain": [
       "<IPython.core.display.HTML object>"
      ]
     },
     "metadata": {},
     "output_type": "display_data"
    },
    {
     "name": "stdout",
     "output_type": "stream",
     "text": [
      "LR Finder is complete, type {learner_name}.recorder.plot() to see the graph.\n"
     ]
    }
   ],
   "source": [
    "clas_learn.lr_find()"
   ]
  },
  {
   "cell_type": "code",
   "execution_count": 72,
   "metadata": {},
   "outputs": [
    {
     "data": {
      "image/png": "[encoded data removed]",
      "text/plain": [
       "<Figure size 432x288 with 1 Axes>"
      ]
     },
     "metadata": {},
     "output_type": "display_data"
    }
   ],
   "source": [
    "clas_learn.recorder.plot()"
   ]
  },
  {
   "cell_type": "code",
   "execution_count": 73,
   "metadata": {},
   "outputs": [
    {
     "data": {
      "text/html": [
       "<table border=\"1\" class=\"dataframe\">\n",
       "  <thead>\n",
       "    <tr style=\"text-align: left;\">\n",
       "      <th>epoch</th>\n",
       "      <th>train_loss</th>\n",
       "      <th>valid_loss</th>\n",
       "      <th>accuracy</th>\n",
       "      <th>time</th>\n",
       "    </tr>\n",
       "  </thead>\n",
       "  <tbody>\n",
       "    <tr>\n",
       "      <td>0</td>\n",
       "      <td>3.671742</td>\n",
       "      <td>3.488455</td>\n",
       "      <td>0.367232</td>\n",
       "      <td>00:00</td>\n",
       "    </tr>\n",
       "    <tr>\n",
       "      <td>1</td>\n",
       "      <td>3.079732</td>\n",
       "      <td>1.663184</td>\n",
       "      <td>0.579096</td>\n",
       "      <td>00:00</td>\n",
       "    </tr>\n",
       "    <tr>\n",
       "      <td>2</td>\n",
       "      <td>2.434464</td>\n",
       "      <td>1.170082</td>\n",
       "      <td>0.675141</td>\n",
       "      <td>00:00</td>\n",
       "    </tr>\n",
       "    <tr>\n",
       "      <td>3</td>\n",
       "      <td>1.993824</td>\n",
       "      <td>1.069264</td>\n",
       "      <td>0.714689</td>\n",
       "      <td>00:00</td>\n",
       "    </tr>\n",
       "    <tr>\n",
       "      <td>4</td>\n",
       "      <td>1.666998</td>\n",
       "      <td>1.031837</td>\n",
       "      <td>0.686441</td>\n",
       "      <td>00:00</td>\n",
       "    </tr>\n",
       "    <tr>\n",
       "      <td>5</td>\n",
       "      <td>1.456266</td>\n",
       "      <td>1.016706</td>\n",
       "      <td>0.697740</td>\n",
       "      <td>00:00</td>\n",
       "    </tr>\n",
       "  </tbody>\n",
       "</table>"
      ],
      "text/plain": [
       "<IPython.core.display.HTML object>"
      ]
     },
     "metadata": {},
     "output_type": "display_data"
    }
   ],
   "source": [
    "clas_learn.fit_one_cycle(6, 1e-2)"
   ]
  },
  {
   "cell_type": "code",
   "execution_count": 75,
   "metadata": {},
   "outputs": [
    {
     "data": {
      "text/html": [
       "<table border=\"1\" class=\"dataframe\">\n",
       "  <thead>\n",
       "    <tr style=\"text-align: left;\">\n",
       "      <th>epoch</th>\n",
       "      <th>train_loss</th>\n",
       "      <th>valid_loss</th>\n",
       "      <th>accuracy</th>\n",
       "      <th>time</th>\n",
       "    </tr>\n",
       "  </thead>\n",
       "  <tbody>\n",
       "    <tr>\n",
       "      <td>0</td>\n",
       "      <td>1.051461</td>\n",
       "      <td>0.959584</td>\n",
       "      <td>0.714689</td>\n",
       "      <td>00:01</td>\n",
       "    </tr>\n",
       "    <tr>\n",
       "      <td>1</td>\n",
       "      <td>1.115438</td>\n",
       "      <td>1.002290</td>\n",
       "      <td>0.754237</td>\n",
       "      <td>00:00</td>\n",
       "    </tr>\n",
       "    <tr>\n",
       "      <td>2</td>\n",
       "      <td>1.076899</td>\n",
       "      <td>0.943112</td>\n",
       "      <td>0.714689</td>\n",
       "      <td>00:00</td>\n",
       "    </tr>\n",
       "    <tr>\n",
       "      <td>3</td>\n",
       "      <td>0.923163</td>\n",
       "      <td>0.837095</td>\n",
       "      <td>0.799435</td>\n",
       "      <td>00:00</td>\n",
       "    </tr>\n",
       "    <tr>\n",
       "      <td>4</td>\n",
       "      <td>0.781539</td>\n",
       "      <td>0.760746</td>\n",
       "      <td>0.819209</td>\n",
       "      <td>00:00</td>\n",
       "    </tr>\n",
       "    <tr>\n",
       "      <td>5</td>\n",
       "      <td>0.695660</td>\n",
       "      <td>0.758346</td>\n",
       "      <td>0.824859</td>\n",
       "      <td>00:00</td>\n",
       "    </tr>\n",
       "  </tbody>\n",
       "</table>"
      ],
      "text/plain": [
       "<IPython.core.display.HTML object>"
      ]
     },
     "metadata": {},
     "output_type": "display_data"
    }
   ],
   "source": [
    "clas_learn.freeze_to(-2)\n",
    "clas_learn.fit_one_cycle(6, slice(5e-3/2., 5e-3))"
   ]
  },
  {
   "cell_type": "code",
   "execution_count": 76,
   "metadata": {},
   "outputs": [
    {
     "data": {
      "text/html": [
       "<table border=\"1\" class=\"dataframe\">\n",
       "  <thead>\n",
       "    <tr style=\"text-align: left;\">\n",
       "      <th>epoch</th>\n",
       "      <th>train_loss</th>\n",
       "      <th>valid_loss</th>\n",
       "      <th>accuracy</th>\n",
       "      <th>time</th>\n",
       "    </tr>\n",
       "  </thead>\n",
       "  <tbody>\n",
       "    <tr>\n",
       "      <td>0</td>\n",
       "      <td>0.529212</td>\n",
       "      <td>0.746288</td>\n",
       "      <td>0.824859</td>\n",
       "      <td>00:01</td>\n",
       "    </tr>\n",
       "    <tr>\n",
       "      <td>1</td>\n",
       "      <td>0.532206</td>\n",
       "      <td>0.742889</td>\n",
       "      <td>0.822034</td>\n",
       "      <td>00:01</td>\n",
       "    </tr>\n",
       "    <tr>\n",
       "      <td>2</td>\n",
       "      <td>0.473082</td>\n",
       "      <td>0.693466</td>\n",
       "      <td>0.838983</td>\n",
       "      <td>00:01</td>\n",
       "    </tr>\n",
       "    <tr>\n",
       "      <td>3</td>\n",
       "      <td>0.428789</td>\n",
       "      <td>0.668739</td>\n",
       "      <td>0.850282</td>\n",
       "      <td>00:01</td>\n",
       "    </tr>\n",
       "    <tr>\n",
       "      <td>4</td>\n",
       "      <td>0.388615</td>\n",
       "      <td>0.677722</td>\n",
       "      <td>0.847458</td>\n",
       "      <td>00:01</td>\n",
       "    </tr>\n",
       "    <tr>\n",
       "      <td>5</td>\n",
       "      <td>0.373038</td>\n",
       "      <td>0.684901</td>\n",
       "      <td>0.844633</td>\n",
       "      <td>00:01</td>\n",
       "    </tr>\n",
       "  </tbody>\n",
       "</table>"
      ],
      "text/plain": [
       "<IPython.core.display.HTML object>"
      ]
     },
     "metadata": {},
     "output_type": "display_data"
    }
   ],
   "source": [
    "clas_learn.unfreeze()\n",
    "clas_learn.fit_one_cycle(6, slice(2e-3/100, 2e-3))"
   ]
  },
  {
   "cell_type": "code",
   "execution_count": 77,
   "metadata": {},
   "outputs": [
    {
     "data": {
      "text/html": [
       "<table border=\"1\" class=\"dataframe\">\n",
       "  <thead>\n",
       "    <tr style=\"text-align: left;\">\n",
       "      <th>epoch</th>\n",
       "      <th>train_loss</th>\n",
       "      <th>valid_loss</th>\n",
       "      <th>accuracy</th>\n",
       "      <th>time</th>\n",
       "    </tr>\n",
       "  </thead>\n",
       "  <tbody>\n",
       "    <tr>\n",
       "      <td>0</td>\n",
       "      <td>0.323678</td>\n",
       "      <td>0.661982</td>\n",
       "      <td>0.841808</td>\n",
       "      <td>00:01</td>\n",
       "    </tr>\n",
       "    <tr>\n",
       "      <td>1</td>\n",
       "      <td>0.338898</td>\n",
       "      <td>0.677683</td>\n",
       "      <td>0.841808</td>\n",
       "      <td>00:01</td>\n",
       "    </tr>\n",
       "    <tr>\n",
       "      <td>2</td>\n",
       "      <td>0.315683</td>\n",
       "      <td>0.666576</td>\n",
       "      <td>0.841808</td>\n",
       "      <td>00:01</td>\n",
       "    </tr>\n",
       "    <tr>\n",
       "      <td>3</td>\n",
       "      <td>0.300666</td>\n",
       "      <td>0.663326</td>\n",
       "      <td>0.838983</td>\n",
       "      <td>00:01</td>\n",
       "    </tr>\n",
       "  </tbody>\n",
       "</table>"
      ],
      "text/plain": [
       "<IPython.core.display.HTML object>"
      ]
     },
     "metadata": {},
     "output_type": "display_data"
    }
   ],
   "source": [
    "clas_learn.fit_one_cycle(4, slice(2e-3/100, 2e-3))"
   ]
  },
  {
   "cell_type": "code",
   "execution_count": 78,
   "metadata": {},
   "outputs": [
    {
     "data": {
      "text/html": [
       "<table border=\"1\" class=\"dataframe\">\n",
       "  <thead>\n",
       "    <tr style=\"text-align: left;\">\n",
       "      <th>epoch</th>\n",
       "      <th>train_loss</th>\n",
       "      <th>valid_loss</th>\n",
       "      <th>accuracy</th>\n",
       "      <th>time</th>\n",
       "    </tr>\n",
       "  </thead>\n",
       "  <tbody>\n",
       "    <tr>\n",
       "      <td>0</td>\n",
       "      <td>0.268173</td>\n",
       "      <td>0.680903</td>\n",
       "      <td>0.838983</td>\n",
       "      <td>00:01</td>\n",
       "    </tr>\n",
       "    <tr>\n",
       "      <td>1</td>\n",
       "      <td>0.267530</td>\n",
       "      <td>0.701252</td>\n",
       "      <td>0.827684</td>\n",
       "      <td>00:01</td>\n",
       "    </tr>\n",
       "    <tr>\n",
       "      <td>2</td>\n",
       "      <td>0.258296</td>\n",
       "      <td>0.666104</td>\n",
       "      <td>0.844633</td>\n",
       "      <td>00:01</td>\n",
       "    </tr>\n",
       "    <tr>\n",
       "      <td>3</td>\n",
       "      <td>0.249950</td>\n",
       "      <td>0.671960</td>\n",
       "      <td>0.847458</td>\n",
       "      <td>00:01</td>\n",
       "    </tr>\n",
       "  </tbody>\n",
       "</table>"
      ],
      "text/plain": [
       "<IPython.core.display.HTML object>"
      ]
     },
     "metadata": {},
     "output_type": "display_data"
    }
   ],
   "source": [
    "clas_learn.fit_one_cycle(4, slice(2e-3/100, 2e-3))"
   ]
  },
  {
   "cell_type": "code",
   "execution_count": 79,
   "metadata": {},
   "outputs": [],
   "source": [
    "clas_learn.save('chat-clas-7-12_2')"
   ]
  },
  {
   "cell_type": "code",
   "execution_count": 83,
   "metadata": {},
   "outputs": [
    {
     "data": {
      "text/plain": [
       "(Category greet,\n",
       " tensor(37),\n",
       " tensor([2.4368e-04, 2.0966e-04, 6.0177e-06, 3.7461e-07, 8.4449e-07, 1.6819e-05,\n",
       "         8.6414e-05, 1.0969e-05, 2.6912e-05, 2.1723e-07, 4.2425e-05, 4.8506e-08,\n",
       "         2.1667e-06, 5.2536e-05, 3.3608e-04, 6.8750e-06, 4.2726e-05, 1.8914e-05,\n",
       "         1.2880e-07, 9.4722e-06, 3.2270e-05, 6.5928e-05, 6.7683e-06, 8.1635e-05,\n",
       "         2.6070e-05, 2.9731e-07, 6.7896e-05, 3.9577e-06, 3.5674e-05, 2.5830e-05,\n",
       "         4.5396e-07, 4.5713e-04, 4.8868e-05, 8.3969e-06, 1.0952e-06, 2.0672e-05,\n",
       "         1.8598e-06, 9.9741e-01, 5.6800e-06, 7.9579e-07, 2.0378e-06, 9.0629e-07,\n",
       "         1.8804e-07, 8.3015e-05, 4.3609e-06, 1.3790e-06, 2.0322e-06, 1.2727e-06,\n",
       "         4.8764e-04]))"
      ]
     },
     "execution_count": 83,
     "metadata": {},
     "output_type": "execute_result"
    }
   ],
   "source": [
    "clas_learn.predict(\"hello!\")"
   ]
  },
  {
   "cell_type": "code",
   "execution_count": 84,
   "metadata": {},
   "outputs": [
    {
     "data": {
      "text/plain": [
       "(Category ask_howdoing,\n",
       " tensor(14),\n",
       " tensor([8.7458e-05, 1.4071e-05, 2.1662e-06, 1.3923e-05, 3.1480e-06, 1.2515e-06,\n",
       "         1.0707e-05, 1.9454e-06, 8.6880e-05, 2.5658e-06, 1.1337e-05, 1.1982e-06,\n",
       "         6.3640e-06, 2.1267e-04, 9.9217e-01, 1.2866e-03, 1.5151e-03, 1.4856e-04,\n",
       "         3.7184e-06, 1.5312e-05, 2.3536e-05, 6.9239e-05, 4.1695e-05, 7.1865e-05,\n",
       "         9.4187e-05, 4.1689e-06, 5.8685e-05, 7.3880e-06, 5.0366e-04, 1.3288e-03,\n",
       "         6.0563e-07, 4.1514e-05, 1.3689e-04, 2.7210e-07, 2.2622e-05, 7.3437e-05,\n",
       "         1.1523e-05, 3.5031e-04, 7.6551e-05, 1.6140e-05, 6.2998e-06, 5.1706e-07,\n",
       "         7.0346e-07, 1.3485e-03, 2.9810e-06, 3.2251e-07, 2.6298e-06, 5.0468e-05,\n",
       "         6.3069e-05]))"
      ]
     },
     "execution_count": 84,
     "metadata": {},
     "output_type": "execute_result"
    }
   ],
   "source": [
    "clas_learn.predict(\"how are you?\")"
   ]
  },
  {
   "cell_type": "code",
   "execution_count": 85,
   "metadata": {},
   "outputs": [
    {
     "data": {
      "text/plain": [
       "(Category ask_howdoing,\n",
       " tensor(14),\n",
       " tensor([2.0465e-04, 3.7014e-06, 2.8888e-06, 2.4329e-05, 4.5654e-05, 2.6721e-06,\n",
       "         8.8479e-04, 6.2812e-06, 3.3831e-05, 5.7262e-06, 1.9021e-05, 1.1930e-05,\n",
       "         1.2276e-04, 1.9921e-05, 9.8243e-01, 1.0408e-04, 1.8594e-04, 6.9374e-05,\n",
       "         5.7868e-06, 3.4688e-06, 3.7237e-05, 3.8332e-04, 2.1138e-05, 3.2467e-04,\n",
       "         5.0127e-04, 1.6053e-05, 8.8377e-06, 2.5071e-04, 4.9531e-05, 1.1458e-03,\n",
       "         3.0604e-06, 1.8383e-05, 1.8199e-04, 1.9462e-05, 5.2968e-06, 1.1476e-05,\n",
       "         3.4525e-05, 1.1727e-02, 1.7382e-04, 1.3444e-04, 3.0107e-06, 4.6011e-06,\n",
       "         2.5961e-07, 3.9364e-05, 3.4415e-06, 1.8228e-07, 6.9564e-06, 5.6193e-04,\n",
       "         1.4600e-04]))"
      ]
     },
     "execution_count": 85,
     "metadata": {},
     "output_type": "execute_result"
    }
   ],
   "source": [
    "clas_learn.predict(\"what's up\")"
   ]
  },
  {
   "cell_type": "code",
   "execution_count": 86,
   "metadata": {},
   "outputs": [],
   "source": [
    "from fastai.vision import ClassificationInterpretation"
   ]
  },
  {
   "cell_type": "code",
   "execution_count": 87,
   "metadata": {},
   "outputs": [],
   "source": [
    "interp = ClassificationInterpretation.from_learner(clas_learn)"
   ]
  },
  {
   "cell_type": "code",
   "execution_count": 88,
   "metadata": {},
   "outputs": [
    {
     "data": {
      "image/png": "[encoded data removed]",
      "text/plain": [
       "<Figure size 720x720 with 1 Axes>"
      ]
     },
     "metadata": {},
     "output_type": "display_data"
    }
   ],
   "source": [
    "interp.plot_confusion_matrix(figsize=(12,12), dpi=60)"
   ]
  },
  {
   "cell_type": "code",
   "execution_count": 89,
   "metadata": {},
   "outputs": [
    {
     "data": {
      "text/plain": [
       "[('affirm', 'enter_data', 3),\n",
       " ('out_of_scope', 'enter_data', 3),\n",
       " ('technical_question', 'enter_data', 3),\n",
       " ('ask_whatspossible', 'ask_how_contribute', 2),\n",
       " ('bye', 'greet', 2),\n",
       " ('deny', 'enter_data', 2),\n",
       " ('deny', 'greet', 2),\n",
       " ('out_of_scope', 'ask_howdoing', 2),\n",
       " ('out_of_scope', 'deny', 2),\n",
       " ('technical_question', 'out_of_scope', 2),\n",
       " ('affirm', 'ask_howdoing', 1),\n",
       " ('affirm', 'out_of_scope', 1),\n",
       " ('ask_builder', 'ask_howbuilt', 1),\n",
       " ('ask_builder', 'ask_whoisit', 1),\n",
       " ('ask_faq_channels', 'technical_question', 1),\n",
       " ('ask_faq_community_size', 'ask_howold', 1),\n",
       " ('ask_howdoing', 'ask_isbot', 1),\n",
       " ('ask_languagesbot', 'ask_faq_languages', 1),\n",
       " ('ask_whatisrasa', 'ask_builder', 1),\n",
       " ('ask_whatspossible', 'ask_whatismyname', 1),\n",
       " ('ask_whatspossible', 'ask_whoisit', 1),\n",
       " ('ask_whatspossible', 'enter_data', 1),\n",
       " ('ask_whatspossible', 'how_to_get_started', 1),\n",
       " ('ask_whatspossible', 'human_handoff', 1),\n",
       " ('ask_which_events', 'ask_wherefrom', 1),\n",
       " ('bye', 'affirm', 1),\n",
       " ('bye', 'enter_data', 1),\n",
       " ('contact_sales', 'technical_question', 1),\n",
       " ('enter_data', 'ask_whatisrasa', 1),\n",
       " ('enter_data', 'greet', 1),\n",
       " ('enter_data', 'out_of_scope', 1),\n",
       " ('enter_data', 'technical_question', 1),\n",
       " ('greet', 'enter_data', 1),\n",
       " ('human_handoff', 'ask_whatspossible', 1),\n",
       " ('out_of_scope', 'ask_isbot', 1),\n",
       " ('out_of_scope', 'ask_restaurant', 1),\n",
       " ('out_of_scope', 'ask_whatspossible', 1),\n",
       " ('out_of_scope', 'human_handoff', 1),\n",
       " ('technical_question', 'ask_faq_opensource', 1),\n",
       " ('technical_question', 'how_to_get_started', 1),\n",
       " ('thank', 'greet', 1)]"
      ]
     },
     "execution_count": 89,
     "metadata": {},
     "output_type": "execute_result"
    }
   ],
   "source": [
    "interp.most_confused()"
   ]
  },
  {
   "cell_type": "code",
   "execution_count": null,
   "metadata": {},
   "outputs": [],
   "source": []
  }
 ],
 "metadata": {
  "kernelspec": {
   "display_name": "Python 3",
   "language": "python",
   "name": "python3"
  },
  "language_info": {
   "codemirror_mode": {
    "name": "ipython",
    "version": 3
   },
   "file_extension": ".py",
   "mimetype": "text/x-python",
   "name": "python",
   "nbconvert_exporter": "python",
   "pygments_lexer": "ipython3",
   "version": "3.7.3"
  }
 },
 "nbformat": 4,
 "nbformat_minor": 2
}
