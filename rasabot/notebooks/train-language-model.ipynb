{
 "cells": [
  {
   "cell_type": "code",
   "execution_count": 1,
   "metadata": {},
   "outputs": [],
   "source": [
    "%reload_ext autoreload\n",
    "%autoreload 2\n",
    "%matplotlib inline"
   ]
  },
  {
   "cell_type": "code",
   "execution_count": 2,
   "metadata": {},
   "outputs": [],
   "source": [
    "from fastai.text import * "
   ]
  },
  {
   "cell_type": "code",
   "execution_count": 3,
   "metadata": {},
   "outputs": [],
   "source": [
    "path = Path('/home/jupyter/chat-data')"
   ]
  },
  {
   "cell_type": "code",
   "execution_count": 13,
   "metadata": {},
   "outputs": [
    {
     "data": {
      "text/plain": [
       "[PosixPath('/home/jupyter/chat-data/human-chat.json'),\n",
       " PosixPath('/home/jupyter/chat-data/data_tolokers.json')]"
      ]
     },
     "execution_count": 13,
     "metadata": {},
     "output_type": "execute_result"
    }
   ],
   "source": [
    "path.ls()"
   ]
  },
  {
   "cell_type": "markdown",
   "metadata": {},
   "source": [
    "### Chat data thanks to https://github.com/DeepPavlov/convai/tree/master/data\n",
    "Used data_tolokers.json -- data collected during DeepHack.Chat hackathon in July 2-8 2018 via Yandex.Toloka service (paid workers). 3127 dialogues."
   ]
  },
  {
   "cell_type": "code",
   "execution_count": 6,
   "metadata": {},
   "outputs": [],
   "source": [
    "df = pd.read_json(path/'data_tolokers.json')"
   ]
  },
  {
   "cell_type": "code",
   "execution_count": 10,
   "metadata": {},
   "outputs": [],
   "source": [
    "pd.set_option('max_colwidth', -1)"
   ]
  },
  {
   "cell_type": "code",
   "execution_count": 12,
   "metadata": {},
   "outputs": [
    {
     "data": {
      "text/html": [
       "<div>\n",
       "<style scoped>\n",
       "    .dataframe tbody tr th:only-of-type {\n",
       "        vertical-align: middle;\n",
       "    }\n",
       "\n",
       "    .dataframe tbody tr th {\n",
       "        vertical-align: top;\n",
       "    }\n",
       "\n",
       "    .dataframe thead th {\n",
       "        text-align: right;\n",
       "    }\n",
       "</style>\n",
       "<table border=\"1\" class=\"dataframe\">\n",
       "  <thead>\n",
       "    <tr style=\"text-align: right;\">\n",
       "      <th></th>\n",
       "      <th>bot_profile</th>\n",
       "      <th>dialog</th>\n",
       "      <th>end_time</th>\n",
       "      <th>eval_score</th>\n",
       "      <th>participant1_id</th>\n",
       "      <th>participant2_id</th>\n",
       "      <th>profile_match</th>\n",
       "      <th>start_time</th>\n",
       "      <th>user_profile</th>\n",
       "    </tr>\n",
       "  </thead>\n",
       "  <tbody>\n",
       "    <tr>\n",
       "      <th>0</th>\n",
       "      <td>[i have amazing children and grandchildren., i can sew my own clothes., i had cancer but its gone now., i am retired and living the great life., i do not have a smartphone.]</td>\n",
       "      <td>[{'id': 0, 'sender': 'participant2', 'text': 'I love iphone! i just bought new iphone!', 'evaluation_score': None, 'sender_class': 'Bot'}, {'id': 1, 'sender': 'participant1', 'text': 'Thats good for you, i'm not very into new tech', 'evaluation_score': None, 'sender_class': 'Human'}, {'id': 2, 'sender': 'participant2', 'text': 'I am a college student and i am a college student', 'evaluation_score': None, 'sender_class': 'Bot'}, {'id': 3, 'sender': 'participant1', 'text': 'I am go to gym and live on donations', 'evaluation_score': None, 'sender_class': 'Human'}, {'id': 4, 'sender': 'participant2', 'text': 'I am a vegan and i am in the midwest', 'evaluation_score': None, 'sender_class': 'Bot'}, {'id': 5, 'sender': 'participant1', 'text': 'So vegan... i have dogs maybe i should told then that they may eat cheap salads insted of meat', 'evaluation_score': None, 'sender_class': 'Human'}, {'id': 6, 'sender': 'participant2', 'text': 'I would not mind having them in the office that would be hard for me', 'evaluation_score': None, 'sender_class': 'Bot'}, {'id': 7, 'sender': 'participant1', 'text': 'Dogs or vegan in office?', 'evaluation_score': None, 'sender_class': 'Human'}, {'id': 8, 'sender': 'participant2', 'text': 'I am a vegetarian so i am vegan', 'evaluation_score': None, 'sender_class': 'Bot'}, {'id': 9, 'sender': 'participant1', 'text': 'Strange answer', 'evaluation_score': None, 'sender_class': 'Human'}, {'id': 10, 'sender': 'participant2', 'text': 'I guess i just do not know what to ps4 experience with.', 'evaluation_score': None, 'sender_class': 'Bot'}]</td>\n",
       "      <td>2018-07-04 08:36:55.484</td>\n",
       "      <td>1.0</td>\n",
       "      <td>{'class': 'User', 'user_id': 'User 00686'}</td>\n",
       "      <td>{'class': 'Bot', 'user_id': 'Bot 002'}</td>\n",
       "      <td>0</td>\n",
       "      <td>2018-07-04 08:34:51.235</td>\n",
       "      <td>[two dogs live with me., i like doing the treadmill and rowing machine., eating is something i do when i'm bored., i have short hair., i go to the gym regularly.]</td>\n",
       "    </tr>\n",
       "    <tr>\n",
       "      <th>1</th>\n",
       "      <td>[my father was a door to door salesman., i've three dogs., i am in an open polyamorous relationship., i also have a dog walking business.]</td>\n",
       "      <td>[{'id': 0, 'sender': 'participant1', 'text': 'Hello', 'evaluation_score': None, 'sender_class': 'Human'}, {'id': 1, 'sender': 'participant1', 'text': '/test', 'evaluation_score': None, 'sender_class': 'Human'}]</td>\n",
       "      <td>2018-07-04 09:18:35.000</td>\n",
       "      <td>1.0</td>\n",
       "      <td>{'class': 'User', 'user_id': 'User 00544'}</td>\n",
       "      <td>{'class': 'Bot', 'user_id': 'Bot 006'}</td>\n",
       "      <td>1</td>\n",
       "      <td>2018-07-04 09:18:28.000</td>\n",
       "      <td>[if i'm not cooking in the kitchen then i'm definitely on the water., spiderman is my favorite., hey my name is larry and i am a chef., l also love comic books., i love cooking but i also enjoy fishing.]</td>\n",
       "    </tr>\n",
       "    <tr>\n",
       "      <th>2</th>\n",
       "      <td>[i am a gold medalist olympian., i love italian food and garlic bread., my favorite color is yellow., gymnastics is my favorite sport., i workout four hours a day.]</td>\n",
       "      <td>[{'id': 0, 'sender': 'participant1', 'text': 'Hey', 'evaluation_score': None, 'sender_class': 'Human'}, {'id': 1, 'sender': 'participant1', 'text': 'What do you do?', 'evaluation_score': None, 'sender_class': 'Human'}]</td>\n",
       "      <td>2018-07-04 09:20:52.000</td>\n",
       "      <td>1.0</td>\n",
       "      <td>{'class': 'User', 'user_id': 'User 00544'}</td>\n",
       "      <td>{'class': 'Bot', 'user_id': 'Bot 005'}</td>\n",
       "      <td>1</td>\n",
       "      <td>2018-07-04 09:20:35.000</td>\n",
       "      <td>[i've a german shepherd dog., i live is a rural farming community., my husband is adopted., i like to watch nhl hockey.]</td>\n",
       "    </tr>\n",
       "  </tbody>\n",
       "</table>\n",
       "</div>"
      ],
      "text/plain": [
       "                                                                                                                                                                     bot_profile  \\\n",
       "0  [i have amazing children and grandchildren., i can sew my own clothes., i had cancer but its gone now., i am retired and living the great life., i do not have a smartphone.]   \n",
       "1  [my father was a door to door salesman., i've three dogs., i am in an open polyamorous relationship., i also have a dog walking business.]                                      \n",
       "2  [i am a gold medalist olympian., i love italian food and garlic bread., my favorite color is yellow., gymnastics is my favorite sport., i workout four hours a day.]            \n",
       "\n",
       "                                                                                                                                                                                                                                                                                                                                                                                                                                                                                                                                                                                                                                                                                                                                                                                                                                                                                                                                                                                                                                                                                                                                                                                                                                                                                                                                                                                                                                                                                                                                                                                                                                           dialog  \\\n",
       "0  [{'id': 0, 'sender': 'participant2', 'text': 'I love iphone! i just bought new iphone!', 'evaluation_score': None, 'sender_class': 'Bot'}, {'id': 1, 'sender': 'participant1', 'text': 'Thats good for you, i'm not very into new tech', 'evaluation_score': None, 'sender_class': 'Human'}, {'id': 2, 'sender': 'participant2', 'text': 'I am a college student and i am a college student', 'evaluation_score': None, 'sender_class': 'Bot'}, {'id': 3, 'sender': 'participant1', 'text': 'I am go to gym and live on donations', 'evaluation_score': None, 'sender_class': 'Human'}, {'id': 4, 'sender': 'participant2', 'text': 'I am a vegan and i am in the midwest', 'evaluation_score': None, 'sender_class': 'Bot'}, {'id': 5, 'sender': 'participant1', 'text': 'So vegan... i have dogs maybe i should told then that they may eat cheap salads insted of meat', 'evaluation_score': None, 'sender_class': 'Human'}, {'id': 6, 'sender': 'participant2', 'text': 'I would not mind having them in the office that would be hard for me', 'evaluation_score': None, 'sender_class': 'Bot'}, {'id': 7, 'sender': 'participant1', 'text': 'Dogs or vegan in office?', 'evaluation_score': None, 'sender_class': 'Human'}, {'id': 8, 'sender': 'participant2', 'text': 'I am a vegetarian so i am vegan', 'evaluation_score': None, 'sender_class': 'Bot'}, {'id': 9, 'sender': 'participant1', 'text': 'Strange answer', 'evaluation_score': None, 'sender_class': 'Human'}, {'id': 10, 'sender': 'participant2', 'text': 'I guess i just do not know what to ps4 experience with.', 'evaluation_score': None, 'sender_class': 'Bot'}]   \n",
       "1  [{'id': 0, 'sender': 'participant1', 'text': 'Hello', 'evaluation_score': None, 'sender_class': 'Human'}, {'id': 1, 'sender': 'participant1', 'text': '/test', 'evaluation_score': None, 'sender_class': 'Human'}]                                                                                                                                                                                                                                                                                                                                                                                                                                                                                                                                                                                                                                                                                                                                                                                                                                                                                                                                                                                                                                                                                                                                                                                                                                                                                                                                                                                                                               \n",
       "2  [{'id': 0, 'sender': 'participant1', 'text': 'Hey', 'evaluation_score': None, 'sender_class': 'Human'}, {'id': 1, 'sender': 'participant1', 'text': 'What do you do?', 'evaluation_score': None, 'sender_class': 'Human'}]                                                                                                                                                                                                                                                                                                                                                                                                                                                                                                                                                                                                                                                                                                                                                                                                                                                                                                                                                                                                                                                                                                                                                                                                                                                                                                                                                                                                                       \n",
       "\n",
       "                 end_time  eval_score  \\\n",
       "0 2018-07-04 08:36:55.484  1.0          \n",
       "1 2018-07-04 09:18:35.000  1.0          \n",
       "2 2018-07-04 09:20:52.000  1.0          \n",
       "\n",
       "                              participant1_id  \\\n",
       "0  {'class': 'User', 'user_id': 'User 00686'}   \n",
       "1  {'class': 'User', 'user_id': 'User 00544'}   \n",
       "2  {'class': 'User', 'user_id': 'User 00544'}   \n",
       "\n",
       "                          participant2_id profile_match  \\\n",
       "0  {'class': 'Bot', 'user_id': 'Bot 002'}  0              \n",
       "1  {'class': 'Bot', 'user_id': 'Bot 006'}  1              \n",
       "2  {'class': 'Bot', 'user_id': 'Bot 005'}  1              \n",
       "\n",
       "               start_time  \\\n",
       "0 2018-07-04 08:34:51.235   \n",
       "1 2018-07-04 09:18:28.000   \n",
       "2 2018-07-04 09:20:35.000   \n",
       "\n",
       "                                                                                                                                                                                                  user_profile  \n",
       "0  [two dogs live with me., i like doing the treadmill and rowing machine., eating is something i do when i'm bored., i have short hair., i go to the gym regularly.]                                           \n",
       "1  [if i'm not cooking in the kitchen then i'm definitely on the water., spiderman is my favorite., hey my name is larry and i am a chef., l also love comic books., i love cooking but i also enjoy fishing.]  \n",
       "2  [i've a german shepherd dog., i live is a rural farming community., my husband is adopted., i like to watch nhl hockey.]                                                                                     "
      ]
     },
     "execution_count": 12,
     "metadata": {},
     "output_type": "execute_result"
    }
   ],
   "source": [
    "df.head(3)"
   ]
  },
  {
   "cell_type": "markdown",
   "metadata": {},
   "source": [
    "Parsed the json outside of the notebook to pull just the human chats"
   ]
  },
  {
   "cell_type": "code",
   "execution_count": 14,
   "metadata": {},
   "outputs": [],
   "source": [
    "chat = df = pd.read_json(path/'human-chat.json')"
   ]
  },
  {
   "cell_type": "code",
   "execution_count": 15,
   "metadata": {},
   "outputs": [
    {
     "data": {
      "text/html": [
       "<div>\n",
       "<style scoped>\n",
       "    .dataframe tbody tr th:only-of-type {\n",
       "        vertical-align: middle;\n",
       "    }\n",
       "\n",
       "    .dataframe tbody tr th {\n",
       "        vertical-align: top;\n",
       "    }\n",
       "\n",
       "    .dataframe thead th {\n",
       "        text-align: right;\n",
       "    }\n",
       "</style>\n",
       "<table border=\"1\" class=\"dataframe\">\n",
       "  <thead>\n",
       "    <tr style=\"text-align: right;\">\n",
       "      <th></th>\n",
       "      <th>evaluation_score</th>\n",
       "      <th>id</th>\n",
       "      <th>sender</th>\n",
       "      <th>sender_class</th>\n",
       "      <th>text</th>\n",
       "    </tr>\n",
       "  </thead>\n",
       "  <tbody>\n",
       "    <tr>\n",
       "      <th>0</th>\n",
       "      <td>NaN</td>\n",
       "      <td>1</td>\n",
       "      <td>participant1</td>\n",
       "      <td>Human</td>\n",
       "      <td>Thats good for you, i'm not very into new tech</td>\n",
       "    </tr>\n",
       "    <tr>\n",
       "      <th>1</th>\n",
       "      <td>NaN</td>\n",
       "      <td>3</td>\n",
       "      <td>participant1</td>\n",
       "      <td>Human</td>\n",
       "      <td>I am go to gym and live on donations</td>\n",
       "    </tr>\n",
       "    <tr>\n",
       "      <th>2</th>\n",
       "      <td>NaN</td>\n",
       "      <td>5</td>\n",
       "      <td>participant1</td>\n",
       "      <td>Human</td>\n",
       "      <td>So vegan... i have dogs maybe i should told then that they may eat cheap salads insted of meat</td>\n",
       "    </tr>\n",
       "    <tr>\n",
       "      <th>3</th>\n",
       "      <td>NaN</td>\n",
       "      <td>7</td>\n",
       "      <td>participant1</td>\n",
       "      <td>Human</td>\n",
       "      <td>Dogs or vegan in office?</td>\n",
       "    </tr>\n",
       "    <tr>\n",
       "      <th>4</th>\n",
       "      <td>NaN</td>\n",
       "      <td>9</td>\n",
       "      <td>participant1</td>\n",
       "      <td>Human</td>\n",
       "      <td>Strange answer</td>\n",
       "    </tr>\n",
       "  </tbody>\n",
       "</table>\n",
       "</div>"
      ],
      "text/plain": [
       "   evaluation_score  id        sender sender_class  \\\n",
       "0 NaN                1   participant1  Human         \n",
       "1 NaN                3   participant1  Human         \n",
       "2 NaN                5   participant1  Human         \n",
       "3 NaN                7   participant1  Human         \n",
       "4 NaN                9   participant1  Human         \n",
       "\n",
       "                                                                                             text  \n",
       "0  Thats good for you, i'm not very into new tech                                                  \n",
       "1  I am go to gym and live on donations                                                            \n",
       "2  So vegan... i have dogs maybe i should told then that they may eat cheap salads insted of meat  \n",
       "3  Dogs or vegan in office?                                                                        \n",
       "4  Strange answer                                                                                  "
      ]
     },
     "execution_count": 15,
     "metadata": {},
     "output_type": "execute_result"
    }
   ],
   "source": [
    "chat.head()"
   ]
  },
  {
   "cell_type": "code",
   "execution_count": 16,
   "metadata": {},
   "outputs": [
    {
     "data": {
      "text/html": [
       "<div>\n",
       "<style scoped>\n",
       "    .dataframe tbody tr th:only-of-type {\n",
       "        vertical-align: middle;\n",
       "    }\n",
       "\n",
       "    .dataframe tbody tr th {\n",
       "        vertical-align: top;\n",
       "    }\n",
       "\n",
       "    .dataframe thead th {\n",
       "        text-align: right;\n",
       "    }\n",
       "</style>\n",
       "<table border=\"1\" class=\"dataframe\">\n",
       "  <thead>\n",
       "    <tr style=\"text-align: right;\">\n",
       "      <th></th>\n",
       "      <th>evaluation_score</th>\n",
       "      <th>id</th>\n",
       "    </tr>\n",
       "  </thead>\n",
       "  <tbody>\n",
       "    <tr>\n",
       "      <th>count</th>\n",
       "      <td>0.0</td>\n",
       "      <td>18867.000000</td>\n",
       "    </tr>\n",
       "    <tr>\n",
       "      <th>mean</th>\n",
       "      <td>NaN</td>\n",
       "      <td>12.479408</td>\n",
       "    </tr>\n",
       "    <tr>\n",
       "      <th>std</th>\n",
       "      <td>NaN</td>\n",
       "      <td>14.337071</td>\n",
       "    </tr>\n",
       "    <tr>\n",
       "      <th>min</th>\n",
       "      <td>NaN</td>\n",
       "      <td>0.000000</td>\n",
       "    </tr>\n",
       "    <tr>\n",
       "      <th>25%</th>\n",
       "      <td>NaN</td>\n",
       "      <td>3.000000</td>\n",
       "    </tr>\n",
       "    <tr>\n",
       "      <th>50%</th>\n",
       "      <td>NaN</td>\n",
       "      <td>9.000000</td>\n",
       "    </tr>\n",
       "    <tr>\n",
       "      <th>75%</th>\n",
       "      <td>NaN</td>\n",
       "      <td>17.000000</td>\n",
       "    </tr>\n",
       "    <tr>\n",
       "      <th>max</th>\n",
       "      <td>NaN</td>\n",
       "      <td>175.000000</td>\n",
       "    </tr>\n",
       "  </tbody>\n",
       "</table>\n",
       "</div>"
      ],
      "text/plain": [
       "       evaluation_score            id\n",
       "count  0.0               18867.000000\n",
       "mean  NaN                12.479408   \n",
       "std   NaN                14.337071   \n",
       "min   NaN                0.000000    \n",
       "25%   NaN                3.000000    \n",
       "50%   NaN                9.000000    \n",
       "75%   NaN                17.000000   \n",
       "max   NaN                175.000000  "
      ]
     },
     "execution_count": 16,
     "metadata": {},
     "output_type": "execute_result"
    }
   ],
   "source": [
    "chat.describe()"
   ]
  },
  {
   "cell_type": "code",
   "execution_count": 17,
   "metadata": {},
   "outputs": [],
   "source": [
    "chat.to_csv(path/'chats.csv', index=False)"
   ]
  },
  {
   "cell_type": "code",
   "execution_count": 18,
   "metadata": {},
   "outputs": [
    {
     "data": {
      "text/plain": [
       "[PosixPath('/home/jupyter/chat-data/chats.csv'),\n",
       " PosixPath('/home/jupyter/chat-data/human-chat.json'),\n",
       " PosixPath('/home/jupyter/chat-data/data_tolokers.json')]"
      ]
     },
     "execution_count": 18,
     "metadata": {},
     "output_type": "execute_result"
    }
   ],
   "source": [
    "path.ls()"
   ]
  },
  {
   "cell_type": "code",
   "execution_count": 19,
   "metadata": {},
   "outputs": [
    {
     "name": "stdout",
     "output_type": "stream",
     "text": [
      "evaluation_score,id,sender,sender_class,text\r\n",
      ",1,participant1,Human,\"Thats good for you, i'm not very into new tech\"\r\n",
      ",3,participant1,Human,I am go to gym and live on donations\r\n",
      ",5,participant1,Human,So vegan... i have dogs maybe i should told then that they may eat cheap salads insted of meat\r\n",
      ",7,participant1,Human,Dogs or vegan in office?\r\n",
      ",9,participant1,Human,Strange answer\r\n",
      ",0,participant1,Human,Hello\r\n",
      ",1,participant1,Human,/test\r\n",
      ",0,participant1,Human,Hey\r\n",
      ",1,participant1,Human,What do you do?\r\n"
     ]
    }
   ],
   "source": [
    "!head $path/'chats.csv'"
   ]
  },
  {
   "cell_type": "code",
   "execution_count": 20,
   "metadata": {},
   "outputs": [],
   "source": [
    "TextLMDataBunch.from_csv??"
   ]
  },
  {
   "cell_type": "code",
   "execution_count": 21,
   "metadata": {},
   "outputs": [],
   "source": [
    "# Language model data\n",
    "data_lm = TextLMDataBunch.from_csv(path, 'chats.csv', text_cols='text')"
   ]
  },
  {
   "cell_type": "code",
   "execution_count": 22,
   "metadata": {},
   "outputs": [
    {
     "data": {
      "text/plain": [
       "TextLMDataBunch;\n",
       "\n",
       "Train: LabelList (15093 items)\n",
       "x: LMTextList\n",
       "xxbos xxmaj of course i like , why are you xxunk,xxbos mine too . listen , i must go . till next time , see you,xxbos xxmaj most of people says i m looking like xxunk xxunk xxunk,xxbos what about your xxunk ?,xxbos ihave got one sister , she is pole dancer\n",
       "y: LMLabelList\n",
       ",,,,\n",
       "Path: /home/jupyter/chat-data;\n",
       "\n",
       "Valid: LabelList (3774 items)\n",
       "x: LMTextList\n",
       "xxbos xxmaj girlfriend ?,xxbos xxmaj nice . i wanted to be programmer when i was younger,xxbos xxmaj hello , how are you ?,xxbos xxmaj okay . xxmaj do you have pets ?,xxbos xxmaj my name is xxunk , yours ?\n",
       "y: LMLabelList\n",
       ",,,,\n",
       "Path: /home/jupyter/chat-data;\n",
       "\n",
       "Test: None"
      ]
     },
     "execution_count": 22,
     "metadata": {},
     "output_type": "execute_result"
    }
   ],
   "source": [
    "data_lm"
   ]
  },
  {
   "cell_type": "code",
   "execution_count": 23,
   "metadata": {},
   "outputs": [],
   "source": [
    "data_lm.save('data_lm_export.pkl')"
   ]
  },
  {
   "cell_type": "code",
   "execution_count": 24,
   "metadata": {},
   "outputs": [],
   "source": [
    "learn = language_model_learner(data_lm, AWD_LSTM, drop_mult=0.5)"
   ]
  },
  {
   "cell_type": "code",
   "execution_count": 25,
   "metadata": {},
   "outputs": [
    {
     "data": {
      "text/plain": [
       "2128"
      ]
     },
     "execution_count": 25,
     "metadata": {},
     "output_type": "execute_result"
    }
   ],
   "source": [
    "len(data_lm.vocab.itos)"
   ]
  },
  {
   "cell_type": "code",
   "execution_count": 26,
   "metadata": {},
   "outputs": [
    {
     "data": {
      "text/html": [
       "<table border=\"1\" class=\"dataframe\">\n",
       "  <thead>\n",
       "    <tr style=\"text-align: right;\">\n",
       "      <th>idx</th>\n",
       "      <th>text</th>\n",
       "    </tr>\n",
       "  </thead>\n",
       "  <tbody>\n",
       "    <tr>\n",
       "      <td>0</td>\n",
       "      <td>are you from ? xxbos xxmaj especially hiking and climbing xxbos yeah it seems you love it xxbos xxmaj good . xxmaj bye xxbos xxmaj now i live in the city and i have a lot of time to spend with meditation . xxbos hi xxbos xxmaj so , mostly xxunk xxunk ? xxbos xxmaj my favourite color is green . xxbos nice to see uu , i m great</td>\n",
       "    </tr>\n",
       "    <tr>\n",
       "      <td>1</td>\n",
       "      <td>? what do you mean ? xxbos xxmaj and what your girlfriend think about it ? xxbos xxmaj me too ) what do you like to shop ? xxbos xxmaj are you here ? xxbos hey xxbos xxmaj oh xxmaj alaska must be cold . i live in xxmaj xxunk xxbos haha not man i am not xxbos xxmaj what do you do ? xxbos red xxbos intresting , but</td>\n",
       "    </tr>\n",
       "    <tr>\n",
       "      <td>2</td>\n",
       "      <td>him . xxmaj do you have curly hair ? xxbos xxmaj where do you work ? xxbos it is fine xxbos hi xxbos i hope u find soon a new job xxbos xxmaj hi xxbos where do you work ? xxbos xxmaj hi xxbos xxmaj no . i do nt hate orange . xxbos xxmaj hi there xxbos i have 3 children , and life is wonderfull xxbos what kind</td>\n",
       "    </tr>\n",
       "    <tr>\n",
       "      <td>3</td>\n",
       "      <td>. xxmaj meat makes you nervous ! xxbos xxmaj hello xxbos i do n’t have any kids , i have two dogs lol xxbos xxmaj hello how are you ? xxbos 10 xxbos xxmaj okay . xxmaj these are nice colors . xxmaj but i do n't like orange xxbos xxmaj all my friends are skateboarders . xxmaj do you like to skate ? xxbos bye :) xxbos xxmaj nice</td>\n",
       "    </tr>\n",
       "    <tr>\n",
       "      <td>4</td>\n",
       "      <td>sad xxbos do you like swimming ? xxbos i m from turket xxbos xxunk , i do n't get it xxbos i asked about you . xxmaj are you transgender ? xxbos do you like xxunk ? xxbos i m xxunk have 5 kids xxbos xxmaj where are you from ? xxbos i was adopted at a young age to an older couple who were a pool singers . xxmaj</td>\n",
       "    </tr>\n",
       "  </tbody>\n",
       "</table>"
      ],
      "text/plain": [
       "<IPython.core.display.HTML object>"
      ]
     },
     "metadata": {},
     "output_type": "display_data"
    }
   ],
   "source": [
    "data_lm.show_batch()"
   ]
  },
  {
   "cell_type": "code",
   "execution_count": 29,
   "metadata": {},
   "outputs": [
    {
     "data": {
      "text/plain": [
       "['xxunk',\n",
       " 'xxpad',\n",
       " 'xxbos',\n",
       " 'xxeos',\n",
       " 'xxfld',\n",
       " 'xxmaj',\n",
       " 'xxup',\n",
       " 'xxrep',\n",
       " 'xxwrep',\n",
       " '?',\n",
       " 'you',\n",
       " 'i',\n",
       " 'do',\n",
       " '.',\n",
       " 'a',\n",
       " 'what',\n",
       " 'are',\n",
       " ',',\n",
       " 'is',\n",
       " 'to',\n",
       " 'like',\n",
       " 'have',\n",
       " 'your',\n",
       " 'and',\n",
       " '!',\n",
       " 'my',\n",
       " 'how',\n",
       " 'am',\n",
       " 'it',\n",
       " 'me']"
      ]
     },
     "execution_count": 29,
     "metadata": {},
     "output_type": "execute_result"
    }
   ],
   "source": [
    "data_lm.vocab.itos[:30]"
   ]
  },
  {
   "cell_type": "code",
   "execution_count": 30,
   "metadata": {},
   "outputs": [
    {
     "data": {
      "text/html": [],
      "text/plain": [
       "<IPython.core.display.HTML object>"
      ]
     },
     "metadata": {},
     "output_type": "display_data"
    },
    {
     "name": "stdout",
     "output_type": "stream",
     "text": [
      "LR Finder is complete, type {learner_name}.recorder.plot() to see the graph.\n"
     ]
    }
   ],
   "source": [
    "learn.lr_find()"
   ]
  },
  {
   "cell_type": "code",
   "execution_count": 31,
   "metadata": {},
   "outputs": [
    {
     "data": {
      "image/png": "[encoded data removed]",
      "text/plain": [
       "<Figure size 432x288 with 1 Axes>"
      ]
     },
     "metadata": {},
     "output_type": "display_data"
    }
   ],
   "source": [
    "learn.recorder.plot()"
   ]
  },
  {
   "cell_type": "code",
   "execution_count": 36,
   "metadata": {},
   "outputs": [
    {
     "data": {
      "text/html": [
       "<table border=\"1\" class=\"dataframe\">\n",
       "  <thead>\n",
       "    <tr style=\"text-align: left;\">\n",
       "      <th>epoch</th>\n",
       "      <th>train_loss</th>\n",
       "      <th>valid_loss</th>\n",
       "      <th>accuracy</th>\n",
       "      <th>time</th>\n",
       "    </tr>\n",
       "  </thead>\n",
       "  <tbody>\n",
       "    <tr>\n",
       "      <td>0</td>\n",
       "      <td>5.571713</td>\n",
       "      <td>3.907264</td>\n",
       "      <td>0.248214</td>\n",
       "      <td>00:04</td>\n",
       "    </tr>\n",
       "    <tr>\n",
       "      <td>1</td>\n",
       "      <td>4.263736</td>\n",
       "      <td>3.058951</td>\n",
       "      <td>0.363552</td>\n",
       "      <td>00:04</td>\n",
       "    </tr>\n",
       "    <tr>\n",
       "      <td>2</td>\n",
       "      <td>3.664918</td>\n",
       "      <td>2.953215</td>\n",
       "      <td>0.380006</td>\n",
       "      <td>00:04</td>\n",
       "    </tr>\n",
       "    <tr>\n",
       "      <td>3</td>\n",
       "      <td>3.352912</td>\n",
       "      <td>2.938353</td>\n",
       "      <td>0.381346</td>\n",
       "      <td>00:04</td>\n",
       "    </tr>\n",
       "  </tbody>\n",
       "</table>"
      ],
      "text/plain": [
       "<IPython.core.display.HTML object>"
      ]
     },
     "metadata": {},
     "output_type": "display_data"
    }
   ],
   "source": [
    "learn.fit_one_cycle(4, 1e-2)"
   ]
  },
  {
   "cell_type": "code",
   "execution_count": 37,
   "metadata": {},
   "outputs": [
    {
     "data": {
      "text/html": [
       "<table border=\"1\" class=\"dataframe\">\n",
       "  <thead>\n",
       "    <tr style=\"text-align: left;\">\n",
       "      <th>epoch</th>\n",
       "      <th>train_loss</th>\n",
       "      <th>valid_loss</th>\n",
       "      <th>accuracy</th>\n",
       "      <th>time</th>\n",
       "    </tr>\n",
       "  </thead>\n",
       "  <tbody>\n",
       "    <tr>\n",
       "      <td>0</td>\n",
       "      <td>2.891270</td>\n",
       "      <td>2.817041</td>\n",
       "      <td>0.402966</td>\n",
       "      <td>00:05</td>\n",
       "    </tr>\n",
       "  </tbody>\n",
       "</table>"
      ],
      "text/plain": [
       "<IPython.core.display.HTML object>"
      ]
     },
     "metadata": {},
     "output_type": "display_data"
    }
   ],
   "source": [
    "learn.unfreeze()\n",
    "learn.fit_one_cycle(1, 1e-3)"
   ]
  },
  {
   "cell_type": "code",
   "execution_count": 41,
   "metadata": {},
   "outputs": [
    {
     "data": {
      "text/plain": [
       "'how are you studying ? xxbos Well . xxbos Apple ? xxbos car xxbos hi xxbos my job is to be'"
      ]
     },
     "execution_count": 41,
     "metadata": {},
     "output_type": "execute_result"
    }
   ],
   "source": [
    "learn.predict(\"how are you\", n_words=20)"
   ]
  },
  {
   "cell_type": "code",
   "execution_count": 42,
   "metadata": {},
   "outputs": [
    {
     "data": {
      "text/plain": [
       "'where can i see school ? xxbos yeah there we had books just before Meeting him , male thrones were on'"
      ]
     },
     "execution_count": 42,
     "metadata": {},
     "output_type": "execute_result"
    }
   ],
   "source": [
    "learn.predict(\"where can\", n_words=20)"
   ]
  },
  {
   "cell_type": "code",
   "execution_count": 43,
   "metadata": {},
   "outputs": [
    {
     "data": {
      "text/html": [
       "<table border=\"1\" class=\"dataframe\">\n",
       "  <thead>\n",
       "    <tr style=\"text-align: left;\">\n",
       "      <th>epoch</th>\n",
       "      <th>train_loss</th>\n",
       "      <th>valid_loss</th>\n",
       "      <th>accuracy</th>\n",
       "      <th>time</th>\n",
       "    </tr>\n",
       "  </thead>\n",
       "  <tbody>\n",
       "    <tr>\n",
       "      <td>0</td>\n",
       "      <td>2.747595</td>\n",
       "      <td>2.765686</td>\n",
       "      <td>0.413138</td>\n",
       "      <td>00:05</td>\n",
       "    </tr>\n",
       "  </tbody>\n",
       "</table>"
      ],
      "text/plain": [
       "<IPython.core.display.HTML object>"
      ]
     },
     "metadata": {},
     "output_type": "display_data"
    }
   ],
   "source": [
    "learn.fit_one_cycle(1, 1e-3)"
   ]
  },
  {
   "cell_type": "code",
   "execution_count": 44,
   "metadata": {},
   "outputs": [
    {
     "data": {
      "text/html": [
       "<table border=\"1\" class=\"dataframe\">\n",
       "  <thead>\n",
       "    <tr style=\"text-align: left;\">\n",
       "      <th>epoch</th>\n",
       "      <th>train_loss</th>\n",
       "      <th>valid_loss</th>\n",
       "      <th>accuracy</th>\n",
       "      <th>time</th>\n",
       "    </tr>\n",
       "  </thead>\n",
       "  <tbody>\n",
       "    <tr>\n",
       "      <td>0</td>\n",
       "      <td>2.654565</td>\n",
       "      <td>2.733346</td>\n",
       "      <td>0.418272</td>\n",
       "      <td>00:05</td>\n",
       "    </tr>\n",
       "  </tbody>\n",
       "</table>"
      ],
      "text/plain": [
       "<IPython.core.display.HTML object>"
      ]
     },
     "metadata": {},
     "output_type": "display_data"
    }
   ],
   "source": [
    "learn.fit_one_cycle(1, 1e-3)"
   ]
  },
  {
   "cell_type": "code",
   "execution_count": 45,
   "metadata": {},
   "outputs": [
    {
     "data": {
      "text/html": [
       "<table border=\"1\" class=\"dataframe\">\n",
       "  <thead>\n",
       "    <tr style=\"text-align: left;\">\n",
       "      <th>epoch</th>\n",
       "      <th>train_loss</th>\n",
       "      <th>valid_loss</th>\n",
       "      <th>accuracy</th>\n",
       "      <th>time</th>\n",
       "    </tr>\n",
       "  </thead>\n",
       "  <tbody>\n",
       "    <tr>\n",
       "      <td>0</td>\n",
       "      <td>2.585564</td>\n",
       "      <td>2.715770</td>\n",
       "      <td>0.417411</td>\n",
       "      <td>00:05</td>\n",
       "    </tr>\n",
       "    <tr>\n",
       "      <td>1</td>\n",
       "      <td>2.534555</td>\n",
       "      <td>2.684187</td>\n",
       "      <td>0.425096</td>\n",
       "      <td>00:05</td>\n",
       "    </tr>\n",
       "    <tr>\n",
       "      <td>2</td>\n",
       "      <td>2.464541</td>\n",
       "      <td>2.686106</td>\n",
       "      <td>0.426084</td>\n",
       "      <td>00:05</td>\n",
       "    </tr>\n",
       "  </tbody>\n",
       "</table>"
      ],
      "text/plain": [
       "<IPython.core.display.HTML object>"
      ]
     },
     "metadata": {},
     "output_type": "display_data"
    }
   ],
   "source": [
    "learn.fit_one_cycle(3, 1e-3)"
   ]
  },
  {
   "cell_type": "code",
   "execution_count": 47,
   "metadata": {},
   "outputs": [
    {
     "data": {
      "text/plain": [
       "'how are you ? xxbos You loved her ? xxbos very nice xxbos i am chocolate truck xxbos No , i'"
      ]
     },
     "execution_count": 47,
     "metadata": {},
     "output_type": "execute_result"
    }
   ],
   "source": [
    "learn.predict(\"how are you\", n_words=20)"
   ]
  },
  {
   "cell_type": "code",
   "execution_count": 48,
   "metadata": {},
   "outputs": [],
   "source": [
    "learn.save('chat-lm-1')\n",
    "learn.save_encoder('chat-lm-encoder-1')"
   ]
  },
  {
   "cell_type": "code",
   "execution_count": 49,
   "metadata": {},
   "outputs": [
    {
     "data": {
      "text/html": [
       "<table border=\"1\" class=\"dataframe\">\n",
       "  <thead>\n",
       "    <tr style=\"text-align: left;\">\n",
       "      <th>epoch</th>\n",
       "      <th>train_loss</th>\n",
       "      <th>valid_loss</th>\n",
       "      <th>accuracy</th>\n",
       "      <th>time</th>\n",
       "    </tr>\n",
       "  </thead>\n",
       "  <tbody>\n",
       "    <tr>\n",
       "      <td>0</td>\n",
       "      <td>2.392759</td>\n",
       "      <td>2.692924</td>\n",
       "      <td>0.427551</td>\n",
       "      <td>00:05</td>\n",
       "    </tr>\n",
       "    <tr>\n",
       "      <td>1</td>\n",
       "      <td>2.362530</td>\n",
       "      <td>2.699108</td>\n",
       "      <td>0.423788</td>\n",
       "      <td>00:05</td>\n",
       "    </tr>\n",
       "    <tr>\n",
       "      <td>2</td>\n",
       "      <td>2.288395</td>\n",
       "      <td>2.702057</td>\n",
       "      <td>0.429114</td>\n",
       "      <td>00:05</td>\n",
       "    </tr>\n",
       "  </tbody>\n",
       "</table>"
      ],
      "text/plain": [
       "<IPython.core.display.HTML object>"
      ]
     },
     "metadata": {},
     "output_type": "display_data"
    }
   ],
   "source": [
    "learn.fit_one_cycle(3, 1e-3)"
   ]
  },
  {
   "cell_type": "code",
   "execution_count": null,
   "metadata": {},
   "outputs": [],
   "source": []
  }
 ],
 "metadata": {
  "kernelspec": {
   "display_name": "Python 3",
   "language": "python",
   "name": "python3"
  },
  "language_info": {
   "codemirror_mode": {
    "name": "ipython",
    "version": 3
   },
   "file_extension": ".py",
   "mimetype": "text/x-python",
   "name": "python",
   "nbconvert_exporter": "python",
   "pygments_lexer": "ipython3",
   "version": "3.7.3"
  }
 },
 "nbformat": 4,
 "nbformat_minor": 2
}
