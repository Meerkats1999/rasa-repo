{
 "cells": [
  {
   "cell_type": "code",
   "execution_count": 1,
   "metadata": {},
   "outputs": [],
   "source": [
    "%reload_ext autoreload\n",
    "%autoreload 2\n",
    "%matplotlib inline"
   ]
  },
  {
   "cell_type": "code",
   "execution_count": 2,
   "metadata": {},
   "outputs": [],
   "source": [
    "from fastai import *\n",
    "from fastai.text import *"
   ]
  },
  {
   "cell_type": "markdown",
   "metadata": {},
   "source": [
    "### Install Rasa if not already installed"
   ]
  },
  {
   "cell_type": "code",
   "execution_count": 3,
   "metadata": {},
   "outputs": [],
   "source": [
    "# !pip install rasa"
   ]
  },
  {
   "cell_type": "markdown",
   "metadata": {},
   "source": [
    "### Prep data to train the classifier"
   ]
  },
  {
   "cell_type": "code",
   "execution_count": 6,
   "metadata": {},
   "outputs": [
    {
     "name": "stdout",
     "output_type": "stream",
     "text": [
      "nlu.md\tstories.md  train-test-split\r\n"
     ]
    }
   ],
   "source": [
    "!ls ../data"
   ]
  },
  {
   "cell_type": "code",
   "execution_count": 8,
   "metadata": {},
   "outputs": [
    {
     "name": "stdout",
     "output_type": "stream",
     "text": [
      "AskUbuntuCorpus.json\t       human-chat.json\t       package-lock.json\r\n",
      "askubuntu_in_rasa_format.json  nlu-markdown-tojson.js  parse-json.js\r\n",
      "askubuntu_to_rasa_format.js    package.json\t       rasa-intents.json\r\n"
     ]
    }
   ],
   "source": [
    "!ls ../training-data-parsing"
   ]
  },
  {
   "cell_type": "markdown",
   "metadata": {},
   "source": [
    "### askubuntu_in_rasa_format.json is the AskUbuntu Corpus taken from: https://github.com/sebischair/NLU-Evaluation-Corpora converted into rasa format\n",
    "\n",
    "AskUbuntu Corpus was prepared for this paper:\n",
    "@InProceedings{braun-EtAl:2017:SIGDIAL,\n",
    "  author    = {Braun, Daniel  and  Hernandez-Mendez, Adrian  and  Matthes, Florian  and  Langen, Manfred},\n",
    "  title     = {Evaluating Natural Language Understanding Services for Conversational Question Answering Systems},\n",
    "  booktitle = {Proceedings of the 18th Annual SIGdial Meeting on Discourse and Dialogue},\n",
    "  month     = {August},\n",
    "  year      = {2017},\n",
    "  address   = {Saarbrücken, Germany},\n",
    "  publisher = {Association for Computational Linguistics},\n",
    "  pages     = {174--185},\n",
    "  url       = {http://www.aclweb.org/anthology/W17-3622}\n",
    "}"
   ]
  },
  {
   "cell_type": "code",
   "execution_count": 10,
   "metadata": {},
   "outputs": [
    {
     "name": "stdout",
     "output_type": "stream",
     "text": [
      "2019-07-28 18:48:25 \u001b[1;30mINFO    \u001b[0m \u001b[34mrasa.nlu.training_data.loading\u001b[0m  - Training data format of '/tmp/tmpvkjxsxp4/f4f32cab87d8431ea2c2c0267cb957b0_askubuntu_in_rasa_format.json' is 'rasa_nlu'.\r\n",
      "2019-07-28 18:48:25 \u001b[1;30mINFO    \u001b[0m \u001b[34mrasa.nlu.training_data.training_data\u001b[0m  - Training data stats: \r\n",
      "\t- intent examples: 162 (5 distinct intents)\r\n",
      "\t- Found intents: 'None', 'Software Recommendation', 'Shutdown Computer', 'Make Update', 'Setup Printer'\r\n",
      "\t- entity examples: 76 (3 distinct entities)\r\n",
      "\t- found entities: 'Printer', 'SoftwareName', 'UbuntuVersion'\r\n",
      "\r\n",
      "2019-07-28 18:48:25 \u001b[1;30mINFO    \u001b[0m \u001b[34mrasa.nlu.training_data.training_data\u001b[0m  - Training data stats: \r\n",
      "\t- intent examples: 127 (5 distinct intents)\r\n",
      "\t- Found intents: 'None', 'Software Recommendation', 'Shutdown Computer', 'Make Update', 'Setup Printer'\r\n",
      "\t- entity examples: 58 (3 distinct entities)\r\n",
      "\t- found entities: 'Printer', 'SoftwareName', 'UbuntuVersion'\r\n",
      "\r\n",
      "2019-07-28 18:48:25 \u001b[1;30mINFO    \u001b[0m \u001b[34mrasa.nlu.training_data.training_data\u001b[0m  - Training data stats: \r\n",
      "\t- intent examples: 35 (5 distinct intents)\r\n",
      "\t- Found intents: 'None', 'Software Recommendation', 'Shutdown Computer', 'Make Update', 'Setup Printer'\r\n",
      "\t- entity examples: 18 (3 distinct entities)\r\n",
      "\t- found entities: 'Printer', 'SoftwareName', 'UbuntuVersion'\r\n",
      "\r\n"
     ]
    }
   ],
   "source": [
    "# will split 80% training/20% test by default\n",
    "! rasa data split nlu --nlu ../training-data-parsing/askubuntu_in_rasa_format.json --out ../data/train-test-split-ubuntu"
   ]
  },
  {
   "cell_type": "code",
   "execution_count": 14,
   "metadata": {},
   "outputs": [
    {
     "name": "stdout",
     "output_type": "stream",
     "text": [
      "test_data.json\ttraining_data.json\r\n"
     ]
    }
   ],
   "source": [
    "!ls ../data/train-test-split-ubuntu"
   ]
  },
  {
   "cell_type": "code",
   "execution_count": 11,
   "metadata": {},
   "outputs": [],
   "source": [
    "pd.set_option('max_colwidth', -1)"
   ]
  },
  {
   "cell_type": "markdown",
   "metadata": {},
   "source": [
    "### Convert the training data into a dataframe for training fastai.text"
   ]
  },
  {
   "cell_type": "code",
   "execution_count": 15,
   "metadata": {},
   "outputs": [],
   "source": [
    "df = pd.read_json('../data/train-test-split-ubuntu/training_data.json')"
   ]
  },
  {
   "cell_type": "code",
   "execution_count": 16,
   "metadata": {},
   "outputs": [
    {
     "data": {
      "text/html": [
       "<div>\n",
       "<style scoped>\n",
       "    .dataframe tbody tr th:only-of-type {\n",
       "        vertical-align: middle;\n",
       "    }\n",
       "\n",
       "    .dataframe tbody tr th {\n",
       "        vertical-align: top;\n",
       "    }\n",
       "\n",
       "    .dataframe thead th {\n",
       "        text-align: right;\n",
       "    }\n",
       "</style>\n",
       "<table border=\"1\" class=\"dataframe\">\n",
       "  <thead>\n",
       "    <tr style=\"text-align: right;\">\n",
       "      <th></th>\n",
       "      <th>rasa_nlu_data</th>\n",
       "    </tr>\n",
       "  </thead>\n",
       "  <tbody>\n",
       "    <tr>\n",
       "      <th>common_examples</th>\n",
       "      <td>[{'intent': 'Software Recommendation', 'text': 'What's the best Mind Mapping Software?'}, {'intent': 'Software Recommendation', 'text': 'Software to read a QR code?'}, {'intent': 'Software Recommendation', 'text': 'Is there software that can view .dwg files?'}, {'intent': 'Software Recommendation', 'text': 'Can you recommend a password generator?'}, {'intent': 'Software Recommendation', 'text': 'Is there a software utility to adjust screen gamma/brightness/contrast?'}, {'intent': 'Software Recommendation', 'text': 'Is there a tool like wifi analyzer for ubuntu?'}, {'intent': 'Software Recommendation', 'text': 'Is there any recovery software available for ext4?'}, {'intent': 'Software Recommendation', 'entities': [{'start': 34, 'end': 37, 'value': '12.04', 'entity': 'UbuntuVersion'}], 'text': 'Removing Recently used items in 12.04'}, {'intent': 'Software Recommendation', 'text': 'Is there a lightweight tool to crop images quickly?'}, {'intent': 'Software Recommendation', 'text': 'Is there LAN topology mapping software available in Ubuntu?'}, {'intent': 'Software Recommendation', 'text': 'UPNP / DLNA (client) player recommendations?'}, {'intent': 'Software Recommendation', 'text': 'What are some good ASCII art generators?'}, {'intent': 'Software Recommendation', 'text': 'PDF to word conversion software?'}, {'intent': 'Software Recommendation', 'text': 'What Is The Best HDR Software?'}, {'intent': 'Software Recommendation', 'text': 'Is there an application for reading mobi files?'}, {'intent': 'Software Recommendation', 'text': 'What are some good GUI binary viewers/editors?'}, {'intent': 'Software Recommendation', 'text': 'Which programs can I use to edit PDF files?'}, {'intent': 'Software Recommendation', 'entities': [{'start': 5, 'end': 8, 'value': 'IRC', 'entity': 'SoftwareName'}], 'text': 'What IRC clients are available?'}, {'intent': 'Software Recommendation', 'text': 'Any command line calculator for Ubuntu?'}, {'intent': 'Software Recommendation', 'text': 'What blog editor software are available?'}, {'intent': 'Software Recommendation', 'entities': [{'start': 15, 'end': 22, 'value': 'MongoDB', 'entity': 'SoftwareName'}], 'text': 'What is a good MongoDB GUI client?'}, {'intent': 'Software Recommendation', 'text': 'Is there an SSH connection manager?'}, {'intent': 'Software Recommendation', 'text': 'Is there any program for fuzzy string matching which provides a match score?'}, {'intent': 'Software Recommendation', 'text': 'Extracting embedded images from a PDF'}, {'intent': 'Software Recommendation', 'text': 'What scientific plotting software is available?'}, {'intent': 'Software Recommendation', 'text': 'Any app that tells me to take regular breaks from working?'}, {'intent': 'Software Recommendation', 'text': 'What tools do you use to monitor a web server?'}, {'intent': 'Software Recommendation', 'text': 'Password Management Applications?'}, {'intent': 'Software Recommendation', 'text': 'Please recommend a hex editor for shell'}, {'intent': 'Software Recommendation', 'text': 'What's the best Wireframing tool?'}, {'intent': 'Software Recommendation', 'text': 'What software can I use to view epub documents?'}, {'intent': 'Software Recommendation', 'text': 'Tool for recovering deleted data from a flash drive'}, {'intent': 'Software Recommendation', 'text': 'Is there a Linux file manager with a proper drop-down tree view? (like finder in OS X)'}, {'intent': 'Software Recommendation', 'text': 'Which application do you recommend for watching TV (DVB)?'}, {'intent': 'Software Recommendation', 'text': 'A light alternative to gnome-system-monitor?'}, {'intent': 'Software Recommendation', 'entities': [{'start': 65, 'end': 73, 'value': 'Project', 'entity': 'SoftwareName'}], 'text': 'Is there a project management software for Ubuntu like Microsoft Project?'}, {'intent': 'Software Recommendation', 'entities': [{'start': 24, 'end': 30, 'value': 'iTunes', 'entity': 'SoftwareName'}], 'text': 'Applications to replace iTunes for iPod synchronization?'}, {'intent': 'Software Recommendation', 'text': 'Wubi Device /dev/loop0 full. How to get more space?'}, {'intent': 'Software Recommendation', 'entities': [{'start': 21, 'end': 22, 'value': '6.06', 'entity': 'UbuntuVersion'}], 'text': 'On really old Ubuntu 6.06 - How to upgrade'}, {'intent': 'Software Recommendation', 'entities': [{'start': 32, 'end': 46, 'value': 'Lubuntu 15.04', 'entity': 'UbuntuVersion'}], 'text': 'Is it recommended to upgrade to Lubuntu 15.04?'}, {'intent': 'Software Recommendation', 'text': 'What to use to quickly cut Audio/Video'}, {'intent': 'Software Recommendation', 'text': 'What developer text editors are available for Ubuntu?'}, {'intent': 'Software Recommendation', 'text': 'Is there any software that will do face recognition in photos?'}, {'intent': 'Software Recommendation', 'text': 'What's a simple \"colour picker\" app for GNOME?'}, {'intent': 'Software Recommendation', 'text': 'Are there any hardware diagnostic tools?'}, {'intent': 'None', 'text': 'Torrent client for the command-line?'}, {'intent': 'None', 'text': 'How do I show grub when resuming from suspend?'}, {'intent': 'None', 'text': 'Is there a Document scanning and archiving software?'}, {'intent': 'None', 'text': 'How can I highlight or annotate PDFs?'}, {'intent': 'None', 'text': 'How is rm command different from the delete button?'}, {'intent': 'None', 'text': 'How to record my screen?'}, {'intent': 'Shutdown Computer', 'text': 'shutdown in specific way if no-one uses computer'}, {'intent': 'Shutdown Computer', 'text': 'How can I make shutdown not require admin password?'}, {'intent': 'Shutdown Computer', 'text': 'How do I shut down without the confirmation prompt?'}, {'intent': 'Shutdown Computer', 'text': 'My system doesn't go shutdown'}, {'intent': 'Shutdown Computer', 'text': 'what is the right way to shutdown ubuntu using the command line?'}, {'intent': 'Shutdown Computer', 'text': 'Ubuntu Shut down app'}, {'intent': 'Shutdown Computer', 'text': 'No action when shutdown pressed'}, {'intent': 'Shutdown Computer', 'text': 'How to shutdown the computer after Xsession ends?'}, {'intent': 'Shutdown Computer', 'text': 'What does my computer do when I click 'Shut Down'?'}, {'intent': 'Shutdown Computer', 'text': 'Are there any Keyboard Shortcuts to Shutdown?'}, {'intent': 'Shutdown Computer', 'text': 'How to Shut down Ubuntu by using keyboard?'}, {'intent': 'Shutdown Computer', 'text': 'How to shutdown computer when users are logged on?'}, {'intent': 'Shutdown Computer', 'text': 'How to troubleshoot slow shutdown?'}, {'intent': 'Shutdown Computer', 'entities': [{'start': 20, 'end': 32, 'value': 'Ubuntu 16.04', 'entity': 'UbuntuVersion'}], 'text': 'Shutdown problem in Ubuntu 16.04'}, {'intent': 'Shutdown Computer', 'text': 'Hotkey to shut down from login screen?'}, {'intent': 'Shutdown Computer', 'text': 'What graphical utility can I use for Ubuntu auto shutdown?'}, {'intent': 'Shutdown Computer', 'text': 'How do I fix a shutdown problem?'}, {'intent': 'Shutdown Computer', 'text': 'What is the command to open the shutdown dialog?'}, {'intent': 'Shutdown Computer', 'text': 'How can one shutdown a PC using the keyboard?'}, {'intent': 'Shutdown Computer', 'text': 'What is the proper terminal-way to shutdown?'}, {'intent': 'Shutdown Computer', 'text': 'shutdown 5:30pm every day'}, {'intent': 'Make Update', 'entities': [{'start': 13, 'end': 17, 'value': '9.10', 'entity': 'UbuntuVersion'}, {'start': 21, 'end': 26, 'value': '11.04', 'entity': 'UbuntuVersion'}], 'text': 'Upgrade from 9.10 to 11.04'}, {'intent': 'Make Update', 'entities': [{'start': 11, 'end': 23, 'value': '12.04 64 bit', 'entity': 'UbuntuVersion'}], 'text': 'Upgrade to 12.04 64 bit'}, {'intent': 'Make Update', 'entities': [{'start': 7, 'end': 12, 'value': '11.04', 'entity': 'UbuntuVersion'}, {'start': 16, 'end': 12, 'value': '12.04', 'entity': 'UbuntuVersion'}], 'text': 'Update 11.04 to 12.04 with LiveCD'}, {'intent': 'Make Update', 'entities': [{'start': 23, 'end': 28, 'value': '12.04', 'entity': 'UbuntuVersion'}, {'start': 23, 'end': 58, 'value': '12.04.1', 'entity': 'UbuntuVersion'}], 'text': 'Do I need to backup my 12.04 system to upgrade to 12.04.1?'}, {'intent': 'Make Update', 'entities': [{'start': 18, 'end': 23, 'value': '13.04', 'entity': 'UbuntuVersion'}], 'text': 'Ho do I update to 13.04 from the beta?'}, {'intent': 'Make Update', 'entities': [{'start': 14, 'end': 19, 'value': '12.10', 'entity': 'UbuntuVersion'}, {'start': 23, 'end': 28, 'value': '13.04', 'entity': 'UbuntuVersion'}], 'text': 'Force upgrade 12.10 to 13.04'}, {'intent': 'Make Update', 'entities': [{'start': 20, 'end': 29, 'value': '16.04 LTS', 'entity': 'UbuntuVersion'}, {'start': 20, 'end': 29, 'value': '16.04.1 LTS', 'entity': 'UbuntuVersion'}], 'text': 'How to upgrade from 16.04 LTS to 16.04.1 LTS'}, {'intent': 'Make Update', 'entities': [{'start': 43, 'end': 48, 'value': '16.04', 'entity': 'UbuntuVersion'}], 'text': 'How do I upgrade to the release version of 16.04 if I am running Beta?'}, {'intent': 'Make Update', 'entities': [{'start': 22, 'end': 27, 'value': '12.04', 'entity': 'UbuntuVersion'}, {'start': 31, 'end': 26, 'value': '13.10', 'entity': 'UbuntuVersion'}], 'text': 'Upgrading from ubuntu 12.04 to 13.10'}, {'intent': 'Make Update', 'entities': [{'start': 30, 'end': 35, 'value': '15.10', 'entity': 'UbuntuVersion'}, {'start': 41, 'end': 47, 'value': '14.04', 'entity': 'UbuntuVersion'}], 'text': 'Is it necessary to upgrade to 15.10 from 14.04?'}, {'intent': 'Make Update', 'entities': [{'start': 21, 'end': 26, 'value': '15.04', 'entity': 'UbuntuVersion'}], 'text': 'Doubts regarding the 15.04 upgrade (is it inevitable and unavoidable?)'}, {'intent': 'Make Update', 'entities': [{'start': 26, 'end': 31, 'value': '12.10', 'entity': 'UbuntuVersion'}, {'start': 35, 'end': 40, 'value': '13.04', 'entity': 'UbuntuVersion'}], 'text': 'Problems upgrading Ubuntu 12.10 to 13.04'}, {'intent': 'Make Update', 'entities': [{'start': 10, 'end': 15, 'value': '16.04', 'entity': 'UbuntuVersion'}, {'start': 10, 'end': 0, 'value': '16.04.1', 'entity': 'UbuntuVersion'}], 'text': 'Upgrading 16.04 to 16.04.1'}, {'intent': 'Make Update', 'entities': [{'start': 15, 'end': 20, 'value': '10.04', 'entity': 'UbuntuVersion'}, {'start': 24, 'end': 17, 'value': '11.10', 'entity': 'UbuntuVersion'}], 'text': 'Upgrading from 10.04 to 11.10'}, {'intent': 'Make Update', 'entities': [{'start': 20, 'end': 25, 'value': '12.10', 'entity': 'UbuntuVersion'}, {'start': 31, 'end': 31, 'value': '14.04', 'entity': 'UbuntuVersion'}], 'text': 'How to upgrade from 12.10 to 14.04'}, {'intent': 'Make Update', 'entities': [{'start': 27, 'end': 29, 'value': '10.10', 'entity': 'UbuntuVersion'}, {'start': 36, 'end': 42, 'value': '11.04', 'entity': 'UbuntuVersion'}], 'text': 'How to upgrade from Ubuntu 10.10 to 11.04?'}, {'intent': 'Make Update', 'entities': [{'start': 50, 'end': 55, 'value': '13.10', 'entity': 'UbuntuVersion'}, {'start': 59, 'end': 65, 'value': '14.10', 'entity': 'UbuntuVersion'}], 'text': 'Do I need to reinstall everything to upgrade from 13.10 to 14.10?'}, {'intent': 'Make Update', 'text': 'Upgrading From 11.04 (32bit) to 12.04 (64bit)'}, {'intent': 'Make Update', 'entities': [{'start': 8, 'end': 13, 'value': '12.04', 'entity': 'UbuntuVersion'}, {'start': 8, 'end': 12, 'value': '12.10', 'entity': 'UbuntuVersion'}], 'text': 'Upgrade 12.04 to 12.10 using startup disk'}, {'intent': 'Make Update', 'entities': [{'start': 13, 'end': 18, 'value': '12.04', 'entity': 'UbuntuVersion'}, {'start': 13, 'end': 17, 'value': '12.10', 'entity': 'UbuntuVersion'}], 'text': 'Upgrade from 12.04 to 12.10 without losing files?'}, {'intent': 'Make Update', 'entities': [{'start': 15, 'end': 20, 'value': '12.04', 'entity': 'UbuntuVersion'}, {'start': 24, 'end': 19, 'value': '13.10', 'entity': 'UbuntuVersion'}], 'text': 'Upgrading from 12.04 to 13.10 ( Unanswered questions )'}, {'intent': 'Make Update', 'entities': [{'start': 27, 'end': 36, 'value': '12.04 LTS', 'entity': 'UbuntuVersion'}, {'start': 40, 'end': 32, 'value': '13.04', 'entity': 'UbuntuVersion'}], 'text': 'Is it worth upgrading from 12.04 LTS to 13.04'}, {'intent': 'Make Update', 'entities': [{'start': 22, 'end': 24, 'value': '14.04', 'entity': 'UbuntuVersion'}, {'start': 31, 'end': 24, 'value': '15.04', 'entity': 'UbuntuVersion'}], 'text': 'Upgrading from Ubuntu 14.04 to 15.04'}, {'intent': 'Make Update', 'text': 'update-manager: upgrade to 15.04 rather than 16.04'}, {'intent': 'Make Update', 'entities': [{'start': 6, 'end': 11, 'value': '12.04', 'entity': 'UbuntuVersion'}, {'start': 48, 'end': 54, 'value': '10.04', 'entity': 'UbuntuVersion'}], 'text': 'Using 12.04 can I compile packages with gcc for 10.04?'}, {'intent': 'Make Update', 'entities': [{'start': 20, 'end': 25, 'value': '13.10', 'entity': 'UbuntuVersion'}, {'start': 20, 'end': 43, 'value': '13.04', 'entity': 'UbuntuVersion'}], 'text': 'upgrading to Ubuntu 13.10 from Ubuntu 13.04'}, {'intent': 'Make Update', 'entities': [{'start': 27, 'end': 32, 'value': '15.04', 'entity': 'UbuntuVersion'}, {'start': 27, 'end': 42, 'value': '15.10', 'entity': 'UbuntuVersion'}], 'text': 'how to upgrade from ubuntu 15.04 to 15.10?'}, {'intent': 'Make Update', 'entities': [{'start': 22, 'end': 0, 'value': '14.04.1', 'entity': 'UbuntuVersion'}, {'start': 22, 'end': 41, 'value': '14.04.2', 'entity': 'UbuntuVersion'}], 'text': 'How to upgrade Ubuntu 14.04.1 to 14.04.2?'}, ...]</td>\n",
       "    </tr>\n",
       "    <tr>\n",
       "      <th>entity_synonyms</th>\n",
       "      <td>[]</td>\n",
       "    </tr>\n",
       "    <tr>\n",
       "      <th>lookup_tables</th>\n",
       "      <td>[]</td>\n",
       "    </tr>\n",
       "    <tr>\n",
       "      <th>regex_features</th>\n",
       "      <td>[]</td>\n",
       "    </tr>\n",
       "  </tbody>\n",
       "</table>\n",
       "</div>"
      ],
      "text/plain": [
       "                                                                                                                                                                                                                                                                                                                                                                                                                                                                                                                                                                                                                                                                                                                                                                                                                                                                                                                                                                                                                                                                                                                                                                                                                                                                                                                                                                                                                                                                                                                                                                                                                                                                                                                                                                                                                                                                                                                                                                                                                                                                                                                                                                                                                                                                                                                                                                                                                                                                                                                                                                                                                                                                                                                                                                                                                                                                                                                                                                                                                                                                                                                                                                                                                                                                                                                                                                                                                                                                                                                                                                                                                                                                                                                                                                                                                                                                                                                                                                                                                                                                                                                                                                                                                                                                                                                                                                                                                                                                                                                                                                                                                                                                                                                                                                                                                                                                                                                                                                                                                                                                                                                                                                                                                                                                                                                                                                                                                                                                                                                                                                                                                                                                                                                                                                                                                                                                                                                                                                                                                                                                                                                                                                                                                                                                                                                                                                                                                                                                                                                                                                                                                                                                                                                                                                                                                                                                                                                                                                                                                                                                                                                                                                                                                                                                                                                                                                                                                                                                                                                                                                                                                                                                                                                                                                                                                                                                                                                                                                                                                                                                                                                                                                                                                                                                                                                                                                                                                                                                                                                                                                                                                                                                                                                                                                                                                                                                                                                                                                                                                                                                                                                                                                                                                                                                                                                                                                                                                                                                                                                                                                                                                                                                                                                                                                                                                                                                                                                                                                                                                                                                                                                                                                                                                                                                                                                                                                                                                                                                                                                                                                                                                                                                                                                                                                                                                                                                                                                                                                                                                                                                                                                                                                                                                                                                                                                                                                                                                                                                                                                                                                                                                                                                                                                                                                                                                                                                                                                                                                                                                                                                                                                                                                                                                                                                                                                                                                                                                                                                                                                                                                                                                                                                                                                                                                                                                                                                                                                                                                                                                                                                                                                                                                                                                                                                                                                                                                                                                                                                                                                                                                                                                                                                                                                                                                                                                                                                                                                                                                                                  rasa_nlu_data\n",
       "common_examples  [{'intent': 'Software Recommendation', 'text': 'What's the best Mind Mapping Software?'}, {'intent': 'Software Recommendation', 'text': 'Software to read a QR code?'}, {'intent': 'Software Recommendation', 'text': 'Is there software that can view .dwg files?'}, {'intent': 'Software Recommendation', 'text': 'Can you recommend a password generator?'}, {'intent': 'Software Recommendation', 'text': 'Is there a software utility to adjust screen gamma/brightness/contrast?'}, {'intent': 'Software Recommendation', 'text': 'Is there a tool like wifi analyzer for ubuntu?'}, {'intent': 'Software Recommendation', 'text': 'Is there any recovery software available for ext4?'}, {'intent': 'Software Recommendation', 'entities': [{'start': 34, 'end': 37, 'value': '12.04', 'entity': 'UbuntuVersion'}], 'text': 'Removing Recently used items in 12.04'}, {'intent': 'Software Recommendation', 'text': 'Is there a lightweight tool to crop images quickly?'}, {'intent': 'Software Recommendation', 'text': 'Is there LAN topology mapping software available in Ubuntu?'}, {'intent': 'Software Recommendation', 'text': 'UPNP / DLNA (client) player recommendations?'}, {'intent': 'Software Recommendation', 'text': 'What are some good ASCII art generators?'}, {'intent': 'Software Recommendation', 'text': 'PDF to word conversion software?'}, {'intent': 'Software Recommendation', 'text': 'What Is The Best HDR Software?'}, {'intent': 'Software Recommendation', 'text': 'Is there an application for reading mobi files?'}, {'intent': 'Software Recommendation', 'text': 'What are some good GUI binary viewers/editors?'}, {'intent': 'Software Recommendation', 'text': 'Which programs can I use to edit PDF files?'}, {'intent': 'Software Recommendation', 'entities': [{'start': 5, 'end': 8, 'value': 'IRC', 'entity': 'SoftwareName'}], 'text': 'What IRC clients are available?'}, {'intent': 'Software Recommendation', 'text': 'Any command line calculator for Ubuntu?'}, {'intent': 'Software Recommendation', 'text': 'What blog editor software are available?'}, {'intent': 'Software Recommendation', 'entities': [{'start': 15, 'end': 22, 'value': 'MongoDB', 'entity': 'SoftwareName'}], 'text': 'What is a good MongoDB GUI client?'}, {'intent': 'Software Recommendation', 'text': 'Is there an SSH connection manager?'}, {'intent': 'Software Recommendation', 'text': 'Is there any program for fuzzy string matching which provides a match score?'}, {'intent': 'Software Recommendation', 'text': 'Extracting embedded images from a PDF'}, {'intent': 'Software Recommendation', 'text': 'What scientific plotting software is available?'}, {'intent': 'Software Recommendation', 'text': 'Any app that tells me to take regular breaks from working?'}, {'intent': 'Software Recommendation', 'text': 'What tools do you use to monitor a web server?'}, {'intent': 'Software Recommendation', 'text': 'Password Management Applications?'}, {'intent': 'Software Recommendation', 'text': 'Please recommend a hex editor for shell'}, {'intent': 'Software Recommendation', 'text': 'What's the best Wireframing tool?'}, {'intent': 'Software Recommendation', 'text': 'What software can I use to view epub documents?'}, {'intent': 'Software Recommendation', 'text': 'Tool for recovering deleted data from a flash drive'}, {'intent': 'Software Recommendation', 'text': 'Is there a Linux file manager with a proper drop-down tree view? (like finder in OS X)'}, {'intent': 'Software Recommendation', 'text': 'Which application do you recommend for watching TV (DVB)?'}, {'intent': 'Software Recommendation', 'text': 'A light alternative to gnome-system-monitor?'}, {'intent': 'Software Recommendation', 'entities': [{'start': 65, 'end': 73, 'value': 'Project', 'entity': 'SoftwareName'}], 'text': 'Is there a project management software for Ubuntu like Microsoft Project?'}, {'intent': 'Software Recommendation', 'entities': [{'start': 24, 'end': 30, 'value': 'iTunes', 'entity': 'SoftwareName'}], 'text': 'Applications to replace iTunes for iPod synchronization?'}, {'intent': 'Software Recommendation', 'text': 'Wubi Device /dev/loop0 full. How to get more space?'}, {'intent': 'Software Recommendation', 'entities': [{'start': 21, 'end': 22, 'value': '6.06', 'entity': 'UbuntuVersion'}], 'text': 'On really old Ubuntu 6.06 - How to upgrade'}, {'intent': 'Software Recommendation', 'entities': [{'start': 32, 'end': 46, 'value': 'Lubuntu 15.04', 'entity': 'UbuntuVersion'}], 'text': 'Is it recommended to upgrade to Lubuntu 15.04?'}, {'intent': 'Software Recommendation', 'text': 'What to use to quickly cut Audio/Video'}, {'intent': 'Software Recommendation', 'text': 'What developer text editors are available for Ubuntu?'}, {'intent': 'Software Recommendation', 'text': 'Is there any software that will do face recognition in photos?'}, {'intent': 'Software Recommendation', 'text': 'What's a simple \"colour picker\" app for GNOME?'}, {'intent': 'Software Recommendation', 'text': 'Are there any hardware diagnostic tools?'}, {'intent': 'None', 'text': 'Torrent client for the command-line?'}, {'intent': 'None', 'text': 'How do I show grub when resuming from suspend?'}, {'intent': 'None', 'text': 'Is there a Document scanning and archiving software?'}, {'intent': 'None', 'text': 'How can I highlight or annotate PDFs?'}, {'intent': 'None', 'text': 'How is rm command different from the delete button?'}, {'intent': 'None', 'text': 'How to record my screen?'}, {'intent': 'Shutdown Computer', 'text': 'shutdown in specific way if no-one uses computer'}, {'intent': 'Shutdown Computer', 'text': 'How can I make shutdown not require admin password?'}, {'intent': 'Shutdown Computer', 'text': 'How do I shut down without the confirmation prompt?'}, {'intent': 'Shutdown Computer', 'text': 'My system doesn't go shutdown'}, {'intent': 'Shutdown Computer', 'text': 'what is the right way to shutdown ubuntu using the command line?'}, {'intent': 'Shutdown Computer', 'text': 'Ubuntu Shut down app'}, {'intent': 'Shutdown Computer', 'text': 'No action when shutdown pressed'}, {'intent': 'Shutdown Computer', 'text': 'How to shutdown the computer after Xsession ends?'}, {'intent': 'Shutdown Computer', 'text': 'What does my computer do when I click 'Shut Down'?'}, {'intent': 'Shutdown Computer', 'text': 'Are there any Keyboard Shortcuts to Shutdown?'}, {'intent': 'Shutdown Computer', 'text': 'How to Shut down Ubuntu by using keyboard?'}, {'intent': 'Shutdown Computer', 'text': 'How to shutdown computer when users are logged on?'}, {'intent': 'Shutdown Computer', 'text': 'How to troubleshoot slow shutdown?'}, {'intent': 'Shutdown Computer', 'entities': [{'start': 20, 'end': 32, 'value': 'Ubuntu 16.04', 'entity': 'UbuntuVersion'}], 'text': 'Shutdown problem in Ubuntu 16.04'}, {'intent': 'Shutdown Computer', 'text': 'Hotkey to shut down from login screen?'}, {'intent': 'Shutdown Computer', 'text': 'What graphical utility can I use for Ubuntu auto shutdown?'}, {'intent': 'Shutdown Computer', 'text': 'How do I fix a shutdown problem?'}, {'intent': 'Shutdown Computer', 'text': 'What is the command to open the shutdown dialog?'}, {'intent': 'Shutdown Computer', 'text': 'How can one shutdown a PC using the keyboard?'}, {'intent': 'Shutdown Computer', 'text': 'What is the proper terminal-way to shutdown?'}, {'intent': 'Shutdown Computer', 'text': 'shutdown 5:30pm every day'}, {'intent': 'Make Update', 'entities': [{'start': 13, 'end': 17, 'value': '9.10', 'entity': 'UbuntuVersion'}, {'start': 21, 'end': 26, 'value': '11.04', 'entity': 'UbuntuVersion'}], 'text': 'Upgrade from 9.10 to 11.04'}, {'intent': 'Make Update', 'entities': [{'start': 11, 'end': 23, 'value': '12.04 64 bit', 'entity': 'UbuntuVersion'}], 'text': 'Upgrade to 12.04 64 bit'}, {'intent': 'Make Update', 'entities': [{'start': 7, 'end': 12, 'value': '11.04', 'entity': 'UbuntuVersion'}, {'start': 16, 'end': 12, 'value': '12.04', 'entity': 'UbuntuVersion'}], 'text': 'Update 11.04 to 12.04 with LiveCD'}, {'intent': 'Make Update', 'entities': [{'start': 23, 'end': 28, 'value': '12.04', 'entity': 'UbuntuVersion'}, {'start': 23, 'end': 58, 'value': '12.04.1', 'entity': 'UbuntuVersion'}], 'text': 'Do I need to backup my 12.04 system to upgrade to 12.04.1?'}, {'intent': 'Make Update', 'entities': [{'start': 18, 'end': 23, 'value': '13.04', 'entity': 'UbuntuVersion'}], 'text': 'Ho do I update to 13.04 from the beta?'}, {'intent': 'Make Update', 'entities': [{'start': 14, 'end': 19, 'value': '12.10', 'entity': 'UbuntuVersion'}, {'start': 23, 'end': 28, 'value': '13.04', 'entity': 'UbuntuVersion'}], 'text': 'Force upgrade 12.10 to 13.04'}, {'intent': 'Make Update', 'entities': [{'start': 20, 'end': 29, 'value': '16.04 LTS', 'entity': 'UbuntuVersion'}, {'start': 20, 'end': 29, 'value': '16.04.1 LTS', 'entity': 'UbuntuVersion'}], 'text': 'How to upgrade from 16.04 LTS to 16.04.1 LTS'}, {'intent': 'Make Update', 'entities': [{'start': 43, 'end': 48, 'value': '16.04', 'entity': 'UbuntuVersion'}], 'text': 'How do I upgrade to the release version of 16.04 if I am running Beta?'}, {'intent': 'Make Update', 'entities': [{'start': 22, 'end': 27, 'value': '12.04', 'entity': 'UbuntuVersion'}, {'start': 31, 'end': 26, 'value': '13.10', 'entity': 'UbuntuVersion'}], 'text': 'Upgrading from ubuntu 12.04 to 13.10'}, {'intent': 'Make Update', 'entities': [{'start': 30, 'end': 35, 'value': '15.10', 'entity': 'UbuntuVersion'}, {'start': 41, 'end': 47, 'value': '14.04', 'entity': 'UbuntuVersion'}], 'text': 'Is it necessary to upgrade to 15.10 from 14.04?'}, {'intent': 'Make Update', 'entities': [{'start': 21, 'end': 26, 'value': '15.04', 'entity': 'UbuntuVersion'}], 'text': 'Doubts regarding the 15.04 upgrade (is it inevitable and unavoidable?)'}, {'intent': 'Make Update', 'entities': [{'start': 26, 'end': 31, 'value': '12.10', 'entity': 'UbuntuVersion'}, {'start': 35, 'end': 40, 'value': '13.04', 'entity': 'UbuntuVersion'}], 'text': 'Problems upgrading Ubuntu 12.10 to 13.04'}, {'intent': 'Make Update', 'entities': [{'start': 10, 'end': 15, 'value': '16.04', 'entity': 'UbuntuVersion'}, {'start': 10, 'end': 0, 'value': '16.04.1', 'entity': 'UbuntuVersion'}], 'text': 'Upgrading 16.04 to 16.04.1'}, {'intent': 'Make Update', 'entities': [{'start': 15, 'end': 20, 'value': '10.04', 'entity': 'UbuntuVersion'}, {'start': 24, 'end': 17, 'value': '11.10', 'entity': 'UbuntuVersion'}], 'text': 'Upgrading from 10.04 to 11.10'}, {'intent': 'Make Update', 'entities': [{'start': 20, 'end': 25, 'value': '12.10', 'entity': 'UbuntuVersion'}, {'start': 31, 'end': 31, 'value': '14.04', 'entity': 'UbuntuVersion'}], 'text': 'How to upgrade from 12.10 to 14.04'}, {'intent': 'Make Update', 'entities': [{'start': 27, 'end': 29, 'value': '10.10', 'entity': 'UbuntuVersion'}, {'start': 36, 'end': 42, 'value': '11.04', 'entity': 'UbuntuVersion'}], 'text': 'How to upgrade from Ubuntu 10.10 to 11.04?'}, {'intent': 'Make Update', 'entities': [{'start': 50, 'end': 55, 'value': '13.10', 'entity': 'UbuntuVersion'}, {'start': 59, 'end': 65, 'value': '14.10', 'entity': 'UbuntuVersion'}], 'text': 'Do I need to reinstall everything to upgrade from 13.10 to 14.10?'}, {'intent': 'Make Update', 'text': 'Upgrading From 11.04 (32bit) to 12.04 (64bit)'}, {'intent': 'Make Update', 'entities': [{'start': 8, 'end': 13, 'value': '12.04', 'entity': 'UbuntuVersion'}, {'start': 8, 'end': 12, 'value': '12.10', 'entity': 'UbuntuVersion'}], 'text': 'Upgrade 12.04 to 12.10 using startup disk'}, {'intent': 'Make Update', 'entities': [{'start': 13, 'end': 18, 'value': '12.04', 'entity': 'UbuntuVersion'}, {'start': 13, 'end': 17, 'value': '12.10', 'entity': 'UbuntuVersion'}], 'text': 'Upgrade from 12.04 to 12.10 without losing files?'}, {'intent': 'Make Update', 'entities': [{'start': 15, 'end': 20, 'value': '12.04', 'entity': 'UbuntuVersion'}, {'start': 24, 'end': 19, 'value': '13.10', 'entity': 'UbuntuVersion'}], 'text': 'Upgrading from 12.04 to 13.10 ( Unanswered questions )'}, {'intent': 'Make Update', 'entities': [{'start': 27, 'end': 36, 'value': '12.04 LTS', 'entity': 'UbuntuVersion'}, {'start': 40, 'end': 32, 'value': '13.04', 'entity': 'UbuntuVersion'}], 'text': 'Is it worth upgrading from 12.04 LTS to 13.04'}, {'intent': 'Make Update', 'entities': [{'start': 22, 'end': 24, 'value': '14.04', 'entity': 'UbuntuVersion'}, {'start': 31, 'end': 24, 'value': '15.04', 'entity': 'UbuntuVersion'}], 'text': 'Upgrading from Ubuntu 14.04 to 15.04'}, {'intent': 'Make Update', 'text': 'update-manager: upgrade to 15.04 rather than 16.04'}, {'intent': 'Make Update', 'entities': [{'start': 6, 'end': 11, 'value': '12.04', 'entity': 'UbuntuVersion'}, {'start': 48, 'end': 54, 'value': '10.04', 'entity': 'UbuntuVersion'}], 'text': 'Using 12.04 can I compile packages with gcc for 10.04?'}, {'intent': 'Make Update', 'entities': [{'start': 20, 'end': 25, 'value': '13.10', 'entity': 'UbuntuVersion'}, {'start': 20, 'end': 43, 'value': '13.04', 'entity': 'UbuntuVersion'}], 'text': 'upgrading to Ubuntu 13.10 from Ubuntu 13.04'}, {'intent': 'Make Update', 'entities': [{'start': 27, 'end': 32, 'value': '15.04', 'entity': 'UbuntuVersion'}, {'start': 27, 'end': 42, 'value': '15.10', 'entity': 'UbuntuVersion'}], 'text': 'how to upgrade from ubuntu 15.04 to 15.10?'}, {'intent': 'Make Update', 'entities': [{'start': 22, 'end': 0, 'value': '14.04.1', 'entity': 'UbuntuVersion'}, {'start': 22, 'end': 41, 'value': '14.04.2', 'entity': 'UbuntuVersion'}], 'text': 'How to upgrade Ubuntu 14.04.1 to 14.04.2?'}, ...]\n",
       "entity_synonyms  []                                                                                                                                                                                                                                                                                                                                                                                                                                                                                                                                                                                                                                                                                                                                                                                                                                                                                                                                                                                                                                                                                                                                                                                                                                                                                                                                                                                                                                                                                                                                                                                                                                                                                                                                                                                                                                                                                                                                                                                                                                                                                                                                                                                                                                                                                                                                                                                                                                                                                                                                                                                                                                                                                                                                                                                                                                                                                                                                                                                                                                                                                                                                                                                                                                                                                                                                                                                                                                                                                                                                                                                                                                                                                                                                                                                                                                                                                                                                                                                                                                                                                                                                                                                                                                                                                                                                                                                                                                                                                                                                                                                                                                                                                                                                                                                                                                                                                                                                                                                                                                                                                                                                                                                                                                                                                                                                                                                                                                                                                                                                                                                                                                                                                                                                                                                                                                                                                                                                                                                                                                                                                                                                                                                                                                                                                                                                                                                                                                                                                                                                                                                                                                                                                                                                                                                                                                                                                                                                                                                                                                                                                                                                                                                                                                                                                                                                                                                                                                                                                                                                                                                                                                                                                                                                                                                                                                                                                                                                                                                                                                                                                                                                                                                                                                                                                                                                                                                                                                                                                                                                                                                                                                                                                                                                                                                                                                                                                                                                                                                                                                                                                                                                                                                                                                                                                                                                                                                                                                                                                                                                                                                                                                                                                                                                                                                                                                                                                                                                                                                                                                                                                                                                                                                                                                                                                                                                                                                                                                                                                                                                                                                                                                                                                                                                                                                                                                                                                                                                                                                                                                                                                                                                                                                                                                                                                                                                                                                                                                                                                                                                                                                                                                                                                                                                                                                                                                                                                                                                                                                                                                                                                                                                                                                                                                                                                                                                                                                                                                                                                                                                                                                                                                                                                                                                                                                                                                                                                                                                                                                                                                                                                                                                                                                                                                                                                                                                                                                                                                                                                                                                                                                                                                                                                                                                                                                                                                                                                                                                                                                            \n",
       "lookup_tables    []                                                                                                                                                                                                                                                                                                                                                                                                                                                                                                                                                                                                                                                                                                                                                                                                                                                                                                                                                                                                                                                                                                                                                                                                                                                                                                                                                                                                                                                                                                                                                                                                                                                                                                                                                                                                                                                                                                                                                                                                                                                                                                                                                                                                                                                                                                                                                                                                                                                                                                                                                                                                                                                                                                                                                                                                                                                                                                                                                                                                                                                                                                                                                                                                                                                                                                                                                                                                                                                                                                                                                                                                                                                                                                                                                                                                                                                                                                                                                                                                                                                                                                                                                                                                                                                                                                                                                                                                                                                                                                                                                                                                                                                                                                                                                                                                                                                                                                                                                                                                                                                                                                                                                                                                                                                                                                                                                                                                                                                                                                                                                                                                                                                                                                                                                                                                                                                                                                                                                                                                                                                                                                                                                                                                                                                                                                                                                                                                                                                                                                                                                                                                                                                                                                                                                                                                                                                                                                                                                                                                                                                                                                                                                                                                                                                                                                                                                                                                                                                                                                                                                                                                                                                                                                                                                                                                                                                                                                                                                                                                                                                                                                                                                                                                                                                                                                                                                                                                                                                                                                                                                                                                                                                                                                                                                                                                                                                                                                                                                                                                                                                                                                                                                                                                                                                                                                                                                                                                                                                                                                                                                                                                                                                                                                                                                                                                                                                                                                                                                                                                                                                                                                                                                                                                                                                                                                                                                                                                                                                                                                                                                                                                                                                                                                                                                                                                                                                                                                                                                                                                                                                                                                                                                                                                                                                                                                                                                                                                                                                                                                                                                                                                                                                                                                                                                                                                                                                                                                                                                                                                                                                                                                                                                                                                                                                                                                                                                                                                                                                                                                                                                                                                                                                                                                                                                                                                                                                                                                                                                                                                                                                                                                                                                                                                                                                                                                                                                                                                                                                                                                                                                                                                                                                                                                                                                                                                                                                                                                                                                                                            \n",
       "regex_features   []                                                                                                                                                                                                                                                                                                                                                                                                                                                                                                                                                                                                                                                                                                                                                                                                                                                                                                                                                                                                                                                                                                                                                                                                                                                                                                                                                                                                                                                                                                                                                                                                                                                                                                                                                                                                                                                                                                                                                                                                                                                                                                                                                                                                                                                                                                                                                                                                                                                                                                                                                                                                                                                                                                                                                                                                                                                                                                                                                                                                                                                                                                                                                                                                                                                                                                                                                                                                                                                                                                                                                                                                                                                                                                                                                                                                                                                                                                                                                                                                                                                                                                                                                                                                                                                                                                                                                                                                                                                                                                                                                                                                                                                                                                                                                                                                                                                                                                                                                                                                                                                                                                                                                                                                                                                                                                                                                                                                                                                                                                                                                                                                                                                                                                                                                                                                                                                                                                                                                                                                                                                                                                                                                                                                                                                                                                                                                                                                                                                                                                                                                                                                                                                                                                                                                                                                                                                                                                                                                                                                                                                                                                                                                                                                                                                                                                                                                                                                                                                                                                                                                                                                                                                                                                                                                                                                                                                                                                                                                                                                                                                                                                                                                                                                                                                                                                                                                                                                                                                                                                                                                                                                                                                                                                                                                                                                                                                                                                                                                                                                                                                                                                                                                                                                                                                                                                                                                                                                                                                                                                                                                                                                                                                                                                                                                                                                                                                                                                                                                                                                                                                                                                                                                                                                                                                                                                                                                                                                                                                                                                                                                                                                                                                                                                                                                                                                                                                                                                                                                                                                                                                                                                                                                                                                                                                                                                                                                                                                                                                                                                                                                                                                                                                                                                                                                                                                                                                                                                                                                                                                                                                                                                                                                                                                                                                                                                                                                                                                                                                                                                                                                                                                                                                                                                                                                                                                                                                                                                                                                                                                                                                                                                                                                                                                                                                                                                                                                                                                                                                                                                                                                                                                                                                                                                                                                                                                                                                                                                                                                                                            "
      ]
     },
     "execution_count": 16,
     "metadata": {},
     "output_type": "execute_result"
    }
   ],
   "source": [
    "df.head()"
   ]
  },
  {
   "cell_type": "code",
   "execution_count": 20,
   "metadata": {},
   "outputs": [],
   "source": [
    "examples = df['rasa_nlu_data']['common_examples']"
   ]
  },
  {
   "cell_type": "code",
   "execution_count": 23,
   "metadata": {},
   "outputs": [
    {
     "data": {
      "text/plain": [
       "[{'intent': 'Software Recommendation',\n",
       "  'text': \"What's the best Mind Mapping Software?\"},\n",
       " {'intent': 'Software Recommendation', 'text': 'Software to read a QR code?'},\n",
       " {'intent': 'Software Recommendation',\n",
       "  'text': 'Is there software that can view .dwg files?'}]"
      ]
     },
     "execution_count": 23,
     "metadata": {},
     "output_type": "execute_result"
    }
   ],
   "source": [
    "examples[:3]"
   ]
  },
  {
   "cell_type": "code",
   "execution_count": 29,
   "metadata": {},
   "outputs": [],
   "source": [
    "intents = pd.DataFrame(examples)"
   ]
  },
  {
   "cell_type": "code",
   "execution_count": 30,
   "metadata": {},
   "outputs": [
    {
     "data": {
      "text/html": [
       "<div>\n",
       "<style scoped>\n",
       "    .dataframe tbody tr th:only-of-type {\n",
       "        vertical-align: middle;\n",
       "    }\n",
       "\n",
       "    .dataframe tbody tr th {\n",
       "        vertical-align: top;\n",
       "    }\n",
       "\n",
       "    .dataframe thead th {\n",
       "        text-align: right;\n",
       "    }\n",
       "</style>\n",
       "<table border=\"1\" class=\"dataframe\">\n",
       "  <thead>\n",
       "    <tr style=\"text-align: right;\">\n",
       "      <th></th>\n",
       "      <th>entities</th>\n",
       "      <th>intent</th>\n",
       "      <th>text</th>\n",
       "    </tr>\n",
       "  </thead>\n",
       "  <tbody>\n",
       "    <tr>\n",
       "      <th>0</th>\n",
       "      <td>NaN</td>\n",
       "      <td>Software Recommendation</td>\n",
       "      <td>What's the best Mind Mapping Software?</td>\n",
       "    </tr>\n",
       "    <tr>\n",
       "      <th>1</th>\n",
       "      <td>NaN</td>\n",
       "      <td>Software Recommendation</td>\n",
       "      <td>Software to read a QR code?</td>\n",
       "    </tr>\n",
       "    <tr>\n",
       "      <th>2</th>\n",
       "      <td>NaN</td>\n",
       "      <td>Software Recommendation</td>\n",
       "      <td>Is there software that can view .dwg files?</td>\n",
       "    </tr>\n",
       "    <tr>\n",
       "      <th>3</th>\n",
       "      <td>NaN</td>\n",
       "      <td>Software Recommendation</td>\n",
       "      <td>Can you recommend a password generator?</td>\n",
       "    </tr>\n",
       "    <tr>\n",
       "      <th>4</th>\n",
       "      <td>NaN</td>\n",
       "      <td>Software Recommendation</td>\n",
       "      <td>Is there a software utility to adjust screen gamma/brightness/contrast?</td>\n",
       "    </tr>\n",
       "    <tr>\n",
       "      <th>5</th>\n",
       "      <td>NaN</td>\n",
       "      <td>Software Recommendation</td>\n",
       "      <td>Is there a tool like wifi analyzer for ubuntu?</td>\n",
       "    </tr>\n",
       "    <tr>\n",
       "      <th>6</th>\n",
       "      <td>NaN</td>\n",
       "      <td>Software Recommendation</td>\n",
       "      <td>Is there any recovery software available for ext4?</td>\n",
       "    </tr>\n",
       "    <tr>\n",
       "      <th>7</th>\n",
       "      <td>[{'start': 34, 'end': 37, 'value': '12.04', 'entity': 'UbuntuVersion'}]</td>\n",
       "      <td>Software Recommendation</td>\n",
       "      <td>Removing Recently used items in 12.04</td>\n",
       "    </tr>\n",
       "    <tr>\n",
       "      <th>8</th>\n",
       "      <td>NaN</td>\n",
       "      <td>Software Recommendation</td>\n",
       "      <td>Is there a lightweight tool to crop images quickly?</td>\n",
       "    </tr>\n",
       "    <tr>\n",
       "      <th>9</th>\n",
       "      <td>NaN</td>\n",
       "      <td>Software Recommendation</td>\n",
       "      <td>Is there LAN topology mapping software available in Ubuntu?</td>\n",
       "    </tr>\n",
       "  </tbody>\n",
       "</table>\n",
       "</div>"
      ],
      "text/plain": [
       "                                                                  entities  \\\n",
       "0  NaN                                                                       \n",
       "1  NaN                                                                       \n",
       "2  NaN                                                                       \n",
       "3  NaN                                                                       \n",
       "4  NaN                                                                       \n",
       "5  NaN                                                                       \n",
       "6  NaN                                                                       \n",
       "7  [{'start': 34, 'end': 37, 'value': '12.04', 'entity': 'UbuntuVersion'}]   \n",
       "8  NaN                                                                       \n",
       "9  NaN                                                                       \n",
       "\n",
       "                    intent  \\\n",
       "0  Software Recommendation   \n",
       "1  Software Recommendation   \n",
       "2  Software Recommendation   \n",
       "3  Software Recommendation   \n",
       "4  Software Recommendation   \n",
       "5  Software Recommendation   \n",
       "6  Software Recommendation   \n",
       "7  Software Recommendation   \n",
       "8  Software Recommendation   \n",
       "9  Software Recommendation   \n",
       "\n",
       "                                                                      text  \n",
       "0  What's the best Mind Mapping Software?                                   \n",
       "1  Software to read a QR code?                                              \n",
       "2  Is there software that can view .dwg files?                              \n",
       "3  Can you recommend a password generator?                                  \n",
       "4  Is there a software utility to adjust screen gamma/brightness/contrast?  \n",
       "5  Is there a tool like wifi analyzer for ubuntu?                           \n",
       "6  Is there any recovery software available for ext4?                       \n",
       "7  Removing Recently used items in 12.04                                    \n",
       "8  Is there a lightweight tool to crop images quickly?                      \n",
       "9  Is there LAN topology mapping software available in Ubuntu?              "
      ]
     },
     "execution_count": 30,
     "metadata": {},
     "output_type": "execute_result"
    }
   ],
   "source": [
    "intents.head(10)"
   ]
  },
  {
   "cell_type": "code",
   "execution_count": 31,
   "metadata": {},
   "outputs": [
    {
     "data": {
      "text/html": [
       "<div>\n",
       "<style scoped>\n",
       "    .dataframe tbody tr th:only-of-type {\n",
       "        vertical-align: middle;\n",
       "    }\n",
       "\n",
       "    .dataframe tbody tr th {\n",
       "        vertical-align: top;\n",
       "    }\n",
       "\n",
       "    .dataframe thead th {\n",
       "        text-align: right;\n",
       "    }\n",
       "</style>\n",
       "<table border=\"1\" class=\"dataframe\">\n",
       "  <thead>\n",
       "    <tr style=\"text-align: right;\">\n",
       "      <th></th>\n",
       "      <th>entities</th>\n",
       "      <th>intent</th>\n",
       "      <th>text</th>\n",
       "    </tr>\n",
       "  </thead>\n",
       "  <tbody>\n",
       "    <tr>\n",
       "      <th>count</th>\n",
       "      <td>58</td>\n",
       "      <td>127</td>\n",
       "      <td>127</td>\n",
       "    </tr>\n",
       "    <tr>\n",
       "      <th>unique</th>\n",
       "      <td>58</td>\n",
       "      <td>5</td>\n",
       "      <td>127</td>\n",
       "    </tr>\n",
       "    <tr>\n",
       "      <th>top</th>\n",
       "      <td>[{'start': 17, 'end': 52, 'value': 'Brother MFC-5890CN', 'entity': 'Printer'}]</td>\n",
       "      <td>Software Recommendation</td>\n",
       "      <td>What is a good MongoDB GUI client?</td>\n",
       "    </tr>\n",
       "    <tr>\n",
       "      <th>freq</th>\n",
       "      <td>1</td>\n",
       "      <td>45</td>\n",
       "      <td>1</td>\n",
       "    </tr>\n",
       "  </tbody>\n",
       "</table>\n",
       "</div>"
      ],
      "text/plain": [
       "                                                                              entities  \\\n",
       "count   58                                                                               \n",
       "unique  58                                                                               \n",
       "top     [{'start': 17, 'end': 52, 'value': 'Brother MFC-5890CN', 'entity': 'Printer'}]   \n",
       "freq    1                                                                                \n",
       "\n",
       "                         intent                                text  \n",
       "count   127                      127                                 \n",
       "unique  5                        127                                 \n",
       "top     Software Recommendation  What is a good MongoDB GUI client?  \n",
       "freq    45                       1                                   "
      ]
     },
     "execution_count": 31,
     "metadata": {},
     "output_type": "execute_result"
    }
   ],
   "source": [
    "intents.describe()"
   ]
  },
  {
   "cell_type": "markdown",
   "metadata": {},
   "source": [
    "### We have uneven classes and very little data but so is life..."
   ]
  },
  {
   "cell_type": "code",
   "execution_count": 32,
   "metadata": {},
   "outputs": [
    {
     "data": {
      "text/html": [
       "<div>\n",
       "<style scoped>\n",
       "    .dataframe tbody tr th:only-of-type {\n",
       "        vertical-align: middle;\n",
       "    }\n",
       "\n",
       "    .dataframe tbody tr th {\n",
       "        vertical-align: top;\n",
       "    }\n",
       "\n",
       "    .dataframe thead th {\n",
       "        text-align: right;\n",
       "    }\n",
       "</style>\n",
       "<table border=\"1\" class=\"dataframe\">\n",
       "  <thead>\n",
       "    <tr style=\"text-align: right;\">\n",
       "      <th></th>\n",
       "      <th>entities</th>\n",
       "      <th>text</th>\n",
       "    </tr>\n",
       "    <tr>\n",
       "      <th>intent</th>\n",
       "      <th></th>\n",
       "      <th></th>\n",
       "    </tr>\n",
       "  </thead>\n",
       "  <tbody>\n",
       "    <tr>\n",
       "      <th>Make Update</th>\n",
       "      <td>34</td>\n",
       "      <td>37</td>\n",
       "    </tr>\n",
       "    <tr>\n",
       "      <th>None</th>\n",
       "      <td>0</td>\n",
       "      <td>6</td>\n",
       "    </tr>\n",
       "    <tr>\n",
       "      <th>Setup Printer</th>\n",
       "      <td>16</td>\n",
       "      <td>18</td>\n",
       "    </tr>\n",
       "    <tr>\n",
       "      <th>Shutdown Computer</th>\n",
       "      <td>1</td>\n",
       "      <td>21</td>\n",
       "    </tr>\n",
       "    <tr>\n",
       "      <th>Software Recommendation</th>\n",
       "      <td>7</td>\n",
       "      <td>45</td>\n",
       "    </tr>\n",
       "  </tbody>\n",
       "</table>\n",
       "</div>"
      ],
      "text/plain": [
       "                         entities  text\n",
       "intent                                 \n",
       "Make Update              34        37  \n",
       "None                     0         6   \n",
       "Setup Printer            16        18  \n",
       "Shutdown Computer        1         21  \n",
       "Software Recommendation  7         45  "
      ]
     },
     "execution_count": 32,
     "metadata": {},
     "output_type": "execute_result"
    }
   ],
   "source": [
    "intents.groupby(\"intent\").count()"
   ]
  },
  {
   "cell_type": "code",
   "execution_count": 36,
   "metadata": {},
   "outputs": [],
   "source": [
    "intents = intents.rename(index=str, columns={\"intent\": \"label\"}).drop(\"entities\", axis=1)"
   ]
  },
  {
   "cell_type": "code",
   "execution_count": 37,
   "metadata": {},
   "outputs": [
    {
     "data": {
      "text/html": [
       "<div>\n",
       "<style scoped>\n",
       "    .dataframe tbody tr th:only-of-type {\n",
       "        vertical-align: middle;\n",
       "    }\n",
       "\n",
       "    .dataframe tbody tr th {\n",
       "        vertical-align: top;\n",
       "    }\n",
       "\n",
       "    .dataframe thead th {\n",
       "        text-align: right;\n",
       "    }\n",
       "</style>\n",
       "<table border=\"1\" class=\"dataframe\">\n",
       "  <thead>\n",
       "    <tr style=\"text-align: right;\">\n",
       "      <th></th>\n",
       "      <th>label</th>\n",
       "      <th>text</th>\n",
       "    </tr>\n",
       "  </thead>\n",
       "  <tbody>\n",
       "    <tr>\n",
       "      <th>0</th>\n",
       "      <td>Software Recommendation</td>\n",
       "      <td>What's the best Mind Mapping Software?</td>\n",
       "    </tr>\n",
       "    <tr>\n",
       "      <th>1</th>\n",
       "      <td>Software Recommendation</td>\n",
       "      <td>Software to read a QR code?</td>\n",
       "    </tr>\n",
       "    <tr>\n",
       "      <th>2</th>\n",
       "      <td>Software Recommendation</td>\n",
       "      <td>Is there software that can view .dwg files?</td>\n",
       "    </tr>\n",
       "    <tr>\n",
       "      <th>3</th>\n",
       "      <td>Software Recommendation</td>\n",
       "      <td>Can you recommend a password generator?</td>\n",
       "    </tr>\n",
       "    <tr>\n",
       "      <th>4</th>\n",
       "      <td>Software Recommendation</td>\n",
       "      <td>Is there a software utility to adjust screen gamma/brightness/contrast?</td>\n",
       "    </tr>\n",
       "  </tbody>\n",
       "</table>\n",
       "</div>"
      ],
      "text/plain": [
       "                     label  \\\n",
       "0  Software Recommendation   \n",
       "1  Software Recommendation   \n",
       "2  Software Recommendation   \n",
       "3  Software Recommendation   \n",
       "4  Software Recommendation   \n",
       "\n",
       "                                                                      text  \n",
       "0  What's the best Mind Mapping Software?                                   \n",
       "1  Software to read a QR code?                                              \n",
       "2  Is there software that can view .dwg files?                              \n",
       "3  Can you recommend a password generator?                                  \n",
       "4  Is there a software utility to adjust screen gamma/brightness/contrast?  "
      ]
     },
     "execution_count": 37,
     "metadata": {},
     "output_type": "execute_result"
    }
   ],
   "source": [
    "intents.head()"
   ]
  },
  {
   "cell_type": "markdown",
   "metadata": {},
   "source": [
    "### Prep the data for the language model"
   ]
  },
  {
   "cell_type": "markdown",
   "metadata": {},
   "source": [
    "### Chat data thanks to https://github.com/DeepPavlov/convai/tree/master/data\n",
    "Used data_tolokers.json -- data collected during DeepHack.Chat hackathon in July 2-8 2018 via Yandex.Toloka service (paid workers). 3127 dialogues.\n"
   ]
  },
  {
   "cell_type": "code",
   "execution_count": 38,
   "metadata": {},
   "outputs": [],
   "source": [
    "path = Path('/home/jupyter/chat-data')"
   ]
  },
  {
   "cell_type": "code",
   "execution_count": 39,
   "metadata": {},
   "outputs": [
    {
     "data": {
      "text/plain": [
       "[PosixPath('/home/jupyter/chat-data/chats.csv'),\n",
       " PosixPath('/home/jupyter/chat-data/models'),\n",
       " PosixPath('/home/jupyter/chat-data/human-chat.json'),\n",
       " PosixPath('/home/jupyter/chat-data/data_clas_export_7_14.pkl'),\n",
       " PosixPath('/home/jupyter/chat-data/data_tolokers.json'),\n",
       " PosixPath('/home/jupyter/chat-data/intents_for_clas_training.csv'),\n",
       " PosixPath('/home/jupyter/chat-data/data_lm_export.pkl'),\n",
       " PosixPath('/home/jupyter/chat-data/data_lm_export_7_14.pkl'),\n",
       " PosixPath('/home/jupyter/chat-data/combined_chats_and_intents_for_lm_training.csv'),\n",
       " PosixPath('/home/jupyter/chat-data/rasa-intents.json')]"
      ]
     },
     "execution_count": 39,
     "metadata": {},
     "output_type": "execute_result"
    }
   ],
   "source": [
    "path.ls()"
   ]
  },
  {
   "cell_type": "code",
   "execution_count": 40,
   "metadata": {},
   "outputs": [],
   "source": [
    "chat = pd.read_json(path/'human-chat.json')"
   ]
  },
  {
   "cell_type": "code",
   "execution_count": 41,
   "metadata": {},
   "outputs": [
    {
     "data": {
      "text/html": [
       "<div>\n",
       "<style scoped>\n",
       "    .dataframe tbody tr th:only-of-type {\n",
       "        vertical-align: middle;\n",
       "    }\n",
       "\n",
       "    .dataframe tbody tr th {\n",
       "        vertical-align: top;\n",
       "    }\n",
       "\n",
       "    .dataframe thead th {\n",
       "        text-align: right;\n",
       "    }\n",
       "</style>\n",
       "<table border=\"1\" class=\"dataframe\">\n",
       "  <thead>\n",
       "    <tr style=\"text-align: right;\">\n",
       "      <th></th>\n",
       "      <th>evaluation_score</th>\n",
       "      <th>id</th>\n",
       "      <th>sender</th>\n",
       "      <th>sender_class</th>\n",
       "      <th>text</th>\n",
       "    </tr>\n",
       "  </thead>\n",
       "  <tbody>\n",
       "    <tr>\n",
       "      <th>0</th>\n",
       "      <td>NaN</td>\n",
       "      <td>1</td>\n",
       "      <td>participant1</td>\n",
       "      <td>Human</td>\n",
       "      <td>Thats good for you, i'm not very into new tech</td>\n",
       "    </tr>\n",
       "    <tr>\n",
       "      <th>1</th>\n",
       "      <td>NaN</td>\n",
       "      <td>3</td>\n",
       "      <td>participant1</td>\n",
       "      <td>Human</td>\n",
       "      <td>I am go to gym and live on donations</td>\n",
       "    </tr>\n",
       "    <tr>\n",
       "      <th>2</th>\n",
       "      <td>NaN</td>\n",
       "      <td>5</td>\n",
       "      <td>participant1</td>\n",
       "      <td>Human</td>\n",
       "      <td>So vegan... i have dogs maybe i should told then that they may eat cheap salads insted of meat</td>\n",
       "    </tr>\n",
       "    <tr>\n",
       "      <th>3</th>\n",
       "      <td>NaN</td>\n",
       "      <td>7</td>\n",
       "      <td>participant1</td>\n",
       "      <td>Human</td>\n",
       "      <td>Dogs or vegan in office?</td>\n",
       "    </tr>\n",
       "    <tr>\n",
       "      <th>4</th>\n",
       "      <td>NaN</td>\n",
       "      <td>9</td>\n",
       "      <td>participant1</td>\n",
       "      <td>Human</td>\n",
       "      <td>Strange answer</td>\n",
       "    </tr>\n",
       "  </tbody>\n",
       "</table>\n",
       "</div>"
      ],
      "text/plain": [
       "   evaluation_score  id        sender sender_class  \\\n",
       "0 NaN                1   participant1  Human         \n",
       "1 NaN                3   participant1  Human         \n",
       "2 NaN                5   participant1  Human         \n",
       "3 NaN                7   participant1  Human         \n",
       "4 NaN                9   participant1  Human         \n",
       "\n",
       "                                                                                             text  \n",
       "0  Thats good for you, i'm not very into new tech                                                  \n",
       "1  I am go to gym and live on donations                                                            \n",
       "2  So vegan... i have dogs maybe i should told then that they may eat cheap salads insted of meat  \n",
       "3  Dogs or vegan in office?                                                                        \n",
       "4  Strange answer                                                                                  "
      ]
     },
     "execution_count": 41,
     "metadata": {},
     "output_type": "execute_result"
    }
   ],
   "source": [
    "chat.head()"
   ]
  },
  {
   "cell_type": "code",
   "execution_count": 42,
   "metadata": {},
   "outputs": [],
   "source": [
    "# just making the column name the same as the intents df so can concatenate them to train the language model.\n",
    "# will then just use the intents df for the classifier since the chat labels are meaningless\n",
    "chat = chat.rename(index=str, columns={\"sender_class\": \"label\"}).drop(columns=[\"evaluation_score\", \"id\", \"sender\"])"
   ]
  },
  {
   "cell_type": "code",
   "execution_count": 43,
   "metadata": {},
   "outputs": [
    {
     "data": {
      "text/html": [
       "<div>\n",
       "<style scoped>\n",
       "    .dataframe tbody tr th:only-of-type {\n",
       "        vertical-align: middle;\n",
       "    }\n",
       "\n",
       "    .dataframe tbody tr th {\n",
       "        vertical-align: top;\n",
       "    }\n",
       "\n",
       "    .dataframe thead th {\n",
       "        text-align: right;\n",
       "    }\n",
       "</style>\n",
       "<table border=\"1\" class=\"dataframe\">\n",
       "  <thead>\n",
       "    <tr style=\"text-align: right;\">\n",
       "      <th></th>\n",
       "      <th>label</th>\n",
       "      <th>text</th>\n",
       "    </tr>\n",
       "  </thead>\n",
       "  <tbody>\n",
       "    <tr>\n",
       "      <th>0</th>\n",
       "      <td>Human</td>\n",
       "      <td>Thats good for you, i'm not very into new tech</td>\n",
       "    </tr>\n",
       "    <tr>\n",
       "      <th>1</th>\n",
       "      <td>Human</td>\n",
       "      <td>I am go to gym and live on donations</td>\n",
       "    </tr>\n",
       "    <tr>\n",
       "      <th>2</th>\n",
       "      <td>Human</td>\n",
       "      <td>So vegan... i have dogs maybe i should told then that they may eat cheap salads insted of meat</td>\n",
       "    </tr>\n",
       "    <tr>\n",
       "      <th>3</th>\n",
       "      <td>Human</td>\n",
       "      <td>Dogs or vegan in office?</td>\n",
       "    </tr>\n",
       "    <tr>\n",
       "      <th>4</th>\n",
       "      <td>Human</td>\n",
       "      <td>Strange answer</td>\n",
       "    </tr>\n",
       "  </tbody>\n",
       "</table>\n",
       "</div>"
      ],
      "text/plain": [
       "   label  \\\n",
       "0  Human   \n",
       "1  Human   \n",
       "2  Human   \n",
       "3  Human   \n",
       "4  Human   \n",
       "\n",
       "                                                                                             text  \n",
       "0  Thats good for you, i'm not very into new tech                                                  \n",
       "1  I am go to gym and live on donations                                                            \n",
       "2  So vegan... i have dogs maybe i should told then that they may eat cheap salads insted of meat  \n",
       "3  Dogs or vegan in office?                                                                        \n",
       "4  Strange answer                                                                                  "
      ]
     },
     "execution_count": 43,
     "metadata": {},
     "output_type": "execute_result"
    }
   ],
   "source": [
    "chat.head()"
   ]
  },
  {
   "cell_type": "code",
   "execution_count": 48,
   "metadata": {},
   "outputs": [
    {
     "data": {
      "text/html": [
       "<div>\n",
       "<style scoped>\n",
       "    .dataframe tbody tr th:only-of-type {\n",
       "        vertical-align: middle;\n",
       "    }\n",
       "\n",
       "    .dataframe tbody tr th {\n",
       "        vertical-align: top;\n",
       "    }\n",
       "\n",
       "    .dataframe thead th {\n",
       "        text-align: right;\n",
       "    }\n",
       "</style>\n",
       "<table border=\"1\" class=\"dataframe\">\n",
       "  <thead>\n",
       "    <tr style=\"text-align: right;\">\n",
       "      <th></th>\n",
       "      <th>label</th>\n",
       "      <th>text</th>\n",
       "    </tr>\n",
       "  </thead>\n",
       "  <tbody>\n",
       "    <tr>\n",
       "      <th>count</th>\n",
       "      <td>18867</td>\n",
       "      <td>18867</td>\n",
       "    </tr>\n",
       "    <tr>\n",
       "      <th>unique</th>\n",
       "      <td>1</td>\n",
       "      <td>13649</td>\n",
       "    </tr>\n",
       "    <tr>\n",
       "      <th>top</th>\n",
       "      <td>Human</td>\n",
       "      <td>Hello</td>\n",
       "    </tr>\n",
       "    <tr>\n",
       "      <th>freq</th>\n",
       "      <td>18867</td>\n",
       "      <td>223</td>\n",
       "    </tr>\n",
       "  </tbody>\n",
       "</table>\n",
       "</div>"
      ],
      "text/plain": [
       "        label   text\n",
       "count   18867  18867\n",
       "unique  1      13649\n",
       "top     Human  Hello\n",
       "freq    18867  223  "
      ]
     },
     "execution_count": 48,
     "metadata": {},
     "output_type": "execute_result"
    }
   ],
   "source": [
    "chat.describe()"
   ]
  },
  {
   "cell_type": "code",
   "execution_count": 44,
   "metadata": {},
   "outputs": [],
   "source": [
    "both_dfs = pd.concat([intents, chat], axis=0, join='outer', join_axes=None, ignore_index=True)"
   ]
  },
  {
   "cell_type": "code",
   "execution_count": 45,
   "metadata": {},
   "outputs": [
    {
     "data": {
      "text/html": [
       "<div>\n",
       "<style scoped>\n",
       "    .dataframe tbody tr th:only-of-type {\n",
       "        vertical-align: middle;\n",
       "    }\n",
       "\n",
       "    .dataframe tbody tr th {\n",
       "        vertical-align: top;\n",
       "    }\n",
       "\n",
       "    .dataframe thead th {\n",
       "        text-align: right;\n",
       "    }\n",
       "</style>\n",
       "<table border=\"1\" class=\"dataframe\">\n",
       "  <thead>\n",
       "    <tr style=\"text-align: right;\">\n",
       "      <th></th>\n",
       "      <th>label</th>\n",
       "      <th>text</th>\n",
       "    </tr>\n",
       "  </thead>\n",
       "  <tbody>\n",
       "    <tr>\n",
       "      <th>0</th>\n",
       "      <td>Software Recommendation</td>\n",
       "      <td>What's the best Mind Mapping Software?</td>\n",
       "    </tr>\n",
       "    <tr>\n",
       "      <th>1</th>\n",
       "      <td>Software Recommendation</td>\n",
       "      <td>Software to read a QR code?</td>\n",
       "    </tr>\n",
       "    <tr>\n",
       "      <th>2</th>\n",
       "      <td>Software Recommendation</td>\n",
       "      <td>Is there software that can view .dwg files?</td>\n",
       "    </tr>\n",
       "    <tr>\n",
       "      <th>3</th>\n",
       "      <td>Software Recommendation</td>\n",
       "      <td>Can you recommend a password generator?</td>\n",
       "    </tr>\n",
       "    <tr>\n",
       "      <th>4</th>\n",
       "      <td>Software Recommendation</td>\n",
       "      <td>Is there a software utility to adjust screen gamma/brightness/contrast?</td>\n",
       "    </tr>\n",
       "  </tbody>\n",
       "</table>\n",
       "</div>"
      ],
      "text/plain": [
       "                     label  \\\n",
       "0  Software Recommendation   \n",
       "1  Software Recommendation   \n",
       "2  Software Recommendation   \n",
       "3  Software Recommendation   \n",
       "4  Software Recommendation   \n",
       "\n",
       "                                                                      text  \n",
       "0  What's the best Mind Mapping Software?                                   \n",
       "1  Software to read a QR code?                                              \n",
       "2  Is there software that can view .dwg files?                              \n",
       "3  Can you recommend a password generator?                                  \n",
       "4  Is there a software utility to adjust screen gamma/brightness/contrast?  "
      ]
     },
     "execution_count": 45,
     "metadata": {},
     "output_type": "execute_result"
    }
   ],
   "source": [
    "both_dfs.head()"
   ]
  },
  {
   "cell_type": "code",
   "execution_count": 46,
   "metadata": {},
   "outputs": [
    {
     "data": {
      "text/html": [
       "<div>\n",
       "<style scoped>\n",
       "    .dataframe tbody tr th:only-of-type {\n",
       "        vertical-align: middle;\n",
       "    }\n",
       "\n",
       "    .dataframe tbody tr th {\n",
       "        vertical-align: top;\n",
       "    }\n",
       "\n",
       "    .dataframe thead th {\n",
       "        text-align: right;\n",
       "    }\n",
       "</style>\n",
       "<table border=\"1\" class=\"dataframe\">\n",
       "  <thead>\n",
       "    <tr style=\"text-align: right;\">\n",
       "      <th></th>\n",
       "      <th>label</th>\n",
       "      <th>text</th>\n",
       "    </tr>\n",
       "  </thead>\n",
       "  <tbody>\n",
       "    <tr>\n",
       "      <th>18989</th>\n",
       "      <td>Human</td>\n",
       "      <td>I'm asking about you</td>\n",
       "    </tr>\n",
       "    <tr>\n",
       "      <th>18990</th>\n",
       "      <td>Human</td>\n",
       "      <td>Don't waste my time</td>\n",
       "    </tr>\n",
       "    <tr>\n",
       "      <th>18991</th>\n",
       "      <td>Human</td>\n",
       "      <td>Are you fucking kidding me?</td>\n",
       "    </tr>\n",
       "    <tr>\n",
       "      <th>18992</th>\n",
       "      <td>Human</td>\n",
       "      <td>Shut up</td>\n",
       "    </tr>\n",
       "    <tr>\n",
       "      <th>18993</th>\n",
       "      <td>Human</td>\n",
       "      <td>Goodbye</td>\n",
       "    </tr>\n",
       "  </tbody>\n",
       "</table>\n",
       "</div>"
      ],
      "text/plain": [
       "       label                         text\n",
       "18989  Human  I'm asking about you       \n",
       "18990  Human  Don't waste my time        \n",
       "18991  Human  Are you fucking kidding me?\n",
       "18992  Human  Shut up                    \n",
       "18993  Human  Goodbye                    "
      ]
     },
     "execution_count": 46,
     "metadata": {},
     "output_type": "execute_result"
    }
   ],
   "source": [
    "both_dfs.tail()"
   ]
  },
  {
   "cell_type": "code",
   "execution_count": 47,
   "metadata": {},
   "outputs": [
    {
     "data": {
      "text/html": [
       "<div>\n",
       "<style scoped>\n",
       "    .dataframe tbody tr th:only-of-type {\n",
       "        vertical-align: middle;\n",
       "    }\n",
       "\n",
       "    .dataframe tbody tr th {\n",
       "        vertical-align: top;\n",
       "    }\n",
       "\n",
       "    .dataframe thead th {\n",
       "        text-align: right;\n",
       "    }\n",
       "</style>\n",
       "<table border=\"1\" class=\"dataframe\">\n",
       "  <thead>\n",
       "    <tr style=\"text-align: right;\">\n",
       "      <th></th>\n",
       "      <th>label</th>\n",
       "      <th>text</th>\n",
       "    </tr>\n",
       "  </thead>\n",
       "  <tbody>\n",
       "    <tr>\n",
       "      <th>count</th>\n",
       "      <td>18994</td>\n",
       "      <td>18994</td>\n",
       "    </tr>\n",
       "    <tr>\n",
       "      <th>unique</th>\n",
       "      <td>6</td>\n",
       "      <td>13776</td>\n",
       "    </tr>\n",
       "    <tr>\n",
       "      <th>top</th>\n",
       "      <td>Human</td>\n",
       "      <td>Hello</td>\n",
       "    </tr>\n",
       "    <tr>\n",
       "      <th>freq</th>\n",
       "      <td>18867</td>\n",
       "      <td>223</td>\n",
       "    </tr>\n",
       "  </tbody>\n",
       "</table>\n",
       "</div>"
      ],
      "text/plain": [
       "        label   text\n",
       "count   18994  18994\n",
       "unique  6      13776\n",
       "top     Human  Hello\n",
       "freq    18867  223  "
      ]
     },
     "execution_count": 47,
     "metadata": {},
     "output_type": "execute_result"
    }
   ],
   "source": [
    "both_dfs.describe()"
   ]
  },
  {
   "cell_type": "code",
   "execution_count": 49,
   "metadata": {},
   "outputs": [
    {
     "data": {
      "text/plain": [
       "18994"
      ]
     },
     "execution_count": 49,
     "metadata": {},
     "output_type": "execute_result"
    }
   ],
   "source": [
    "# examples of chats for lm plus additional classifier examples\n",
    "18867 + 127"
   ]
  },
  {
   "cell_type": "code",
   "execution_count": 61,
   "metadata": {},
   "outputs": [],
   "source": [
    "# shuffle rows\n",
    "both_dfs = both_dfs.sample(frac=1).reset_index(drop=True)"
   ]
  },
  {
   "cell_type": "code",
   "execution_count": 62,
   "metadata": {},
   "outputs": [
    {
     "data": {
      "text/html": [
       "<div>\n",
       "<style scoped>\n",
       "    .dataframe tbody tr th:only-of-type {\n",
       "        vertical-align: middle;\n",
       "    }\n",
       "\n",
       "    .dataframe tbody tr th {\n",
       "        vertical-align: top;\n",
       "    }\n",
       "\n",
       "    .dataframe thead th {\n",
       "        text-align: right;\n",
       "    }\n",
       "</style>\n",
       "<table border=\"1\" class=\"dataframe\">\n",
       "  <thead>\n",
       "    <tr style=\"text-align: right;\">\n",
       "      <th></th>\n",
       "      <th>label</th>\n",
       "      <th>text</th>\n",
       "    </tr>\n",
       "  </thead>\n",
       "  <tbody>\n",
       "    <tr>\n",
       "      <th>0</th>\n",
       "      <td>Human</td>\n",
       "      <td>Other than that</td>\n",
       "    </tr>\n",
       "    <tr>\n",
       "      <th>1</th>\n",
       "      <td>Human</td>\n",
       "      <td>Do you have a mouth</td>\n",
       "    </tr>\n",
       "    <tr>\n",
       "      <th>2</th>\n",
       "      <td>Human</td>\n",
       "      <td>i don't know where i'm from</td>\n",
       "    </tr>\n",
       "    <tr>\n",
       "      <th>3</th>\n",
       "      <td>Human</td>\n",
       "      <td>i own a yacht and i rent it out when i am not using it. Have you ever been to yacht?</td>\n",
       "    </tr>\n",
       "    <tr>\n",
       "      <th>4</th>\n",
       "      <td>Setup Printer</td>\n",
       "      <td>Installing EPSON L355 on Ubuntu 14.04</td>\n",
       "    </tr>\n",
       "  </tbody>\n",
       "</table>\n",
       "</div>"
      ],
      "text/plain": [
       "           label  \\\n",
       "0  Human           \n",
       "1  Human           \n",
       "2  Human           \n",
       "3  Human           \n",
       "4  Setup Printer   \n",
       "\n",
       "                                                                                   text  \n",
       "0  Other than that                                                                       \n",
       "1  Do you have a mouth                                                                   \n",
       "2  i don't know where i'm from                                                           \n",
       "3  i own a yacht and i rent it out when i am not using it. Have you ever been to yacht?  \n",
       "4  Installing EPSON L355 on Ubuntu 14.04                                                 "
      ]
     },
     "execution_count": 62,
     "metadata": {},
     "output_type": "execute_result"
    }
   ],
   "source": [
    "both_dfs.head()"
   ]
  },
  {
   "cell_type": "code",
   "execution_count": 63,
   "metadata": {},
   "outputs": [],
   "source": [
    "both_dfs.to_csv(path/'combined_chats_and_ubuntu_intents_for_lm_training.csv', index=False)"
   ]
  },
  {
   "cell_type": "code",
   "execution_count": 64,
   "metadata": {},
   "outputs": [
    {
     "name": "stdout",
     "output_type": "stream",
     "text": [
      "label,text\r\n",
      "Human,Other than that\r\n",
      "Human,Do you have a mouth\r\n",
      "Human,i don't know where i'm from\r\n",
      "Human,i own a yacht and i rent it out when i am not using it. Have you ever been to yacht?\r\n"
     ]
    }
   ],
   "source": [
    "!head -n5 $path/'combined_chats_and_ubuntu_intents_for_lm_training.csv'"
   ]
  },
  {
   "cell_type": "code",
   "execution_count": 65,
   "metadata": {},
   "outputs": [],
   "source": [
    "intents.to_csv(path/'ubuntu_intents_for_clas_training.csv', index=False)"
   ]
  },
  {
   "cell_type": "code",
   "execution_count": 66,
   "metadata": {},
   "outputs": [
    {
     "name": "stdout",
     "output_type": "stream",
     "text": [
      "label,text\r\n",
      "Software Recommendation,What's the best Mind Mapping Software?\r\n",
      "Software Recommendation,Software to read a QR code?\r\n",
      "Software Recommendation,Is there software that can view .dwg files?\r\n",
      "Software Recommendation,Can you recommend a password generator?\r\n",
      "Software Recommendation,Is there a software utility to adjust screen gamma/brightness/contrast?\r\n",
      "Software Recommendation,Is there a tool like wifi analyzer for ubuntu?\r\n",
      "Software Recommendation,Is there any recovery software available for ext4?\r\n",
      "Software Recommendation,Removing Recently used items in 12.04\r\n",
      "Software Recommendation,Is there a lightweight tool to crop images quickly?\r\n"
     ]
    }
   ],
   "source": [
    "!head $path/'ubuntu_intents_for_clas_training.csv'"
   ]
  },
  {
   "cell_type": "code",
   "execution_count": 67,
   "metadata": {},
   "outputs": [],
   "source": [
    "# Language model data\n",
    "data_lm = TextLMDataBunch.from_csv(path, 'combined_chats_and_ubuntu_intents_for_lm_training.csv', text_cols='text')"
   ]
  },
  {
   "cell_type": "code",
   "execution_count": 68,
   "metadata": {},
   "outputs": [],
   "source": [
    "# Classififer model data using just the intents file\n",
    "data_clas = TextClasDataBunch.from_csv(path, 'ubuntu_intents_for_clas_training.csv',\n",
    "                                       text_cols='text', label_cols='label', vocab=data_lm.train_ds.vocab, bs=32)"
   ]
  },
  {
   "cell_type": "code",
   "execution_count": 69,
   "metadata": {},
   "outputs": [],
   "source": [
    "data_lm.save('data_lm_export_ubuntu_and_chats_7_28.pkl')\n",
    "data_clas.save('data_clas_export_ubuntu_7_28.pkl')"
   ]
  },
  {
   "cell_type": "code",
   "execution_count": 70,
   "metadata": {},
   "outputs": [],
   "source": [
    "data_lm = load_data(path, 'data_lm_export_ubuntu_and_chats_7_28.pkl')\n",
    "data_clas = load_data(path, 'data_clas_export_ubuntu_7_28.pkl')"
   ]
  },
  {
   "cell_type": "code",
   "execution_count": 71,
   "metadata": {},
   "outputs": [
    {
     "data": {
      "text/plain": [
       "TextLMDataBunch;\n",
       "\n",
       "Train: LabelList (15195 items)\n",
       "x: LMTextList\n",
       "xxbos not great , i hate school so much !,xxbos i 'm fine , thanks \n",
       "  xxmaj how are you ?,xxbos i like to watch it in the xxunk,xxbos do you like skating ?,xxbos xxmaj hello 👋 \n",
       "  xxmaj tell me about yourself !\n",
       "y: LMLabelList\n",
       ",,,,\n",
       "Path: /home/jupyter/chat-data;\n",
       "\n",
       "Valid: LabelList (3799 items)\n",
       "x: LMTextList\n",
       "xxbos xxmaj what kind of person are you i have brown curly hair what about you,xxbos xxmaj what do you think about knitting ?,xxbos i ’m good,xxbos that 's good . i do n't like to drive too . xxmaj it 's not for humans , it 's for xxunk and robots because it 's more xxunk .,xxbos that ’s nice ! i ’m more of a car person\n",
       "y: LMLabelList\n",
       ",,,,\n",
       "Path: /home/jupyter/chat-data;\n",
       "\n",
       "Test: None"
      ]
     },
     "execution_count": 71,
     "metadata": {},
     "output_type": "execute_result"
    }
   ],
   "source": [
    "data_lm"
   ]
  },
  {
   "cell_type": "code",
   "execution_count": 72,
   "metadata": {},
   "outputs": [
    {
     "data": {
      "text/plain": [
       "['xxunk',\n",
       " 'xxpad',\n",
       " 'xxbos',\n",
       " 'xxeos',\n",
       " 'xxfld',\n",
       " 'xxmaj',\n",
       " 'xxup',\n",
       " 'xxrep',\n",
       " 'xxwrep',\n",
       " '?',\n",
       " 'you',\n",
       " 'i',\n",
       " 'do',\n",
       " '.',\n",
       " 'a',\n",
       " 'what',\n",
       " 'are',\n",
       " ',',\n",
       " 'is',\n",
       " 'to']"
      ]
     },
     "execution_count": 72,
     "metadata": {},
     "output_type": "execute_result"
    }
   ],
   "source": [
    "data_lm.vocab.itos[:20]"
   ]
  },
  {
   "cell_type": "code",
   "execution_count": 73,
   "metadata": {},
   "outputs": [
    {
     "data": {
      "text/plain": [
       "TextClasDataBunch;\n",
       "\n",
       "Train: LabelList (101 items)\n",
       "x: TextList\n",
       "xxbos xxmaj is there any xxunk software available for xxunk ?,xxbos upgrading to xxmaj ubuntu 13.10 from xxmaj ubuntu 13.04,xxbos xxmaj xxunk to xxunk xxunk for xxunk xxunk ?,xxbos xxmaj upgrade to 12.04 xxunk bit,xxbos xxmaj how do i show xxunk when xxunk from xxunk ?\n",
       "y: CategoryList\n",
       "Software Recommendation,Make Update,Software Recommendation,Make Update,None\n",
       "Path: /home/jupyter/chat-data;\n",
       "\n",
       "Valid: LabelList (26 items)\n",
       "x: TextList\n",
       "xxbos xxmaj which xxunk do you recommend for watching xxup tv ( xxup xxunk ) ?,xxbos xxmaj how do i xxunk a shutdown problem ?,xxbos xxmaj can not upgrade from xxup xxunk to 14.04,xxbos xxmaj how can i install a xxmaj xxunk xxup xxunk xxunk printer on xxmaj ubuntu,xxbos xxmaj how xxmaj to xxmaj install xxmaj canon xxup xxunk printer in 14.04 xxup lts ? i tried the method for xxup xxunk but it did nt work\n",
       "y: CategoryList\n",
       "Software Recommendation,Shutdown Computer,Make Update,Setup Printer,Setup Printer\n",
       "Path: /home/jupyter/chat-data;\n",
       "\n",
       "Test: None"
      ]
     },
     "execution_count": 73,
     "metadata": {},
     "output_type": "execute_result"
    }
   ],
   "source": [
    "data_clas"
   ]
  },
  {
   "cell_type": "code",
   "execution_count": 74,
   "metadata": {},
   "outputs": [
    {
     "data": {
      "text/html": [
       "<table border=\"1\" class=\"dataframe\">\n",
       "  <thead>\n",
       "    <tr style=\"text-align: right;\">\n",
       "      <th>text</th>\n",
       "      <th>target</th>\n",
       "    </tr>\n",
       "  </thead>\n",
       "  <tbody>\n",
       "    <tr>\n",
       "      <td>xxbos xxmaj is there a xxmaj xxunk xxunk manager with a proper drop - down tree view ? ( like finder in xxup xxunk x )</td>\n",
       "      <td>Software Recommendation</td>\n",
       "    </tr>\n",
       "    <tr>\n",
       "      <td>xxbos xxmaj how to setup wireless xxunk from a printer connected xxunk xxunk on xxmaj ubuntu xxmaj server 12.10 ?</td>\n",
       "      <td>Setup Printer</td>\n",
       "    </tr>\n",
       "    <tr>\n",
       "      <td>xxbos xxmaj how do i upgrade to the release version of 16.04 if i am running xxmaj beta ?</td>\n",
       "      <td>Make Update</td>\n",
       "    </tr>\n",
       "    <tr>\n",
       "      <td>xxbos xxmaj how xxmaj do i xxmaj install xxmaj canon xxup xxunk xxmaj printer in xxmaj ubuntu 15.10 ?</td>\n",
       "      <td>Setup Printer</td>\n",
       "    </tr>\n",
       "    <tr>\n",
       "      <td>xxbos xxmaj xxunk xxmaj xxunk / xxunk / xxunk full . xxmaj how to get more space ?</td>\n",
       "      <td>Software Recommendation</td>\n",
       "    </tr>\n",
       "  </tbody>\n",
       "</table>"
      ],
      "text/plain": [
       "<IPython.core.display.HTML object>"
      ]
     },
     "metadata": {},
     "output_type": "display_data"
    }
   ],
   "source": [
    "data_clas.show_batch()"
   ]
  },
  {
   "cell_type": "markdown",
   "metadata": {},
   "source": [
    "### Train the language model"
   ]
  },
  {
   "cell_type": "code",
   "execution_count": 75,
   "metadata": {},
   "outputs": [],
   "source": [
    "learn = language_model_learner(data_lm, AWD_LSTM, drop_mult=0.5)"
   ]
  },
  {
   "cell_type": "code",
   "execution_count": 76,
   "metadata": {},
   "outputs": [
    {
     "data": {
      "text/html": [],
      "text/plain": [
       "<IPython.core.display.HTML object>"
      ]
     },
     "metadata": {},
     "output_type": "display_data"
    },
    {
     "name": "stdout",
     "output_type": "stream",
     "text": [
      "LR Finder is complete, type {learner_name}.recorder.plot() to see the graph.\n"
     ]
    }
   ],
   "source": [
    "learn.lr_find()"
   ]
  },
  {
   "cell_type": "code",
   "execution_count": 77,
   "metadata": {},
   "outputs": [
    {
     "data": {
      "image/png": "[encoded data removed]",
      "text/plain": [
       "<Figure size 432x288 with 1 Axes>"
      ]
     },
     "metadata": {},
     "output_type": "display_data"
    }
   ],
   "source": [
    "learn.recorder.plot()"
   ]
  },
  {
   "cell_type": "code",
   "execution_count": 78,
   "metadata": {},
   "outputs": [
    {
     "data": {
      "text/html": [
       "<table border=\"1\" class=\"dataframe\">\n",
       "  <thead>\n",
       "    <tr style=\"text-align: left;\">\n",
       "      <th>epoch</th>\n",
       "      <th>train_loss</th>\n",
       "      <th>valid_loss</th>\n",
       "      <th>accuracy</th>\n",
       "      <th>time</th>\n",
       "    </tr>\n",
       "  </thead>\n",
       "  <tbody>\n",
       "    <tr>\n",
       "      <td>0</td>\n",
       "      <td>5.829163</td>\n",
       "      <td>4.528593</td>\n",
       "      <td>0.191486</td>\n",
       "      <td>00:04</td>\n",
       "    </tr>\n",
       "    <tr>\n",
       "      <td>1</td>\n",
       "      <td>4.544167</td>\n",
       "      <td>3.118282</td>\n",
       "      <td>0.360268</td>\n",
       "      <td>00:04</td>\n",
       "    </tr>\n",
       "    <tr>\n",
       "      <td>2</td>\n",
       "      <td>3.831525</td>\n",
       "      <td>2.937717</td>\n",
       "      <td>0.380230</td>\n",
       "      <td>00:04</td>\n",
       "    </tr>\n",
       "    <tr>\n",
       "      <td>3</td>\n",
       "      <td>3.441632</td>\n",
       "      <td>2.871536</td>\n",
       "      <td>0.388361</td>\n",
       "      <td>00:04</td>\n",
       "    </tr>\n",
       "    <tr>\n",
       "      <td>4</td>\n",
       "      <td>3.193570</td>\n",
       "      <td>2.846777</td>\n",
       "      <td>0.393048</td>\n",
       "      <td>00:04</td>\n",
       "    </tr>\n",
       "    <tr>\n",
       "      <td>5</td>\n",
       "      <td>3.046477</td>\n",
       "      <td>2.842733</td>\n",
       "      <td>0.393718</td>\n",
       "      <td>00:04</td>\n",
       "    </tr>\n",
       "  </tbody>\n",
       "</table>"
      ],
      "text/plain": [
       "<IPython.core.display.HTML object>"
      ]
     },
     "metadata": {},
     "output_type": "display_data"
    }
   ],
   "source": [
    "learn.fit_one_cycle(6, 1e-2)"
   ]
  },
  {
   "cell_type": "code",
   "execution_count": 79,
   "metadata": {},
   "outputs": [
    {
     "data": {
      "text/html": [
       "<table border=\"1\" class=\"dataframe\">\n",
       "  <thead>\n",
       "    <tr style=\"text-align: left;\">\n",
       "      <th>epoch</th>\n",
       "      <th>train_loss</th>\n",
       "      <th>valid_loss</th>\n",
       "      <th>accuracy</th>\n",
       "      <th>time</th>\n",
       "    </tr>\n",
       "  </thead>\n",
       "  <tbody>\n",
       "    <tr>\n",
       "      <td>0</td>\n",
       "      <td>2.850019</td>\n",
       "      <td>2.834297</td>\n",
       "      <td>0.395217</td>\n",
       "      <td>00:04</td>\n",
       "    </tr>\n",
       "    <tr>\n",
       "      <td>1</td>\n",
       "      <td>2.828298</td>\n",
       "      <td>2.815281</td>\n",
       "      <td>0.398151</td>\n",
       "      <td>00:04</td>\n",
       "    </tr>\n",
       "    <tr>\n",
       "      <td>2</td>\n",
       "      <td>2.801916</td>\n",
       "      <td>2.792423</td>\n",
       "      <td>0.404018</td>\n",
       "      <td>00:04</td>\n",
       "    </tr>\n",
       "    <tr>\n",
       "      <td>3</td>\n",
       "      <td>2.768981</td>\n",
       "      <td>2.774498</td>\n",
       "      <td>0.405580</td>\n",
       "      <td>00:04</td>\n",
       "    </tr>\n",
       "    <tr>\n",
       "      <td>4</td>\n",
       "      <td>2.722561</td>\n",
       "      <td>2.766858</td>\n",
       "      <td>0.406696</td>\n",
       "      <td>00:04</td>\n",
       "    </tr>\n",
       "    <tr>\n",
       "      <td>5</td>\n",
       "      <td>2.673890</td>\n",
       "      <td>2.753078</td>\n",
       "      <td>0.408004</td>\n",
       "      <td>00:04</td>\n",
       "    </tr>\n",
       "    <tr>\n",
       "      <td>6</td>\n",
       "      <td>2.633976</td>\n",
       "      <td>2.746462</td>\n",
       "      <td>0.411735</td>\n",
       "      <td>00:04</td>\n",
       "    </tr>\n",
       "    <tr>\n",
       "      <td>7</td>\n",
       "      <td>2.588968</td>\n",
       "      <td>2.743128</td>\n",
       "      <td>0.410555</td>\n",
       "      <td>00:04</td>\n",
       "    </tr>\n",
       "    <tr>\n",
       "      <td>8</td>\n",
       "      <td>2.554448</td>\n",
       "      <td>2.738241</td>\n",
       "      <td>0.413712</td>\n",
       "      <td>00:04</td>\n",
       "    </tr>\n",
       "    <tr>\n",
       "      <td>9</td>\n",
       "      <td>2.530191</td>\n",
       "      <td>2.735552</td>\n",
       "      <td>0.414828</td>\n",
       "      <td>00:04</td>\n",
       "    </tr>\n",
       "    <tr>\n",
       "      <td>10</td>\n",
       "      <td>2.503111</td>\n",
       "      <td>2.735029</td>\n",
       "      <td>0.414381</td>\n",
       "      <td>00:04</td>\n",
       "    </tr>\n",
       "    <tr>\n",
       "      <td>11</td>\n",
       "      <td>2.492043</td>\n",
       "      <td>2.734169</td>\n",
       "      <td>0.414923</td>\n",
       "      <td>00:04</td>\n",
       "    </tr>\n",
       "  </tbody>\n",
       "</table>"
      ],
      "text/plain": [
       "<IPython.core.display.HTML object>"
      ]
     },
     "metadata": {},
     "output_type": "display_data"
    }
   ],
   "source": [
    "learn.fit_one_cycle(12, 1e-2)"
   ]
  },
  {
   "cell_type": "code",
   "execution_count": 80,
   "metadata": {},
   "outputs": [
    {
     "data": {
      "text/html": [
       "<table border=\"1\" class=\"dataframe\">\n",
       "  <thead>\n",
       "    <tr style=\"text-align: left;\">\n",
       "      <th>epoch</th>\n",
       "      <th>train_loss</th>\n",
       "      <th>valid_loss</th>\n",
       "      <th>accuracy</th>\n",
       "      <th>time</th>\n",
       "    </tr>\n",
       "  </thead>\n",
       "  <tbody>\n",
       "    <tr>\n",
       "      <td>0</td>\n",
       "      <td>2.440339</td>\n",
       "      <td>2.722575</td>\n",
       "      <td>0.413967</td>\n",
       "      <td>00:05</td>\n",
       "    </tr>\n",
       "    <tr>\n",
       "      <td>1</td>\n",
       "      <td>2.421647</td>\n",
       "      <td>2.720174</td>\n",
       "      <td>0.418814</td>\n",
       "      <td>00:05</td>\n",
       "    </tr>\n",
       "    <tr>\n",
       "      <td>2</td>\n",
       "      <td>2.358044</td>\n",
       "      <td>2.702994</td>\n",
       "      <td>0.423533</td>\n",
       "      <td>00:06</td>\n",
       "    </tr>\n",
       "    <tr>\n",
       "      <td>3</td>\n",
       "      <td>2.286617</td>\n",
       "      <td>2.703006</td>\n",
       "      <td>0.427551</td>\n",
       "      <td>00:06</td>\n",
       "    </tr>\n",
       "    <tr>\n",
       "      <td>4</td>\n",
       "      <td>2.210753</td>\n",
       "      <td>2.712164</td>\n",
       "      <td>0.427870</td>\n",
       "      <td>00:06</td>\n",
       "    </tr>\n",
       "    <tr>\n",
       "      <td>5</td>\n",
       "      <td>2.159885</td>\n",
       "      <td>2.713551</td>\n",
       "      <td>0.428540</td>\n",
       "      <td>00:06</td>\n",
       "    </tr>\n",
       "  </tbody>\n",
       "</table>"
      ],
      "text/plain": [
       "<IPython.core.display.HTML object>"
      ]
     },
     "metadata": {},
     "output_type": "display_data"
    }
   ],
   "source": [
    "learn.unfreeze()\n",
    "learn.fit_one_cycle(6, 1e-3)"
   ]
  },
  {
   "cell_type": "code",
   "execution_count": 81,
   "metadata": {},
   "outputs": [
    {
     "data": {
      "text/html": [
       "<table border=\"1\" class=\"dataframe\">\n",
       "  <thead>\n",
       "    <tr style=\"text-align: left;\">\n",
       "      <th>epoch</th>\n",
       "      <th>train_loss</th>\n",
       "      <th>valid_loss</th>\n",
       "      <th>accuracy</th>\n",
       "      <th>time</th>\n",
       "    </tr>\n",
       "  </thead>\n",
       "  <tbody>\n",
       "    <tr>\n",
       "      <td>0</td>\n",
       "      <td>2.086224</td>\n",
       "      <td>2.713603</td>\n",
       "      <td>0.427328</td>\n",
       "      <td>00:05</td>\n",
       "    </tr>\n",
       "    <tr>\n",
       "      <td>1</td>\n",
       "      <td>2.084816</td>\n",
       "      <td>2.726551</td>\n",
       "      <td>0.426690</td>\n",
       "      <td>00:06</td>\n",
       "    </tr>\n",
       "    <tr>\n",
       "      <td>2</td>\n",
       "      <td>2.052350</td>\n",
       "      <td>2.740875</td>\n",
       "      <td>0.425765</td>\n",
       "      <td>00:06</td>\n",
       "    </tr>\n",
       "    <tr>\n",
       "      <td>3</td>\n",
       "      <td>1.999382</td>\n",
       "      <td>2.767046</td>\n",
       "      <td>0.426499</td>\n",
       "      <td>00:06</td>\n",
       "    </tr>\n",
       "    <tr>\n",
       "      <td>4</td>\n",
       "      <td>1.944366</td>\n",
       "      <td>2.792660</td>\n",
       "      <td>0.425064</td>\n",
       "      <td>00:06</td>\n",
       "    </tr>\n",
       "    <tr>\n",
       "      <td>5</td>\n",
       "      <td>1.901053</td>\n",
       "      <td>2.788510</td>\n",
       "      <td>0.427679</td>\n",
       "      <td>00:06</td>\n",
       "    </tr>\n",
       "  </tbody>\n",
       "</table>"
      ],
      "text/plain": [
       "<IPython.core.display.HTML object>"
      ]
     },
     "metadata": {},
     "output_type": "display_data"
    }
   ],
   "source": [
    "learn.fit_one_cycle(6, 1e-3)"
   ]
  },
  {
   "cell_type": "code",
   "execution_count": 82,
   "metadata": {},
   "outputs": [],
   "source": [
    "learn.save('chat-ubuntu-lm-7-28')\n",
    "learn.save_encoder('chat-ubuntu-lm-encoder-7-28')"
   ]
  },
  {
   "cell_type": "code",
   "execution_count": 83,
   "metadata": {},
   "outputs": [
    {
     "data": {
      "text/plain": [
       "'how are you ? ? xxbos Nice . Are you men ? xxbos hi xxbos Oo perfect ! What'"
      ]
     },
     "execution_count": 83,
     "metadata": {},
     "output_type": "execute_result"
    }
   ],
   "source": [
    "learn.predict(\"how are you\", n_words=20)"
   ]
  },
  {
   "cell_type": "code",
   "execution_count": 84,
   "metadata": {},
   "outputs": [
    {
     "data": {
      "text/plain": [
       "'where can you not find weight ? xxbos What do you do ? xxbos what kind of hobbies do you have'"
      ]
     },
     "execution_count": 84,
     "metadata": {},
     "output_type": "execute_result"
    }
   ],
   "source": [
    "learn.predict(\"where can\", n_words=20)"
   ]
  },
  {
   "cell_type": "markdown",
   "metadata": {},
   "source": [
    "### Train the classifier"
   ]
  },
  {
   "cell_type": "code",
   "execution_count": 85,
   "metadata": {},
   "outputs": [],
   "source": [
    "clas_learn = text_classifier_learner(data_clas, AWD_LSTM, drop_mult=0.5)\n",
    "clas_learn.load_encoder('chat-ubuntu-lm-encoder-7-28')"
   ]
  },
  {
   "cell_type": "code",
   "execution_count": 86,
   "metadata": {},
   "outputs": [
    {
     "data": {
      "text/html": [],
      "text/plain": [
       "<IPython.core.display.HTML object>"
      ]
     },
     "metadata": {},
     "output_type": "display_data"
    },
    {
     "name": "stdout",
     "output_type": "stream",
     "text": [
      "LR Finder is complete, type {learner_name}.recorder.plot() to see the graph.\n"
     ]
    }
   ],
   "source": [
    "clas_learn.lr_find()"
   ]
  },
  {
   "cell_type": "code",
   "execution_count": 87,
   "metadata": {},
   "outputs": [
    {
     "data": {
      "image/png": "[encoded data removed]",
      "text/plain": [
       "<Figure size 432x288 with 1 Axes>"
      ]
     },
     "metadata": {},
     "output_type": "display_data"
    }
   ],
   "source": [
    "clas_learn.recorder.plot()"
   ]
  },
  {
   "cell_type": "code",
   "execution_count": 88,
   "metadata": {},
   "outputs": [
    {
     "data": {
      "text/html": [
       "<table border=\"1\" class=\"dataframe\">\n",
       "  <thead>\n",
       "    <tr style=\"text-align: left;\">\n",
       "      <th>epoch</th>\n",
       "      <th>train_loss</th>\n",
       "      <th>valid_loss</th>\n",
       "      <th>accuracy</th>\n",
       "      <th>time</th>\n",
       "    </tr>\n",
       "  </thead>\n",
       "  <tbody>\n",
       "    <tr>\n",
       "      <td>0</td>\n",
       "      <td>1.646897</td>\n",
       "      <td>1.589498</td>\n",
       "      <td>0.192308</td>\n",
       "      <td>00:00</td>\n",
       "    </tr>\n",
       "    <tr>\n",
       "      <td>1</td>\n",
       "      <td>1.637453</td>\n",
       "      <td>1.529331</td>\n",
       "      <td>0.807692</td>\n",
       "      <td>00:00</td>\n",
       "    </tr>\n",
       "    <tr>\n",
       "      <td>2</td>\n",
       "      <td>1.437298</td>\n",
       "      <td>1.450879</td>\n",
       "      <td>0.884615</td>\n",
       "      <td>00:00</td>\n",
       "    </tr>\n",
       "    <tr>\n",
       "      <td>3</td>\n",
       "      <td>1.304006</td>\n",
       "      <td>1.377280</td>\n",
       "      <td>0.923077</td>\n",
       "      <td>00:00</td>\n",
       "    </tr>\n",
       "    <tr>\n",
       "      <td>4</td>\n",
       "      <td>1.204830</td>\n",
       "      <td>1.323095</td>\n",
       "      <td>0.923077</td>\n",
       "      <td>00:00</td>\n",
       "    </tr>\n",
       "    <tr>\n",
       "      <td>5</td>\n",
       "      <td>1.124260</td>\n",
       "      <td>1.299246</td>\n",
       "      <td>0.961538</td>\n",
       "      <td>00:00</td>\n",
       "    </tr>\n",
       "  </tbody>\n",
       "</table>"
      ],
      "text/plain": [
       "<IPython.core.display.HTML object>"
      ]
     },
     "metadata": {},
     "output_type": "display_data"
    }
   ],
   "source": [
    "clas_learn.fit_one_cycle(6, 1e-2)"
   ]
  },
  {
   "cell_type": "code",
   "execution_count": 89,
   "metadata": {},
   "outputs": [
    {
     "data": {
      "text/html": [
       "<table border=\"1\" class=\"dataframe\">\n",
       "  <thead>\n",
       "    <tr style=\"text-align: left;\">\n",
       "      <th>epoch</th>\n",
       "      <th>train_loss</th>\n",
       "      <th>valid_loss</th>\n",
       "      <th>accuracy</th>\n",
       "      <th>time</th>\n",
       "    </tr>\n",
       "  </thead>\n",
       "  <tbody>\n",
       "    <tr>\n",
       "      <td>0</td>\n",
       "      <td>0.732980</td>\n",
       "      <td>1.288733</td>\n",
       "      <td>0.961538</td>\n",
       "      <td>00:00</td>\n",
       "    </tr>\n",
       "    <tr>\n",
       "      <td>1</td>\n",
       "      <td>0.747995</td>\n",
       "      <td>1.226971</td>\n",
       "      <td>0.961538</td>\n",
       "      <td>00:00</td>\n",
       "    </tr>\n",
       "    <tr>\n",
       "      <td>2</td>\n",
       "      <td>0.722028</td>\n",
       "      <td>1.153755</td>\n",
       "      <td>0.923077</td>\n",
       "      <td>00:00</td>\n",
       "    </tr>\n",
       "    <tr>\n",
       "      <td>3</td>\n",
       "      <td>0.688862</td>\n",
       "      <td>1.085057</td>\n",
       "      <td>0.923077</td>\n",
       "      <td>00:00</td>\n",
       "    </tr>\n",
       "    <tr>\n",
       "      <td>4</td>\n",
       "      <td>0.657418</td>\n",
       "      <td>1.040191</td>\n",
       "      <td>0.923077</td>\n",
       "      <td>00:00</td>\n",
       "    </tr>\n",
       "    <tr>\n",
       "      <td>5</td>\n",
       "      <td>0.633506</td>\n",
       "      <td>1.015560</td>\n",
       "      <td>0.961538</td>\n",
       "      <td>00:00</td>\n",
       "    </tr>\n",
       "  </tbody>\n",
       "</table>"
      ],
      "text/plain": [
       "<IPython.core.display.HTML object>"
      ]
     },
     "metadata": {},
     "output_type": "display_data"
    }
   ],
   "source": [
    "clas_learn.freeze_to(-2)\n",
    "clas_learn.fit_one_cycle(6, slice(5e-3/2., 5e-3))"
   ]
  },
  {
   "cell_type": "code",
   "execution_count": 90,
   "metadata": {},
   "outputs": [
    {
     "data": {
      "text/html": [
       "<table border=\"1\" class=\"dataframe\">\n",
       "  <thead>\n",
       "    <tr style=\"text-align: left;\">\n",
       "      <th>epoch</th>\n",
       "      <th>train_loss</th>\n",
       "      <th>valid_loss</th>\n",
       "      <th>accuracy</th>\n",
       "      <th>time</th>\n",
       "    </tr>\n",
       "  </thead>\n",
       "  <tbody>\n",
       "    <tr>\n",
       "      <td>0</td>\n",
       "      <td>0.494681</td>\n",
       "      <td>1.008082</td>\n",
       "      <td>1.000000</td>\n",
       "      <td>00:00</td>\n",
       "    </tr>\n",
       "    <tr>\n",
       "      <td>1</td>\n",
       "      <td>0.496346</td>\n",
       "      <td>0.979830</td>\n",
       "      <td>0.961538</td>\n",
       "      <td>00:00</td>\n",
       "    </tr>\n",
       "    <tr>\n",
       "      <td>2</td>\n",
       "      <td>0.481999</td>\n",
       "      <td>0.944459</td>\n",
       "      <td>0.961538</td>\n",
       "      <td>00:00</td>\n",
       "    </tr>\n",
       "    <tr>\n",
       "      <td>3</td>\n",
       "      <td>0.468154</td>\n",
       "      <td>0.908156</td>\n",
       "      <td>1.000000</td>\n",
       "      <td>00:00</td>\n",
       "    </tr>\n",
       "    <tr>\n",
       "      <td>4</td>\n",
       "      <td>0.454208</td>\n",
       "      <td>0.891104</td>\n",
       "      <td>1.000000</td>\n",
       "      <td>00:00</td>\n",
       "    </tr>\n",
       "    <tr>\n",
       "      <td>5</td>\n",
       "      <td>0.445986</td>\n",
       "      <td>0.873535</td>\n",
       "      <td>1.000000</td>\n",
       "      <td>00:00</td>\n",
       "    </tr>\n",
       "  </tbody>\n",
       "</table>"
      ],
      "text/plain": [
       "<IPython.core.display.HTML object>"
      ]
     },
     "metadata": {},
     "output_type": "display_data"
    }
   ],
   "source": [
    "clas_learn.unfreeze()\n",
    "clas_learn.fit_one_cycle(6, slice(2e-3/100, 2e-3))"
   ]
  },
  {
   "cell_type": "code",
   "execution_count": 91,
   "metadata": {},
   "outputs": [],
   "source": [
    "clas_learn.save('chat-ubuntu-clas-7-28')"
   ]
  },
  {
   "cell_type": "code",
   "execution_count": 93,
   "metadata": {},
   "outputs": [
    {
     "data": {
      "text/plain": [
       "(Category Software Recommendation,\n",
       " tensor(4),\n",
       " tensor([0.1486, 0.1637, 0.1300, 0.2321, 0.3257]))"
      ]
     },
     "execution_count": 93,
     "metadata": {},
     "output_type": "execute_result"
    }
   ],
   "source": [
    "clas_learn.predict(\"which database should i use?\")"
   ]
  },
  {
   "cell_type": "code",
   "execution_count": 94,
   "metadata": {},
   "outputs": [
    {
     "data": {
      "text/plain": [
       "(Category Shutdown Computer,\n",
       " tensor(3),\n",
       " tensor([0.2320, 0.2100, 0.1573, 0.2532, 0.1475]))"
      ]
     },
     "execution_count": 94,
     "metadata": {},
     "output_type": "execute_result"
    }
   ],
   "source": [
    "clas_learn.predict(\"how to i turn off?\")"
   ]
  },
  {
   "cell_type": "code",
   "execution_count": 95,
   "metadata": {},
   "outputs": [
    {
     "data": {
      "text/plain": [
       "(Category Shutdown Computer,\n",
       " tensor(3),\n",
       " tensor([0.2139, 0.1912, 0.1828, 0.2253, 0.1868]))"
      ]
     },
     "execution_count": 95,
     "metadata": {},
     "output_type": "execute_result"
    }
   ],
   "source": [
    "clas_learn.predict(\"my printer won't start\")"
   ]
  },
  {
   "cell_type": "code",
   "execution_count": 104,
   "metadata": {},
   "outputs": [
    {
     "data": {
      "text/plain": [
       "(Category Make Update,\n",
       " tensor(0),\n",
       " tensor([0.2416, 0.1579, 0.2060, 0.2126, 0.1819]))"
      ]
     },
     "execution_count": 104,
     "metadata": {},
     "output_type": "execute_result"
    }
   ],
   "source": [
    "clas_learn.predict(\"which ubuntu verion should i be on?\")"
   ]
  },
  {
   "cell_type": "code",
   "execution_count": 106,
   "metadata": {},
   "outputs": [
    {
     "data": {
      "text/plain": [
       "(Category Setup Printer,\n",
       " tensor(2),\n",
       " tensor([0.1927, 0.1591, 0.3731, 0.1416, 0.1334]))"
      ]
     },
     "execution_count": 106,
     "metadata": {},
     "output_type": "execute_result"
    }
   ],
   "source": [
    "clas_learn.predict(\"printer setup won't work\")"
   ]
  },
  {
   "cell_type": "code",
   "execution_count": 107,
   "metadata": {},
   "outputs": [],
   "source": [
    "from fastai.vision import ClassificationInterpretation"
   ]
  },
  {
   "cell_type": "code",
   "execution_count": 108,
   "metadata": {},
   "outputs": [],
   "source": [
    "interp = ClassificationInterpretation.from_learner(clas_learn)"
   ]
  },
  {
   "cell_type": "code",
   "execution_count": 109,
   "metadata": {},
   "outputs": [
    {
     "data": {
      "image/png": "[encoded data removed]",
      "text/plain": [
       "<Figure size 720x720 with 1 Axes>"
      ]
     },
     "metadata": {},
     "output_type": "display_data"
    }
   ],
   "source": [
    "interp.plot_confusion_matrix(figsize=(12,12), dpi=60)"
   ]
  },
  {
   "cell_type": "code",
   "execution_count": 110,
   "metadata": {},
   "outputs": [
    {
     "data": {
      "text/plain": [
       "[]"
      ]
     },
     "execution_count": 110,
     "metadata": {},
     "output_type": "execute_result"
    }
   ],
   "source": [
    "interp.most_confused()"
   ]
  },
  {
   "cell_type": "code",
   "execution_count": 112,
   "metadata": {},
   "outputs": [],
   "source": [
    "data_bunch = 'data_clas_export_ubuntu_7_28.pkl'\n",
    "trained_model = 'chat-ubuntu-clas-7-28'\n",
    "encoder = 'chat-ubuntu-lm-encoder-7-28'"
   ]
  },
  {
   "cell_type": "code",
   "execution_count": 113,
   "metadata": {},
   "outputs": [],
   "source": [
    "data_clas = load_data(path, data_bunch, bs=32)\n",
    "clas_learn = text_classifier_learner(data_clas, AWD_LSTM, drop_mult=0.5)\n",
    "clas_learn.load(trained_model)\n",
    "clas_learn.load_encoder(encoder)"
   ]
  },
  {
   "cell_type": "code",
   "execution_count": 121,
   "metadata": {},
   "outputs": [
    {
     "data": {
      "text/plain": [
       "['Make Update',\n",
       " 'None',\n",
       " 'Setup Printer',\n",
       " 'Shutdown Computer',\n",
       " 'Software Recommendation']"
      ]
     },
     "execution_count": 121,
     "metadata": {},
     "output_type": "execute_result"
    }
   ],
   "source": [
    "clas_learn.data.classes"
   ]
  },
  {
   "cell_type": "code",
   "execution_count": 146,
   "metadata": {},
   "outputs": [
    {
     "data": {
      "text/plain": [
       "(Category Software Recommendation,\n",
       " tensor(4),\n",
       " tensor([0.1640, 0.1933, 0.1388, 0.1894, 0.3144]))"
      ]
     },
     "execution_count": 146,
     "metadata": {},
     "output_type": "execute_result"
    }
   ],
   "source": [
    "clas_learn.predict('rasa language')"
   ]
  },
  {
   "cell_type": "markdown",
   "metadata": {},
   "source": [
    "### Time to integrate into rasa!"
   ]
  },
  {
   "cell_type": "markdown",
   "metadata": {},
   "source": [
    "### Create a config using fastai classifier"
   ]
  },
  {
   "cell_type": "code",
   "execution_count": 181,
   "metadata": {},
   "outputs": [],
   "source": [
    "# make config which uses the pretrained_embeddings_spacy pipeline except switches in FastaiClassifier for the SklearnIntentClassifier\n",
    "\n",
    "fastai_config = \"\"\"language: \"en\"\n",
    "\n",
    "pipeline:\n",
    "- name: \"SpacyNLP\"\n",
    "- name: \"SpacyTokenizer\"\n",
    "- name: \"SpacyFeaturizer\"\n",
    "- name: \"RegexFeaturizer\"\n",
    "- name: \"CRFEntityExtractor\"\n",
    "- name: \"EntitySynonymMapper\"\n",
    "- name: \"FastaiClassifier\"\n",
    "    \n",
    "policies:\n",
    "  - name: MemoizationPolicy\n",
    "  - name: KerasPolicy\n",
    "  - name: MappingPolicy\"\"\""
   ]
  },
  {
   "cell_type": "code",
   "execution_count": 182,
   "metadata": {},
   "outputs": [
    {
     "name": "stdout",
     "output_type": "stream",
     "text": [
      "Writing 'fastai_config' (str) to file '../fastai_config.yml'.\n"
     ]
    }
   ],
   "source": [
    "store fastai_config > ../fastai_config.yml"
   ]
  },
  {
   "cell_type": "markdown",
   "metadata": {},
   "source": [
    "### Hack to make rasa pick up our new component\n",
    "Just added the import for FastaiClassifier and added this to the list of component_classes"
   ]
  },
  {
   "cell_type": "code",
   "execution_count": 116,
   "metadata": {},
   "outputs": [
    {
     "name": "stdout",
     "output_type": "stream",
     "text": [
      "Overwriting /opt/anaconda3/lib/python3.7/site-packages/rasa/nlu/registry.py\n"
     ]
    }
   ],
   "source": [
    "%%writefile /opt/anaconda3/lib/python3.7/site-packages/rasa/nlu/registry.py\n",
    "\"\"\"This is a somewhat delicate package. It contains all registered components\n",
    "and preconfigured templates.\n",
    "\n",
    "Hence, it imports all of the components. To avoid cycles, no component should\n",
    "import this in module scope.\"\"\"\n",
    "\n",
    "import logging\n",
    "import typing\n",
    "from typing import Any, Dict, List, Optional, Text, Type\n",
    "\n",
    "from rasa.nlu.classifiers.embedding_intent_classifier import EmbeddingIntentClassifier\n",
    "from rasa.nlu.classifiers.keyword_intent_classifier import KeywordIntentClassifier\n",
    "from rasa.nlu.classifiers.mitie_intent_classifier import MitieIntentClassifier\n",
    "from rasa.nlu.classifiers.sklearn_intent_classifier import SklearnIntentClassifier\n",
    "# added this\n",
    "from rasa.nlu.classifiers.fastai_nlu import FastaiClassifier\n",
    "\n",
    "\n",
    "from rasa.nlu.extractors.crf_entity_extractor import CRFEntityExtractor\n",
    "from rasa.nlu.extractors.duckling_http_extractor import DucklingHTTPExtractor\n",
    "from rasa.nlu.extractors.entity_synonyms import EntitySynonymMapper\n",
    "from rasa.nlu.extractors.mitie_entity_extractor import MitieEntityExtractor\n",
    "from rasa.nlu.extractors.spacy_entity_extractor import SpacyEntityExtractor\n",
    "from rasa.nlu.featurizers.count_vectors_featurizer import CountVectorsFeaturizer\n",
    "from rasa.nlu.featurizers.mitie_featurizer import MitieFeaturizer\n",
    "from rasa.nlu.featurizers.ngram_featurizer import NGramFeaturizer\n",
    "from rasa.nlu.featurizers.regex_featurizer import RegexFeaturizer\n",
    "from rasa.nlu.featurizers.spacy_featurizer import SpacyFeaturizer\n",
    "from rasa.nlu.model import Metadata\n",
    "from rasa.nlu.tokenizers.jieba_tokenizer import JiebaTokenizer\n",
    "from rasa.nlu.tokenizers.mitie_tokenizer import MitieTokenizer\n",
    "from rasa.nlu.tokenizers.spacy_tokenizer import SpacyTokenizer\n",
    "from rasa.nlu.tokenizers.whitespace_tokenizer import WhitespaceTokenizer\n",
    "from rasa.nlu.utils.mitie_utils import MitieNLP\n",
    "from rasa.nlu.utils.spacy_utils import SpacyNLP\n",
    "from rasa.utils.common import class_from_module_path\n",
    "\n",
    "if typing.TYPE_CHECKING:\n",
    "    from rasa.nlu.components import Component\n",
    "    from rasa.nlu.config import RasaNLUModelConfig, RasaNLUModelConfig\n",
    "\n",
    "logger = logging.getLogger(__name__)\n",
    "\n",
    "\n",
    "# Classes of all known components. If a new component should be added,\n",
    "# its class name should be listed here.\n",
    "component_classes = [\n",
    "    # utils\n",
    "    SpacyNLP,\n",
    "    MitieNLP,\n",
    "    # tokenizers\n",
    "    MitieTokenizer,\n",
    "    SpacyTokenizer,\n",
    "    WhitespaceTokenizer,\n",
    "    JiebaTokenizer,\n",
    "    # extractors\n",
    "    SpacyEntityExtractor,\n",
    "    MitieEntityExtractor,\n",
    "    CRFEntityExtractor,\n",
    "    DucklingHTTPExtractor,\n",
    "    EntitySynonymMapper,\n",
    "    # featurizers\n",
    "    SpacyFeaturizer,\n",
    "    MitieFeaturizer,\n",
    "    NGramFeaturizer,\n",
    "    RegexFeaturizer,\n",
    "    CountVectorsFeaturizer,\n",
    "    # classifiers\n",
    "    SklearnIntentClassifier,\n",
    "    MitieIntentClassifier,\n",
    "    KeywordIntentClassifier,\n",
    "    EmbeddingIntentClassifier,\n",
    "    # added this\n",
    "    FastaiClassifier,\n",
    "]\n",
    "\n",
    "# Mapping from a components name to its class to allow name based lookup.\n",
    "registered_components = {c.name: c for c in component_classes}\n",
    "\n",
    "# DEPRECATED ensures compatibility, will be remove in future versions\n",
    "old_style_names = {\n",
    "    \"nlp_spacy\": \"SpacyNLP\",\n",
    "    \"nlp_mitie\": \"MitieNLP\",\n",
    "    \"ner_spacy\": \"SpacyEntityExtractor\",\n",
    "    \"ner_mitie\": \"MitieEntityExtractor\",\n",
    "    \"ner_crf\": \"CRFEntityExtractor\",\n",
    "    \"ner_duckling_http\": \"DucklingHTTPExtractor\",\n",
    "    \"ner_synonyms\": \"EntitySynonymMapper\",\n",
    "    \"intent_featurizer_spacy\": \"SpacyFeaturizer\",\n",
    "    \"intent_featurizer_mitie\": \"MitieFeaturizer\",\n",
    "    \"intent_featurizer_ngrams\": \"NGramFeaturizer\",\n",
    "    \"intent_entity_featurizer_regex\": \"RegexFeaturizer\",\n",
    "    \"intent_featurizer_count_vectors\": \"CountVectorsFeaturizer\",\n",
    "    \"tokenizer_mitie\": \"MitieTokenizer\",\n",
    "    \"tokenizer_spacy\": \"SpacyTokenizer\",\n",
    "    \"tokenizer_whitespace\": \"WhitespaceTokenizer\",\n",
    "    \"tokenizer_jieba\": \"JiebaTokenizer\",\n",
    "    \"intent_classifier_sklearn\": \"SklearnIntentClassifier\",\n",
    "    \"intent_classifier_mitie\": \"MitieIntentClassifier\",\n",
    "    \"intent_classifier_keyword\": \"KeywordIntentClassifier\",\n",
    "    \"intent_classifier_tensorflow_embedding\": \"EmbeddingIntentClassifier\",\n",
    "}\n",
    "\n",
    "# To simplify usage, there are a couple of model templates, that already add\n",
    "# necessary components in the right order. They also implement\n",
    "# the preexisting `backends`.\n",
    "registered_pipeline_templates = {\n",
    "    \"pretrained_embeddings_spacy\": [\n",
    "        \"SpacyNLP\",\n",
    "        \"SpacyTokenizer\",\n",
    "        \"SpacyFeaturizer\",\n",
    "        \"RegexFeaturizer\",\n",
    "        \"CRFEntityExtractor\",\n",
    "        \"EntitySynonymMapper\",\n",
    "        \"SklearnIntentClassifier\",\n",
    "    ],\n",
    "    \"keyword\": [\"KeywordIntentClassifier\"],\n",
    "    \"supervised_embeddings\": [\n",
    "        \"WhitespaceTokenizer\",\n",
    "        \"RegexFeaturizer\",\n",
    "        \"CRFEntityExtractor\",\n",
    "        \"EntitySynonymMapper\",\n",
    "        \"CountVectorsFeaturizer\",\n",
    "        \"EmbeddingIntentClassifier\",\n",
    "    ],\n",
    "}\n",
    "\n",
    "\n",
    "def pipeline_template(s: Text) -> Optional[List[Dict[Text, Text]]]:\n",
    "    components = registered_pipeline_templates.get(s)\n",
    "\n",
    "    if components:\n",
    "        # converts the list of components in the configuration\n",
    "        # format expected (one json object per component)\n",
    "        return [{\"name\": c} for c in components]\n",
    "\n",
    "    else:\n",
    "        return None\n",
    "\n",
    "\n",
    "def get_component_class(component_name: Text) -> Type[\"Component\"]:\n",
    "    \"\"\"Resolve component name to a registered components class.\"\"\"\n",
    "\n",
    "    if component_name not in registered_components:\n",
    "        if component_name not in old_style_names:\n",
    "            try:\n",
    "                return class_from_module_path(component_name)\n",
    "            except Exception:\n",
    "                raise Exception(\n",
    "                    \"Failed to find component class for '{}'. Unknown \"\n",
    "                    \"component name. Check your configured pipeline and make \"\n",
    "                    \"sure the mentioned component is not misspelled. If you \"\n",
    "                    \"are creating your own component, make sure it is either \"\n",
    "                    \"listed as part of the `component_classes` in \"\n",
    "                    \"`rasa.nlu.registry.py` or is a proper name of a class \"\n",
    "                    \"in a module.\".format(component_name)\n",
    "                )\n",
    "        else:\n",
    "            # DEPRECATED ensures compatibility, remove in future versions\n",
    "            logger.warning(\n",
    "                \"DEPRECATION warning: your nlu config file \"\n",
    "                \"contains old style component name `{}`, \"\n",
    "                \"you should change it to its class name: `{}`.\"\n",
    "                \"\".format(component_name, old_style_names[component_name])\n",
    "            )\n",
    "            component_name = old_style_names[component_name]\n",
    "\n",
    "    return registered_components[component_name]\n",
    "\n",
    "\n",
    "def load_component_by_meta(\n",
    "    component_meta: Dict[Text, Any],\n",
    "    model_dir: Text,\n",
    "    metadata: Metadata,\n",
    "    cached_component: Optional[\"Component\"],\n",
    "    **kwargs: Any\n",
    ") -> Optional[\"Component\"]:\n",
    "    \"\"\"Resolves a component and calls its load method.\n",
    "\n",
    "    Inits it based on a previously persisted model.\n",
    "    \"\"\"\n",
    "\n",
    "    # try to get class name first, else create by name\n",
    "    component_name = component_meta.get(\"class\", component_meta[\"name\"])\n",
    "    component_class = get_component_class(component_name)\n",
    "    return component_class.load(\n",
    "        component_meta, model_dir, metadata, cached_component, **kwargs\n",
    "    )\n",
    "\n",
    "\n",
    "def create_component_by_config(\n",
    "    component_config: Dict[Text, Any], config: \"RasaNLUModelConfig\"\n",
    ") -> Optional[\"Component\"]:\n",
    "    \"\"\"Resolves a component and calls it's create method.\n",
    "\n",
    "    Inits it based on a previously persisted model.\n",
    "    \"\"\"\n",
    "\n",
    "    # try to get class name first, else create by name\n",
    "    component_name = component_config.get(\"class\", component_config[\"name\"])\n",
    "    component_class = get_component_class(component_name)\n",
    "    return component_class.create(component_config, config)"
   ]
  },
  {
   "cell_type": "markdown",
   "metadata": {},
   "source": [
    "### Actually create our FastaiClassifer component"
   ]
  },
  {
   "cell_type": "code",
   "execution_count": 186,
   "metadata": {},
   "outputs": [
    {
     "name": "stdout",
     "output_type": "stream",
     "text": [
      "Overwriting /opt/anaconda3/lib/python3.7/site-packages/rasa/nlu/classifiers/fastai_nlu.py\n"
     ]
    }
   ],
   "source": [
    "%%writefile /opt/anaconda3/lib/python3.7/site-packages/rasa/nlu/classifiers/fastai_nlu.py\n",
    "from rasa.nlu.components import Component\n",
    "from rasa.nlu import utils\n",
    "from rasa.nlu.model import Metadata\n",
    "\n",
    "from fastai import *\n",
    "from fastai.text import *\n",
    "import os\n",
    "\n",
    "import typing\n",
    "from typing import Any, Optional, Text, Dict\n",
    "\n",
    "\n",
    "class FastaiClassifier(Component):\n",
    "    \"\"\"A pre-trained fastai classifier component\"\"\"\n",
    "\n",
    "    name = \"fastai-nlu\"\n",
    "    provides = [\"intent\"]\n",
    "    requires = []\n",
    "    defaults = {}\n",
    "    language_list = [\"en\"]\n",
    "    path = Path('/home/jupyter/chat-data')\n",
    "    data_bunch = 'data_clas_export_ubuntu_7_28.pkl'\n",
    "    trained_model = 'chat-ubuntu-clas-7-28'\n",
    "    encoder = 'chat-ubuntu-lm-encoder-7-28'\n",
    "    data_clas = load_data(path, data_bunch, bs=32)\n",
    "    clas_learn = text_classifier_learner(data_clas, AWD_LSTM, drop_mult=0.5)\n",
    "    clas_learn.load(trained_model)\n",
    "    clas_learn.load_encoder(encoder)\n",
    "\n",
    "    def __init__(self, component_config=None):\n",
    "        super(FastaiClassifier, self).__init__(component_config)\n",
    "\n",
    "    def train(self, training_data, cfg, **kwargs):\n",
    "        \"\"\"Not needed, because the the model is pretrained\"\"\"\n",
    "        pass\n",
    "\n",
    "\n",
    "    def process(self, message, **kwargs):\n",
    "        \"\"\"Retrieve the text message, pass it to the classifier\n",
    "            and append the prediction results to the message class.\"\"\"\n",
    "        \n",
    "#         see example: https://github.com/RasaHQ/rasa/blob/master/rasa/nlu/classifiers/sklearn_intent_classifier.py#L136\n",
    "        \n",
    "#         print(\"message.text!!\", message.text)\n",
    "        predictions = FastaiClassifier.clas_learn.predict(message.text)\n",
    "        sorted_predictions = sorted(\n",
    "            zip(FastaiClassifier.clas_learn.data.classes, map(float, predictions[2])),\n",
    "            key=lambda p: p[1],\n",
    "            reverse=True\n",
    "        )\n",
    "#         print(\"sorted_predictions!\", sorted_predictions)\n",
    "        intent = {\"name\": sorted_predictions[0][0], \"confidence\": sorted_predictions[0][1]}\n",
    "\n",
    "        intent_ranking = [\n",
    "            {\"name\": intent_name, \"confidence\": score}\n",
    "            for intent_name, score in sorted_predictions\n",
    "        ]\n",
    "#         print(\"fastai intent_ranking!!\", intent_ranking)\n",
    "        \n",
    "        message.set(\"intent\", intent, add_to_output=True)\n",
    "        message.set(\"intent_ranking\", intent_ranking, add_to_output=True)\n",
    "\n",
    "    def persist(self, file_name, model_dir):\n",
    "        \"\"\"Pass because a pre-trained model is already persisted\"\"\"\n",
    "\n",
    "        pass\n",
    "\n"
   ]
  },
  {
   "cell_type": "markdown",
   "metadata": {},
   "source": [
    "### Install spacy en libraries since using in the pipeline"
   ]
  },
  {
   "cell_type": "code",
   "execution_count": 118,
   "metadata": {},
   "outputs": [],
   "source": [
    "# !python -m spacy download en_core_web_md\n",
    "# !python -m spacy link en_core_web_md en"
   ]
  },
  {
   "cell_type": "markdown",
   "metadata": {},
   "source": [
    "### Not necessary to convert rasa nlu training data from json to md but did it here so have both formats"
   ]
  },
  {
   "cell_type": "code",
   "execution_count": 127,
   "metadata": {},
   "outputs": [
    {
     "name": "stdout",
     "output_type": "stream",
     "text": [
      "2019-07-28 21:32:45 \u001b[1;30mINFO    \u001b[0m \u001b[34mrasa.nlu.training_data.loading\u001b[0m  - Training data format of '/home/jupyter/rasa-fastai/data/train-test-split-ubuntu/training_data.json' is 'rasa_nlu'.\r\n",
      "2019-07-28 21:32:45 \u001b[1;30mINFO    \u001b[0m \u001b[34mrasa.nlu.training_data.training_data\u001b[0m  - Training data stats: \r\n",
      "\t- intent examples: 127 (5 distinct intents)\r\n",
      "\t- Found intents: 'Shutdown Computer', 'Setup Printer', 'Make Update', 'Software Recommendation', 'None'\r\n",
      "\t- entity examples: 58 (3 distinct entities)\r\n",
      "\t- found entities: 'Printer', 'SoftwareName', 'UbuntuVersion'\r\n",
      "\r\n"
     ]
    }
   ],
   "source": [
    "! rasa data convert nlu --format md --data '/home/jupyter/rasa-fastai/data/train-test-split-ubuntu/training_data.json' --out '/home/jupyter/rasa-fastai/data/train-test-split-ubuntu/training_data.md'\n",
    "\n"
   ]
  },
  {
   "cell_type": "code",
   "execution_count": 128,
   "metadata": {},
   "outputs": [
    {
     "name": "stdout",
     "output_type": "stream",
     "text": [
      "2019-07-28 21:33:53 \u001b[1;30mINFO    \u001b[0m \u001b[34mrasa.nlu.training_data.loading\u001b[0m  - Training data format of '/home/jupyter/rasa-fastai/data/train-test-split-ubuntu/test_data.json' is 'rasa_nlu'.\r\n",
      "2019-07-28 21:33:53 \u001b[1;30mINFO    \u001b[0m \u001b[34mrasa.nlu.training_data.training_data\u001b[0m  - Training data stats: \r\n",
      "\t- intent examples: 35 (5 distinct intents)\r\n",
      "\t- Found intents: 'Software Recommendation', 'Shutdown Computer', 'None', 'Make Update', 'Setup Printer'\r\n",
      "\t- entity examples: 18 (3 distinct entities)\r\n",
      "\t- found entities: 'Printer', 'UbuntuVersion', 'SoftwareName'\r\n",
      "\r\n"
     ]
    }
   ],
   "source": [
    "! rasa data convert nlu --format md --data '/home/jupyter/rasa-fastai/data/train-test-split-ubuntu/test_data.json' --out '/home/jupyter/rasa-fastai/data/train-test-split-ubuntu/test_data.md'\n"
   ]
  },
  {
   "cell_type": "markdown",
   "metadata": {},
   "source": [
    "### Even though our fastai model is pre-trained, need to run rasa train so that pipeline as a whole is trained and rasa creates a zipped model file which will then be used in testing"
   ]
  },
  {
   "cell_type": "code",
   "execution_count": 187,
   "metadata": {},
   "outputs": [
    {
     "name": "stdout",
     "output_type": "stream",
     "text": [
      "\u001b[94mTraining NLU model...\u001b[0m\n",
      "2019-07-28 22:33:54 \u001b[1;30mINFO    \u001b[0m \u001b[34mrasa.nlu.utils.spacy_utils\u001b[0m  - Trying to load spacy model with name 'en'\n",
      "2019-07-28 22:34:06 \u001b[1;30mINFO    \u001b[0m \u001b[34mrasa.nlu.components\u001b[0m  - Added 'SpacyNLP' to component cache. Key 'SpacyNLP-en'.\n",
      "2019-07-28 22:34:06 \u001b[1;30mINFO    \u001b[0m \u001b[34mrasa.nlu.training_data.loading\u001b[0m  - Training data format of '/tmp/tmpt5jujn91/872cd03db7824aecb25041444e0cff38_training_data.md' is 'md'.\n",
      "2019-07-28 22:34:06 \u001b[1;30mINFO    \u001b[0m \u001b[34mrasa.nlu.training_data.training_data\u001b[0m  - Training data stats: \n",
      "\t- intent examples: 127 (5 distinct intents)\n",
      "\t- Found intents: 'Make Update', 'Setup Printer', 'None', 'Shutdown Computer', 'Software Recommendation'\n",
      "\t- entity examples: 58 (3 distinct entities)\n",
      "\t- found entities: 'Printer', 'SoftwareName', 'UbuntuVersion'\n",
      "\n",
      "2019-07-28 22:34:06 \u001b[1;30mINFO    \u001b[0m \u001b[34mrasa.nlu.model\u001b[0m  - Starting to train component SpacyNLP\n",
      "2019-07-28 22:34:06 \u001b[1;30mINFO    \u001b[0m \u001b[34mrasa.nlu.model\u001b[0m  - Finished training component.\n",
      "2019-07-28 22:34:06 \u001b[1;30mINFO    \u001b[0m \u001b[34mrasa.nlu.model\u001b[0m  - Starting to train component SpacyTokenizer\n",
      "2019-07-28 22:34:06 \u001b[1;30mINFO    \u001b[0m \u001b[34mrasa.nlu.model\u001b[0m  - Finished training component.\n",
      "2019-07-28 22:34:06 \u001b[1;30mINFO    \u001b[0m \u001b[34mrasa.nlu.model\u001b[0m  - Starting to train component SpacyFeaturizer\n",
      "2019-07-28 22:34:06 \u001b[1;30mINFO    \u001b[0m \u001b[34mrasa.nlu.model\u001b[0m  - Finished training component.\n",
      "2019-07-28 22:34:06 \u001b[1;30mINFO    \u001b[0m \u001b[34mrasa.nlu.model\u001b[0m  - Starting to train component RegexFeaturizer\n",
      "2019-07-28 22:34:06 \u001b[1;30mINFO    \u001b[0m \u001b[34mrasa.nlu.model\u001b[0m  - Finished training component.\n",
      "2019-07-28 22:34:06 \u001b[1;30mINFO    \u001b[0m \u001b[34mrasa.nlu.model\u001b[0m  - Starting to train component CRFEntityExtractor\n",
      "2019-07-28 22:34:06 \u001b[1;30mWARNING \u001b[0m \u001b[34mrasa.nlu.extractors.crf_entity_extractor\u001b[0m  - \u001b[33mMisaligned entity annotation for '16.04 lts16.04 lts' in sentence 'How to upgrade from 16.04 LTS16.04 LTS to 16.04.1 LTS' with intent 'Make Update'. Make sure the start and end values of the annotated training examples end at token boundaries (e.g. don't include trailing whitespaces or punctuation).\u001b[0m\n",
      "2019-07-28 22:34:06 \u001b[1;30mWARNING \u001b[0m \u001b[34mrasa.nlu.extractors.crf_entity_extractor\u001b[0m  - \u001b[33mMisaligned entity annotation for '16.04[](ubuntuversion:16.04.1)upgrading' in sentence 'Upgrading 16.04[](UbuntuVersion:16.04.1)Upgrading 16.04 to 16.04.1' with intent 'Make Update'. Make sure the start and end values of the annotated training examples end at token boundaries (e.g. don't include trailing whitespaces or punctuation).\u001b[0m\n",
      "2019-07-28 22:34:06 \u001b[1;30mWARNING \u001b[0m \u001b[34mrasa.nlu.extractors.crf_entity_extractor\u001b[0m  - \u001b[33mMisaligned entity annotation for '10.10' in sentence 'How to upgrade from Ubuntu 10.10 to 11.04?' with intent 'Make Update'. Make sure the start and end values of the annotated training examples end at token boundaries (e.g. don't include trailing whitespaces or punctuation).\u001b[0m\n",
      "2019-07-28 22:34:06 \u001b[1;30mWARNING \u001b[0m \u001b[34mrasa.nlu.extractors.crf_entity_extractor\u001b[0m  - \u001b[33mMisaligned entity annotation for '12.0412.04' in sentence 'Upgrade 12.0412.04 to 12.10 using startup disk' with intent 'Make Update'. Make sure the start and end values of the annotated training examples end at token boundaries (e.g. don't include trailing whitespaces or punctuation).\u001b[0m\n",
      "2019-07-28 22:34:06 \u001b[1;30mWARNING \u001b[0m \u001b[34mrasa.nlu.extractors.crf_entity_extractor\u001b[0m  - \u001b[33mMisaligned entity annotation for '12.0412.04' in sentence 'Upgrade from 12.0412.04 to 12.10 without losing files?' with intent 'Make Update'. Make sure the start and end values of the annotated training examples end at token boundaries (e.g. don't include trailing whitespaces or punctuation).\u001b[0m\n",
      "2019-07-28 22:34:06 \u001b[1;30mWARNING \u001b[0m \u001b[34mrasa.nlu.extractors.crf_entity_extractor\u001b[0m  - \u001b[33mMisaligned entity annotation for '14.04' in sentence 'Upgrading from Ubuntu 14.04 to [](UbuntuVersion:15.04).04 to 15.04' with intent 'Make Update'. Make sure the start and end values of the annotated training examples end at token boundaries (e.g. don't include trailing whitespaces or punctuation).\u001b[0m\n",
      "2019-07-28 22:34:06 \u001b[1;30mWARNING \u001b[0m \u001b[34mrasa.nlu.extractors.crf_entity_extractor\u001b[0m  - \u001b[33mMisaligned entity annotation for '1414.04 final from 14.04 beta' in sentence 'How can i upgrade to Ubuntu 1414.04 final from 14.04 Beta correctly?' with intent 'Make Update'. Make sure the start and end values of the annotated training examples end at token boundaries (e.g. don't include trailing whitespaces or punctuation).\u001b[0m\n",
      "2019-07-28 22:34:06 \u001b[1;30mWARNING \u001b[0m \u001b[34mrasa.nlu.extractors.crf_entity_extractor\u001b[0m  - \u001b[33mMisaligned entity annotation for '10.10' in sentence 'Upgrading from 10.10 to 11.04 how much space is needed?' with intent 'Make Update'. Make sure the start and end values of the annotated training examples end at token boundaries (e.g. don't include trailing whitespaces or punctuation).\u001b[0m\n",
      "2019-07-28 22:34:06 \u001b[1;30mWARNING \u001b[0m \u001b[34mrasa.nlu.extractors.crf_entity_extractor\u001b[0m  - \u001b[33mMisaligned entity annotation for '6.06' in sentence 'On really old Ubuntu 6.06 - How to upgrade' with intent 'Software Recommendation'. Make sure the start and end values of the annotated training examples end at token boundaries (e.g. don't include trailing whitespaces or punctuation).\u001b[0m\n",
      "2019-07-28 22:34:06 \u001b[1;30mINFO    \u001b[0m \u001b[34mrasa.nlu.model\u001b[0m  - Finished training component.\n",
      "2019-07-28 22:34:06 \u001b[1;30mINFO    \u001b[0m \u001b[34mrasa.nlu.model\u001b[0m  - Starting to train component EntitySynonymMapper\n",
      "2019-07-28 22:34:06 \u001b[1;30mINFO    \u001b[0m \u001b[34mrasa.nlu.model\u001b[0m  - Finished training component.\n",
      "2019-07-28 22:34:06 \u001b[1;30mINFO    \u001b[0m \u001b[34mrasa.nlu.model\u001b[0m  - Starting to train component fastai-nlu\n",
      "2019-07-28 22:34:06 \u001b[1;30mINFO    \u001b[0m \u001b[34mrasa.nlu.model\u001b[0m  - Finished training component.\n",
      "2019-07-28 22:34:06 \u001b[1;30mINFO    \u001b[0m \u001b[34mrasa.nlu.model\u001b[0m  - Successfully saved model into '/tmp/tmpvajtpxkr/nlu'\n",
      "\u001b[94mNLU model training completed.\u001b[0m\n",
      "\u001b[92mYour Rasa model is trained and saved at '/home/jupyter/rasa-fastai/notebooks/models/nlu-20190728-223406.tar.gz'.\u001b[0m\n"
     ]
    }
   ],
   "source": [
    "! rasa train --force nlu \\\n",
    "--nlu '/home/jupyter/rasa-fastai/data/train-test-split-ubuntu/training_data.md' \\\n",
    "--config ../fastai_config.yml\n",
    "\n",
    "\n"
   ]
  },
  {
   "cell_type": "markdown",
   "metadata": {},
   "source": [
    "### Test our pipeline with the fastai classifier on the test set"
   ]
  },
  {
   "cell_type": "code",
   "execution_count": 188,
   "metadata": {},
   "outputs": [
    {
     "name": "stdout",
     "output_type": "stream",
     "text": [
      "2019-07-28 22:34:57 \u001b[1;30mINFO    \u001b[0m \u001b[34mrasa.nlu.components\u001b[0m  - Added 'SpacyNLP' to component cache. Key 'SpacyNLP-en'.\n",
      "2019-07-28 22:34:57 \u001b[1;30mINFO    \u001b[0m \u001b[34mrasa.nlu.training_data.loading\u001b[0m  - Training data format of '/tmp/tmpvyu2h8fk/624ef76b679c4f82a202d5793bff41de_test_data.md' is 'md'.\n",
      "2019-07-28 22:34:57 \u001b[1;30mINFO    \u001b[0m \u001b[34mrasa.nlu.training_data.training_data\u001b[0m  - Training data stats: \n",
      "\t- intent examples: 35 (5 distinct intents)\n",
      "\t- Found intents: 'Software Recommendation', 'Shutdown Computer', 'Setup Printer', 'Make Update', 'None'\n",
      "\t- entity examples: 18 (3 distinct entities)\n",
      "\t- found entities: 'Printer', 'SoftwareName', 'UbuntuVersion'\n",
      "\n",
      "2019-07-28 22:34:57 \u001b[1;30mINFO    \u001b[0m \u001b[34mrasa.nlu.test\u001b[0m  - Running model for predictions:\n",
      "100%|███████████████████████████████████████████| 35/35 [00:01<00:00, 18.31it/s]\n",
      "2019-07-28 22:34:59 \u001b[1;30mINFO    \u001b[0m \u001b[34mrasa.nlu.test\u001b[0m  - Intent evaluation results:\n",
      "2019-07-28 22:34:59 \u001b[1;30mINFO    \u001b[0m \u001b[34mrasa.nlu.test\u001b[0m  - Intent Evaluation: Only considering those 35 examples that have a defined intent out of 35 examples\n",
      "/opt/anaconda3/lib/python3.7/site-packages/sklearn/metrics/classification.py:1143: UndefinedMetricWarning: Precision and F-score are ill-defined and being set to 0.0 in labels with no predicted samples.\n",
      "  'precision', 'predicted', average, warn_for)\n",
      "/opt/anaconda3/lib/python3.7/site-packages/sklearn/metrics/classification.py:1143: UndefinedMetricWarning: Precision is ill-defined and being set to 0.0 in labels with no predicted samples.\n",
      "  'precision', 'predicted', average, warn_for)\n",
      "/opt/anaconda3/lib/python3.7/site-packages/sklearn/metrics/classification.py:1143: UndefinedMetricWarning: F-score is ill-defined and being set to 0.0 in labels with no predicted samples.\n",
      "  'precision', 'predicted', average, warn_for)\n",
      "2019-07-28 22:34:59 \u001b[1;30mINFO    \u001b[0m \u001b[34mrasa.nlu.test\u001b[0m  - F1-Score:  0.9164835164835166\n",
      "2019-07-28 22:34:59 \u001b[1;30mINFO    \u001b[0m \u001b[34mrasa.nlu.test\u001b[0m  - Precision: 0.8938775510204081\n",
      "2019-07-28 22:34:59 \u001b[1;30mINFO    \u001b[0m \u001b[34mrasa.nlu.test\u001b[0m  - Accuracy:  0.9428571428571428\n",
      "2019-07-28 22:34:59 \u001b[1;30mINFO    \u001b[0m \u001b[34mrasa.nlu.test\u001b[0m  - Classification report: \n",
      "                         precision    recall  f1-score   support\n",
      "\n",
      "            Make Update       1.00      1.00      1.00        10\n",
      "                   None       0.00      0.00      0.00         2\n",
      "          Setup Printer       1.00      1.00      1.00         5\n",
      "      Shutdown Computer       1.00      1.00      1.00         6\n",
      "Software Recommendation       0.86      1.00      0.92        12\n",
      "\n",
      "              micro avg       0.94      0.94      0.94        35\n",
      "              macro avg       0.77      0.80      0.78        35\n",
      "           weighted avg       0.89      0.94      0.92        35\n",
      "\n",
      "2019-07-28 22:34:59 \u001b[1;30mINFO    \u001b[0m \u001b[34mrasa.nlu.test\u001b[0m  - Model prediction errors saved to ./ask-ubuntu-fastai-results/errors.json.\n",
      "2019-07-28 22:34:59 \u001b[1;30mINFO    \u001b[0m \u001b[34mrasa.nlu.test\u001b[0m  - Confusion matrix, without normalization: \n",
      "[[10  0  0  0  0]\n",
      " [ 0  0  0  0  2]\n",
      " [ 0  0  5  0  0]\n",
      " [ 0  0  0  6  0]\n",
      " [ 0  0  0  0 12]]\n",
      "Figure(2000x2000)\n",
      "Figure(1000x1000)\n",
      "2019-07-28 22:35:00 \u001b[1;30mINFO    \u001b[0m \u001b[34mrasa.nlu.test\u001b[0m  - Entity evaluation results:\n",
      "2019-07-28 22:35:00 \u001b[1;30mINFO    \u001b[0m \u001b[34mrasa.nlu.test\u001b[0m  - Evaluation for entity extractor: CRFEntityExtractor \n",
      "2019-07-28 22:35:00 \u001b[1;30mINFO    \u001b[0m \u001b[34mrasa.nlu.test\u001b[0m  - F1-Score:  0.9295739130487463\n",
      "2019-07-28 22:35:00 \u001b[1;30mINFO    \u001b[0m \u001b[34mrasa.nlu.test\u001b[0m  - Precision: 0.929887292480068\n",
      "2019-07-28 22:35:00 \u001b[1;30mINFO    \u001b[0m \u001b[34mrasa.nlu.test\u001b[0m  - Accuracy:  0.9385026737967914\n",
      "2019-07-28 22:35:00 \u001b[1;30mINFO    \u001b[0m \u001b[34mrasa.nlu.test\u001b[0m  - Classification report: \n",
      "               precision    recall  f1-score   support\n",
      "\n",
      "      Printer       1.00      0.40      0.57        10\n",
      " SoftwareName       0.00      0.00      0.00         3\n",
      "UbuntuVersion       0.83      0.66      0.73        29\n",
      "    no_entity       0.95      0.99      0.97       332\n",
      "\n",
      "    micro avg       0.94      0.94      0.94       374\n",
      "    macro avg       0.69      0.51      0.57       374\n",
      " weighted avg       0.93      0.94      0.93       374\n",
      "\n"
     ]
    }
   ],
   "source": [
    "! rasa test nlu --config ../fastai_config.yml \\\n",
    "-u '/home/jupyter/rasa-fastai/data/train-test-split-ubuntu/test_data.md' \\\n",
    "--model '/home/jupyter/rasa-fastai/notebooks/models/nlu-20190728-223406.tar.gz' \\\n",
    "--errors './ask-ubuntu-fastai-results/errors.json' \\\n",
    "--confmat './ask-ubuntu-fastai-results/confmat.png'\n",
    "\n"
   ]
  },
  {
   "cell_type": "markdown",
   "metadata": {},
   "source": [
    "### Accuracy for the fastai_classifier:0.9428571428571428"
   ]
  },
  {
   "cell_type": "code",
   "execution_count": 189,
   "metadata": {},
   "outputs": [
    {
     "name": "stdout",
     "output_type": "stream",
     "text": [
      "[\r\n",
      "  {\r\n",
      "    \"text\": \"Security enhancements prevent mounting /dev/sdb1\",\r\n",
      "    \"intent\": \"None\",\r\n",
      "    \"intent_prediction\": {\r\n",
      "      \"name\": \"Software Recommendation\",\r\n",
      "      \"confidence\": 0.35914137959480286\r\n",
      "    }\r\n",
      "  },\r\n",
      "  {\r\n",
      "    \"text\": \"How to provide user permission to read and write on /dev/sdax? What is the syntax?\",\r\n",
      "    \"intent\": \"None\",\r\n",
      "    \"intent_prediction\": {\r\n",
      "      \"name\": \"Software Recommendation\",\r\n",
      "      \"confidence\": 0.3018698990345001\r\n",
      "    }\r\n",
      "  }\r\n",
      "]"
     ]
    }
   ],
   "source": [
    "!head -n 60 'ask-ubuntu-fastai-results/errors.json'"
   ]
  },
  {
   "cell_type": "code",
   "execution_count": 190,
   "metadata": {},
   "outputs": [
    {
     "data": {
      "text/html": [
       "<img src=\"./ask-ubuntu-fastai-results/confmat.png\" width=\"800\" height=\"800\">\n"
      ],
      "text/plain": [
       "<IPython.core.display.HTML object>"
      ]
     },
     "metadata": {},
     "output_type": "display_data"
    }
   ],
   "source": [
    "%%html\n",
    "<img src=\"./ask-ubuntu-fastai-results/confmat.png\" width=\"800\" height=\"800\">"
   ]
  },
  {
   "cell_type": "code",
   "execution_count": null,
   "metadata": {},
   "outputs": [],
   "source": []
  },
  {
   "cell_type": "code",
   "execution_count": null,
   "metadata": {},
   "outputs": [],
   "source": []
  },
  {
   "cell_type": "markdown",
   "metadata": {},
   "source": [
    "### Train and test with rasa default sklearn pipeline"
   ]
  },
  {
   "cell_type": "code",
   "execution_count": 191,
   "metadata": {},
   "outputs": [],
   "source": [
    "pretrained_embeddings_spacy_config = \"\"\"language: \"en\"\n",
    "\n",
    "pipeline:\n",
    "- name: \"SpacyNLP\"\n",
    "- name: \"SpacyTokenizer\"\n",
    "- name: \"SpacyFeaturizer\"\n",
    "- name: \"RegexFeaturizer\"\n",
    "- name: \"CRFEntityExtractor\"\n",
    "- name: \"EntitySynonymMapper\"\n",
    "- name: \"SklearnIntentClassifier\"\n",
    "    \n",
    "policies:\n",
    "  - name: MemoizationPolicy\n",
    "  - name: KerasPolicy\n",
    "  - name: MappingPolicy\"\"\""
   ]
  },
  {
   "cell_type": "code",
   "execution_count": 192,
   "metadata": {},
   "outputs": [
    {
     "name": "stdout",
     "output_type": "stream",
     "text": [
      "Writing 'pretrained_embeddings_spacy_config' (str) to file '../pretrained_embeddings_spacy_config.yml'.\n"
     ]
    }
   ],
   "source": [
    "store pretrained_embeddings_spacy_config > ../pretrained_embeddings_spacy_config.yml"
   ]
  },
  {
   "cell_type": "code",
   "execution_count": 193,
   "metadata": {},
   "outputs": [
    {
     "name": "stdout",
     "output_type": "stream",
     "text": [
      "\u001b[94mTraining NLU model...\u001b[0m\n",
      "2019-07-28 22:36:36 \u001b[1;30mINFO    \u001b[0m \u001b[34mrasa.nlu.utils.spacy_utils\u001b[0m  - Trying to load spacy model with name 'en'\n",
      "2019-07-28 22:36:49 \u001b[1;30mINFO    \u001b[0m \u001b[34mrasa.nlu.components\u001b[0m  - Added 'SpacyNLP' to component cache. Key 'SpacyNLP-en'.\n",
      "2019-07-28 22:36:49 \u001b[1;30mINFO    \u001b[0m \u001b[34mrasa.nlu.training_data.loading\u001b[0m  - Training data format of '/tmp/tmpuwysdtsn/bd7ca768a1324c169467cd00758c63a3_training_data.md' is 'md'.\n",
      "2019-07-28 22:36:49 \u001b[1;30mINFO    \u001b[0m \u001b[34mrasa.nlu.training_data.training_data\u001b[0m  - Training data stats: \n",
      "\t- intent examples: 127 (5 distinct intents)\n",
      "\t- Found intents: 'Setup Printer', 'Shutdown Computer', 'Make Update', 'None', 'Software Recommendation'\n",
      "\t- entity examples: 58 (3 distinct entities)\n",
      "\t- found entities: 'UbuntuVersion', 'SoftwareName', 'Printer'\n",
      "\n",
      "2019-07-28 22:36:49 \u001b[1;30mINFO    \u001b[0m \u001b[34mrasa.nlu.model\u001b[0m  - Starting to train component SpacyNLP\n",
      "2019-07-28 22:36:49 \u001b[1;30mINFO    \u001b[0m \u001b[34mrasa.nlu.model\u001b[0m  - Finished training component.\n",
      "2019-07-28 22:36:49 \u001b[1;30mINFO    \u001b[0m \u001b[34mrasa.nlu.model\u001b[0m  - Starting to train component SpacyTokenizer\n",
      "2019-07-28 22:36:49 \u001b[1;30mINFO    \u001b[0m \u001b[34mrasa.nlu.model\u001b[0m  - Finished training component.\n",
      "2019-07-28 22:36:49 \u001b[1;30mINFO    \u001b[0m \u001b[34mrasa.nlu.model\u001b[0m  - Starting to train component SpacyFeaturizer\n",
      "2019-07-28 22:36:49 \u001b[1;30mINFO    \u001b[0m \u001b[34mrasa.nlu.model\u001b[0m  - Finished training component.\n",
      "2019-07-28 22:36:49 \u001b[1;30mINFO    \u001b[0m \u001b[34mrasa.nlu.model\u001b[0m  - Starting to train component RegexFeaturizer\n",
      "2019-07-28 22:36:49 \u001b[1;30mINFO    \u001b[0m \u001b[34mrasa.nlu.model\u001b[0m  - Finished training component.\n",
      "2019-07-28 22:36:49 \u001b[1;30mINFO    \u001b[0m \u001b[34mrasa.nlu.model\u001b[0m  - Starting to train component CRFEntityExtractor\n",
      "2019-07-28 22:36:49 \u001b[1;30mWARNING \u001b[0m \u001b[34mrasa.nlu.extractors.crf_entity_extractor\u001b[0m  - \u001b[33mMisaligned entity annotation for '16.04 lts16.04 lts' in sentence 'How to upgrade from 16.04 LTS16.04 LTS to 16.04.1 LTS' with intent 'Make Update'. Make sure the start and end values of the annotated training examples end at token boundaries (e.g. don't include trailing whitespaces or punctuation).\u001b[0m\n",
      "2019-07-28 22:36:49 \u001b[1;30mWARNING \u001b[0m \u001b[34mrasa.nlu.extractors.crf_entity_extractor\u001b[0m  - \u001b[33mMisaligned entity annotation for '16.04[](ubuntuversion:16.04.1)upgrading' in sentence 'Upgrading 16.04[](UbuntuVersion:16.04.1)Upgrading 16.04 to 16.04.1' with intent 'Make Update'. Make sure the start and end values of the annotated training examples end at token boundaries (e.g. don't include trailing whitespaces or punctuation).\u001b[0m\n",
      "2019-07-28 22:36:49 \u001b[1;30mWARNING \u001b[0m \u001b[34mrasa.nlu.extractors.crf_entity_extractor\u001b[0m  - \u001b[33mMisaligned entity annotation for '10.10' in sentence 'How to upgrade from Ubuntu 10.10 to 11.04?' with intent 'Make Update'. Make sure the start and end values of the annotated training examples end at token boundaries (e.g. don't include trailing whitespaces or punctuation).\u001b[0m\n",
      "2019-07-28 22:36:49 \u001b[1;30mWARNING \u001b[0m \u001b[34mrasa.nlu.extractors.crf_entity_extractor\u001b[0m  - \u001b[33mMisaligned entity annotation for '12.0412.04' in sentence 'Upgrade 12.0412.04 to 12.10 using startup disk' with intent 'Make Update'. Make sure the start and end values of the annotated training examples end at token boundaries (e.g. don't include trailing whitespaces or punctuation).\u001b[0m\n",
      "2019-07-28 22:36:49 \u001b[1;30mWARNING \u001b[0m \u001b[34mrasa.nlu.extractors.crf_entity_extractor\u001b[0m  - \u001b[33mMisaligned entity annotation for '12.0412.04' in sentence 'Upgrade from 12.0412.04 to 12.10 without losing files?' with intent 'Make Update'. Make sure the start and end values of the annotated training examples end at token boundaries (e.g. don't include trailing whitespaces or punctuation).\u001b[0m\n",
      "2019-07-28 22:36:49 \u001b[1;30mWARNING \u001b[0m \u001b[34mrasa.nlu.extractors.crf_entity_extractor\u001b[0m  - \u001b[33mMisaligned entity annotation for '14.04' in sentence 'Upgrading from Ubuntu 14.04 to [](UbuntuVersion:15.04).04 to 15.04' with intent 'Make Update'. Make sure the start and end values of the annotated training examples end at token boundaries (e.g. don't include trailing whitespaces or punctuation).\u001b[0m\n",
      "2019-07-28 22:36:49 \u001b[1;30mWARNING \u001b[0m \u001b[34mrasa.nlu.extractors.crf_entity_extractor\u001b[0m  - \u001b[33mMisaligned entity annotation for '1414.04 final from 14.04 beta' in sentence 'How can i upgrade to Ubuntu 1414.04 final from 14.04 Beta correctly?' with intent 'Make Update'. Make sure the start and end values of the annotated training examples end at token boundaries (e.g. don't include trailing whitespaces or punctuation).\u001b[0m\n",
      "2019-07-28 22:36:49 \u001b[1;30mWARNING \u001b[0m \u001b[34mrasa.nlu.extractors.crf_entity_extractor\u001b[0m  - \u001b[33mMisaligned entity annotation for '10.10' in sentence 'Upgrading from 10.10 to 11.04 how much space is needed?' with intent 'Make Update'. Make sure the start and end values of the annotated training examples end at token boundaries (e.g. don't include trailing whitespaces or punctuation).\u001b[0m\n",
      "2019-07-28 22:36:49 \u001b[1;30mWARNING \u001b[0m \u001b[34mrasa.nlu.extractors.crf_entity_extractor\u001b[0m  - \u001b[33mMisaligned entity annotation for '6.06' in sentence 'On really old Ubuntu 6.06 - How to upgrade' with intent 'Software Recommendation'. Make sure the start and end values of the annotated training examples end at token boundaries (e.g. don't include trailing whitespaces or punctuation).\u001b[0m\n",
      "2019-07-28 22:36:49 \u001b[1;30mINFO    \u001b[0m \u001b[34mrasa.nlu.model\u001b[0m  - Finished training component.\n",
      "2019-07-28 22:36:49 \u001b[1;30mINFO    \u001b[0m \u001b[34mrasa.nlu.model\u001b[0m  - Starting to train component EntitySynonymMapper\n",
      "2019-07-28 22:36:49 \u001b[1;30mINFO    \u001b[0m \u001b[34mrasa.nlu.model\u001b[0m  - Finished training component.\n",
      "2019-07-28 22:36:49 \u001b[1;30mINFO    \u001b[0m \u001b[34mrasa.nlu.model\u001b[0m  - Starting to train component SklearnIntentClassifier\n",
      "Fitting 2 folds for each of 6 candidates, totalling 12 fits\n",
      "[Parallel(n_jobs=1)]: Using backend SequentialBackend with 1 concurrent workers.\n",
      "/opt/anaconda3/lib/python3.7/site-packages/sklearn/metrics/classification.py:1143: UndefinedMetricWarning: F-score is ill-defined and being set to 0.0 in labels with no predicted samples.\n",
      "  'precision', 'predicted', average, warn_for)\n",
      "/opt/anaconda3/lib/python3.7/site-packages/sklearn/metrics/classification.py:1143: UndefinedMetricWarning: F-score is ill-defined and being set to 0.0 in labels with no predicted samples.\n",
      "  'precision', 'predicted', average, warn_for)\n",
      "/opt/anaconda3/lib/python3.7/site-packages/sklearn/metrics/classification.py:1143: UndefinedMetricWarning: F-score is ill-defined and being set to 0.0 in labels with no predicted samples.\n",
      "  'precision', 'predicted', average, warn_for)\n",
      "/opt/anaconda3/lib/python3.7/site-packages/sklearn/metrics/classification.py:1143: UndefinedMetricWarning: F-score is ill-defined and being set to 0.0 in labels with no predicted samples.\n",
      "  'precision', 'predicted', average, warn_for)\n",
      "/opt/anaconda3/lib/python3.7/site-packages/sklearn/metrics/classification.py:1143: UndefinedMetricWarning: F-score is ill-defined and being set to 0.0 in labels with no predicted samples.\n",
      "  'precision', 'predicted', average, warn_for)\n",
      "/opt/anaconda3/lib/python3.7/site-packages/sklearn/metrics/classification.py:1143: UndefinedMetricWarning: F-score is ill-defined and being set to 0.0 in labels with no predicted samples.\n",
      "  'precision', 'predicted', average, warn_for)\n",
      "[Parallel(n_jobs=1)]: Done  12 out of  12 | elapsed:    0.2s finished\n",
      "/opt/anaconda3/lib/python3.7/site-packages/sklearn/model_selection/_search.py:841: DeprecationWarning: The default of the `iid` parameter will change from True to False in version 0.22 and will be removed in 0.24. This will change numeric results when test-set sizes are unequal.\n",
      "  DeprecationWarning)\n",
      "2019-07-28 22:36:49 \u001b[1;30mINFO    \u001b[0m \u001b[34mrasa.nlu.model\u001b[0m  - Finished training component.\n",
      "2019-07-28 22:36:49 \u001b[1;30mINFO    \u001b[0m \u001b[34mrasa.nlu.model\u001b[0m  - Successfully saved model into '/tmp/tmpa0o7paf3/nlu'\n",
      "\u001b[94mNLU model training completed.\u001b[0m\n",
      "\u001b[92mYour Rasa model is trained and saved at '/home/jupyter/rasa-fastai/notebooks/models/nlu-20190728-223649.tar.gz'.\u001b[0m\n"
     ]
    }
   ],
   "source": [
    "! rasa train --force nlu \\\n",
    "--nlu '/home/jupyter/rasa-fastai/data/train-test-split-ubuntu/training_data.md' \\\n",
    "--config ../pretrained_embeddings_spacy_config.yml\n",
    "\n"
   ]
  },
  {
   "cell_type": "code",
   "execution_count": 194,
   "metadata": {},
   "outputs": [
    {
     "name": "stdout",
     "output_type": "stream",
     "text": [
      "2019-07-28 22:37:25 \u001b[1;30mINFO    \u001b[0m \u001b[34mrasa.nlu.components\u001b[0m  - Added 'SpacyNLP' to component cache. Key 'SpacyNLP-en'.\n",
      "2019-07-28 22:37:25 \u001b[1;30mINFO    \u001b[0m \u001b[34mrasa.nlu.training_data.loading\u001b[0m  - Training data format of '/tmp/tmpl4jwmo1d/00e3b443bb45407fa322fe4ce35fd9c3_test_data.md' is 'md'.\n",
      "2019-07-28 22:37:25 \u001b[1;30mINFO    \u001b[0m \u001b[34mrasa.nlu.training_data.training_data\u001b[0m  - Training data stats: \n",
      "\t- intent examples: 35 (5 distinct intents)\n",
      "\t- Found intents: 'Make Update', 'None', 'Software Recommendation', 'Shutdown Computer', 'Setup Printer'\n",
      "\t- entity examples: 18 (3 distinct entities)\n",
      "\t- found entities: 'Printer', 'SoftwareName', 'UbuntuVersion'\n",
      "\n",
      "2019-07-28 22:37:25 \u001b[1;30mINFO    \u001b[0m \u001b[34mrasa.nlu.test\u001b[0m  - Running model for predictions:\n",
      "100%|██████████████████████████████████████████| 35/35 [00:00<00:00, 163.99it/s]\n",
      "2019-07-28 22:37:25 \u001b[1;30mINFO    \u001b[0m \u001b[34mrasa.nlu.test\u001b[0m  - Intent evaluation results:\n",
      "2019-07-28 22:37:25 \u001b[1;30mINFO    \u001b[0m \u001b[34mrasa.nlu.test\u001b[0m  - Intent Evaluation: Only considering those 35 examples that have a defined intent out of 35 examples\n",
      "/opt/anaconda3/lib/python3.7/site-packages/sklearn/metrics/classification.py:1143: UndefinedMetricWarning: Precision and F-score are ill-defined and being set to 0.0 in labels with no predicted samples.\n",
      "  'precision', 'predicted', average, warn_for)\n",
      "/opt/anaconda3/lib/python3.7/site-packages/sklearn/metrics/classification.py:1143: UndefinedMetricWarning: Precision is ill-defined and being set to 0.0 in labels with no predicted samples.\n",
      "  'precision', 'predicted', average, warn_for)\n",
      "/opt/anaconda3/lib/python3.7/site-packages/sklearn/metrics/classification.py:1143: UndefinedMetricWarning: F-score is ill-defined and being set to 0.0 in labels with no predicted samples.\n",
      "  'precision', 'predicted', average, warn_for)\n",
      "2019-07-28 22:37:25 \u001b[1;30mINFO    \u001b[0m \u001b[34mrasa.nlu.test\u001b[0m  - F1-Score:  0.9164835164835166\n",
      "2019-07-28 22:37:25 \u001b[1;30mINFO    \u001b[0m \u001b[34mrasa.nlu.test\u001b[0m  - Precision: 0.8938775510204081\n",
      "2019-07-28 22:37:25 \u001b[1;30mINFO    \u001b[0m \u001b[34mrasa.nlu.test\u001b[0m  - Accuracy:  0.9428571428571428\n",
      "2019-07-28 22:37:25 \u001b[1;30mINFO    \u001b[0m \u001b[34mrasa.nlu.test\u001b[0m  - Classification report: \n",
      "                         precision    recall  f1-score   support\n",
      "\n",
      "            Make Update       1.00      1.00      1.00        10\n",
      "                   None       0.00      0.00      0.00         2\n",
      "          Setup Printer       1.00      1.00      1.00         5\n",
      "      Shutdown Computer       1.00      1.00      1.00         6\n",
      "Software Recommendation       0.86      1.00      0.92        12\n",
      "\n",
      "              micro avg       0.94      0.94      0.94        35\n",
      "              macro avg       0.77      0.80      0.78        35\n",
      "           weighted avg       0.89      0.94      0.92        35\n",
      "\n",
      "2019-07-28 22:37:25 \u001b[1;30mINFO    \u001b[0m \u001b[34mrasa.nlu.test\u001b[0m  - Model prediction errors saved to ./ask-ubuntu-sklearn-results/errors.json.\n",
      "2019-07-28 22:37:25 \u001b[1;30mINFO    \u001b[0m \u001b[34mrasa.nlu.test\u001b[0m  - Confusion matrix, without normalization: \n",
      "[[10  0  0  0  0]\n",
      " [ 0  0  0  0  2]\n",
      " [ 0  0  5  0  0]\n",
      " [ 0  0  0  6  0]\n",
      " [ 0  0  0  0 12]]\n",
      "Figure(2000x2000)\n",
      "Figure(1000x1000)\n",
      "2019-07-28 22:37:26 \u001b[1;30mINFO    \u001b[0m \u001b[34mrasa.nlu.test\u001b[0m  - Entity evaluation results:\n",
      "2019-07-28 22:37:26 \u001b[1;30mINFO    \u001b[0m \u001b[34mrasa.nlu.test\u001b[0m  - Evaluation for entity extractor: CRFEntityExtractor \n",
      "2019-07-28 22:37:26 \u001b[1;30mINFO    \u001b[0m \u001b[34mrasa.nlu.test\u001b[0m  - F1-Score:  0.9295739130487463\n",
      "2019-07-28 22:37:26 \u001b[1;30mINFO    \u001b[0m \u001b[34mrasa.nlu.test\u001b[0m  - Precision: 0.929887292480068\n",
      "2019-07-28 22:37:26 \u001b[1;30mINFO    \u001b[0m \u001b[34mrasa.nlu.test\u001b[0m  - Accuracy:  0.9385026737967914\n",
      "2019-07-28 22:37:26 \u001b[1;30mINFO    \u001b[0m \u001b[34mrasa.nlu.test\u001b[0m  - Classification report: \n",
      "               precision    recall  f1-score   support\n",
      "\n",
      "      Printer       1.00      0.40      0.57        10\n",
      " SoftwareName       0.00      0.00      0.00         3\n",
      "UbuntuVersion       0.83      0.66      0.73        29\n",
      "    no_entity       0.95      0.99      0.97       332\n",
      "\n",
      "    micro avg       0.94      0.94      0.94       374\n",
      "    macro avg       0.69      0.51      0.57       374\n",
      " weighted avg       0.93      0.94      0.93       374\n",
      "\n"
     ]
    }
   ],
   "source": [
    "! rasa test nlu --config ../pretrained_embeddings_spacy_config.yml \\\n",
    "-u '/home/jupyter/rasa-fastai/data/train-test-split-ubuntu/test_data.md' \\\n",
    "--model /models/nlu-20190728-223649.tar.gz \\\n",
    "--errors './ask-ubuntu-sklearn-results/errors.json' \\\n",
    "--confmat './ask-ubuntu-sklearn-results/confmat.png'\n",
    "\n",
    "\n"
   ]
  },
  {
   "cell_type": "markdown",
   "metadata": {},
   "source": [
    "### Accuracy for the sklearn classifier: 0.9428571428571428"
   ]
  },
  {
   "cell_type": "code",
   "execution_count": 195,
   "metadata": {},
   "outputs": [
    {
     "name": "stdout",
     "output_type": "stream",
     "text": [
      "[\r\n",
      "  {\r\n",
      "    \"text\": \"Security enhancements prevent mounting /dev/sdb1\",\r\n",
      "    \"intent\": \"None\",\r\n",
      "    \"intent_prediction\": {\r\n",
      "      \"name\": \"Software Recommendation\",\r\n",
      "      \"confidence\": 0.5965297077171444\r\n",
      "    }\r\n",
      "  },\r\n",
      "  {\r\n",
      "    \"text\": \"How to provide user permission to read and write on /dev/sdax? What is the syntax?\",\r\n",
      "    \"intent\": \"None\",\r\n",
      "    \"intent_prediction\": {\r\n",
      "      \"name\": \"Software Recommendation\",\r\n",
      "      \"confidence\": 0.7544331590415874\r\n",
      "    }\r\n",
      "  }\r\n",
      "]"
     ]
    }
   ],
   "source": [
    "!head -n 60 'ask-ubuntu-sklearn-results/errors.json'"
   ]
  },
  {
   "cell_type": "code",
   "execution_count": 196,
   "metadata": {},
   "outputs": [
    {
     "data": {
      "text/html": [
       "<img src=\"./ask-ubuntu-sklearn-results/confmat.png\" width=\"800\" height=\"800\">\n"
      ],
      "text/plain": [
       "<IPython.core.display.HTML object>"
      ]
     },
     "metadata": {},
     "output_type": "display_data"
    }
   ],
   "source": [
    "%%html\n",
    "<img src=\"./ask-ubuntu-sklearn-results/confmat.png\" width=\"800\" height=\"800\">"
   ]
  },
  {
   "cell_type": "code",
   "execution_count": null,
   "metadata": {},
   "outputs": [],
   "source": []
  },
  {
   "cell_type": "markdown",
   "metadata": {},
   "source": [
    "### Let's try rasa's other default NLU pipeline while we're at it -- the supervised_embeddings pipeline.\n",
    "This is intended to be used when you have more training data than with the pretrained_embeddings_spacy pipeline. \n",
    "See: https://medium.com/rasa-blog/supervised-word-vectors-from-scratch-in-rasa-nlu-6daf794efcd8\n",
    "This model's approach is more similar to fastai since it is not using pre-trained embeddings."
   ]
  },
  {
   "cell_type": "code",
   "execution_count": 198,
   "metadata": {},
   "outputs": [],
   "source": [
    "supervised_embeddings_config = \"\"\"language: \"en\"\n",
    "\n",
    "pipeline:\n",
    "- name: \"WhitespaceTokenizer\"\n",
    "- name: \"RegexFeaturizer\"\n",
    "- name: \"CRFEntityExtractor\"\n",
    "- name: \"EntitySynonymMapper\"\n",
    "- name: \"CountVectorsFeaturizer\"\n",
    "- name: \"EmbeddingIntentClassifier\"\n",
    "    \n",
    "policies:\n",
    "  - name: MemoizationPolicy\n",
    "  - name: KerasPolicy\n",
    "  - name: MappingPolicy\"\"\""
   ]
  },
  {
   "cell_type": "code",
   "execution_count": 199,
   "metadata": {},
   "outputs": [
    {
     "name": "stdout",
     "output_type": "stream",
     "text": [
      "Writing 'supervised_embeddings_config' (str) to file '../supervised_embeddings_config.yml'.\n"
     ]
    }
   ],
   "source": [
    "store supervised_embeddings_config > ../supervised_embeddings_config.yml"
   ]
  },
  {
   "cell_type": "code",
   "execution_count": 200,
   "metadata": {},
   "outputs": [
    {
     "name": "stdout",
     "output_type": "stream",
     "text": [
      "\u001b[94mTraining NLU model...\u001b[0m\n",
      "2019-07-28 22:40:19 \u001b[1;30mINFO    \u001b[0m \u001b[34mrasa.nlu.training_data.loading\u001b[0m  - Training data format of '/tmp/tmpf93g3cbv/b107667fa35c47a791c0178a915dd69e_training_data.md' is 'md'.\n",
      "2019-07-28 22:40:19 \u001b[1;30mINFO    \u001b[0m \u001b[34mrasa.nlu.training_data.training_data\u001b[0m  - Training data stats: \n",
      "\t- intent examples: 127 (5 distinct intents)\n",
      "\t- Found intents: 'Setup Printer', 'Make Update', 'Shutdown Computer', 'None', 'Software Recommendation'\n",
      "\t- entity examples: 58 (3 distinct entities)\n",
      "\t- found entities: 'Printer', 'SoftwareName', 'UbuntuVersion'\n",
      "\n",
      "2019-07-28 22:40:19 \u001b[1;30mINFO    \u001b[0m \u001b[34mrasa.nlu.model\u001b[0m  - Starting to train component WhitespaceTokenizer\n",
      "2019-07-28 22:40:19 \u001b[1;30mINFO    \u001b[0m \u001b[34mrasa.nlu.model\u001b[0m  - Finished training component.\n",
      "2019-07-28 22:40:19 \u001b[1;30mINFO    \u001b[0m \u001b[34mrasa.nlu.model\u001b[0m  - Starting to train component RegexFeaturizer\n",
      "2019-07-28 22:40:19 \u001b[1;30mINFO    \u001b[0m \u001b[34mrasa.nlu.model\u001b[0m  - Finished training component.\n",
      "2019-07-28 22:40:19 \u001b[1;30mINFO    \u001b[0m \u001b[34mrasa.nlu.model\u001b[0m  - Starting to train component CRFEntityExtractor\n",
      "2019-07-28 22:40:19 \u001b[1;30mWARNING \u001b[0m \u001b[34mrasa.nlu.extractors.crf_entity_extractor\u001b[0m  - \u001b[33mMisaligned entity annotation for '16.04 LTS16.04 LTS' in sentence 'How to upgrade from 16.04 LTS16.04 LTS to 16.04.1 LTS' with intent 'Make Update'. Make sure the start and end values of the annotated training examples end at token boundaries (e.g. don't include trailing whitespaces or punctuation).\u001b[0m\n",
      "2019-07-28 22:40:19 \u001b[1;30mWARNING \u001b[0m \u001b[34mrasa.nlu.extractors.crf_entity_extractor\u001b[0m  - \u001b[33mMisaligned entity annotation for '16.04[](UbuntuVersion:16.04.1)Upgrading' in sentence 'Upgrading 16.04[](UbuntuVersion:16.04.1)Upgrading 16.04 to 16.04.1' with intent 'Make Update'. Make sure the start and end values of the annotated training examples end at token boundaries (e.g. don't include trailing whitespaces or punctuation).\u001b[0m\n",
      "2019-07-28 22:40:19 \u001b[1;30mWARNING \u001b[0m \u001b[34mrasa.nlu.extractors.crf_entity_extractor\u001b[0m  - \u001b[33mMisaligned entity annotation for '10.10' in sentence 'How to upgrade from Ubuntu 10.10 to 11.04?' with intent 'Make Update'. Make sure the start and end values of the annotated training examples end at token boundaries (e.g. don't include trailing whitespaces or punctuation).\u001b[0m\n",
      "2019-07-28 22:40:19 \u001b[1;30mWARNING \u001b[0m \u001b[34mrasa.nlu.extractors.crf_entity_extractor\u001b[0m  - \u001b[33mMisaligned entity annotation for '12.0412.04' in sentence 'Upgrade 12.0412.04 to 12.10 using startup disk' with intent 'Make Update'. Make sure the start and end values of the annotated training examples end at token boundaries (e.g. don't include trailing whitespaces or punctuation).\u001b[0m\n",
      "2019-07-28 22:40:19 \u001b[1;30mWARNING \u001b[0m \u001b[34mrasa.nlu.extractors.crf_entity_extractor\u001b[0m  - \u001b[33mMisaligned entity annotation for '12.0412.04' in sentence 'Upgrade from 12.0412.04 to 12.10 without losing files?' with intent 'Make Update'. Make sure the start and end values of the annotated training examples end at token boundaries (e.g. don't include trailing whitespaces or punctuation).\u001b[0m\n",
      "2019-07-28 22:40:19 \u001b[1;30mWARNING \u001b[0m \u001b[34mrasa.nlu.extractors.crf_entity_extractor\u001b[0m  - \u001b[33mMisaligned entity annotation for '14.04' in sentence 'Upgrading from Ubuntu 14.04 to [](UbuntuVersion:15.04).04 to 15.04' with intent 'Make Update'. Make sure the start and end values of the annotated training examples end at token boundaries (e.g. don't include trailing whitespaces or punctuation).\u001b[0m\n",
      "2019-07-28 22:40:19 \u001b[1;30mWARNING \u001b[0m \u001b[34mrasa.nlu.extractors.crf_entity_extractor\u001b[0m  - \u001b[33mMisaligned entity annotation for '1414.04 final from 14.04 Beta' in sentence 'How can i upgrade to Ubuntu 1414.04 final from 14.04 Beta correctly?' with intent 'Make Update'. Make sure the start and end values of the annotated training examples end at token boundaries (e.g. don't include trailing whitespaces or punctuation).\u001b[0m\n",
      "2019-07-28 22:40:19 \u001b[1;30mWARNING \u001b[0m \u001b[34mrasa.nlu.extractors.crf_entity_extractor\u001b[0m  - \u001b[33mMisaligned entity annotation for '10.10' in sentence 'Upgrading from 10.10 to 11.04 how much space is needed?' with intent 'Make Update'. Make sure the start and end values of the annotated training examples end at token boundaries (e.g. don't include trailing whitespaces or punctuation).\u001b[0m\n",
      "2019-07-28 22:40:19 \u001b[1;30mWARNING \u001b[0m \u001b[34mrasa.nlu.extractors.crf_entity_extractor\u001b[0m  - \u001b[33mMisaligned entity annotation for '6.06' in sentence 'On really old Ubuntu 6.06 - How to upgrade' with intent 'Software Recommendation'. Make sure the start and end values of the annotated training examples end at token boundaries (e.g. don't include trailing whitespaces or punctuation).\u001b[0m\n",
      "2019-07-28 22:40:19 \u001b[1;30mINFO    \u001b[0m \u001b[34mrasa.nlu.model\u001b[0m  - Finished training component.\n",
      "2019-07-28 22:40:19 \u001b[1;30mINFO    \u001b[0m \u001b[34mrasa.nlu.model\u001b[0m  - Starting to train component EntitySynonymMapper\n",
      "2019-07-28 22:40:19 \u001b[1;30mINFO    \u001b[0m \u001b[34mrasa.nlu.model\u001b[0m  - Finished training component.\n",
      "2019-07-28 22:40:19 \u001b[1;30mINFO    \u001b[0m \u001b[34mrasa.nlu.model\u001b[0m  - Starting to train component CountVectorsFeaturizer\n",
      "2019-07-28 22:40:19 \u001b[1;30mINFO    \u001b[0m \u001b[34mrasa.nlu.model\u001b[0m  - Finished training component.\n",
      "2019-07-28 22:40:19 \u001b[1;30mINFO    \u001b[0m \u001b[34mrasa.nlu.model\u001b[0m  - Starting to train component EmbeddingIntentClassifier\n",
      "2019-07-28 22:40:26 \u001b[1;30mINFO    \u001b[0m \u001b[34mrasa.nlu.classifiers.embedding_intent_classifier\u001b[0m  - Accuracy is updated every 10 epochs\n",
      "Epochs: 100%|█████████| 300/300 [00:02<00:00, 105.39it/s, loss=0.055, acc=1.000]\n",
      "2019-07-28 22:40:29 \u001b[1;30mINFO    \u001b[0m \u001b[34mrasa.nlu.classifiers.embedding_intent_classifier\u001b[0m  - Finished training embedding classifier, loss=0.055, train accuracy=1.000\n",
      "2019-07-28 22:40:29 \u001b[1;30mINFO    \u001b[0m \u001b[34mrasa.nlu.model\u001b[0m  - Finished training component.\n",
      "2019-07-28 22:40:29 \u001b[1;30mINFO    \u001b[0m \u001b[34mrasa.nlu.model\u001b[0m  - Successfully saved model into '/tmp/tmppmjkyrto/nlu'\n",
      "\u001b[94mNLU model training completed.\u001b[0m\n",
      "\u001b[92mYour Rasa model is trained and saved at '/home/jupyter/rasa-fastai/notebooks/models/nlu-20190728-224029.tar.gz'.\u001b[0m\n"
     ]
    }
   ],
   "source": [
    "! rasa train --force nlu \\\n",
    "--nlu '/home/jupyter/rasa-fastai/data/train-test-split-ubuntu/training_data.md' \\\n",
    "--config ../supervised_embeddings_config.yml"
   ]
  },
  {
   "cell_type": "code",
   "execution_count": 201,
   "metadata": {},
   "outputs": [
    {
     "name": "stdout",
     "output_type": "stream",
     "text": [
      "2019-07-28 22:42:18 \u001b[1;30mINFO    \u001b[0m \u001b[34mrasa.nlu.training_data.loading\u001b[0m  - Training data format of '/tmp/tmp7dvicmfm/714cec721cb9444895f56dc2204949a8_test_data.md' is 'md'.\n",
      "2019-07-28 22:42:18 \u001b[1;30mINFO    \u001b[0m \u001b[34mrasa.nlu.training_data.training_data\u001b[0m  - Training data stats: \n",
      "\t- intent examples: 35 (5 distinct intents)\n",
      "\t- Found intents: 'Setup Printer', 'Make Update', 'Shutdown Computer', 'None', 'Software Recommendation'\n",
      "\t- entity examples: 18 (3 distinct entities)\n",
      "\t- found entities: 'SoftwareName', 'Printer', 'UbuntuVersion'\n",
      "\n",
      "2019-07-28 22:42:18 \u001b[1;30mINFO    \u001b[0m \u001b[34mrasa.nlu.test\u001b[0m  - Running model for predictions:\n",
      "100%|██████████████████████████████████████████| 35/35 [00:00<00:00, 428.44it/s]\n",
      "2019-07-28 22:42:18 \u001b[1;30mINFO    \u001b[0m \u001b[34mrasa.nlu.test\u001b[0m  - Intent evaluation results:\n",
      "2019-07-28 22:42:18 \u001b[1;30mINFO    \u001b[0m \u001b[34mrasa.nlu.test\u001b[0m  - Intent Evaluation: Only considering those 35 examples that have a defined intent out of 35 examples\n",
      "/opt/anaconda3/lib/python3.7/site-packages/sklearn/metrics/classification.py:1143: UndefinedMetricWarning: Precision and F-score are ill-defined and being set to 0.0 in labels with no predicted samples.\n",
      "  'precision', 'predicted', average, warn_for)\n",
      "/opt/anaconda3/lib/python3.7/site-packages/sklearn/metrics/classification.py:1143: UndefinedMetricWarning: Precision is ill-defined and being set to 0.0 in labels with no predicted samples.\n",
      "  'precision', 'predicted', average, warn_for)\n",
      "/opt/anaconda3/lib/python3.7/site-packages/sklearn/metrics/classification.py:1143: UndefinedMetricWarning: F-score is ill-defined and being set to 0.0 in labels with no predicted samples.\n",
      "  'precision', 'predicted', average, warn_for)\n",
      "2019-07-28 22:42:18 \u001b[1;30mINFO    \u001b[0m \u001b[34mrasa.nlu.test\u001b[0m  - F1-Score:  0.8885274725274726\n",
      "2019-07-28 22:42:18 \u001b[1;30mINFO    \u001b[0m \u001b[34mrasa.nlu.test\u001b[0m  - Precision: 0.8656200941915227\n",
      "2019-07-28 22:42:18 \u001b[1;30mINFO    \u001b[0m \u001b[34mrasa.nlu.test\u001b[0m  - Accuracy:  0.9142857142857143\n",
      "2019-07-28 22:42:18 \u001b[1;30mINFO    \u001b[0m \u001b[34mrasa.nlu.test\u001b[0m  - Classification report: \n",
      "                         precision    recall  f1-score   support\n",
      "\n",
      "            Make Update       1.00      1.00      1.00        10\n",
      "                   None       0.00      0.00      0.00         2\n",
      "          Setup Printer       1.00      1.00      1.00         5\n",
      "      Shutdown Computer       0.86      1.00      0.92         6\n",
      "Software Recommendation       0.85      0.92      0.88        12\n",
      "\n",
      "              micro avg       0.91      0.91      0.91        35\n",
      "              macro avg       0.74      0.78      0.76        35\n",
      "           weighted avg       0.87      0.91      0.89        35\n",
      "\n",
      "2019-07-28 22:42:18 \u001b[1;30mINFO    \u001b[0m \u001b[34mrasa.nlu.test\u001b[0m  - Model prediction errors saved to ./ask-ubuntu-supervised-embeddings-results/errors.json.\n",
      "2019-07-28 22:42:18 \u001b[1;30mINFO    \u001b[0m \u001b[34mrasa.nlu.test\u001b[0m  - Confusion matrix, without normalization: \n",
      "[[10  0  0  0  0]\n",
      " [ 0  0  0  0  2]\n",
      " [ 0  0  5  0  0]\n",
      " [ 0  0  0  6  0]\n",
      " [ 0  0  0  1 11]]\n",
      "Figure(2000x2000)\n",
      "Figure(1000x1000)\n",
      "2019-07-28 22:42:19 \u001b[1;30mINFO    \u001b[0m \u001b[34mrasa.nlu.test\u001b[0m  - Entity evaluation results:\n",
      "2019-07-28 22:42:19 \u001b[1;30mINFO    \u001b[0m \u001b[34mrasa.nlu.test\u001b[0m  - Evaluation for entity extractor: CRFEntityExtractor \n",
      "2019-07-28 22:42:19 \u001b[1;30mINFO    \u001b[0m \u001b[34mrasa.nlu.test\u001b[0m  - F1-Score:  0.898479509105695\n",
      "2019-07-28 22:42:19 \u001b[1;30mINFO    \u001b[0m \u001b[34mrasa.nlu.test\u001b[0m  - Precision: 0.9000222469410456\n",
      "2019-07-28 22:42:19 \u001b[1;30mINFO    \u001b[0m \u001b[34mrasa.nlu.test\u001b[0m  - Accuracy:  0.9129032258064517\n",
      "2019-07-28 22:42:19 \u001b[1;30mINFO    \u001b[0m \u001b[34mrasa.nlu.test\u001b[0m  - Classification report: \n",
      "               precision    recall  f1-score   support\n",
      "\n",
      "      Printer       1.00      0.40      0.57        10\n",
      " SoftwareName       0.00      0.00      0.00         3\n",
      "UbuntuVersion       0.75      0.46      0.57        26\n",
      "    no_entity       0.92      0.99      0.95       271\n",
      "\n",
      "    micro avg       0.91      0.91      0.91       310\n",
      "    macro avg       0.67      0.46      0.52       310\n",
      " weighted avg       0.90      0.91      0.90       310\n",
      "\n"
     ]
    }
   ],
   "source": [
    "! rasa test nlu --config ../supervised_embeddings_config.yml \\\n",
    "-u '/home/jupyter/rasa-fastai/data/train-test-split-ubuntu/test_data.md' \\\n",
    "--model /models/nlu-20190728-224029.tar.gz \\\n",
    "--errors './ask-ubuntu-supervised-embeddings-results/errors.json' \\\n",
    "--confmat './ask-ubuntu-supervised-embeddings-results/confmat.png'\n",
    "\n"
   ]
  },
  {
   "cell_type": "markdown",
   "metadata": {},
   "source": [
    "### Accuracy for the rasa supervised embeddings classifier: 0.9142857142857143"
   ]
  },
  {
   "cell_type": "code",
   "execution_count": 202,
   "metadata": {},
   "outputs": [
    {
     "name": "stdout",
     "output_type": "stream",
     "text": [
      "[\r\n",
      "  {\r\n",
      "    \"text\": \"Security enhancements prevent mounting /dev/sdb1\",\r\n",
      "    \"intent\": \"None\",\r\n",
      "    \"intent_prediction\": {\r\n",
      "      \"name\": \"Software Recommendation\",\r\n",
      "      \"confidence\": 0.9356160759925842\r\n",
      "    }\r\n",
      "  },\r\n",
      "  {\r\n",
      "    \"text\": \"How to provide user permission to read and write on /dev/sdax? What is the syntax?\",\r\n",
      "    \"intent\": \"None\",\r\n",
      "    \"intent_prediction\": {\r\n",
      "      \"name\": \"Software Recommendation\",\r\n",
      "      \"confidence\": 0.7736248970031738\r\n",
      "    }\r\n",
      "  },\r\n",
      "  {\r\n",
      "    \"text\": \"In Unity how do I see the details of a given launcher?\",\r\n",
      "    \"intent\": \"Software Recommendation\",\r\n",
      "    \"intent_prediction\": {\r\n",
      "      \"name\": \"Shutdown Computer\",\r\n",
      "      \"confidence\": 0.6340992450714111\r\n",
      "    }\r\n",
      "  }\r\n",
      "]"
     ]
    }
   ],
   "source": [
    "!head -n 60 'ask-ubuntu-supervised-embeddings-results/errors.json'"
   ]
  },
  {
   "cell_type": "code",
   "execution_count": 203,
   "metadata": {},
   "outputs": [
    {
     "data": {
      "text/html": [
       "<img src=\"./ask-ubuntu-supervised-embeddings-results/confmat.png\" width=\"800\" height=\"800\">\n"
      ],
      "text/plain": [
       "<IPython.core.display.HTML object>"
      ]
     },
     "metadata": {},
     "output_type": "display_data"
    }
   ],
   "source": [
    "%%html\n",
    "<img src=\"./ask-ubuntu-supervised-embeddings-results/confmat.png\" width=\"800\" height=\"800\">"
   ]
  },
  {
   "cell_type": "code",
   "execution_count": null,
   "metadata": {},
   "outputs": [],
   "source": []
  },
  {
   "cell_type": "markdown",
   "metadata": {},
   "source": [
    "### Fastai and sklearn performed slightly better than the rasa supervised embeddings clasifier but training and tests sets very small..."
   ]
  },
  {
   "cell_type": "code",
   "execution_count": null,
   "metadata": {},
   "outputs": [],
   "source": []
  }
 ],
 "metadata": {
  "kernelspec": {
   "display_name": "Python 3",
   "language": "python",
   "name": "python3"
  },
  "language_info": {
   "codemirror_mode": {
    "name": "ipython",
    "version": 3
   },
   "file_extension": ".py",
   "mimetype": "text/x-python",
   "name": "python",
   "nbconvert_exporter": "python",
   "pygments_lexer": "ipython3",
   "version": "3.8.3"
  }
 },
 "nbformat": 4,
 "nbformat_minor": 2
}
