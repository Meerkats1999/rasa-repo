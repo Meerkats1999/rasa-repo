{
 "cells": [
  {
   "cell_type": "code",
   "execution_count": 2,
   "metadata": {},
   "outputs": [],
   "source": [
    "%reload_ext autoreload\n",
    "%autoreload 2\n",
    "%matplotlib inline"
   ]
  },
  {
   "cell_type": "code",
   "execution_count": 3,
   "metadata": {},
   "outputs": [],
   "source": [
    "from fastai import *\n",
    "from fastai.text import *"
   ]
  },
  {
   "cell_type": "code",
   "execution_count": 4,
   "metadata": {},
   "outputs": [],
   "source": [
    "path = Path('/home/jupyter/chat-data')"
   ]
  },
  {
   "cell_type": "markdown",
   "metadata": {},
   "source": [
    "### Setup Learner"
   ]
  },
  {
   "cell_type": "code",
   "execution_count": 5,
   "metadata": {},
   "outputs": [],
   "source": [
    "data_bunch = 'data_clas_export_7_14.pkl'\n",
    "trained_model = 'chat-clas-7-12_2'\n",
    "encoder = 'chat-lm-encoder-7-12_2'"
   ]
  },
  {
   "cell_type": "code",
   "execution_count": 6,
   "metadata": {},
   "outputs": [],
   "source": [
    "data_clas = load_data(path, data_bunch, bs=32)\n",
    "clas_learn = text_classifier_learner(data_clas, AWD_LSTM, drop_mult=0.5)\n",
    "clas_learn.load(trained_model)\n",
    "clas_learn.load_encoder(encoder)"
   ]
  },
  {
   "cell_type": "code",
   "execution_count": 7,
   "metadata": {},
   "outputs": [
    {
     "data": {
      "text/plain": [
       "(Category greet,\n",
       " tensor(37),\n",
       " tensor([1.7734e-03, 3.4433e-05, 8.3470e-04, 9.5550e-05, 2.4194e-05, 6.0020e-04,\n",
       "         1.5237e-03, 2.3544e-04, 1.4157e-01, 2.4288e-05, 1.8255e-04, 7.9431e-05,\n",
       "         3.7898e-04, 9.6639e-05, 2.4013e-01, 3.4481e-04, 9.8123e-05, 6.4609e-06,\n",
       "         3.0558e-04, 4.8295e-03, 2.8677e-02, 3.3994e-02, 1.6960e-04, 6.2135e-05,\n",
       "         2.8435e-04, 1.5340e-04, 7.2886e-05, 1.9466e-04, 2.7943e-04, 4.1249e-05,\n",
       "         2.4435e-05, 5.0937e-02, 1.5473e-03, 1.5553e-03, 1.1050e-04, 1.6630e-02,\n",
       "         5.7694e-05, 4.2145e-01, 2.6813e-03, 4.3913e-04, 2.7011e-04, 8.7943e-05,\n",
       "         7.3565e-04, 5.2236e-03, 2.8214e-03, 1.6263e-03, 3.2046e-04, 2.4389e-03,\n",
       "         3.3950e-02]))"
      ]
     },
     "execution_count": 7,
     "metadata": {},
     "output_type": "execute_result"
    }
   ],
   "source": [
    "clas_learn.predict('good day')"
   ]
  },
  {
   "cell_type": "code",
   "execution_count": 8,
   "metadata": {},
   "outputs": [
    {
     "data": {
      "text/plain": [
       "['affirm',\n",
       " 'ask_builder',\n",
       " 'ask_faq_channels',\n",
       " 'ask_faq_community_size',\n",
       " 'ask_faq_languages',\n",
       " 'ask_faq_opensource',\n",
       " 'ask_faq_platform',\n",
       " 'ask_faq_python_version',\n",
       " 'ask_faq_slots',\n",
       " 'ask_faq_tutorials',\n",
       " 'ask_faq_voice',\n",
       " 'ask_faq_what_is_forum',\n",
       " 'ask_how_contribute',\n",
       " 'ask_howbuilt',\n",
       " 'ask_howdoing',\n",
       " 'ask_howold',\n",
       " 'ask_isbot',\n",
       " 'ask_languagesbot',\n",
       " 'ask_question_in_forum',\n",
       " 'ask_restaurant',\n",
       " 'ask_time',\n",
       " 'ask_weather',\n",
       " 'ask_whatismyname',\n",
       " 'ask_whatisrasa',\n",
       " 'ask_whatspossible',\n",
       " 'ask_when_next_event',\n",
       " 'ask_wherefrom',\n",
       " 'ask_which_events',\n",
       " 'ask_whoami',\n",
       " 'ask_whoisit',\n",
       " 'ask_why_contribute',\n",
       " 'bye',\n",
       " 'canthelp',\n",
       " 'contact_sales',\n",
       " 'deny',\n",
       " 'enter_data',\n",
       " 'explain',\n",
       " 'greet',\n",
       " 'how_to_get_started',\n",
       " 'human_handoff',\n",
       " 'install_rasa',\n",
       " 'next_step',\n",
       " 'nlu_generation_tool_recommendation',\n",
       " 'out_of_scope',\n",
       " 'pipeline_recommendation',\n",
       " 'signup_newsletter',\n",
       " 'switch',\n",
       " 'technical_question',\n",
       " 'thank']"
      ]
     },
     "execution_count": 8,
     "metadata": {},
     "output_type": "execute_result"
    }
   ],
   "source": [
    "clas_learn.data.classes"
   ]
  },
  {
   "cell_type": "code",
   "execution_count": 17,
   "metadata": {},
   "outputs": [
    {
     "data": {
      "text/plain": [
       "49"
      ]
     },
     "execution_count": 17,
     "metadata": {},
     "output_type": "execute_result"
    }
   ],
   "source": [
    "len(clas_learn.data.classes)"
   ]
  },
  {
   "cell_type": "markdown",
   "metadata": {},
   "source": [
    "### Install rasa"
   ]
  },
  {
   "cell_type": "code",
   "execution_count": 9,
   "metadata": {},
   "outputs": [],
   "source": [
    "# !pip install rasa"
   ]
  },
  {
   "cell_type": "markdown",
   "metadata": {},
   "source": [
    "### Create a config using fastai classifier"
   ]
  },
  {
   "cell_type": "code",
   "execution_count": 11,
   "metadata": {},
   "outputs": [],
   "source": [
    "# make config which uses the pretrained_embeddings_spacy pipeline except switches in FastaiClassifier for the SklearnIntentClassifier\n",
    "\n",
    "fastai_config = \"\"\"language: \"en\"\n",
    "\n",
    "pipeline:\n",
    "- name: \"SpacyNLP\"\n",
    "- name: \"SpacyTokenizer\"\n",
    "- name: \"SpacyFeaturizer\"\n",
    "- name: \"RegexFeaturizer\"\n",
    "- name: \"CRFEntityExtractor\"\n",
    "- name: \"EntitySynonymMapper\"\n",
    "- name: \"FastaiClassifier\"\n",
    "    \n",
    "policies:\n",
    "  - name: MemoizationPolicy\n",
    "  - name: KerasPolicy\n",
    "  - name: MappingPolicy\"\"\""
   ]
  },
  {
   "cell_type": "code",
   "execution_count": 12,
   "metadata": {},
   "outputs": [
    {
     "name": "stdout",
     "output_type": "stream",
     "text": [
      "Writing 'fastai_config' (str) to file '../fastai_config.yml'.\n"
     ]
    }
   ],
   "source": [
    "store fastai_config > ../fastai_config.yml"
   ]
  },
  {
   "cell_type": "markdown",
   "metadata": {},
   "source": [
    "### Hack to make rasa pick up our new component\n",
    "Just added the import for FastaiClassifier and added this to the list of component_classes"
   ]
  },
  {
   "cell_type": "code",
   "execution_count": 13,
   "metadata": {},
   "outputs": [
    {
     "name": "stdout",
     "output_type": "stream",
     "text": [
      "Overwriting /opt/anaconda3/lib/python3.7/site-packages/rasa/nlu/registry.py\n"
     ]
    }
   ],
   "source": [
    "%%writefile /opt/anaconda3/lib/python3.7/site-packages/rasa/nlu/registry.py\n",
    "\"\"\"This is a somewhat delicate package. It contains all registered components\n",
    "and preconfigured templates.\n",
    "\n",
    "Hence, it imports all of the components. To avoid cycles, no component should\n",
    "import this in module scope.\"\"\"\n",
    "\n",
    "import logging\n",
    "import typing\n",
    "from typing import Any, Dict, List, Optional, Text, Type\n",
    "\n",
    "from rasa.nlu.classifiers.embedding_intent_classifier import EmbeddingIntentClassifier\n",
    "from rasa.nlu.classifiers.keyword_intent_classifier import KeywordIntentClassifier\n",
    "from rasa.nlu.classifiers.mitie_intent_classifier import MitieIntentClassifier\n",
    "from rasa.nlu.classifiers.sklearn_intent_classifier import SklearnIntentClassifier\n",
    "# added this\n",
    "from rasa.nlu.classifiers.fastai_nlu import FastaiClassifier\n",
    "\n",
    "\n",
    "from rasa.nlu.extractors.crf_entity_extractor import CRFEntityExtractor\n",
    "from rasa.nlu.extractors.duckling_http_extractor import DucklingHTTPExtractor\n",
    "from rasa.nlu.extractors.entity_synonyms import EntitySynonymMapper\n",
    "from rasa.nlu.extractors.mitie_entity_extractor import MitieEntityExtractor\n",
    "from rasa.nlu.extractors.spacy_entity_extractor import SpacyEntityExtractor\n",
    "from rasa.nlu.featurizers.count_vectors_featurizer import CountVectorsFeaturizer\n",
    "from rasa.nlu.featurizers.mitie_featurizer import MitieFeaturizer\n",
    "from rasa.nlu.featurizers.ngram_featurizer import NGramFeaturizer\n",
    "from rasa.nlu.featurizers.regex_featurizer import RegexFeaturizer\n",
    "from rasa.nlu.featurizers.spacy_featurizer import SpacyFeaturizer\n",
    "from rasa.nlu.model import Metadata\n",
    "from rasa.nlu.tokenizers.jieba_tokenizer import JiebaTokenizer\n",
    "from rasa.nlu.tokenizers.mitie_tokenizer import MitieTokenizer\n",
    "from rasa.nlu.tokenizers.spacy_tokenizer import SpacyTokenizer\n",
    "from rasa.nlu.tokenizers.whitespace_tokenizer import WhitespaceTokenizer\n",
    "from rasa.nlu.utils.mitie_utils import MitieNLP\n",
    "from rasa.nlu.utils.spacy_utils import SpacyNLP\n",
    "from rasa.utils.common import class_from_module_path\n",
    "\n",
    "if typing.TYPE_CHECKING:\n",
    "    from rasa.nlu.components import Component\n",
    "    from rasa.nlu.config import RasaNLUModelConfig, RasaNLUModelConfig\n",
    "\n",
    "logger = logging.getLogger(__name__)\n",
    "\n",
    "\n",
    "# Classes of all known components. If a new component should be added,\n",
    "# its class name should be listed here.\n",
    "component_classes = [\n",
    "    # utils\n",
    "    SpacyNLP,\n",
    "    MitieNLP,\n",
    "    # tokenizers\n",
    "    MitieTokenizer,\n",
    "    SpacyTokenizer,\n",
    "    WhitespaceTokenizer,\n",
    "    JiebaTokenizer,\n",
    "    # extractors\n",
    "    SpacyEntityExtractor,\n",
    "    MitieEntityExtractor,\n",
    "    CRFEntityExtractor,\n",
    "    DucklingHTTPExtractor,\n",
    "    EntitySynonymMapper,\n",
    "    # featurizers\n",
    "    SpacyFeaturizer,\n",
    "    MitieFeaturizer,\n",
    "    NGramFeaturizer,\n",
    "    RegexFeaturizer,\n",
    "    CountVectorsFeaturizer,\n",
    "    # classifiers\n",
    "    SklearnIntentClassifier,\n",
    "    MitieIntentClassifier,\n",
    "    KeywordIntentClassifier,\n",
    "    EmbeddingIntentClassifier,\n",
    "    # added this\n",
    "    FastaiClassifier,\n",
    "]\n",
    "\n",
    "# Mapping from a components name to its class to allow name based lookup.\n",
    "registered_components = {c.name: c for c in component_classes}\n",
    "\n",
    "# DEPRECATED ensures compatibility, will be remove in future versions\n",
    "old_style_names = {\n",
    "    \"nlp_spacy\": \"SpacyNLP\",\n",
    "    \"nlp_mitie\": \"MitieNLP\",\n",
    "    \"ner_spacy\": \"SpacyEntityExtractor\",\n",
    "    \"ner_mitie\": \"MitieEntityExtractor\",\n",
    "    \"ner_crf\": \"CRFEntityExtractor\",\n",
    "    \"ner_duckling_http\": \"DucklingHTTPExtractor\",\n",
    "    \"ner_synonyms\": \"EntitySynonymMapper\",\n",
    "    \"intent_featurizer_spacy\": \"SpacyFeaturizer\",\n",
    "    \"intent_featurizer_mitie\": \"MitieFeaturizer\",\n",
    "    \"intent_featurizer_ngrams\": \"NGramFeaturizer\",\n",
    "    \"intent_entity_featurizer_regex\": \"RegexFeaturizer\",\n",
    "    \"intent_featurizer_count_vectors\": \"CountVectorsFeaturizer\",\n",
    "    \"tokenizer_mitie\": \"MitieTokenizer\",\n",
    "    \"tokenizer_spacy\": \"SpacyTokenizer\",\n",
    "    \"tokenizer_whitespace\": \"WhitespaceTokenizer\",\n",
    "    \"tokenizer_jieba\": \"JiebaTokenizer\",\n",
    "    \"intent_classifier_sklearn\": \"SklearnIntentClassifier\",\n",
    "    \"intent_classifier_mitie\": \"MitieIntentClassifier\",\n",
    "    \"intent_classifier_keyword\": \"KeywordIntentClassifier\",\n",
    "    \"intent_classifier_tensorflow_embedding\": \"EmbeddingIntentClassifier\",\n",
    "}\n",
    "\n",
    "# To simplify usage, there are a couple of model templates, that already add\n",
    "# necessary components in the right order. They also implement\n",
    "# the preexisting `backends`.\n",
    "registered_pipeline_templates = {\n",
    "    \"pretrained_embeddings_spacy\": [\n",
    "        \"SpacyNLP\",\n",
    "        \"SpacyTokenizer\",\n",
    "        \"SpacyFeaturizer\",\n",
    "        \"RegexFeaturizer\",\n",
    "        \"CRFEntityExtractor\",\n",
    "        \"EntitySynonymMapper\",\n",
    "        \"SklearnIntentClassifier\",\n",
    "    ],\n",
    "    \"keyword\": [\"KeywordIntentClassifier\"],\n",
    "    \"supervised_embeddings\": [\n",
    "        \"WhitespaceTokenizer\",\n",
    "        \"RegexFeaturizer\",\n",
    "        \"CRFEntityExtractor\",\n",
    "        \"EntitySynonymMapper\",\n",
    "        \"CountVectorsFeaturizer\",\n",
    "        \"EmbeddingIntentClassifier\",\n",
    "    ],\n",
    "}\n",
    "\n",
    "\n",
    "def pipeline_template(s: Text) -> Optional[List[Dict[Text, Text]]]:\n",
    "    components = registered_pipeline_templates.get(s)\n",
    "\n",
    "    if components:\n",
    "        # converts the list of components in the configuration\n",
    "        # format expected (one json object per component)\n",
    "        return [{\"name\": c} for c in components]\n",
    "\n",
    "    else:\n",
    "        return None\n",
    "\n",
    "\n",
    "def get_component_class(component_name: Text) -> Type[\"Component\"]:\n",
    "    \"\"\"Resolve component name to a registered components class.\"\"\"\n",
    "\n",
    "    if component_name not in registered_components:\n",
    "        if component_name not in old_style_names:\n",
    "            try:\n",
    "                return class_from_module_path(component_name)\n",
    "            except Exception:\n",
    "                raise Exception(\n",
    "                    \"Failed to find component class for '{}'. Unknown \"\n",
    "                    \"component name. Check your configured pipeline and make \"\n",
    "                    \"sure the mentioned component is not misspelled. If you \"\n",
    "                    \"are creating your own component, make sure it is either \"\n",
    "                    \"listed as part of the `component_classes` in \"\n",
    "                    \"`rasa.nlu.registry.py` or is a proper name of a class \"\n",
    "                    \"in a module.\".format(component_name)\n",
    "                )\n",
    "        else:\n",
    "            # DEPRECATED ensures compatibility, remove in future versions\n",
    "            logger.warning(\n",
    "                \"DEPRECATION warning: your nlu config file \"\n",
    "                \"contains old style component name `{}`, \"\n",
    "                \"you should change it to its class name: `{}`.\"\n",
    "                \"\".format(component_name, old_style_names[component_name])\n",
    "            )\n",
    "            component_name = old_style_names[component_name]\n",
    "\n",
    "    return registered_components[component_name]\n",
    "\n",
    "\n",
    "def load_component_by_meta(\n",
    "    component_meta: Dict[Text, Any],\n",
    "    model_dir: Text,\n",
    "    metadata: Metadata,\n",
    "    cached_component: Optional[\"Component\"],\n",
    "    **kwargs: Any\n",
    ") -> Optional[\"Component\"]:\n",
    "    \"\"\"Resolves a component and calls its load method.\n",
    "\n",
    "    Inits it based on a previously persisted model.\n",
    "    \"\"\"\n",
    "\n",
    "    # try to get class name first, else create by name\n",
    "    component_name = component_meta.get(\"class\", component_meta[\"name\"])\n",
    "    component_class = get_component_class(component_name)\n",
    "    return component_class.load(\n",
    "        component_meta, model_dir, metadata, cached_component, **kwargs\n",
    "    )\n",
    "\n",
    "\n",
    "def create_component_by_config(\n",
    "    component_config: Dict[Text, Any], config: \"RasaNLUModelConfig\"\n",
    ") -> Optional[\"Component\"]:\n",
    "    \"\"\"Resolves a component and calls it's create method.\n",
    "\n",
    "    Inits it based on a previously persisted model.\n",
    "    \"\"\"\n",
    "\n",
    "    # try to get class name first, else create by name\n",
    "    component_name = component_config.get(\"class\", component_config[\"name\"])\n",
    "    component_class = get_component_class(component_name)\n",
    "    return component_class.create(component_config, config)"
   ]
  },
  {
   "cell_type": "markdown",
   "metadata": {},
   "source": [
    "### Actually create our FastaiClassifer component"
   ]
  },
  {
   "cell_type": "code",
   "execution_count": 26,
   "metadata": {},
   "outputs": [
    {
     "name": "stdout",
     "output_type": "stream",
     "text": [
      "Overwriting /opt/anaconda3/lib/python3.7/site-packages/rasa/nlu/classifiers/fastai_nlu.py\n"
     ]
    }
   ],
   "source": [
    "%%writefile /opt/anaconda3/lib/python3.7/site-packages/rasa/nlu/classifiers/fastai_nlu.py\n",
    "from rasa.nlu.components import Component\n",
    "from rasa.nlu import utils\n",
    "from rasa.nlu.model import Metadata\n",
    "\n",
    "from fastai import *\n",
    "from fastai.text import *\n",
    "import os\n",
    "\n",
    "import typing\n",
    "from typing import Any, Optional, Text, Dict\n",
    "\n",
    "\n",
    "class FastaiClassifier(Component):\n",
    "    \"\"\"A pre-trained fastai classifier component\"\"\"\n",
    "\n",
    "    name = \"fastai-nlu\"\n",
    "    provides = [\"intent\"]\n",
    "    requires = []\n",
    "    defaults = {}\n",
    "    language_list = [\"en\"]\n",
    "    path = Path('/home/jupyter/chat-data')\n",
    "    data_bunch = 'data_clas_export_7_14.pkl'\n",
    "    trained_model = 'chat-clas-7-12_2'\n",
    "    encoder = 'chat-lm-encoder-7-12_2'\n",
    "    data_clas = load_data(path, data_bunch, bs=32)\n",
    "    clas_learn = text_classifier_learner(data_clas, AWD_LSTM, drop_mult=0.5)\n",
    "    clas_learn.load(trained_model)\n",
    "    clas_learn.load_encoder(encoder)\n",
    "\n",
    "    def __init__(self, component_config=None):\n",
    "        super(FastaiClassifier, self).__init__(component_config)\n",
    "\n",
    "    def train(self, training_data, cfg, **kwargs):\n",
    "        \"\"\"Not needed, because the the model is pretrained\"\"\"\n",
    "        pass\n",
    "\n",
    "\n",
    "    def process(self, message, **kwargs):\n",
    "        \"\"\"Retrieve the text message, pass it to the classifier\n",
    "            and append the prediction results to the message class.\"\"\"\n",
    "        \n",
    "#         see example: https://github.com/RasaHQ/rasa/blob/master/rasa/nlu/classifiers/sklearn_intent_classifier.py#L136\n",
    "        \n",
    "#         print(\"message.text!!\", message.text)\n",
    "        predictions = FastaiClassifier.clas_learn.predict(message.text)\n",
    "        sorted_predictions = sorted(\n",
    "            zip(FastaiClassifier.clas_learn.data.classes, map(float, predictions[2])),\n",
    "            key=lambda p: p[1],\n",
    "            reverse=True\n",
    "        )\n",
    "#         print(\"sorted_predictions!\", sorted_predictions)\n",
    "        intent = {\"name\": sorted_predictions[0][0], \"confidence\": sorted_predictions[0][1]}\n",
    "\n",
    "        intent_ranking = [\n",
    "            {\"name\": intent_name, \"confidence\": score}\n",
    "            for intent_name, score in sorted_predictions\n",
    "        ]\n",
    "#         print(\"fastai intent_ranking!!\", intent_ranking)\n",
    "        \n",
    "        message.set(\"intent\", intent, add_to_output=True)\n",
    "        message.set(\"intent_ranking\", intent_ranking, add_to_output=True)\n",
    "\n",
    "    def persist(self, file_name, model_dir):\n",
    "        \"\"\"Pass because a pre-trained model is already persisted\"\"\"\n",
    "\n",
    "        pass\n",
    "\n",
    "\n"
   ]
  },
  {
   "cell_type": "markdown",
   "metadata": {},
   "source": [
    "### Install spacy en libraries since using in the pipeline"
   ]
  },
  {
   "cell_type": "code",
   "execution_count": null,
   "metadata": {},
   "outputs": [],
   "source": [
    "# !python -m spacy download en_core_web_md\n",
    "# !python -m spacy link en_core_web_md en"
   ]
  },
  {
   "cell_type": "markdown",
   "metadata": {},
   "source": [
    "### Even though our fastai model is pre-trained, need to run rasa train so that pipeline as a whole is trained and rasa creates a zipped model file which will then be used in testing"
   ]
  },
  {
   "cell_type": "code",
   "execution_count": 85,
   "metadata": {},
   "outputs": [
    {
     "name": "stdout",
     "output_type": "stream",
     "text": [
      "\u001b[94mTraining NLU model...\u001b[0m\n",
      "2019-07-22 01:20:47 \u001b[1;30mINFO    \u001b[0m \u001b[34mrasa.nlu.utils.spacy_utils\u001b[0m  - Trying to load spacy model with name 'en'\n",
      "2019-07-22 01:20:59 \u001b[1;30mINFO    \u001b[0m \u001b[34mrasa.nlu.components\u001b[0m  - Added 'SpacyNLP' to component cache. Key 'SpacyNLP-en'.\n",
      "2019-07-22 01:20:59 \u001b[1;30mINFO    \u001b[0m \u001b[34mrasa.nlu.training_data.loading\u001b[0m  - Training data format of '/tmp/tmpeoac2qcz/693e8fac4d6b47ce9a26aeec80e1e5f1_nlu.md' is 'md'.\n",
      "2019-07-22 01:20:59 \u001b[1;30mINFO    \u001b[0m \u001b[34mrasa.nlu.training_data.training_data\u001b[0m  - Training data stats: \n",
      "\t- intent examples: 2333 (51 distinct intents)\n",
      "\t- Found intents: 'ask_whatspossible', 'ask_time', 'explain', 'ask_builder', 'greet', 'bye', 'ask_whoami', 'contact_sales', 'affirm', 'nlu_generation_tool_recommendation', 'ask_faq_channels', 'enter_data', 'ask_faq_voice', 'pipeline_recommendation', 'deny', 'out_of_scope', 'ask_faq_platform', 'ask_whatismyname', 'ask_faq_community_size', 'ask_isbot', 'human_handoff', 'ask_faq_tutorials', 'ask_question_in_forum', 'ask_whatisrasa', 'canthelp', 'ask_faq_languages', 'ask_wherefrom', 'ask_whoisit', 'ask_when_next_event', 'next_step', 'ask_languagesbot', 'signup_newsletter', 'ask_howbuilt', 'ask_how_contribute', 'ask_why_contribute', 'install_rasa', 'ask_which_events', 'ask_faq_what_is_forum', 'thank', 'how_to_get_started', 'ask_faq_opensource', 'nlu_info', 'ask_howold', 'ask_restaurant', 'ask_faq_differencecorenlu', 'technical_question', 'ask_faq_python_version', 'ask_faq_slots', 'ask_howdoing', 'switch', 'ask_weather'\n",
      "\t- entity examples: 564 (11 distinct entities)\n",
      "\t- found entities: 'nlu_part', 'number', 'product', 'entity', 'location', 'language', 'company', 'package_manager', 'current_api', 'name', 'job_function'\n",
      "\n",
      "/opt/anaconda3/lib/python3.7/site-packages/rasa/nlu/training_data/training_data.py:201: UserWarning: Entity 'number' has only 1 training examples! minimum is 2, training may fail.\n",
      "  \"\".format(entity_type, count, self.MIN_EXAMPLES_PER_ENTITY)\n",
      "2019-07-22 01:20:59 \u001b[1;30mINFO    \u001b[0m \u001b[34mrasa.nlu.model\u001b[0m  - Starting to train component SpacyNLP\n",
      "2019-07-22 01:21:01 \u001b[1;30mINFO    \u001b[0m \u001b[34mrasa.nlu.model\u001b[0m  - Finished training component.\n",
      "2019-07-22 01:21:01 \u001b[1;30mINFO    \u001b[0m \u001b[34mrasa.nlu.model\u001b[0m  - Starting to train component SpacyTokenizer\n",
      "2019-07-22 01:21:01 \u001b[1;30mINFO    \u001b[0m \u001b[34mrasa.nlu.model\u001b[0m  - Finished training component.\n",
      "2019-07-22 01:21:01 \u001b[1;30mINFO    \u001b[0m \u001b[34mrasa.nlu.model\u001b[0m  - Starting to train component SpacyFeaturizer\n",
      "2019-07-22 01:21:01 \u001b[1;30mINFO    \u001b[0m \u001b[34mrasa.nlu.model\u001b[0m  - Finished training component.\n",
      "2019-07-22 01:21:01 \u001b[1;30mINFO    \u001b[0m \u001b[34mrasa.nlu.model\u001b[0m  - Starting to train component RegexFeaturizer\n",
      "2019-07-22 01:21:01 \u001b[1;30mINFO    \u001b[0m \u001b[34mrasa.nlu.model\u001b[0m  - Finished training component.\n",
      "2019-07-22 01:21:01 \u001b[1;30mINFO    \u001b[0m \u001b[34mrasa.nlu.model\u001b[0m  - Starting to train component CRFEntityExtractor\n",
      "2019-07-22 01:21:04 \u001b[1;30mINFO    \u001b[0m \u001b[34mrasa.nlu.model\u001b[0m  - Finished training component.\n",
      "2019-07-22 01:21:04 \u001b[1;30mINFO    \u001b[0m \u001b[34mrasa.nlu.model\u001b[0m  - Starting to train component EntitySynonymMapper\n",
      "2019-07-22 01:21:04 \u001b[1;30mINFO    \u001b[0m \u001b[34mrasa.nlu.model\u001b[0m  - Finished training component.\n",
      "2019-07-22 01:21:04 \u001b[1;30mINFO    \u001b[0m \u001b[34mrasa.nlu.model\u001b[0m  - Starting to train component fastai-nlu\n",
      "2019-07-22 01:21:04 \u001b[1;30mINFO    \u001b[0m \u001b[34mrasa.nlu.model\u001b[0m  - Finished training component.\n",
      "2019-07-22 01:21:04 \u001b[1;30mINFO    \u001b[0m \u001b[34mrasa.nlu.model\u001b[0m  - Successfully saved model into '/tmp/tmpwqe9292j/nlu'\n",
      "\u001b[94mNLU model training completed.\u001b[0m\n",
      "\u001b[92mYour Rasa model is trained and saved at '/home/jupyter/rasa-fastai/notebooks/models/nlu-20190722-012104.tar.gz'.\u001b[0m\n"
     ]
    }
   ],
   "source": [
    "! rasa train nlu --config ../fastai_config.yml --nlu ../data/nlu.md"
   ]
  },
  {
   "cell_type": "markdown",
   "metadata": {},
   "source": [
    "### Test our pipeline with the fastai classifier"
   ]
  },
  {
   "cell_type": "code",
   "execution_count": 86,
   "metadata": {},
   "outputs": [
    {
     "name": "stdout",
     "output_type": "stream",
     "text": [
      "2019-07-22 01:21:38 \u001b[1;30mINFO    \u001b[0m \u001b[34mrasa.nlu.components\u001b[0m  - Added 'SpacyNLP' to component cache. Key 'SpacyNLP-en'.\n",
      "2019-07-22 01:21:38 \u001b[1;30mINFO    \u001b[0m \u001b[34mrasa.nlu.training_data.loading\u001b[0m  - Training data format of '/tmp/tmpgw_zutae/3c337b8bdbc04721b5d47aec5ddecc7a_nlu.md' is 'md'.\n",
      "2019-07-22 01:21:38 \u001b[1;30mINFO    \u001b[0m \u001b[34mrasa.nlu.training_data.training_data\u001b[0m  - Training data stats: \n",
      "\t- intent examples: 2333 (51 distinct intents)\n",
      "\t- Found intents: 'affirm', 'next_step', 'ask_how_contribute', 'enter_data', 'ask_whoami', 'human_handoff', 'install_rasa', 'ask_whatspossible', 'canthelp', 'ask_restaurant', 'ask_why_contribute', 'deny', 'ask_faq_community_size', 'thank', 'ask_languagesbot', 'ask_question_in_forum', 'ask_faq_tutorials', 'ask_faq_python_version', 'out_of_scope', 'ask_when_next_event', 'pipeline_recommendation', 'ask_howdoing', 'nlu_info', 'ask_faq_platform', 'ask_which_events', 'explain', 'greet', 'ask_faq_slots', 'ask_whatismyname', 'ask_faq_languages', 'ask_faq_opensource', 'bye', 'ask_howbuilt', 'ask_weather', 'ask_builder', 'ask_time', 'ask_isbot', 'signup_newsletter', 'ask_faq_channels', 'ask_wherefrom', 'contact_sales', 'nlu_generation_tool_recommendation', 'ask_whoisit', 'ask_faq_differencecorenlu', 'ask_howold', 'how_to_get_started', 'technical_question', 'switch', 'ask_faq_voice', 'ask_whatisrasa', 'ask_faq_what_is_forum'\n",
      "\t- entity examples: 564 (11 distinct entities)\n",
      "\t- found entities: 'product', 'company', 'current_api', 'name', 'package_manager', 'job_function', 'entity', 'location', 'number', 'language', 'nlu_part'\n",
      "\n",
      "2019-07-22 01:21:38 \u001b[1;30mINFO    \u001b[0m \u001b[34mrasa.nlu.test\u001b[0m  - Running model for predictions:\n",
      "100%|███████████████████████████████████████| 2333/2333 [01:56<00:00, 20.08it/s]\n",
      "2019-07-22 01:23:35 \u001b[1;30mINFO    \u001b[0m \u001b[34mrasa.nlu.test\u001b[0m  - Intent evaluation results:\n",
      "2019-07-22 01:23:35 \u001b[1;30mINFO    \u001b[0m \u001b[34mrasa.nlu.test\u001b[0m  - Intent Evaluation: Only considering those 2333 examples that have a defined intent out of 2333 examples\n",
      "/opt/anaconda3/lib/python3.7/site-packages/sklearn/metrics/classification.py:1143: UndefinedMetricWarning: Precision and F-score are ill-defined and being set to 0.0 in labels with no predicted samples.\n",
      "  'precision', 'predicted', average, warn_for)\n",
      "/opt/anaconda3/lib/python3.7/site-packages/sklearn/metrics/classification.py:1143: UndefinedMetricWarning: Precision is ill-defined and being set to 0.0 in labels with no predicted samples.\n",
      "  'precision', 'predicted', average, warn_for)\n",
      "/opt/anaconda3/lib/python3.7/site-packages/sklearn/metrics/classification.py:1143: UndefinedMetricWarning: F-score is ill-defined and being set to 0.0 in labels with no predicted samples.\n",
      "  'precision', 'predicted', average, warn_for)\n",
      "2019-07-22 01:23:35 \u001b[1;30mINFO    \u001b[0m \u001b[34mrasa.nlu.test\u001b[0m  - F1-Score:  0.7455407539414772\n",
      "2019-07-22 01:23:35 \u001b[1;30mINFO    \u001b[0m \u001b[34mrasa.nlu.test\u001b[0m  - Precision: 0.7922963635774074\n",
      "2019-07-22 01:23:35 \u001b[1;30mINFO    \u001b[0m \u001b[34mrasa.nlu.test\u001b[0m  - Accuracy:  0.7453921988855551\n",
      "2019-07-22 01:23:35 \u001b[1;30mINFO    \u001b[0m \u001b[34mrasa.nlu.test\u001b[0m  - Classification report: \n",
      "                                    precision    recall  f1-score   support\n",
      "\n",
      "                            affirm       0.95      0.68      0.79        53\n",
      "                       ask_builder       0.95      0.83      0.88        46\n",
      "                  ask_faq_channels       0.89      0.96      0.92        25\n",
      "            ask_faq_community_size       0.80      0.80      0.80         5\n",
      "         ask_faq_differencecorenlu       0.00      0.00      0.00        34\n",
      "                 ask_faq_languages       0.32      0.73      0.44        33\n",
      "                ask_faq_opensource       0.92      1.00      0.96        24\n",
      "                  ask_faq_platform       0.61      1.00      0.76        19\n",
      "            ask_faq_python_version       0.91      1.00      0.95        10\n",
      "                     ask_faq_slots       0.55      1.00      0.71        41\n",
      "                 ask_faq_tutorials       0.92      1.00      0.96        11\n",
      "                     ask_faq_voice       0.96      1.00      0.98        44\n",
      "             ask_faq_what_is_forum       1.00      1.00      1.00         4\n",
      "                ask_how_contribute       1.00      0.56      0.71         9\n",
      "                      ask_howbuilt       0.93      1.00      0.96        41\n",
      "                      ask_howdoing       0.86      0.80      0.83        45\n",
      "                        ask_howold       1.00      0.95      0.97        38\n",
      "                         ask_isbot       0.78      0.97      0.87        37\n",
      "                  ask_languagesbot       0.73      0.89      0.80        37\n",
      "             ask_question_in_forum       1.00      0.83      0.91         6\n",
      "                    ask_restaurant       0.84      1.00      0.91        37\n",
      "                          ask_time       0.98      1.00      0.99        43\n",
      "                       ask_weather       0.77      0.97      0.86        34\n",
      "                  ask_whatismyname       0.73      0.97      0.83        38\n",
      "                    ask_whatisrasa       0.74      0.88      0.81        33\n",
      "                 ask_whatspossible       0.90      0.76      0.82        37\n",
      "               ask_when_next_event       1.00      0.62      0.77         8\n",
      "                     ask_wherefrom       0.94      0.89      0.92        38\n",
      "                  ask_which_events       1.00      0.83      0.91         6\n",
      "                        ask_whoami       1.00      0.81      0.89        26\n",
      "                       ask_whoisit       0.79      0.86      0.83        22\n",
      "                ask_why_contribute       1.00      0.75      0.86         4\n",
      "                               bye       0.93      0.57      0.70        23\n",
      "                          canthelp       0.65      0.89      0.76        19\n",
      "                     contact_sales       0.90      0.93      0.92       121\n",
      "                              deny       0.76      0.68      0.72        38\n",
      "                        enter_data       0.90      0.56      0.69       682\n",
      "                           explain       0.91      0.91      0.91        11\n",
      "                             greet       0.57      0.79      0.66        67\n",
      "                how_to_get_started       0.64      0.46      0.53        35\n",
      "                     human_handoff       0.62      0.89      0.73        38\n",
      "                      install_rasa       0.96      0.96      0.96        49\n",
      "                         next_step       0.83      1.00      0.91         5\n",
      "nlu_generation_tool_recommendation       0.26      1.00      0.42        11\n",
      "                          nlu_info       0.00      0.00      0.00        35\n",
      "                      out_of_scope       0.45      0.73      0.56       109\n",
      "           pipeline_recommendation       1.00      1.00      1.00        14\n",
      "                 signup_newsletter       0.96      0.98      0.97       111\n",
      "                            switch       0.00      0.00      0.00        21\n",
      "                technical_question       0.16      0.73      0.27        30\n",
      "                             thank       0.88      0.88      0.88        26\n",
      "\n",
      "                         micro avg       0.75      0.75      0.75      2333\n",
      "                         macro avg       0.77      0.81      0.77      2333\n",
      "                      weighted avg       0.79      0.75      0.75      2333\n",
      "\n",
      "2019-07-22 01:23:35 \u001b[1;30mINFO    \u001b[0m \u001b[34mrasa.nlu.test\u001b[0m  - Model prediction errors saved to errors.json.\n",
      "2019-07-22 01:23:35 \u001b[1;30mINFO    \u001b[0m \u001b[34mrasa.nlu.test\u001b[0m  - Confusion matrix, without normalization: \n",
      "[[ 36   0   0   0 ...   0   0   0   1]\n",
      " [  0  38   0   0 ...   0   0   0   0]\n",
      " [  0   0  24   0 ...   0   0   1   0]\n",
      " [  0   0   0   4 ...   0   0   0   0]\n",
      " ...\n",
      " [  0   0   0   0 ... 109   0   0   0]\n",
      " [  0   0   0   0 ...   0   0   9   0]\n",
      " [  0   0   0   0 ...   0   0  22   0]\n",
      " [  0   0   0   0 ...   0   0   0  23]]\n",
      "Figure(2000x2000)\n",
      "Figure(1000x1000)\n",
      "2019-07-22 01:23:41 \u001b[1;30mINFO    \u001b[0m \u001b[34mrasa.nlu.test\u001b[0m  - Entity evaluation results:\n",
      "2019-07-22 01:23:41 \u001b[1;30mINFO    \u001b[0m \u001b[34mrasa.nlu.test\u001b[0m  - Evaluation for entity extractor: CRFEntityExtractor \n",
      "2019-07-22 01:23:41 \u001b[1;30mINFO    \u001b[0m \u001b[34mrasa.nlu.test\u001b[0m  - F1-Score:  0.9985495374982161\n",
      "2019-07-22 01:23:41 \u001b[1;30mINFO    \u001b[0m \u001b[34mrasa.nlu.test\u001b[0m  - Precision: 0.9985853328136536\n",
      "2019-07-22 01:23:41 \u001b[1;30mINFO    \u001b[0m \u001b[34mrasa.nlu.test\u001b[0m  - Accuracy:  0.9985426281272771\n",
      "2019-07-22 01:23:41 \u001b[1;30mINFO    \u001b[0m \u001b[34mrasa.nlu.test\u001b[0m  - Classification report: \n",
      "                 precision    recall  f1-score   support\n",
      "\n",
      "        company       1.00      0.98      0.99        86\n",
      "    current_api       1.00      1.00      1.00        22\n",
      "         entity       1.00      0.88      0.94        17\n",
      "   job_function       0.99      0.99      0.99       127\n",
      "       language       1.00      1.00      1.00       259\n",
      "       location       0.83      1.00      0.91         5\n",
      "           name       1.00      0.99      0.99        78\n",
      "       nlu_part       0.98      1.00      0.99        63\n",
      "      no_entity       1.00      1.00      1.00     11590\n",
      "         number       1.00      1.00      1.00         1\n",
      "package_manager       1.00      1.00      1.00         7\n",
      "        product       0.93      0.98      0.95        96\n",
      "\n",
      "      micro avg       1.00      1.00      1.00     12351\n",
      "      macro avg       0.98      0.98      0.98     12351\n",
      "   weighted avg       1.00      1.00      1.00     12351\n",
      "\n"
     ]
    }
   ],
   "source": [
    "! rasa test nlu --config ../fastai_config.yml --nlu ../data/nlu.md --model /models/nlu-20190722-012104.tar.gz"
   ]
  },
  {
   "cell_type": "markdown",
   "metadata": {},
   "source": [
    "### Accuracy for the fastai_classifier: 0.7453921988855551\n",
    "Getting 0 precision and recall on ask_faq_differencecorenlu and nlu_info which makes sense since those weren't in the trained classes. Also, getting 0 precision and recall on switch even though this was at least a class on the learner (though only trained with one example).\n",
    "\n",
    "This is because when I created my json training data, I filtered out anything that had a bracket since I didn't want to confuse the intent classification model with the syntax that happened to be in named entity recognition training data. "
   ]
  },
  {
   "cell_type": "code",
   "execution_count": 89,
   "metadata": {},
   "outputs": [
    {
     "name": "stdout",
     "output_type": "stream",
     "text": [
      "[\r\n",
      "  {\r\n",
      "    \"text\": \"No, I mean how it is possible to use Skype as channel?\",\r\n",
      "    \"intent\": \"ask_faq_channels\",\r\n",
      "    \"intent_prediction\": {\r\n",
      "      \"name\": \"technical_question\",\r\n",
      "      \"confidence\": 0.812785267829895\r\n",
      "    }\r\n",
      "  },\r\n",
      "  {\r\n",
      "    \"text\": \"What makes core and nlu different?\",\r\n",
      "    \"intent\": \"ask_faq_differencecorenlu\",\r\n",
      "    \"intent_prediction\": {\r\n",
      "      \"name\": \"technical_question\",\r\n",
      "      \"confidence\": 0.649851381778717\r\n",
      "    }\r\n",
      "  },\r\n",
      "  {\r\n",
      "    \"text\": \"what is the main difference between core and nlu?\",\r\n",
      "    \"intent\": \"ask_faq_differencecorenlu\",\r\n",
      "    \"intent_prediction\": {\r\n",
      "      \"name\": \"nlu_generation_tool_recommendation\",\r\n",
      "      \"confidence\": 0.2822674512863159\r\n",
      "    }\r\n",
      "  },\r\n",
      "  {\r\n",
      "    \"text\": \"what is the primary difference between core and nlu?\",\r\n",
      "    \"intent\": \"ask_faq_differencecorenlu\",\r\n",
      "    \"intent_prediction\": {\r\n",
      "      \"name\": \"technical_question\",\r\n",
      "      \"confidence\": 0.20713557302951813\r\n",
      "    }\r\n",
      "  },\r\n",
      "  {\r\n",
      "    \"text\": \"what would you say the difference is between core and nlu?\",\r\n",
      "    \"intent\": \"ask_faq_differencecorenlu\",\r\n",
      "    \"intent_prediction\": {\r\n",
      "      \"name\": \"out_of_scope\",\r\n",
      "      \"confidence\": 0.6137574911117554\r\n",
      "    }\r\n"
     ]
    }
   ],
   "source": [
    "!head -n 40 errors.json"
   ]
  },
  {
   "cell_type": "code",
   "execution_count": null,
   "metadata": {},
   "outputs": [],
   "source": []
  },
  {
   "cell_type": "code",
   "execution_count": null,
   "metadata": {},
   "outputs": [],
   "source": []
  },
  {
   "cell_type": "code",
   "execution_count": null,
   "metadata": {},
   "outputs": [],
   "source": []
  },
  {
   "cell_type": "code",
   "execution_count": 18,
   "metadata": {},
   "outputs": [],
   "source": [
    "pretrained_embeddings_spacy_config = \"\"\"language: \"en\"\n",
    "\n",
    "pipeline:\n",
    "- name: \"SpacyNLP\"\n",
    "- name: \"SpacyTokenizer\"\n",
    "- name: \"SpacyFeaturizer\"\n",
    "- name: \"RegexFeaturizer\"\n",
    "- name: \"CRFEntityExtractor\"\n",
    "- name: \"EntitySynonymMapper\"\n",
    "- name: \"SklearnIntentClassifier\"\n",
    "    \n",
    "policies:\n",
    "  - name: MemoizationPolicy\n",
    "  - name: KerasPolicy\n",
    "  - name: MappingPolicy\"\"\""
   ]
  },
  {
   "cell_type": "code",
   "execution_count": 19,
   "metadata": {},
   "outputs": [
    {
     "name": "stdout",
     "output_type": "stream",
     "text": [
      "Writing 'pretrained_embeddings_spacy_config' (str) to file '../pretrained_embeddings_spacy_config.yml'.\n"
     ]
    }
   ],
   "source": [
    "store pretrained_embeddings_spacy_config > ../pretrained_embeddings_spacy_config.yml"
   ]
  },
  {
   "cell_type": "code",
   "execution_count": 20,
   "metadata": {},
   "outputs": [
    {
     "name": "stdout",
     "output_type": "stream",
     "text": [
      "\u001b[94mTraining NLU model...\u001b[0m\n",
      "2019-07-21 23:21:05 \u001b[1;30mINFO    \u001b[0m \u001b[34mrasa.nlu.utils.spacy_utils\u001b[0m  - Trying to load spacy model with name 'en'\n",
      "2019-07-21 23:21:18 \u001b[1;30mINFO    \u001b[0m \u001b[34mrasa.nlu.components\u001b[0m  - Added 'SpacyNLP' to component cache. Key 'SpacyNLP-en'.\n",
      "2019-07-21 23:21:18 \u001b[1;30mINFO    \u001b[0m \u001b[34mrasa.nlu.training_data.loading\u001b[0m  - Training data format of '/tmp/tmpe4hcojgh/f570a500047341d58c489edfa64b6ce8_nlu.md' is 'md'.\n",
      "2019-07-21 23:21:18 \u001b[1;30mINFO    \u001b[0m \u001b[34mrasa.nlu.training_data.training_data\u001b[0m  - Training data stats: \n",
      "\t- intent examples: 2333 (51 distinct intents)\n",
      "\t- Found intents: 'ask_wherefrom', 'switch', 'ask_faq_platform', 'ask_whatismyname', 'install_rasa', 'ask_howdoing', 'ask_whoisit', 'ask_howold', 'ask_faq_python_version', 'ask_builder', 'canthelp', 'nlu_info', 'nlu_generation_tool_recommendation', 'next_step', 'ask_whoami', 'ask_when_next_event', 'ask_how_contribute', 'ask_faq_slots', 'affirm', 'thank', 'ask_question_in_forum', 'ask_whatspossible', 'human_handoff', 'greet', 'ask_faq_languages', 'ask_faq_differencecorenlu', 'ask_restaurant', 'deny', 'ask_which_events', 'ask_faq_opensource', 'explain', 'ask_time', 'pipeline_recommendation', 'ask_languagesbot', 'ask_faq_what_is_forum', 'ask_isbot', 'ask_faq_channels', 'ask_faq_voice', 'ask_weather', 'contact_sales', 'ask_why_contribute', 'ask_faq_tutorials', 'ask_howbuilt', 'bye', 'ask_whatisrasa', 'how_to_get_started', 'out_of_scope', 'signup_newsletter', 'technical_question', 'ask_faq_community_size', 'enter_data'\n",
      "\t- entity examples: 564 (11 distinct entities)\n",
      "\t- found entities: 'language', 'nlu_part', 'current_api', 'package_manager', 'name', 'company', 'product', 'job_function', 'entity', 'number', 'location'\n",
      "\n",
      "/opt/anaconda3/lib/python3.7/site-packages/rasa/nlu/training_data/training_data.py:201: UserWarning: Entity 'number' has only 1 training examples! minimum is 2, training may fail.\n",
      "  \"\".format(entity_type, count, self.MIN_EXAMPLES_PER_ENTITY)\n",
      "2019-07-21 23:21:18 \u001b[1;30mINFO    \u001b[0m \u001b[34mrasa.nlu.model\u001b[0m  - Starting to train component SpacyNLP\n",
      "2019-07-21 23:21:20 \u001b[1;30mINFO    \u001b[0m \u001b[34mrasa.nlu.model\u001b[0m  - Finished training component.\n",
      "2019-07-21 23:21:20 \u001b[1;30mINFO    \u001b[0m \u001b[34mrasa.nlu.model\u001b[0m  - Starting to train component SpacyTokenizer\n",
      "2019-07-21 23:21:20 \u001b[1;30mINFO    \u001b[0m \u001b[34mrasa.nlu.model\u001b[0m  - Finished training component.\n",
      "2019-07-21 23:21:20 \u001b[1;30mINFO    \u001b[0m \u001b[34mrasa.nlu.model\u001b[0m  - Starting to train component SpacyFeaturizer\n",
      "2019-07-21 23:21:20 \u001b[1;30mINFO    \u001b[0m \u001b[34mrasa.nlu.model\u001b[0m  - Finished training component.\n",
      "2019-07-21 23:21:20 \u001b[1;30mINFO    \u001b[0m \u001b[34mrasa.nlu.model\u001b[0m  - Starting to train component RegexFeaturizer\n",
      "2019-07-21 23:21:20 \u001b[1;30mINFO    \u001b[0m \u001b[34mrasa.nlu.model\u001b[0m  - Finished training component.\n",
      "2019-07-21 23:21:20 \u001b[1;30mINFO    \u001b[0m \u001b[34mrasa.nlu.model\u001b[0m  - Starting to train component CRFEntityExtractor\n",
      "2019-07-21 23:21:23 \u001b[1;30mINFO    \u001b[0m \u001b[34mrasa.nlu.model\u001b[0m  - Finished training component.\n",
      "2019-07-21 23:21:23 \u001b[1;30mINFO    \u001b[0m \u001b[34mrasa.nlu.model\u001b[0m  - Starting to train component EntitySynonymMapper\n",
      "2019-07-21 23:21:23 \u001b[1;30mINFO    \u001b[0m \u001b[34mrasa.nlu.model\u001b[0m  - Finished training component.\n",
      "2019-07-21 23:21:23 \u001b[1;30mINFO    \u001b[0m \u001b[34mrasa.nlu.model\u001b[0m  - Starting to train component SklearnIntentClassifier\n",
      "Fitting 2 folds for each of 6 candidates, totalling 12 fits\n",
      "[Parallel(n_jobs=1)]: Using backend SequentialBackend with 1 concurrent workers.\n",
      "/opt/anaconda3/lib/python3.7/site-packages/sklearn/metrics/classification.py:1143: UndefinedMetricWarning: F-score is ill-defined and being set to 0.0 in labels with no predicted samples.\n",
      "  'precision', 'predicted', average, warn_for)\n",
      "/opt/anaconda3/lib/python3.7/site-packages/sklearn/metrics/classification.py:1143: UndefinedMetricWarning: F-score is ill-defined and being set to 0.0 in labels with no predicted samples.\n",
      "  'precision', 'predicted', average, warn_for)\n",
      "/opt/anaconda3/lib/python3.7/site-packages/sklearn/metrics/classification.py:1143: UndefinedMetricWarning: F-score is ill-defined and being set to 0.0 in labels with no predicted samples.\n",
      "  'precision', 'predicted', average, warn_for)\n",
      "/opt/anaconda3/lib/python3.7/site-packages/sklearn/metrics/classification.py:1143: UndefinedMetricWarning: F-score is ill-defined and being set to 0.0 in labels with no predicted samples.\n",
      "  'precision', 'predicted', average, warn_for)\n",
      "/opt/anaconda3/lib/python3.7/site-packages/sklearn/metrics/classification.py:1143: UndefinedMetricWarning: F-score is ill-defined and being set to 0.0 in labels with no predicted samples.\n",
      "  'precision', 'predicted', average, warn_for)\n",
      "/opt/anaconda3/lib/python3.7/site-packages/sklearn/metrics/classification.py:1143: UndefinedMetricWarning: F-score is ill-defined and being set to 0.0 in labels with no predicted samples.\n",
      "  'precision', 'predicted', average, warn_for)\n",
      "/opt/anaconda3/lib/python3.7/site-packages/sklearn/metrics/classification.py:1143: UndefinedMetricWarning: F-score is ill-defined and being set to 0.0 in labels with no predicted samples.\n",
      "  'precision', 'predicted', average, warn_for)\n",
      "/opt/anaconda3/lib/python3.7/site-packages/sklearn/metrics/classification.py:1143: UndefinedMetricWarning: F-score is ill-defined and being set to 0.0 in labels with no predicted samples.\n",
      "  'precision', 'predicted', average, warn_for)\n",
      "/opt/anaconda3/lib/python3.7/site-packages/sklearn/metrics/classification.py:1143: UndefinedMetricWarning: F-score is ill-defined and being set to 0.0 in labels with no predicted samples.\n",
      "  'precision', 'predicted', average, warn_for)\n",
      "/opt/anaconda3/lib/python3.7/site-packages/sklearn/metrics/classification.py:1143: UndefinedMetricWarning: F-score is ill-defined and being set to 0.0 in labels with no predicted samples.\n",
      "  'precision', 'predicted', average, warn_for)\n",
      "/opt/anaconda3/lib/python3.7/site-packages/sklearn/metrics/classification.py:1143: UndefinedMetricWarning: F-score is ill-defined and being set to 0.0 in labels with no predicted samples.\n",
      "  'precision', 'predicted', average, warn_for)\n",
      "/opt/anaconda3/lib/python3.7/site-packages/sklearn/metrics/classification.py:1143: UndefinedMetricWarning: F-score is ill-defined and being set to 0.0 in labels with no predicted samples.\n",
      "  'precision', 'predicted', average, warn_for)\n",
      "[Parallel(n_jobs=1)]: Done  12 out of  12 | elapsed:   51.2s finished\n",
      "/opt/anaconda3/lib/python3.7/site-packages/sklearn/model_selection/_search.py:841: DeprecationWarning: The default of the `iid` parameter will change from True to False in version 0.22 and will be removed in 0.24. This will change numeric results when test-set sizes are unequal.\n",
      "  DeprecationWarning)\n",
      "2019-07-21 23:22:24 \u001b[1;30mINFO    \u001b[0m \u001b[34mrasa.nlu.model\u001b[0m  - Finished training component.\n",
      "2019-07-21 23:22:25 \u001b[1;30mINFO    \u001b[0m \u001b[34mrasa.nlu.model\u001b[0m  - Successfully saved model into '/tmp/tmp17rlof78/nlu'\n",
      "\u001b[94mNLU model training completed.\u001b[0m\n",
      "\u001b[92mYour Rasa model is trained and saved at '/home/jupyter/rasa-fastai/notebooks/models/nlu-20190721-232225.tar.gz'.\u001b[0m\n"
     ]
    }
   ],
   "source": [
    "! rasa train nlu --config ../pretrained_embeddings_spacy_config.yml --nlu ../data"
   ]
  },
  {
   "cell_type": "code",
   "execution_count": 22,
   "metadata": {},
   "outputs": [
    {
     "name": "stdout",
     "output_type": "stream",
     "text": [
      "2019-07-21 23:27:26 \u001b[1;30mINFO    \u001b[0m \u001b[34mrasa.nlu.components\u001b[0m  - Added 'SpacyNLP' to component cache. Key 'SpacyNLP-en'.\n",
      "2019-07-21 23:27:26 \u001b[1;30mINFO    \u001b[0m \u001b[34mrasa.nlu.training_data.loading\u001b[0m  - Training data format of '/tmp/tmpgb7w6l5k/f22855a099eb45b59334a9a49f119865_nlu.md' is 'md'.\n",
      "2019-07-21 23:27:26 \u001b[1;30mINFO    \u001b[0m \u001b[34mrasa.nlu.training_data.training_data\u001b[0m  - Training data stats: \n",
      "\t- intent examples: 2333 (51 distinct intents)\n",
      "\t- Found intents: 'ask_whatisrasa', 'ask_time', 'technical_question', 'ask_faq_python_version', 'affirm', 'ask_faq_community_size', 'canthelp', 'human_handoff', 'ask_languagesbot', 'signup_newsletter', 'ask_faq_channels', 'greet', 'explain', 'ask_isbot', 'ask_whatspossible', 'ask_why_contribute', 'ask_whoami', 'enter_data', 'ask_how_contribute', 'ask_faq_opensource', 'ask_howdoing', 'ask_restaurant', 'ask_faq_differencecorenlu', 'deny', 'switch', 'pipeline_recommendation', 'ask_wherefrom', 'ask_whoisit', 'next_step', 'thank', 'how_to_get_started', 'ask_when_next_event', 'ask_whatismyname', 'install_rasa', 'ask_faq_what_is_forum', 'out_of_scope', 'contact_sales', 'nlu_info', 'ask_howold', 'nlu_generation_tool_recommendation', 'bye', 'ask_howbuilt', 'ask_builder', 'ask_question_in_forum', 'ask_faq_tutorials', 'ask_faq_voice', 'ask_faq_slots', 'ask_which_events', 'ask_faq_languages', 'ask_faq_platform', 'ask_weather'\n",
      "\t- entity examples: 564 (11 distinct entities)\n",
      "\t- found entities: 'product', 'company', 'package_manager', 'nlu_part', 'current_api', 'job_function', 'name', 'language', 'location', 'entity', 'number'\n",
      "\n",
      "2019-07-21 23:27:26 \u001b[1;30mINFO    \u001b[0m \u001b[34mrasa.nlu.test\u001b[0m  - Running model for predictions:\n",
      "100%|██████████████████████████████████████| 2333/2333 [00:12<00:00, 191.32it/s]\n",
      "2019-07-21 23:27:38 \u001b[1;30mINFO    \u001b[0m \u001b[34mrasa.nlu.test\u001b[0m  - Intent evaluation results:\n",
      "2019-07-21 23:27:38 \u001b[1;30mINFO    \u001b[0m \u001b[34mrasa.nlu.test\u001b[0m  - Intent Evaluation: Only considering those 2333 examples that have a defined intent out of 2333 examples\n",
      "2019-07-21 23:27:38 \u001b[1;30mINFO    \u001b[0m \u001b[34mrasa.nlu.test\u001b[0m  - F1-Score:  0.9616653852959384\n",
      "2019-07-21 23:27:38 \u001b[1;30mINFO    \u001b[0m \u001b[34mrasa.nlu.test\u001b[0m  - Precision: 0.9663801976144694\n",
      "2019-07-21 23:27:38 \u001b[1;30mINFO    \u001b[0m \u001b[34mrasa.nlu.test\u001b[0m  - Accuracy:  0.9652807543934848\n",
      "2019-07-21 23:27:38 \u001b[1;30mINFO    \u001b[0m \u001b[34mrasa.nlu.test\u001b[0m  - Classification report: \n",
      "                                    precision    recall  f1-score   support\n",
      "\n",
      "                            affirm       0.98      0.96      0.97        53\n",
      "                       ask_builder       1.00      0.98      0.99        46\n",
      "                  ask_faq_channels       1.00      1.00      1.00        25\n",
      "            ask_faq_community_size       1.00      1.00      1.00         5\n",
      "         ask_faq_differencecorenlu       1.00      1.00      1.00        34\n",
      "                 ask_faq_languages       1.00      0.97      0.98        33\n",
      "                ask_faq_opensource       1.00      1.00      1.00        24\n",
      "                  ask_faq_platform       0.94      0.84      0.89        19\n",
      "            ask_faq_python_version       1.00      0.90      0.95        10\n",
      "                     ask_faq_slots       1.00      0.98      0.99        41\n",
      "                 ask_faq_tutorials       1.00      1.00      1.00        11\n",
      "                     ask_faq_voice       1.00      1.00      1.00        44\n",
      "             ask_faq_what_is_forum       1.00      1.00      1.00         4\n",
      "                ask_how_contribute       0.82      1.00      0.90         9\n",
      "                      ask_howbuilt       0.98      1.00      0.99        41\n",
      "                      ask_howdoing       1.00      1.00      1.00        45\n",
      "                        ask_howold       1.00      1.00      1.00        38\n",
      "                         ask_isbot       0.97      1.00      0.99        37\n",
      "                  ask_languagesbot       0.97      1.00      0.99        37\n",
      "             ask_question_in_forum       1.00      1.00      1.00         6\n",
      "                    ask_restaurant       0.93      1.00      0.96        37\n",
      "                          ask_time       1.00      1.00      1.00        43\n",
      "                       ask_weather       1.00      1.00      1.00        34\n",
      "                  ask_whatismyname       1.00      1.00      1.00        38\n",
      "                    ask_whatisrasa       0.94      1.00      0.97        33\n",
      "                 ask_whatspossible       0.93      1.00      0.96        37\n",
      "               ask_when_next_event       1.00      1.00      1.00         8\n",
      "                     ask_wherefrom       0.97      1.00      0.99        38\n",
      "                  ask_which_events       1.00      0.83      0.91         6\n",
      "                        ask_whoami       1.00      1.00      1.00        26\n",
      "                       ask_whoisit       1.00      0.95      0.98        22\n",
      "                ask_why_contribute       1.00      0.50      0.67         4\n",
      "                               bye       1.00      0.96      0.98        23\n",
      "                          canthelp       1.00      0.32      0.48        19\n",
      "                     contact_sales       0.97      0.99      0.98       121\n",
      "                              deny       0.93      1.00      0.96        38\n",
      "                        enter_data       0.95      0.99      0.97       682\n",
      "                           explain       1.00      1.00      1.00        11\n",
      "                             greet       0.98      0.96      0.97        67\n",
      "                how_to_get_started       0.89      0.89      0.89        35\n",
      "                     human_handoff       0.97      1.00      0.99        38\n",
      "                      install_rasa       1.00      1.00      1.00        49\n",
      "                         next_step       1.00      0.60      0.75         5\n",
      "nlu_generation_tool_recommendation       1.00      0.64      0.78        11\n",
      "                          nlu_info       1.00      0.97      0.99        35\n",
      "                      out_of_scope       0.88      0.93      0.90       109\n",
      "           pipeline_recommendation       1.00      1.00      1.00        14\n",
      "                 signup_newsletter       1.00      1.00      1.00       111\n",
      "                            switch       1.00      0.29      0.44        21\n",
      "                technical_question       0.88      0.70      0.78        30\n",
      "                             thank       1.00      1.00      1.00        26\n",
      "\n",
      "                         micro avg       0.97      0.97      0.97      2333\n",
      "                         macro avg       0.98      0.92      0.94      2333\n",
      "                      weighted avg       0.97      0.97      0.96      2333\n",
      "\n",
      "2019-07-21 23:27:38 \u001b[1;30mINFO    \u001b[0m \u001b[34mrasa.nlu.test\u001b[0m  - Model prediction errors saved to errors.json.\n",
      "2019-07-21 23:27:38 \u001b[1;30mINFO    \u001b[0m \u001b[34mrasa.nlu.test\u001b[0m  - Confusion matrix, without normalization: \n",
      "[[ 51   0   0   0 ...   0   0   0   0]\n",
      " [  0  45   0   0 ...   0   0   0   0]\n",
      " [  0   0  25   0 ...   0   0   0   0]\n",
      " [  0   0   0   5 ...   0   0   0   0]\n",
      " ...\n",
      " [  0   0   0   0 ... 111   0   0   0]\n",
      " [  0   0   0   0 ...   0   6   1   0]\n",
      " [  0   0   0   0 ...   0   0  21   0]\n",
      " [  0   0   0   0 ...   0   0   0  26]]\n",
      "Figure(2000x2000)\n",
      "Figure(1000x1000)\n",
      "2019-07-21 23:27:44 \u001b[1;30mINFO    \u001b[0m \u001b[34mrasa.nlu.test\u001b[0m  - Entity evaluation results:\n",
      "2019-07-21 23:27:44 \u001b[1;30mINFO    \u001b[0m \u001b[34mrasa.nlu.test\u001b[0m  - Evaluation for entity extractor: CRFEntityExtractor \n",
      "2019-07-21 23:27:44 \u001b[1;30mINFO    \u001b[0m \u001b[34mrasa.nlu.test\u001b[0m  - F1-Score:  0.9985495374982161\n",
      "2019-07-21 23:27:44 \u001b[1;30mINFO    \u001b[0m \u001b[34mrasa.nlu.test\u001b[0m  - Precision: 0.9985853328136536\n",
      "2019-07-21 23:27:44 \u001b[1;30mINFO    \u001b[0m \u001b[34mrasa.nlu.test\u001b[0m  - Accuracy:  0.9985426281272771\n",
      "2019-07-21 23:27:44 \u001b[1;30mINFO    \u001b[0m \u001b[34mrasa.nlu.test\u001b[0m  - Classification report: \n",
      "                 precision    recall  f1-score   support\n",
      "\n",
      "        company       1.00      0.98      0.99        86\n",
      "    current_api       1.00      1.00      1.00        22\n",
      "         entity       1.00      0.88      0.94        17\n",
      "   job_function       0.99      0.99      0.99       127\n",
      "       language       1.00      1.00      1.00       259\n",
      "       location       0.83      1.00      0.91         5\n",
      "           name       1.00      0.99      0.99        78\n",
      "       nlu_part       0.98      1.00      0.99        63\n",
      "      no_entity       1.00      1.00      1.00     11590\n",
      "         number       1.00      1.00      1.00         1\n",
      "package_manager       1.00      1.00      1.00         7\n",
      "        product       0.93      0.98      0.95        96\n",
      "\n",
      "      micro avg       1.00      1.00      1.00     12351\n",
      "      macro avg       0.98      0.98      0.98     12351\n",
      "   weighted avg       1.00      1.00      1.00     12351\n",
      "\n"
     ]
    }
   ],
   "source": [
    "! rasa test nlu --config ../pretrained_embeddings_spacy_config.yml --nlu ../data --model /models/nlu-20190721-232225.tar.gz"
   ]
  },
  {
   "cell_type": "markdown",
   "metadata": {},
   "source": [
    "### Accuracy for the sklearn:  0.9652807543934848\n",
    "### But not good test since did not split the data for training/testing"
   ]
  },
  {
   "cell_type": "markdown",
   "metadata": {},
   "source": [
    "### Let's actually be thoughtful about our training and test data"
   ]
  },
  {
   "cell_type": "code",
   "execution_count": 30,
   "metadata": {},
   "outputs": [
    {
     "name": "stdout",
     "output_type": "stream",
     "text": [
      "2019-07-21 23:58:09 \u001b[1;30mINFO    \u001b[0m \u001b[34mrasa.nlu.training_data.loading\u001b[0m  - Training data format of '/tmp/tmp7_8vuook/342aa43845ee4bc5abb0dfbed6599f3e_nlu.md' is 'md'.\n",
      "2019-07-21 23:58:09 \u001b[1;30mINFO    \u001b[0m \u001b[34mrasa.nlu.training_data.training_data\u001b[0m  - Training data stats: \n",
      "\t- intent examples: 2333 (51 distinct intents)\n",
      "\t- Found intents: 'ask_how_contribute', 'signup_newsletter', 'technical_question', 'ask_languagesbot', 'ask_builder', 'ask_faq_opensource', 'ask_whoami', 'explain', 'pipeline_recommendation', 'ask_restaurant', 'ask_whatspossible', 'ask_faq_differencecorenlu', 'ask_faq_python_version', 'ask_faq_platform', 'contact_sales', 'ask_faq_community_size', 'ask_isbot', 'ask_faq_what_is_forum', 'ask_faq_channels', 'ask_howdoing', 'canthelp', 'deny', 'nlu_generation_tool_recommendation', 'how_to_get_started', 'ask_question_in_forum', 'human_handoff', 'switch', 'thank', 'ask_why_contribute', 'ask_faq_slots', 'ask_wherefrom', 'greet', 'ask_weather', 'ask_faq_tutorials', 'ask_which_events', 'ask_whoisit', 'ask_whatisrasa', 'ask_faq_languages', 'enter_data', 'nlu_info', 'ask_howbuilt', 'ask_howold', 'ask_whatismyname', 'ask_faq_voice', 'install_rasa', 'next_step', 'affirm', 'ask_time', 'ask_when_next_event', 'out_of_scope', 'bye'\n",
      "\t- entity examples: 564 (11 distinct entities)\n",
      "\t- found entities: 'current_api', 'package_manager', 'company', 'name', 'number', 'location', 'language', 'product', 'job_function', 'nlu_part', 'entity'\n",
      "\n",
      "2019-07-21 23:58:09 \u001b[1;30mINFO    \u001b[0m \u001b[34mrasa.nlu.training_data.training_data\u001b[0m  - Training data stats: \n",
      "\t- intent examples: 1845 (51 distinct intents)\n",
      "\t- Found intents: 'ask_how_contribute', 'signup_newsletter', 'technical_question', 'ask_languagesbot', 'ask_builder', 'ask_faq_opensource', 'ask_whoami', 'explain', 'pipeline_recommendation', 'ask_restaurant', 'ask_whatspossible', 'ask_faq_differencecorenlu', 'ask_faq_python_version', 'ask_faq_platform', 'contact_sales', 'ask_faq_community_size', 'ask_isbot', 'ask_faq_what_is_forum', 'ask_faq_channels', 'ask_howdoing', 'canthelp', 'deny', 'nlu_generation_tool_recommendation', 'how_to_get_started', 'ask_question_in_forum', 'human_handoff', 'switch', 'thank', 'ask_why_contribute', 'ask_faq_slots', 'ask_wherefrom', 'greet', 'ask_weather', 'ask_faq_tutorials', 'ask_which_events', 'ask_whoisit', 'ask_whatisrasa', 'ask_faq_languages', 'enter_data', 'nlu_info', 'ask_howbuilt', 'ask_howold', 'ask_whatismyname', 'ask_faq_voice', 'install_rasa', 'next_step', 'affirm', 'ask_time', 'ask_when_next_event', 'out_of_scope', 'bye'\n",
      "\t- entity examples: 443 (10 distinct entities)\n",
      "\t- found entities: 'current_api', 'package_manager', 'company', 'name', 'location', 'language', 'product', 'job_function', 'nlu_part', 'entity'\n",
      "\n",
      "2019-07-21 23:58:09 \u001b[1;30mINFO    \u001b[0m \u001b[34mrasa.nlu.training_data.training_data\u001b[0m  - Training data stats: \n",
      "\t- intent examples: 488 (51 distinct intents)\n",
      "\t- Found intents: 'ask_how_contribute', 'signup_newsletter', 'technical_question', 'ask_languagesbot', 'ask_builder', 'ask_faq_opensource', 'ask_whoami', 'explain', 'pipeline_recommendation', 'ask_restaurant', 'ask_whatspossible', 'ask_faq_differencecorenlu', 'ask_faq_python_version', 'ask_faq_platform', 'contact_sales', 'ask_faq_community_size', 'ask_isbot', 'ask_faq_what_is_forum', 'ask_faq_channels', 'ask_howdoing', 'canthelp', 'deny', 'nlu_generation_tool_recommendation', 'how_to_get_started', 'ask_question_in_forum', 'human_handoff', 'switch', 'thank', 'ask_why_contribute', 'ask_faq_slots', 'ask_wherefrom', 'greet', 'ask_weather', 'ask_faq_tutorials', 'ask_which_events', 'ask_whoisit', 'ask_whatisrasa', 'ask_faq_languages', 'enter_data', 'nlu_info', 'ask_howbuilt', 'ask_howold', 'ask_whatismyname', 'ask_faq_voice', 'install_rasa', 'next_step', 'affirm', 'ask_time', 'ask_when_next_event', 'out_of_scope', 'bye'\n",
      "\t- entity examples: 121 (10 distinct entities)\n",
      "\t- found entities: 'current_api', 'company', 'name', 'number', 'location', 'language', 'product', 'job_function', 'nlu_part', 'entity'\n",
      "\n"
     ]
    }
   ],
   "source": [
    "# will split 80% training/20% test by default\n",
    "! rasa data split nlu --nlu ../data --out ../data/train-test-split"
   ]
  },
  {
   "cell_type": "code",
   "execution_count": 31,
   "metadata": {},
   "outputs": [
    {
     "name": "stdout",
     "output_type": "stream",
     "text": [
      "test_data.md  training_data.md\r\n"
     ]
    }
   ],
   "source": [
    "!ls ../data/train-test-split"
   ]
  },
  {
   "cell_type": "markdown",
   "metadata": {},
   "source": [
    "### Train and test sklearn model with split dataset"
   ]
  },
  {
   "cell_type": "code",
   "execution_count": 79,
   "metadata": {},
   "outputs": [
    {
     "name": "stdout",
     "output_type": "stream",
     "text": [
      "\u001b[94mTraining NLU model...\u001b[0m\n",
      "2019-07-22 01:14:54 \u001b[1;30mINFO    \u001b[0m \u001b[34mrasa.nlu.utils.spacy_utils\u001b[0m  - Trying to load spacy model with name 'en'\n",
      "2019-07-22 01:15:06 \u001b[1;30mINFO    \u001b[0m \u001b[34mrasa.nlu.components\u001b[0m  - Added 'SpacyNLP' to component cache. Key 'SpacyNLP-en'.\n",
      "2019-07-22 01:15:06 \u001b[1;30mINFO    \u001b[0m \u001b[34mrasa.nlu.training_data.loading\u001b[0m  - Training data format of '/tmp/tmpgquqf7r7/f2b21bfdc5d4486dbd22a62cd5a9ff97_training_data.md' is 'md'.\n",
      "2019-07-22 01:15:06 \u001b[1;30mINFO    \u001b[0m \u001b[34mrasa.nlu.training_data.training_data\u001b[0m  - Training data stats: \n",
      "\t- intent examples: 1845 (51 distinct intents)\n",
      "\t- Found intents: 'ask_faq_python_version', 'ask_isbot', 'nlu_generation_tool_recommendation', 'ask_why_contribute', 'next_step', 'ask_how_contribute', 'ask_whoisit', 'ask_faq_languages', 'ask_faq_opensource', 'contact_sales', 'signup_newsletter', 'out_of_scope', 'ask_faq_differencecorenlu', 'ask_faq_channels', 'ask_faq_slots', 'ask_faq_tutorials', 'ask_wherefrom', 'bye', 'ask_howdoing', 'ask_restaurant', 'ask_howbuilt', 'ask_faq_what_is_forum', 'human_handoff', 'ask_which_events', 'ask_weather', 'enter_data', 'ask_whatspossible', 'how_to_get_started', 'canthelp', 'ask_whoami', 'install_rasa', 'ask_when_next_event', 'technical_question', 'greet', 'ask_time', 'ask_builder', 'ask_languagesbot', 'pipeline_recommendation', 'ask_faq_voice', 'thank', 'switch', 'ask_faq_platform', 'ask_whatismyname', 'ask_question_in_forum', 'ask_whatisrasa', 'explain', 'affirm', 'nlu_info', 'ask_howold', 'ask_faq_community_size', 'deny'\n",
      "\t- entity examples: 443 (10 distinct entities)\n",
      "\t- found entities: 'current_api', 'entity', 'location', 'nlu_part', 'package_manager', 'product', 'company', 'name', 'language', 'job_function'\n",
      "\n",
      "2019-07-22 01:15:07 \u001b[1;30mINFO    \u001b[0m \u001b[34mrasa.nlu.model\u001b[0m  - Starting to train component SpacyNLP\n",
      "2019-07-22 01:15:08 \u001b[1;30mINFO    \u001b[0m \u001b[34mrasa.nlu.model\u001b[0m  - Finished training component.\n",
      "2019-07-22 01:15:08 \u001b[1;30mINFO    \u001b[0m \u001b[34mrasa.nlu.model\u001b[0m  - Starting to train component SpacyTokenizer\n",
      "2019-07-22 01:15:08 \u001b[1;30mINFO    \u001b[0m \u001b[34mrasa.nlu.model\u001b[0m  - Finished training component.\n",
      "2019-07-22 01:15:08 \u001b[1;30mINFO    \u001b[0m \u001b[34mrasa.nlu.model\u001b[0m  - Starting to train component SpacyFeaturizer\n",
      "2019-07-22 01:15:08 \u001b[1;30mINFO    \u001b[0m \u001b[34mrasa.nlu.model\u001b[0m  - Finished training component.\n",
      "2019-07-22 01:15:08 \u001b[1;30mINFO    \u001b[0m \u001b[34mrasa.nlu.model\u001b[0m  - Starting to train component RegexFeaturizer\n",
      "2019-07-22 01:15:08 \u001b[1;30mINFO    \u001b[0m \u001b[34mrasa.nlu.model\u001b[0m  - Finished training component.\n",
      "2019-07-22 01:15:08 \u001b[1;30mINFO    \u001b[0m \u001b[34mrasa.nlu.model\u001b[0m  - Starting to train component CRFEntityExtractor\n",
      "2019-07-22 01:15:10 \u001b[1;30mINFO    \u001b[0m \u001b[34mrasa.nlu.model\u001b[0m  - Finished training component.\n",
      "2019-07-22 01:15:10 \u001b[1;30mINFO    \u001b[0m \u001b[34mrasa.nlu.model\u001b[0m  - Starting to train component EntitySynonymMapper\n",
      "2019-07-22 01:15:10 \u001b[1;30mINFO    \u001b[0m \u001b[34mrasa.nlu.model\u001b[0m  - Finished training component.\n",
      "2019-07-22 01:15:10 \u001b[1;30mINFO    \u001b[0m \u001b[34mrasa.nlu.model\u001b[0m  - Starting to train component SklearnIntentClassifier\n",
      "Fitting 2 folds for each of 6 candidates, totalling 12 fits\n",
      "[Parallel(n_jobs=1)]: Using backend SequentialBackend with 1 concurrent workers.\n",
      "/opt/anaconda3/lib/python3.7/site-packages/sklearn/metrics/classification.py:1143: UndefinedMetricWarning: F-score is ill-defined and being set to 0.0 in labels with no predicted samples.\n",
      "  'precision', 'predicted', average, warn_for)\n",
      "/opt/anaconda3/lib/python3.7/site-packages/sklearn/metrics/classification.py:1143: UndefinedMetricWarning: F-score is ill-defined and being set to 0.0 in labels with no predicted samples.\n",
      "  'precision', 'predicted', average, warn_for)\n",
      "/opt/anaconda3/lib/python3.7/site-packages/sklearn/metrics/classification.py:1143: UndefinedMetricWarning: F-score is ill-defined and being set to 0.0 in labels with no predicted samples.\n",
      "  'precision', 'predicted', average, warn_for)\n",
      "/opt/anaconda3/lib/python3.7/site-packages/sklearn/metrics/classification.py:1143: UndefinedMetricWarning: F-score is ill-defined and being set to 0.0 in labels with no predicted samples.\n",
      "  'precision', 'predicted', average, warn_for)\n",
      "/opt/anaconda3/lib/python3.7/site-packages/sklearn/metrics/classification.py:1143: UndefinedMetricWarning: F-score is ill-defined and being set to 0.0 in labels with no predicted samples.\n",
      "  'precision', 'predicted', average, warn_for)\n",
      "/opt/anaconda3/lib/python3.7/site-packages/sklearn/metrics/classification.py:1143: UndefinedMetricWarning: F-score is ill-defined and being set to 0.0 in labels with no predicted samples.\n",
      "  'precision', 'predicted', average, warn_for)\n",
      "/opt/anaconda3/lib/python3.7/site-packages/sklearn/metrics/classification.py:1143: UndefinedMetricWarning: F-score is ill-defined and being set to 0.0 in labels with no predicted samples.\n",
      "  'precision', 'predicted', average, warn_for)\n",
      "/opt/anaconda3/lib/python3.7/site-packages/sklearn/metrics/classification.py:1143: UndefinedMetricWarning: F-score is ill-defined and being set to 0.0 in labels with no predicted samples.\n",
      "  'precision', 'predicted', average, warn_for)\n",
      "/opt/anaconda3/lib/python3.7/site-packages/sklearn/metrics/classification.py:1143: UndefinedMetricWarning: F-score is ill-defined and being set to 0.0 in labels with no predicted samples.\n",
      "  'precision', 'predicted', average, warn_for)\n",
      "/opt/anaconda3/lib/python3.7/site-packages/sklearn/metrics/classification.py:1143: UndefinedMetricWarning: F-score is ill-defined and being set to 0.0 in labels with no predicted samples.\n",
      "  'precision', 'predicted', average, warn_for)\n",
      "/opt/anaconda3/lib/python3.7/site-packages/sklearn/metrics/classification.py:1143: UndefinedMetricWarning: F-score is ill-defined and being set to 0.0 in labels with no predicted samples.\n",
      "  'precision', 'predicted', average, warn_for)\n",
      "/opt/anaconda3/lib/python3.7/site-packages/sklearn/metrics/classification.py:1143: UndefinedMetricWarning: F-score is ill-defined and being set to 0.0 in labels with no predicted samples.\n",
      "  'precision', 'predicted', average, warn_for)\n",
      "[Parallel(n_jobs=1)]: Done  12 out of  12 | elapsed:   37.1s finished\n",
      "2019-07-22 01:15:54 \u001b[1;30mINFO    \u001b[0m \u001b[34mrasa.nlu.model\u001b[0m  - Finished training component.\n",
      "2019-07-22 01:15:55 \u001b[1;30mINFO    \u001b[0m \u001b[34mrasa.nlu.model\u001b[0m  - Successfully saved model into '/tmp/tmp24187iln/nlu'\n",
      "\u001b[94mNLU model training completed.\u001b[0m\n",
      "\u001b[92mYour Rasa model is trained and saved at '/home/jupyter/rasa-fastai/notebooks/models/nlu-20190722-011555.tar.gz'.\u001b[0m\n"
     ]
    }
   ],
   "source": [
    "! rasa train nlu --config ../pretrained_embeddings_spacy_config.yml --nlu ../data/train-test-split/training_data.md"
   ]
  },
  {
   "cell_type": "code",
   "execution_count": 80,
   "metadata": {},
   "outputs": [
    {
     "name": "stdout",
     "output_type": "stream",
     "text": [
      "2019-07-22 01:16:41 \u001b[1;30mINFO    \u001b[0m \u001b[34mrasa.nlu.components\u001b[0m  - Added 'SpacyNLP' to component cache. Key 'SpacyNLP-en'.\n",
      "2019-07-22 01:16:41 \u001b[1;30mINFO    \u001b[0m \u001b[34mrasa.nlu.training_data.loading\u001b[0m  - Training data format of '/tmp/tmpz3m54df2/c5ed54271c0543a3b404a3ce3bd946b8_test_data.md' is 'md'.\n",
      "2019-07-22 01:16:41 \u001b[1;30mINFO    \u001b[0m \u001b[34mrasa.nlu.training_data.training_data\u001b[0m  - Training data stats: \n",
      "\t- intent examples: 488 (51 distinct intents)\n",
      "\t- Found intents: 'ask_howbuilt', 'enter_data', 'out_of_scope', 'ask_howold', 'ask_faq_platform', 'ask_which_events', 'ask_faq_what_is_forum', 'ask_when_next_event', 'canthelp', 'ask_isbot', 'ask_howdoing', 'ask_faq_python_version', 'ask_faq_voice', 'nlu_info', 'ask_faq_tutorials', 'affirm', 'ask_faq_languages', 'ask_question_in_forum', 'ask_faq_channels', 'ask_why_contribute', 'ask_restaurant', 'next_step', 'ask_whoisit', 'ask_faq_slots', 'ask_how_contribute', 'signup_newsletter', 'ask_whoami', 'ask_builder', 'ask_weather', 'ask_faq_community_size', 'thank', 'contact_sales', 'install_rasa', 'ask_wherefrom', 'ask_whatspossible', 'ask_languagesbot', 'ask_whatisrasa', 'deny', 'explain', 'ask_faq_differencecorenlu', 'technical_question', 'human_handoff', 'nlu_generation_tool_recommendation', 'greet', 'bye', 'ask_time', 'how_to_get_started', 'switch', 'pipeline_recommendation', 'ask_faq_opensource', 'ask_whatismyname'\n",
      "\t- entity examples: 121 (10 distinct entities)\n",
      "\t- found entities: 'current_api', 'location', 'product', 'number', 'job_function', 'entity', 'company', 'name', 'nlu_part', 'language'\n",
      "\n",
      "2019-07-22 01:16:41 \u001b[1;30mINFO    \u001b[0m \u001b[34mrasa.nlu.test\u001b[0m  - Running model for predictions:\n",
      "100%|████████████████████████████████████████| 488/488 [00:02<00:00, 191.91it/s]\n",
      "2019-07-22 01:16:44 \u001b[1;30mINFO    \u001b[0m \u001b[34mrasa.nlu.test\u001b[0m  - Intent evaluation results:\n",
      "2019-07-22 01:16:44 \u001b[1;30mINFO    \u001b[0m \u001b[34mrasa.nlu.test\u001b[0m  - Intent Evaluation: Only considering those 488 examples that have a defined intent out of 488 examples\n",
      "/opt/anaconda3/lib/python3.7/site-packages/sklearn/metrics/classification.py:1143: UndefinedMetricWarning: Precision and F-score are ill-defined and being set to 0.0 in labels with no predicted samples.\n",
      "  'precision', 'predicted', average, warn_for)\n",
      "/opt/anaconda3/lib/python3.7/site-packages/sklearn/metrics/classification.py:1143: UndefinedMetricWarning: Precision is ill-defined and being set to 0.0 in labels with no predicted samples.\n",
      "  'precision', 'predicted', average, warn_for)\n",
      "/opt/anaconda3/lib/python3.7/site-packages/sklearn/metrics/classification.py:1143: UndefinedMetricWarning: F-score is ill-defined and being set to 0.0 in labels with no predicted samples.\n",
      "  'precision', 'predicted', average, warn_for)\n",
      "2019-07-22 01:16:44 \u001b[1;30mINFO    \u001b[0m \u001b[34mrasa.nlu.test\u001b[0m  - F1-Score:  0.7600346967010189\n",
      "2019-07-22 01:16:44 \u001b[1;30mINFO    \u001b[0m \u001b[34mrasa.nlu.test\u001b[0m  - Precision: 0.7895616113365146\n",
      "2019-07-22 01:16:44 \u001b[1;30mINFO    \u001b[0m \u001b[34mrasa.nlu.test\u001b[0m  - Accuracy:  0.7704918032786885\n",
      "2019-07-22 01:16:44 \u001b[1;30mINFO    \u001b[0m \u001b[34mrasa.nlu.test\u001b[0m  - Classification report: \n",
      "                                    precision    recall  f1-score   support\n",
      "\n",
      "                            affirm       0.75      0.55      0.63        11\n",
      "                       ask_builder       0.78      0.70      0.74        10\n",
      "                  ask_faq_channels       1.00      0.60      0.75         5\n",
      "            ask_faq_community_size       1.00      1.00      1.00         1\n",
      "         ask_faq_differencecorenlu       0.86      0.86      0.86         7\n",
      "                 ask_faq_languages       1.00      0.29      0.44         7\n",
      "                ask_faq_opensource       1.00      0.80      0.89         5\n",
      "                  ask_faq_platform       1.00      0.75      0.86         4\n",
      "            ask_faq_python_version       1.00      0.50      0.67         2\n",
      "                     ask_faq_slots       1.00      1.00      1.00         9\n",
      "                 ask_faq_tutorials       1.00      0.67      0.80         3\n",
      "                     ask_faq_voice       1.00      1.00      1.00         9\n",
      "             ask_faq_what_is_forum       1.00      1.00      1.00         1\n",
      "                ask_how_contribute       0.00      0.00      0.00         2\n",
      "                      ask_howbuilt       1.00      0.78      0.88         9\n",
      "                      ask_howdoing       0.83      0.56      0.67         9\n",
      "                        ask_howold       0.88      0.88      0.88         8\n",
      "                         ask_isbot       0.83      0.62      0.71         8\n",
      "                  ask_languagesbot       0.89      1.00      0.94         8\n",
      "             ask_question_in_forum       0.00      0.00      0.00         2\n",
      "                    ask_restaurant       1.00      0.50      0.67         8\n",
      "                          ask_time       1.00      1.00      1.00         9\n",
      "                       ask_weather       0.80      0.57      0.67         7\n",
      "                  ask_whatismyname       1.00      0.88      0.93         8\n",
      "                    ask_whatisrasa       1.00      0.71      0.83         7\n",
      "                 ask_whatspossible       0.67      0.50      0.57         8\n",
      "               ask_when_next_event       1.00      0.50      0.67         2\n",
      "                     ask_wherefrom       0.89      1.00      0.94         8\n",
      "                  ask_which_events       0.00      0.00      0.00         2\n",
      "                        ask_whoami       1.00      0.67      0.80         6\n",
      "                       ask_whoisit       1.00      0.40      0.57         5\n",
      "                ask_why_contribute       0.00      0.00      0.00         1\n",
      "                               bye       0.80      0.80      0.80         5\n",
      "                          canthelp       0.00      0.00      0.00         4\n",
      "                     contact_sales       0.81      0.88      0.85        25\n",
      "                              deny       1.00      0.50      0.67         8\n",
      "                        enter_data       0.77      0.96      0.85       137\n",
      "                           explain       1.00      0.33      0.50         3\n",
      "                             greet       0.71      0.86      0.77        14\n",
      "                how_to_get_started       0.33      0.43      0.38         7\n",
      "                     human_handoff       1.00      0.62      0.77         8\n",
      "                      install_rasa       1.00      0.90      0.95        10\n",
      "                         next_step       0.00      0.00      0.00         1\n",
      "nlu_generation_tool_recommendation       0.67      0.67      0.67         3\n",
      "                          nlu_info       0.88      1.00      0.93         7\n",
      "                      out_of_scope       0.23      0.50      0.32        22\n",
      "           pipeline_recommendation       1.00      0.67      0.80         3\n",
      "                 signup_newsletter       0.96      0.96      0.96        23\n",
      "                            switch       0.00      0.00      0.00         5\n",
      "                technical_question       0.50      0.17      0.25         6\n",
      "                             thank       0.86      1.00      0.92         6\n",
      "\n",
      "                         micro avg       0.77      0.77      0.77       488\n",
      "                         macro avg       0.76      0.62      0.66       488\n",
      "                      weighted avg       0.79      0.77      0.76       488\n",
      "\n",
      "2019-07-22 01:16:44 \u001b[1;30mINFO    \u001b[0m \u001b[34mrasa.nlu.test\u001b[0m  - Model prediction errors saved to errors.json.\n",
      "2019-07-22 01:16:44 \u001b[1;30mINFO    \u001b[0m \u001b[34mrasa.nlu.test\u001b[0m  - Confusion matrix, without normalization: \n",
      "[[ 6  0  0  0 ...  0  0  0  0]\n",
      " [ 0  7  0  0 ...  0  0  0  0]\n",
      " [ 0  0  3  0 ...  0  0  0  0]\n",
      " [ 0  0  0  1 ...  0  0  0  0]\n",
      " ...\n",
      " [ 0  0  0  0 ... 22  0  0  0]\n",
      " [ 0  0  0  0 ...  0  0  0  0]\n",
      " [ 0  0  0  0 ...  0  0  1  0]\n",
      " [ 0  0  0  0 ...  0  0  0  6]]\n",
      "Figure(2000x2000)\n",
      "Figure(1000x1000)\n",
      "2019-07-22 01:16:50 \u001b[1;30mINFO    \u001b[0m \u001b[34mrasa.nlu.test\u001b[0m  - Entity evaluation results:\n",
      "2019-07-22 01:16:50 \u001b[1;30mINFO    \u001b[0m \u001b[34mrasa.nlu.test\u001b[0m  - Evaluation for entity extractor: CRFEntityExtractor \n",
      "2019-07-22 01:16:50 \u001b[1;30mINFO    \u001b[0m \u001b[34mrasa.nlu.test\u001b[0m  - F1-Score:  0.9732923257968485\n",
      "2019-07-22 01:16:50 \u001b[1;30mINFO    \u001b[0m \u001b[34mrasa.nlu.test\u001b[0m  - Precision: 0.9753457831261034\n",
      "2019-07-22 01:16:50 \u001b[1;30mINFO    \u001b[0m \u001b[34mrasa.nlu.test\u001b[0m  - Accuracy:  0.978129713423831\n",
      "2019-07-22 01:16:50 \u001b[1;30mINFO    \u001b[0m \u001b[34mrasa.nlu.test\u001b[0m  - Classification report: \n",
      "              precision    recall  f1-score   support\n",
      "\n",
      "     company       1.00      0.22      0.36        18\n",
      " current_api       0.75      1.00      0.86         3\n",
      "      entity       0.00      0.00      0.00         2\n",
      "job_function       0.80      0.50      0.62        32\n",
      "    language       1.00      1.00      1.00        55\n",
      "    location       0.00      0.00      0.00         3\n",
      "        name       1.00      0.27      0.42        15\n",
      "    nlu_part       0.88      1.00      0.93        14\n",
      "   no_entity       0.98      1.00      0.99      2487\n",
      "      number       0.00      0.00      0.00         1\n",
      "     product       0.89      0.77      0.83        22\n",
      "\n",
      "   micro avg       0.98      0.98      0.98      2652\n",
      "   macro avg       0.66      0.52      0.55      2652\n",
      "weighted avg       0.98      0.98      0.97      2652\n",
      "\n"
     ]
    }
   ],
   "source": [
    "! rasa test nlu --config ../pretrained_embeddings_spacy_config.yml --nlu ../data/train-test-split/test_data.md --model /models/nlu-20190722-011555.tar.gz"
   ]
  },
  {
   "cell_type": "markdown",
   "metadata": {},
   "source": [
    "### Accuracy for sklearn after doing proper train/test split of data:  0.7704918032786885"
   ]
  },
  {
   "cell_type": "code",
   "execution_count": 82,
   "metadata": {},
   "outputs": [
    {
     "name": "stdout",
     "output_type": "stream",
     "text": [
      "[\r\n",
      "  {\r\n",
      "    \"text\": \"sure thing\",\r\n",
      "    \"intent\": \"affirm\",\r\n",
      "    \"intent_prediction\": {\r\n",
      "      \"name\": \"out_of_scope\",\r\n",
      "      \"confidence\": 0.20372628719007818\r\n",
      "    }\r\n",
      "  },\r\n",
      "  {\r\n",
      "    \"text\": \"yop\",\r\n",
      "    \"intent\": \"affirm\",\r\n",
      "    \"intent_prediction\": {\r\n",
      "      \"name\": \"greet\",\r\n",
      "      \"confidence\": 0.5586580846377027\r\n",
      "    }\r\n",
      "  },\r\n",
      "  {\r\n",
      "    \"text\": \"hm, i'd like that\",\r\n",
      "    \"intent\": \"affirm\",\r\n",
      "    \"intent_prediction\": {\r\n",
      "      \"name\": \"enter_data\",\r\n",
      "      \"confidence\": 0.18092331036937292\r\n",
      "    }\r\n",
      "  },\r\n",
      "  {\r\n",
      "    \"text\": \"definitely yes without a doubt\",\r\n",
      "    \"intent\": \"affirm\",\r\n",
      "    \"intent_prediction\": {\r\n",
      "      \"name\": \"out_of_scope\",\r\n",
      "      \"confidence\": 0.30912818975232753\r\n",
      "    }\r\n",
      "  },\r\n",
      "  {\r\n",
      "    \"text\": \"yas\",\r\n",
      "    \"intent\": \"affirm\",\r\n",
      "    \"intent_prediction\": {\r\n",
      "      \"name\": \"greet\",\r\n",
      "      \"confidence\": 0.2328896679673974\r\n",
      "    }\r\n"
     ]
    }
   ],
   "source": [
    "!head -n 40 errors.json"
   ]
  },
  {
   "cell_type": "markdown",
   "metadata": {},
   "source": [
    "### Let's try rasa's other default NLU pipeline while we're at it -- the supervised_embeddings pipeline.\n",
    "This is intended to be used when you have more training data than with the pretrained_embeddings_spacy pipeline. \n",
    "See: https://medium.com/rasa-blog/supervised-word-vectors-from-scratch-in-rasa-nlu-6daf794efcd8\n",
    "This model's approach is more similar to fastai since it is not using pre-trained embeddings."
   ]
  },
  {
   "cell_type": "code",
   "execution_count": 34,
   "metadata": {},
   "outputs": [],
   "source": [
    "supervised_embeddings_config = \"\"\"language: \"en\"\n",
    "\n",
    "pipeline:\n",
    "- name: \"WhitespaceTokenizer\"\n",
    "- name: \"RegexFeaturizer\"\n",
    "- name: \"CRFEntityExtractor\"\n",
    "- name: \"EntitySynonymMapper\"\n",
    "- name: \"CountVectorsFeaturizer\"\n",
    "- name: \"EmbeddingIntentClassifier\"\n",
    "    \n",
    "policies:\n",
    "  - name: MemoizationPolicy\n",
    "  - name: KerasPolicy\n",
    "  - name: MappingPolicy\"\"\""
   ]
  },
  {
   "cell_type": "code",
   "execution_count": 35,
   "metadata": {},
   "outputs": [
    {
     "name": "stdout",
     "output_type": "stream",
     "text": [
      "Writing 'supervised_embeddings_config' (str) to file '../supervised_embeddings_config.yml'.\n"
     ]
    }
   ],
   "source": [
    "store supervised_embeddings_config > ../supervised_embeddings_config.yml"
   ]
  },
  {
   "cell_type": "code",
   "execution_count": 36,
   "metadata": {},
   "outputs": [
    {
     "name": "stdout",
     "output_type": "stream",
     "text": [
      "\u001b[94mTraining NLU model...\u001b[0m\n",
      "2019-07-22 00:24:43 \u001b[1;30mINFO    \u001b[0m \u001b[34mrasa.nlu.training_data.loading\u001b[0m  - Training data format of '/tmp/tmpbylofgch/85b666b9d150430386513fd8989d04f6_training_data.md' is 'md'.\n",
      "2019-07-22 00:24:43 \u001b[1;30mINFO    \u001b[0m \u001b[34mrasa.nlu.training_data.training_data\u001b[0m  - Training data stats: \n",
      "\t- intent examples: 1845 (51 distinct intents)\n",
      "\t- Found intents: 'ask_faq_languages', 'ask_whatismyname', 'nlu_info', 'out_of_scope', 'signup_newsletter', 'bye', 'ask_faq_slots', 'ask_whoisit', 'ask_builder', 'switch', 'canthelp', 'ask_faq_opensource', 'greet', 'ask_which_events', 'ask_wherefrom', 'thank', 'ask_howbuilt', 'enter_data', 'deny', 'affirm', 'ask_restaurant', 'ask_whatisrasa', 'ask_isbot', 'ask_faq_what_is_forum', 'ask_faq_differencecorenlu', 'ask_faq_python_version', 'pipeline_recommendation', 'ask_when_next_event', 'ask_faq_community_size', 'contact_sales', 'ask_how_contribute', 'ask_why_contribute', 'ask_faq_platform', 'ask_faq_tutorials', 'ask_weather', 'how_to_get_started', 'ask_languagesbot', 'install_rasa', 'nlu_generation_tool_recommendation', 'ask_whatspossible', 'ask_time', 'human_handoff', 'ask_howdoing', 'ask_howold', 'explain', 'ask_whoami', 'ask_faq_voice', 'ask_faq_channels', 'next_step', 'ask_question_in_forum', 'technical_question'\n",
      "\t- entity examples: 443 (10 distinct entities)\n",
      "\t- found entities: 'company', 'package_manager', 'language', 'nlu_part', 'name', 'job_function', 'entity', 'product', 'location', 'current_api'\n",
      "\n",
      "2019-07-22 00:24:44 \u001b[1;30mINFO    \u001b[0m \u001b[34mrasa.nlu.model\u001b[0m  - Starting to train component WhitespaceTokenizer\n",
      "2019-07-22 00:24:44 \u001b[1;30mINFO    \u001b[0m \u001b[34mrasa.nlu.model\u001b[0m  - Finished training component.\n",
      "2019-07-22 00:24:44 \u001b[1;30mINFO    \u001b[0m \u001b[34mrasa.nlu.model\u001b[0m  - Starting to train component RegexFeaturizer\n",
      "2019-07-22 00:24:44 \u001b[1;30mINFO    \u001b[0m \u001b[34mrasa.nlu.model\u001b[0m  - Finished training component.\n",
      "2019-07-22 00:24:44 \u001b[1;30mINFO    \u001b[0m \u001b[34mrasa.nlu.model\u001b[0m  - Starting to train component CRFEntityExtractor\n",
      "2019-07-22 00:24:45 \u001b[1;30mINFO    \u001b[0m \u001b[34mrasa.nlu.model\u001b[0m  - Finished training component.\n",
      "2019-07-22 00:24:45 \u001b[1;30mINFO    \u001b[0m \u001b[34mrasa.nlu.model\u001b[0m  - Starting to train component EntitySynonymMapper\n",
      "2019-07-22 00:24:45 \u001b[1;30mINFO    \u001b[0m \u001b[34mrasa.nlu.model\u001b[0m  - Finished training component.\n",
      "2019-07-22 00:24:45 \u001b[1;30mINFO    \u001b[0m \u001b[34mrasa.nlu.model\u001b[0m  - Starting to train component CountVectorsFeaturizer\n",
      "2019-07-22 00:24:46 \u001b[1;30mINFO    \u001b[0m \u001b[34mrasa.nlu.model\u001b[0m  - Finished training component.\n",
      "2019-07-22 00:24:46 \u001b[1;30mINFO    \u001b[0m \u001b[34mrasa.nlu.model\u001b[0m  - Starting to train component EmbeddingIntentClassifier\n",
      "2019-07-22 00:24:53 \u001b[1;30mINFO    \u001b[0m \u001b[34mrasa.nlu.classifiers.embedding_intent_classifier\u001b[0m  - Accuracy is updated every 10 epochs\n",
      "Epochs: 100%|██████████| 300/300 [00:47<00:00,  7.28it/s, loss=0.080, acc=0.993]\n",
      "2019-07-22 00:25:40 \u001b[1;30mINFO    \u001b[0m \u001b[34mrasa.nlu.classifiers.embedding_intent_classifier\u001b[0m  - Finished training embedding classifier, loss=0.080, train accuracy=0.993\n",
      "2019-07-22 00:25:40 \u001b[1;30mINFO    \u001b[0m \u001b[34mrasa.nlu.model\u001b[0m  - Finished training component.\n",
      "2019-07-22 00:25:41 \u001b[1;30mINFO    \u001b[0m \u001b[34mrasa.nlu.model\u001b[0m  - Successfully saved model into '/tmp/tmpr53l6ldq/nlu'\n",
      "\u001b[94mNLU model training completed.\u001b[0m\n",
      "\u001b[92mYour Rasa model is trained and saved at '/home/jupyter/rasa-fastai/notebooks/models/nlu-20190722-002541.tar.gz'.\u001b[0m\n"
     ]
    }
   ],
   "source": [
    "! rasa train nlu --config ../supervised_embeddings_config.yml --nlu ../data/train-test-split/training_data.md"
   ]
  },
  {
   "cell_type": "code",
   "execution_count": 73,
   "metadata": {},
   "outputs": [
    {
     "name": "stdout",
     "output_type": "stream",
     "text": [
      "2019-07-22 01:04:39 \u001b[1;30mINFO    \u001b[0m \u001b[34mrasa.nlu.training_data.loading\u001b[0m  - Training data format of '/tmp/tmpyenmit9_/2d763df6e21043f0bf5aaf5c66999ca9_test_data.md' is 'md'.\n",
      "2019-07-22 01:04:39 \u001b[1;30mINFO    \u001b[0m \u001b[34mrasa.nlu.training_data.training_data\u001b[0m  - Training data stats: \n",
      "\t- intent examples: 488 (51 distinct intents)\n",
      "\t- Found intents: 'ask_question_in_forum', 'ask_time', 'ask_builder', 'explain', 'nlu_info', 'nlu_generation_tool_recommendation', 'ask_faq_languages', 'ask_languagesbot', 'ask_when_next_event', 'ask_faq_python_version', 'ask_whoisit', 'deny', 'ask_howbuilt', 'human_handoff', 'technical_question', 'ask_whatisrasa', 'out_of_scope', 'ask_how_contribute', 'ask_weather', 'switch', 'ask_howdoing', 'ask_howold', 'ask_faq_voice', 'bye', 'pipeline_recommendation', 'greet', 'ask_why_contribute', 'how_to_get_started', 'ask_faq_slots', 'ask_restaurant', 'enter_data', 'ask_isbot', 'affirm', 'ask_whoami', 'ask_whatspossible', 'signup_newsletter', 'ask_faq_opensource', 'ask_faq_what_is_forum', 'ask_wherefrom', 'ask_which_events', 'canthelp', 'ask_whatismyname', 'thank', 'ask_faq_channels', 'next_step', 'ask_faq_differencecorenlu', 'ask_faq_community_size', 'install_rasa', 'ask_faq_tutorials', 'contact_sales', 'ask_faq_platform'\n",
      "\t- entity examples: 121 (10 distinct entities)\n",
      "\t- found entities: 'entity', 'location', 'current_api', 'product', 'job_function', 'number', 'company', 'name', 'nlu_part', 'language'\n",
      "\n",
      "2019-07-22 01:04:39 \u001b[1;30mINFO    \u001b[0m \u001b[34mrasa.nlu.test\u001b[0m  - Running model for predictions:\n",
      "100%|████████████████████████████████████████| 488/488 [00:00<00:00, 724.70it/s]\n",
      "2019-07-22 01:04:40 \u001b[1;30mINFO    \u001b[0m \u001b[34mrasa.nlu.test\u001b[0m  - Intent evaluation results:\n",
      "2019-07-22 01:04:40 \u001b[1;30mINFO    \u001b[0m \u001b[34mrasa.nlu.test\u001b[0m  - Intent Evaluation: Only considering those 488 examples that have a defined intent out of 488 examples\n",
      "/opt/anaconda3/lib/python3.7/site-packages/sklearn/metrics/classification.py:1145: UndefinedMetricWarning: Recall and F-score are ill-defined and being set to 0.0 in labels with no true samples.\n",
      "  'recall', 'true', average, warn_for)\n",
      "/opt/anaconda3/lib/python3.7/site-packages/sklearn/metrics/classification.py:1145: UndefinedMetricWarning: F-score is ill-defined and being set to 0.0 in labels with no true samples.\n",
      "  'recall', 'true', average, warn_for)\n",
      "2019-07-22 01:04:40 \u001b[1;30mINFO    \u001b[0m \u001b[34mrasa.nlu.test\u001b[0m  - F1-Score:  0.8076009598708609\n",
      "2019-07-22 01:04:40 \u001b[1;30mINFO    \u001b[0m \u001b[34mrasa.nlu.test\u001b[0m  - Precision: 0.8383991679006826\n",
      "2019-07-22 01:04:40 \u001b[1;30mINFO    \u001b[0m \u001b[34mrasa.nlu.test\u001b[0m  - Accuracy:  0.7950819672131147\n",
      "2019-07-22 01:04:40 \u001b[1;30mINFO    \u001b[0m \u001b[34mrasa.nlu.test\u001b[0m  - Classification report: \n",
      "                                    precision    recall  f1-score   support\n",
      "\n",
      "                                         0.00      0.00      0.00         0\n",
      "                            affirm       0.89      0.73      0.80        11\n",
      "                       ask_builder       0.82      0.90      0.86        10\n",
      "                  ask_faq_channels       1.00      1.00      1.00         5\n",
      "            ask_faq_community_size       1.00      1.00      1.00         1\n",
      "         ask_faq_differencecorenlu       0.86      0.86      0.86         7\n",
      "                 ask_faq_languages       0.67      0.29      0.40         7\n",
      "                ask_faq_opensource       1.00      1.00      1.00         5\n",
      "                  ask_faq_platform       1.00      0.75      0.86         4\n",
      "            ask_faq_python_version       1.00      1.00      1.00         2\n",
      "                     ask_faq_slots       1.00      1.00      1.00         9\n",
      "                 ask_faq_tutorials       1.00      0.67      0.80         3\n",
      "                     ask_faq_voice       1.00      1.00      1.00         9\n",
      "             ask_faq_what_is_forum       1.00      1.00      1.00         1\n",
      "                ask_how_contribute       0.50      0.50      0.50         2\n",
      "                      ask_howbuilt       0.73      0.89      0.80         9\n",
      "                      ask_howdoing       0.83      0.56      0.67         9\n",
      "                        ask_howold       0.89      1.00      0.94         8\n",
      "                         ask_isbot       0.75      0.75      0.75         8\n",
      "                  ask_languagesbot       0.78      0.88      0.82         8\n",
      "             ask_question_in_forum       1.00      1.00      1.00         2\n",
      "                    ask_restaurant       1.00      0.75      0.86         8\n",
      "                          ask_time       1.00      1.00      1.00         9\n",
      "                       ask_weather       0.80      0.57      0.67         7\n",
      "                  ask_whatismyname       1.00      1.00      1.00         8\n",
      "                    ask_whatisrasa       1.00      0.71      0.83         7\n",
      "                 ask_whatspossible       0.43      0.38      0.40         8\n",
      "               ask_when_next_event       1.00      1.00      1.00         2\n",
      "                     ask_wherefrom       0.88      0.88      0.88         8\n",
      "                  ask_which_events       1.00      0.50      0.67         2\n",
      "                        ask_whoami       1.00      0.67      0.80         6\n",
      "                       ask_whoisit       0.57      0.80      0.67         5\n",
      "                ask_why_contribute       1.00      1.00      1.00         1\n",
      "                               bye       1.00      0.60      0.75         5\n",
      "                          canthelp       0.33      0.25      0.29         4\n",
      "                     contact_sales       0.88      0.92      0.90        25\n",
      "                              deny       0.86      0.75      0.80         8\n",
      "                        enter_data       0.86      0.87      0.87       137\n",
      "                           explain       0.67      0.67      0.67         3\n",
      "                             greet       0.85      0.79      0.81        14\n",
      "                how_to_get_started       0.50      0.57      0.53         7\n",
      "                     human_handoff       0.75      0.75      0.75         8\n",
      "                      install_rasa       1.00      0.90      0.95        10\n",
      "                         next_step       1.00      1.00      1.00         1\n",
      "nlu_generation_tool_recommendation       1.00      1.00      1.00         3\n",
      "                          nlu_info       0.88      1.00      0.93         7\n",
      "                      out_of_scope       0.33      0.36      0.35        22\n",
      "           pipeline_recommendation       1.00      0.67      0.80         3\n",
      "                 signup_newsletter       0.83      0.83      0.83        23\n",
      "                            switch       1.00      0.80      0.89         5\n",
      "                technical_question       1.00      0.17      0.29         6\n",
      "                             thank       1.00      1.00      1.00         6\n",
      "\n",
      "                         micro avg       0.80      0.80      0.80       488\n",
      "                         macro avg       0.85      0.77      0.79       488\n",
      "                      weighted avg       0.84      0.80      0.81       488\n",
      "\n",
      "2019-07-22 01:04:40 \u001b[1;30mINFO    \u001b[0m \u001b[34mrasa.nlu.test\u001b[0m  - Model prediction errors saved to errors.json.\n",
      "2019-07-22 01:04:40 \u001b[1;30mINFO    \u001b[0m \u001b[34mrasa.nlu.test\u001b[0m  - Confusion matrix, without normalization: \n",
      "[[ 0  0  0  0 ...  0  0  0  0]\n",
      " [ 2  8  0  0 ...  0  0  0  0]\n",
      " [ 0  0  9  0 ...  0  0  0  0]\n",
      " [ 0  0  0  5 ...  0  0  0  0]\n",
      " ...\n",
      " [ 0  0  0  0 ... 19  0  0  0]\n",
      " [ 1  0  0  0 ...  0  4  0  0]\n",
      " [ 0  0  0  0 ...  0  0  1  0]\n",
      " [ 0  0  0  0 ...  0  0  0  6]]\n",
      "Figure(2000x2000)\n",
      "Figure(1000x1000)\n",
      "2019-07-22 01:04:47 \u001b[1;30mINFO    \u001b[0m \u001b[34mrasa.nlu.test\u001b[0m  - Entity evaluation results:\n",
      "2019-07-22 01:04:47 \u001b[1;30mINFO    \u001b[0m \u001b[34mrasa.nlu.test\u001b[0m  - Evaluation for entity extractor: CRFEntityExtractor \n",
      "/opt/anaconda3/lib/python3.7/site-packages/sklearn/metrics/classification.py:1143: UndefinedMetricWarning: Precision and F-score are ill-defined and being set to 0.0 in labels with no predicted samples.\n",
      "  'precision', 'predicted', average, warn_for)\n",
      "/opt/anaconda3/lib/python3.7/site-packages/sklearn/metrics/classification.py:1143: UndefinedMetricWarning: Precision is ill-defined and being set to 0.0 in labels with no predicted samples.\n",
      "  'precision', 'predicted', average, warn_for)\n",
      "/opt/anaconda3/lib/python3.7/site-packages/sklearn/metrics/classification.py:1143: UndefinedMetricWarning: F-score is ill-defined and being set to 0.0 in labels with no predicted samples.\n",
      "  'precision', 'predicted', average, warn_for)\n",
      "2019-07-22 01:04:47 \u001b[1;30mINFO    \u001b[0m \u001b[34mrasa.nlu.test\u001b[0m  - F1-Score:  0.9715150703216587\n",
      "2019-07-22 01:04:47 \u001b[1;30mINFO    \u001b[0m \u001b[34mrasa.nlu.test\u001b[0m  - Precision: 0.968859926516797\n",
      "2019-07-22 01:04:47 \u001b[1;30mINFO    \u001b[0m \u001b[34mrasa.nlu.test\u001b[0m  - Accuracy:  0.9773828756058158\n",
      "2019-07-22 01:04:47 \u001b[1;30mINFO    \u001b[0m \u001b[34mrasa.nlu.test\u001b[0m  - Classification report: \n",
      "              precision    recall  f1-score   support\n",
      "\n",
      "     company       0.00      0.00      0.00        16\n",
      " current_api       0.75      1.00      0.86         3\n",
      "      entity       0.00      0.00      0.00         2\n",
      "job_function       0.86      0.38      0.52        32\n",
      "    language       1.00      1.00      1.00        55\n",
      "    location       1.00      0.33      0.50         3\n",
      "        name       0.75      0.60      0.67        15\n",
      "    nlu_part       0.88      1.00      0.93        14\n",
      "   no_entity       0.98      1.00      0.99      2313\n",
      "      number       0.00      0.00      0.00         1\n",
      "     product       0.95      0.86      0.90        22\n",
      "\n",
      "   micro avg       0.98      0.98      0.98      2476\n",
      "   macro avg       0.65      0.56      0.58      2476\n",
      "weighted avg       0.97      0.98      0.97      2476\n",
      "\n"
     ]
    }
   ],
   "source": [
    "! rasa test nlu --config ../supervised_embeddings_config.yml --nlu ../data/train-test-split/test_data.md --model /models/nlu-20190722-002541.tar.gz\n",
    "\n"
   ]
  },
  {
   "cell_type": "markdown",
   "metadata": {},
   "source": [
    "### Accuracy for supervised embeddings classifier after doing proper train/test split of data:  0.7950819672131147"
   ]
  },
  {
   "cell_type": "code",
   "execution_count": 65,
   "metadata": {},
   "outputs": [
    {
     "data": {
      "text/html": [
       "<img src=\"hist.png\" width=\"500\" height=\"500\">\n"
      ],
      "text/plain": [
       "<IPython.core.display.HTML object>"
      ]
     },
     "metadata": {},
     "output_type": "display_data"
    }
   ],
   "source": [
    "%%html\n",
    "<img src=\"hist.png\" width=\"500\" height=\"500\">"
   ]
  },
  {
   "cell_type": "code",
   "execution_count": 67,
   "metadata": {},
   "outputs": [
    {
     "data": {
      "text/html": [
       "<img src=\"confmat.png\" width=\"1000\" height=\"1000\">\n"
      ],
      "text/plain": [
       "<IPython.core.display.HTML object>"
      ]
     },
     "metadata": {},
     "output_type": "display_data"
    }
   ],
   "source": [
    "%%html\n",
    "<img src=\"confmat.png\" width=\"1000\" height=\"1000\">"
   ]
  },
  {
   "cell_type": "code",
   "execution_count": 72,
   "metadata": {},
   "outputs": [
    {
     "name": "stdout",
     "output_type": "stream",
     "text": [
      "[\r\n",
      "  {\r\n",
      "    \"text\": \"yop\",\r\n",
      "    \"intent\": \"affirm\",\r\n",
      "    \"intent_prediction\": {\r\n",
      "      \"name\": \"\",\r\n",
      "      \"confidence\": 0.0\r\n",
      "    }\r\n",
      "  },\r\n",
      "  {\r\n",
      "    \"text\": \"hm, i'd like that\",\r\n",
      "    \"intent\": \"affirm\",\r\n",
      "    \"intent_prediction\": {\r\n",
      "      \"name\": \"enter_data\",\r\n",
      "      \"confidence\": 0.8679656386375427\r\n",
      "    }\r\n",
      "  },\r\n",
      "  {\r\n",
      "    \"text\": \"yas\",\r\n",
      "    \"intent\": \"affirm\",\r\n",
      "    \"intent_prediction\": {\r\n",
      "      \"name\": \"\",\r\n",
      "      \"confidence\": 0.0\r\n",
      "    }\r\n",
      "  },\r\n",
      "  {\r\n",
      "    \"text\": \"who build yoi\",\r\n",
      "    \"intent\": \"ask_builder\",\r\n",
      "    \"intent_prediction\": {\r\n",
      "      \"name\": \"ask_whoisit\",\r\n",
      "      \"confidence\": 0.7670379281044006\r\n",
      "    }\r\n",
      "  },\r\n",
      "  {\r\n",
      "    \"text\": \"diffrence between rasa core and rasa nlu\",\r\n",
      "    \"intent\": \"ask_faq_differencecorenlu\",\r\n",
      "    \"intent_prediction\": {\r\n",
      "      \"name\": \"how_to_get_started\",\r\n",
      "      \"confidence\": 0.7743602991104126\r\n",
      "    }\r\n"
     ]
    }
   ],
   "source": [
    "!head -n 40 errors.json"
   ]
  },
  {
   "cell_type": "markdown",
   "metadata": {},
   "source": [
    "## Note that it looks like rasa test nlu is ignoring the --models argument and using last trained model so be cafeful about how run tests and evaluate results"
   ]
  },
  {
   "cell_type": "code",
   "execution_count": null,
   "metadata": {},
   "outputs": [],
   "source": []
  }
 ],
 "metadata": {
  "kernelspec": {
   "display_name": "Python 3",
   "language": "python",
   "name": "python3"
  },
  "language_info": {
   "codemirror_mode": {
    "name": "ipython",
    "version": 3
   },
   "file_extension": ".py",
   "mimetype": "text/x-python",
   "name": "python",
   "nbconvert_exporter": "python",
   "pygments_lexer": "ipython3",
   "version": "3.7.3"
  }
 },
 "nbformat": 4,
 "nbformat_minor": 2
}
